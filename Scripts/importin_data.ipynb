{
 "cells": [
  {
   "cell_type": "code",
   "execution_count": 1,
   "metadata": {},
   "outputs": [],
   "source": [
    "import pandas as pd\n",
    "import numpy as np\n",
    "import os\n",
    "import glob "
   ]
  },
  {
   "cell_type": "code",
   "execution_count": 23,
   "metadata": {},
   "outputs": [
    {
     "data": {
      "application/vnd.microsoft.datawrangler.viewer.v0+json": {
       "columns": [
        {
         "name": "index",
         "rawType": "int64",
         "type": "integer"
        },
        {
         "name": "Date",
         "rawType": "datetime64[ns]",
         "type": "datetime"
        },
        {
         "name": "Store_Number",
         "rawType": "Int8",
         "type": "integer"
        },
        {
         "name": "Transaction_Count",
         "rawType": "Int16",
         "type": "integer"
        },
        {
         "name": "target_pct",
         "rawType": "Float32",
         "type": "float"
        },
        {
         "name": "met_target",
         "rawType": "boolean",
         "type": "boolean"
        },
        {
         "name": "bonus_payable",
         "rawType": "Int64",
         "type": "integer"
        },
        {
         "name": "month",
         "rawType": "Int8",
         "type": "integer"
        },
        {
         "name": "day_of_week",
         "rawType": "Int8",
         "type": "integer"
        }
       ],
       "conversionMethod": "pd.DataFrame",
       "ref": "4affa336-e06a-4596-a321-e6a06fa229e2",
       "rows": [
        [
         "0",
         "2013-01-02 00:00:00",
         "1",
         "2111",
         "0.8444",
         "False",
         "0",
         "1",
         "2"
        ],
        [
         "1",
         "2013-01-02 00:00:00",
         "2",
         "2358",
         "0.9432",
         "False",
         "0",
         "1",
         "2"
        ],
        [
         "2",
         "2013-01-02 00:00:00",
         "3",
         "3487",
         "1.3948",
         "True",
         "100",
         "1",
         "2"
        ],
        [
         "3",
         "2013-01-02 00:00:00",
         "4",
         "1922",
         "0.7688",
         "False",
         "0",
         "1",
         "2"
        ],
        [
         "4",
         "2013-01-02 00:00:00",
         "5",
         "1903",
         "0.7612",
         "False",
         "0",
         "1",
         "2"
        ]
       ],
       "shape": {
        "columns": 8,
        "rows": 5
       }
      },
      "text/html": [
       "<div>\n",
       "<style scoped>\n",
       "    .dataframe tbody tr th:only-of-type {\n",
       "        vertical-align: middle;\n",
       "    }\n",
       "\n",
       "    .dataframe tbody tr th {\n",
       "        vertical-align: top;\n",
       "    }\n",
       "\n",
       "    .dataframe thead th {\n",
       "        text-align: right;\n",
       "    }\n",
       "</style>\n",
       "<table border=\"1\" class=\"dataframe\">\n",
       "  <thead>\n",
       "    <tr style=\"text-align: right;\">\n",
       "      <th></th>\n",
       "      <th>Date</th>\n",
       "      <th>Store_Number</th>\n",
       "      <th>Transaction_Count</th>\n",
       "      <th>target_pct</th>\n",
       "      <th>met_target</th>\n",
       "      <th>bonus_payable</th>\n",
       "      <th>month</th>\n",
       "      <th>day_of_week</th>\n",
       "    </tr>\n",
       "  </thead>\n",
       "  <tbody>\n",
       "    <tr>\n",
       "      <th>0</th>\n",
       "      <td>2013-01-02</td>\n",
       "      <td>1</td>\n",
       "      <td>2111</td>\n",
       "      <td>0.8444</td>\n",
       "      <td>False</td>\n",
       "      <td>0</td>\n",
       "      <td>1</td>\n",
       "      <td>2</td>\n",
       "    </tr>\n",
       "    <tr>\n",
       "      <th>1</th>\n",
       "      <td>2013-01-02</td>\n",
       "      <td>2</td>\n",
       "      <td>2358</td>\n",
       "      <td>0.9432</td>\n",
       "      <td>False</td>\n",
       "      <td>0</td>\n",
       "      <td>1</td>\n",
       "      <td>2</td>\n",
       "    </tr>\n",
       "    <tr>\n",
       "      <th>2</th>\n",
       "      <td>2013-01-02</td>\n",
       "      <td>3</td>\n",
       "      <td>3487</td>\n",
       "      <td>1.3948</td>\n",
       "      <td>True</td>\n",
       "      <td>100</td>\n",
       "      <td>1</td>\n",
       "      <td>2</td>\n",
       "    </tr>\n",
       "    <tr>\n",
       "      <th>3</th>\n",
       "      <td>2013-01-02</td>\n",
       "      <td>4</td>\n",
       "      <td>1922</td>\n",
       "      <td>0.7688</td>\n",
       "      <td>False</td>\n",
       "      <td>0</td>\n",
       "      <td>1</td>\n",
       "      <td>2</td>\n",
       "    </tr>\n",
       "    <tr>\n",
       "      <th>4</th>\n",
       "      <td>2013-01-02</td>\n",
       "      <td>5</td>\n",
       "      <td>1903</td>\n",
       "      <td>0.7612</td>\n",
       "      <td>False</td>\n",
       "      <td>0</td>\n",
       "      <td>1</td>\n",
       "      <td>2</td>\n",
       "    </tr>\n",
       "  </tbody>\n",
       "</table>\n",
       "</div>"
      ],
      "text/plain": [
       "        Date  Store_Number  Transaction_Count  target_pct  met_target  \\\n",
       "0 2013-01-02             1               2111      0.8444       False   \n",
       "1 2013-01-02             2               2358      0.9432       False   \n",
       "2 2013-01-02             3               3487      1.3948        True   \n",
       "3 2013-01-02             4               1922      0.7688       False   \n",
       "4 2013-01-02             5               1903      0.7612       False   \n",
       "\n",
       "   bonus_payable  month  day_of_week  \n",
       "0              0      1            2  \n",
       "1              0      1            2  \n",
       "2            100      1            2  \n",
       "3              0      1            2  \n",
       "4              0      1            2  "
      ]
     },
     "execution_count": 23,
     "metadata": {},
     "output_type": "execute_result"
    }
   ],
   "source": [
    "# Set paths\n",
    "# Working from the Scripts folder as the base path\n",
    "exercise_path = '../Python/Exercise Files/Pandas Course Resources/Pandas Course Resources/retail/'\n",
    "#glob.glob(\"../**/\", recursive=True)\n",
    "\n",
    "# Read in the data and adjust the column names to Date, Store_Number and Transaction_Count\n",
    "transactions = (pd.read_csv(os.path.join(exercise_path, \"transactions.csv\"),\n",
    "                           parse_dates=[\"Date\"],\n",
    "                           names = [\"Date\", \"Store_Number\", \"Transaction_Count\"],\n",
    "                           header = 0, #to give our data frame custom names, set this to 0\n",
    "                           skiprows = [0], # Skipping the 1st row, so we don't get that odd first entry\n",
    "                           dtype ={\"Store_Number\":\"Int8\", \"Transaction_Count\": \"Int16\"}\n",
    "                           )\n",
    "    .assign(target_pct = lambda x: x[\"Transaction_Count\"] / 2500, \n",
    "            met_target = lambda x: x[\"target_pct\"]>= 1,\n",
    "            bonus_payable = lambda x: x[\"met_target\"] * 100,\n",
    "            #bonus_payable2 = lambda x: (x[\"Transaction_Count\"] / 2500 >= 1*100),\n",
    "            month = lambda x: x[\"Date\"].dt.month,\n",
    "            day_of_week = lambda x: x[\"Date\"].dt.dayofweek)\n",
    "    .astype({\n",
    "        \"target_pct\": \"Float32\",\n",
    "        \"month\": \"Int8\",\n",
    "        \"day_of_week\": \"Int8\"\n",
    "    })\n",
    ")\n",
    "transactions.head()"
   ]
  },
  {
   "cell_type": "code",
   "execution_count": 35,
   "metadata": {},
   "outputs": [
    {
     "name": "stdout",
     "output_type": "stream",
     "text": [
      "{np.int32(2013)}\n",
      "{np.int32(2014)}\n",
      "{np.int32(2015)}\n",
      "{np.int32(2016)}\n",
      "{np.int32(2017)}\n"
     ]
    }
   ],
   "source": [
    "# Write the data to an Excel sheet, where each tab is a years of data\n",
    "years = transactions[\"Date\"].dt.year.unique()\n",
    "for x in years: print({x})\n",
    "\n",
    "with pd.ExcelWriter(\"tmp.xlsx\") as writer:\n",
    "    for year in range(2013, 2018):\n",
    "        transactions.loc[transactions[\"Date\"].dt.year == year].to_excel(\n",
    "            writer, sheet_name = str(year)\n",
    "        )\n",
    "        \n",
    "\n"
   ]
  },
  {
   "cell_type": "code",
   "execution_count": 48,
   "metadata": {},
   "outputs": [
    {
     "name": "stdout",
     "output_type": "stream",
     "text": [
      "1\n",
      "2\n",
      "3\n",
      "4\n",
      "5\n",
      "6\n",
      "7\n",
      "8\n",
      "9\n",
      "10\n",
      "11\n",
      "12\n"
     ]
    }
   ],
   "source": [
    "for x in range(1, 13): print(x)"
   ]
  },
  {
   "cell_type": "code",
   "execution_count": null,
   "metadata": {},
   "outputs": [],
   "source": [
    "# Importing from SQL\n",
    "from sqlalchemy import create_engine, inspect\n",
    "engine = create_engine(\"sqlite:///../database_name.sqllite\")\n",
    "inspect(engine).get_table_names() # to view the tables in DB"
   ]
  },
  {
   "cell_type": "code",
   "execution_count": 68,
   "metadata": {},
   "outputs": [
    {
     "name": "stdout",
     "output_type": "stream",
     "text": [
      "<class 'pandas.core.frame.DataFrame'>\n",
      "RangeIndex: 52 entries, 0 to 51\n",
      "Data columns (total 10 columns):\n",
      " #   Column                                               Non-Null Count  Dtype \n",
      "---  ------                                               --------------  ----- \n",
      " 0   state_or_federal_district                            52 non-null     object\n",
      " 1   2022                                                 52 non-null     int64 \n",
      " 2   2024                                                 52 non-null     int64 \n",
      " 3   annual_gdp_change_at_current_prices_2023–2024_[1]    52 non-null     int64 \n",
      " 4   annual_gdp_change_at_current_prices_2023–2024_[1]_1  52 non-null     object\n",
      " 5   real_gdp_growth_rate_2023–2024_[1]                   52 non-null     object\n",
      " 6   2022                                                 52 non-null     object\n",
      " 7   2024                                                 52 non-null     object\n",
      " 8   2022                                                 52 non-null     object\n",
      " 9   2024                                                 52 non-null     object\n",
      "dtypes: int64(3), object(7)\n",
      "memory usage: 4.2+ KB\n"
     ]
    }
   ],
   "source": [
    "import janitor\n",
    "\n",
    "url = 'https://en.wikipedia.org/wiki/List_of_U.S._states_and_territories_by_GDP'\n",
    "gdp = pd.read_html(url)[0].clean_names()\n",
    "#gdp = gdp.rename(columns=lambda x: x.strip('()'))\n",
    "gdp.info()"
   ]
  },
  {
   "cell_type": "code",
   "execution_count": 80,
   "metadata": {},
   "outputs": [
    {
     "name": "stdout",
     "output_type": "stream",
     "text": [
      "<class 'pandas.core.frame.DataFrame'>\n",
      "RangeIndex: 17138 entries, 0 to 17137\n",
      "Data columns (total 9 columns):\n",
      " #   Column             Non-Null Count  Dtype         \n",
      "---  ------             --------------  -----         \n",
      " 0   Unnamed: 0         17138 non-null  int64         \n",
      " 1   Date               17138 non-null  datetime64[ns]\n",
      " 2   Store_Number       17138 non-null  int64         \n",
      " 3   Transaction_Count  17138 non-null  int64         \n",
      " 4   target_pct         17138 non-null  float64       \n",
      " 5   met_target         17138 non-null  bool          \n",
      " 6   bonus_payable      17138 non-null  int64         \n",
      " 7   month              17138 non-null  int64         \n",
      " 8   day_of_week        17138 non-null  int64         \n",
      "dtypes: bool(1), datetime64[ns](1), float64(1), int64(6)\n",
      "memory usage: 1.1 MB\n",
      "<class 'pandas.core.frame.DataFrame'>\n",
      "RangeIndex: 18346 entries, 0 to 18345\n",
      "Data columns (total 9 columns):\n",
      " #   Column             Non-Null Count  Dtype         \n",
      "---  ------             --------------  -----         \n",
      " 0   Unnamed: 0         18346 non-null  int64         \n",
      " 1   Date               18346 non-null  datetime64[ns]\n",
      " 2   Store_Number       18346 non-null  int64         \n",
      " 3   Transaction_Count  18346 non-null  int64         \n",
      " 4   target_pct         18346 non-null  float64       \n",
      " 5   met_target         18346 non-null  bool          \n",
      " 6   bonus_payable      18346 non-null  int64         \n",
      " 7   month              18346 non-null  int64         \n",
      " 8   day_of_week        18346 non-null  int64         \n",
      "dtypes: bool(1), datetime64[ns](1), float64(1), int64(6)\n",
      "memory usage: 1.1 MB\n",
      "None, None\n"
     ]
    }
   ],
   "source": [
    "# Read in the 2014 and 2015 data from the tmp.xlsx file and concatenate them\n",
    "\n",
    "#df_1 = pd.read_excel(\"tmp.xlsx\", sheet_name = \"2014\")\n",
    "#df_2 = pd.read_excel(\"tmp.xlsx\", sheet_name = \"2015\")\n",
    "\n",
    "def read_sheets(x):\n",
    "        y = pd.read_excel(\"tmp.xlsx\", sheet_name = str(x))\n",
    "        return y\n",
    "\n",
    "df_1 = read_sheets(2014)\n",
    "df_2 = read_sheets(2015)\n",
    "\n",
    "print(f\"{df_1.info()}, {df_2.info()}\")"
   ]
  },
  {
   "cell_type": "code",
   "execution_count": null,
   "metadata": {},
   "outputs": [
    {
     "data": {
      "application/vnd.microsoft.datawrangler.viewer.v0+json": {
       "columns": [
        {
         "name": "index",
         "rawType": "int64",
         "type": "integer"
        },
        {
         "name": "index",
         "rawType": "int64",
         "type": "integer"
        },
        {
         "name": "Unnamed: 0",
         "rawType": "int64",
         "type": "integer"
        },
        {
         "name": "Date",
         "rawType": "datetime64[ns]",
         "type": "datetime"
        },
        {
         "name": "Store_Number",
         "rawType": "int64",
         "type": "integer"
        },
        {
         "name": "Transaction_Count",
         "rawType": "int64",
         "type": "integer"
        },
        {
         "name": "target_pct",
         "rawType": "float64",
         "type": "float"
        },
        {
         "name": "met_target",
         "rawType": "bool",
         "type": "boolean"
        },
        {
         "name": "bonus_payable",
         "rawType": "int64",
         "type": "integer"
        },
        {
         "name": "month",
         "rawType": "int64",
         "type": "integer"
        },
        {
         "name": "day_of_week",
         "rawType": "int64",
         "type": "integer"
        }
       ],
       "conversionMethod": "pd.DataFrame",
       "ref": "841bab41-b246-49ba-878b-4f7a1369471b",
       "rows": [
        [
         "0",
         "0",
         "16907",
         "2014-01-01 00:00:00",
         "25",
         "840",
         "0.335999995470047",
         "False",
         "0",
         "1",
         "2"
        ],
        [
         "1",
         "1",
         "16908",
         "2014-01-01 00:00:00",
         "36",
         "487",
         "0.19480000436306",
         "False",
         "0",
         "1",
         "2"
        ],
        [
         "2",
         "2",
         "16909",
         "2014-01-02 00:00:00",
         "1",
         "1875",
         "0.75",
         "False",
         "0",
         "1",
         "3"
        ],
        [
         "3",
         "3",
         "16910",
         "2014-01-02 00:00:00",
         "2",
         "2122",
         "0.848800003528595",
         "False",
         "0",
         "1",
         "3"
        ],
        [
         "4",
         "4",
         "16911",
         "2014-01-02 00:00:00",
         "3",
         "3350",
         "1.340000033378601",
         "True",
         "100",
         "1",
         "3"
        ],
        [
         "5",
         "5",
         "16912",
         "2014-01-02 00:00:00",
         "4",
         "1661",
         "0.6643999814987183",
         "False",
         "0",
         "1",
         "3"
        ],
        [
         "6",
         "6",
         "16913",
         "2014-01-02 00:00:00",
         "5",
         "1807",
         "0.7228000164031982",
         "False",
         "0",
         "1",
         "3"
        ],
        [
         "7",
         "7",
         "16914",
         "2014-01-02 00:00:00",
         "6",
         "2051",
         "0.8203999996185303",
         "False",
         "0",
         "1",
         "3"
        ],
        [
         "8",
         "8",
         "16915",
         "2014-01-02 00:00:00",
         "7",
         "1836",
         "0.7343999743461609",
         "False",
         "0",
         "1",
         "3"
        ],
        [
         "9",
         "9",
         "16916",
         "2014-01-02 00:00:00",
         "8",
         "3049",
         "1.219599962234497",
         "True",
         "100",
         "1",
         "3"
        ],
        [
         "10",
         "10",
         "16917",
         "2014-01-02 00:00:00",
         "9",
         "2497",
         "0.9987999796867371",
         "False",
         "0",
         "1",
         "3"
        ],
        [
         "11",
         "11",
         "16918",
         "2014-01-02 00:00:00",
         "10",
         "1320",
         "0.527999997138977",
         "False",
         "0",
         "1",
         "3"
        ],
        [
         "12",
         "12",
         "16919",
         "2014-01-02 00:00:00",
         "11",
         "2863",
         "1.14520001411438",
         "True",
         "100",
         "1",
         "3"
        ],
        [
         "13",
         "13",
         "16920",
         "2014-01-02 00:00:00",
         "12",
         "1309",
         "0.5235999822616577",
         "False",
         "0",
         "1",
         "3"
        ],
        [
         "14",
         "14",
         "16921",
         "2014-01-02 00:00:00",
         "13",
         "1108",
         "0.4431999921798706",
         "False",
         "0",
         "1",
         "3"
        ],
        [
         "15",
         "15",
         "16922",
         "2014-01-02 00:00:00",
         "14",
         "1903",
         "0.7612000107765198",
         "False",
         "0",
         "1",
         "3"
        ],
        [
         "16",
         "16",
         "16923",
         "2014-01-02 00:00:00",
         "15",
         "1497",
         "0.598800003528595",
         "False",
         "0",
         "1",
         "3"
        ],
        [
         "17",
         "17",
         "16924",
         "2014-01-02 00:00:00",
         "16",
         "1157",
         "0.462799996137619",
         "False",
         "0",
         "1",
         "3"
        ],
        [
         "18",
         "18",
         "16925",
         "2014-01-02 00:00:00",
         "17",
         "1492",
         "0.5968000292778015",
         "False",
         "0",
         "1",
         "3"
        ],
        [
         "19",
         "19",
         "16926",
         "2014-01-02 00:00:00",
         "18",
         "1409",
         "0.5636000037193298",
         "False",
         "0",
         "1",
         "3"
        ],
        [
         "20",
         "20",
         "16927",
         "2014-01-02 00:00:00",
         "19",
         "1368",
         "0.5472000241279602",
         "False",
         "0",
         "1",
         "3"
        ],
        [
         "21",
         "21",
         "16928",
         "2014-01-02 00:00:00",
         "23",
         "1302",
         "0.520799994468689",
         "False",
         "0",
         "1",
         "3"
        ],
        [
         "22",
         "22",
         "16929",
         "2014-01-02 00:00:00",
         "24",
         "2472",
         "0.9887999892234802",
         "False",
         "0",
         "1",
         "3"
        ],
        [
         "23",
         "23",
         "16930",
         "2014-01-02 00:00:00",
         "25",
         "1315",
         "0.5260000228881836",
         "False",
         "0",
         "1",
         "3"
        ],
        [
         "24",
         "24",
         "16931",
         "2014-01-02 00:00:00",
         "26",
         "790",
         "0.3160000145435333",
         "False",
         "0",
         "1",
         "3"
        ],
        [
         "25",
         "25",
         "16932",
         "2014-01-02 00:00:00",
         "27",
         "1391",
         "0.5564000010490417",
         "False",
         "0",
         "1",
         "3"
        ],
        [
         "26",
         "26",
         "16933",
         "2014-01-02 00:00:00",
         "28",
         "1112",
         "0.4447999894618988",
         "False",
         "0",
         "1",
         "3"
        ],
        [
         "27",
         "27",
         "16934",
         "2014-01-02 00:00:00",
         "30",
         "758",
         "0.3032000064849854",
         "False",
         "0",
         "1",
         "3"
        ],
        [
         "28",
         "28",
         "16935",
         "2014-01-02 00:00:00",
         "31",
         "1471",
         "0.5884000062942505",
         "False",
         "0",
         "1",
         "3"
        ],
        [
         "29",
         "29",
         "16936",
         "2014-01-02 00:00:00",
         "33",
         "1213",
         "0.4851999878883362",
         "False",
         "0",
         "1",
         "3"
        ],
        [
         "30",
         "30",
         "16937",
         "2014-01-02 00:00:00",
         "34",
         "2846",
         "1.138399958610535",
         "True",
         "100",
         "1",
         "3"
        ],
        [
         "31",
         "31",
         "16938",
         "2014-01-02 00:00:00",
         "35",
         "731",
         "0.2924000024795532",
         "False",
         "0",
         "1",
         "3"
        ],
        [
         "32",
         "32",
         "16939",
         "2014-01-02 00:00:00",
         "36",
         "1116",
         "0.446399986743927",
         "False",
         "0",
         "1",
         "3"
        ],
        [
         "33",
         "33",
         "16940",
         "2014-01-02 00:00:00",
         "37",
         "1856",
         "0.7423999905586243",
         "False",
         "0",
         "1",
         "3"
        ],
        [
         "34",
         "34",
         "16941",
         "2014-01-02 00:00:00",
         "38",
         "2038",
         "0.8151999711990356",
         "False",
         "0",
         "1",
         "3"
        ],
        [
         "35",
         "35",
         "16942",
         "2014-01-02 00:00:00",
         "39",
         "1563",
         "0.6251999735832214",
         "False",
         "0",
         "1",
         "3"
        ],
        [
         "36",
         "36",
         "16943",
         "2014-01-02 00:00:00",
         "40",
         "1405",
         "0.5619999766349792",
         "False",
         "0",
         "1",
         "3"
        ],
        [
         "37",
         "37",
         "16944",
         "2014-01-02 00:00:00",
         "41",
         "1110",
         "0.4440000057220459",
         "False",
         "0",
         "1",
         "3"
        ],
        [
         "38",
         "38",
         "16945",
         "2014-01-02 00:00:00",
         "43",
         "1510",
         "0.6039999723434448",
         "False",
         "0",
         "1",
         "3"
        ],
        [
         "39",
         "39",
         "16946",
         "2014-01-02 00:00:00",
         "44",
         "4422",
         "1.768800020217896",
         "True",
         "100",
         "1",
         "3"
        ],
        [
         "40",
         "40",
         "16947",
         "2014-01-02 00:00:00",
         "45",
         "4235",
         "1.694000005722046",
         "True",
         "100",
         "1",
         "3"
        ],
        [
         "41",
         "41",
         "16948",
         "2014-01-02 00:00:00",
         "46",
         "4210",
         "1.684000015258789",
         "True",
         "100",
         "1",
         "3"
        ],
        [
         "42",
         "42",
         "16949",
         "2014-01-02 00:00:00",
         "47",
         "4334",
         "1.73360002040863",
         "True",
         "100",
         "1",
         "3"
        ],
        [
         "43",
         "43",
         "16950",
         "2014-01-02 00:00:00",
         "48",
         "3643",
         "1.457200050354004",
         "True",
         "100",
         "1",
         "3"
        ],
        [
         "44",
         "44",
         "16951",
         "2014-01-02 00:00:00",
         "49",
         "2463",
         "0.9851999878883362",
         "False",
         "0",
         "1",
         "3"
        ],
        [
         "45",
         "45",
         "16952",
         "2014-01-02 00:00:00",
         "50",
         "2925",
         "1.169999957084656",
         "True",
         "100",
         "1",
         "3"
        ],
        [
         "46",
         "46",
         "16953",
         "2014-01-02 00:00:00",
         "51",
         "1884",
         "0.753600001335144",
         "False",
         "0",
         "1",
         "3"
        ],
        [
         "47",
         "47",
         "16954",
         "2014-01-02 00:00:00",
         "54",
         "927",
         "0.3707999885082245",
         "False",
         "0",
         "1",
         "3"
        ],
        [
         "48",
         "48",
         "16955",
         "2014-01-03 00:00:00",
         "1",
         "1817",
         "0.7268000245094299",
         "False",
         "0",
         "1",
         "4"
        ],
        [
         "49",
         "49",
         "16956",
         "2014-01-03 00:00:00",
         "2",
         "2090",
         "0.8360000252723694",
         "False",
         "0",
         "1",
         "4"
        ]
       ],
       "shape": {
        "columns": 10,
        "rows": 35484
       }
      },
      "text/html": [
       "<div>\n",
       "<style scoped>\n",
       "    .dataframe tbody tr th:only-of-type {\n",
       "        vertical-align: middle;\n",
       "    }\n",
       "\n",
       "    .dataframe tbody tr th {\n",
       "        vertical-align: top;\n",
       "    }\n",
       "\n",
       "    .dataframe thead th {\n",
       "        text-align: right;\n",
       "    }\n",
       "</style>\n",
       "<table border=\"1\" class=\"dataframe\">\n",
       "  <thead>\n",
       "    <tr style=\"text-align: right;\">\n",
       "      <th></th>\n",
       "      <th>index</th>\n",
       "      <th>Unnamed: 0</th>\n",
       "      <th>Date</th>\n",
       "      <th>Store_Number</th>\n",
       "      <th>Transaction_Count</th>\n",
       "      <th>target_pct</th>\n",
       "      <th>met_target</th>\n",
       "      <th>bonus_payable</th>\n",
       "      <th>month</th>\n",
       "      <th>day_of_week</th>\n",
       "    </tr>\n",
       "  </thead>\n",
       "  <tbody>\n",
       "    <tr>\n",
       "      <th>0</th>\n",
       "      <td>0</td>\n",
       "      <td>16907</td>\n",
       "      <td>2014-01-01</td>\n",
       "      <td>25</td>\n",
       "      <td>840</td>\n",
       "      <td>0.3360</td>\n",
       "      <td>False</td>\n",
       "      <td>0</td>\n",
       "      <td>1</td>\n",
       "      <td>2</td>\n",
       "    </tr>\n",
       "    <tr>\n",
       "      <th>1</th>\n",
       "      <td>1</td>\n",
       "      <td>16908</td>\n",
       "      <td>2014-01-01</td>\n",
       "      <td>36</td>\n",
       "      <td>487</td>\n",
       "      <td>0.1948</td>\n",
       "      <td>False</td>\n",
       "      <td>0</td>\n",
       "      <td>1</td>\n",
       "      <td>2</td>\n",
       "    </tr>\n",
       "    <tr>\n",
       "      <th>2</th>\n",
       "      <td>2</td>\n",
       "      <td>16909</td>\n",
       "      <td>2014-01-02</td>\n",
       "      <td>1</td>\n",
       "      <td>1875</td>\n",
       "      <td>0.7500</td>\n",
       "      <td>False</td>\n",
       "      <td>0</td>\n",
       "      <td>1</td>\n",
       "      <td>3</td>\n",
       "    </tr>\n",
       "    <tr>\n",
       "      <th>3</th>\n",
       "      <td>3</td>\n",
       "      <td>16910</td>\n",
       "      <td>2014-01-02</td>\n",
       "      <td>2</td>\n",
       "      <td>2122</td>\n",
       "      <td>0.8488</td>\n",
       "      <td>False</td>\n",
       "      <td>0</td>\n",
       "      <td>1</td>\n",
       "      <td>3</td>\n",
       "    </tr>\n",
       "    <tr>\n",
       "      <th>4</th>\n",
       "      <td>4</td>\n",
       "      <td>16911</td>\n",
       "      <td>2014-01-02</td>\n",
       "      <td>3</td>\n",
       "      <td>3350</td>\n",
       "      <td>1.3400</td>\n",
       "      <td>True</td>\n",
       "      <td>100</td>\n",
       "      <td>1</td>\n",
       "      <td>3</td>\n",
       "    </tr>\n",
       "    <tr>\n",
       "      <th>...</th>\n",
       "      <td>...</td>\n",
       "      <td>...</td>\n",
       "      <td>...</td>\n",
       "      <td>...</td>\n",
       "      <td>...</td>\n",
       "      <td>...</td>\n",
       "      <td>...</td>\n",
       "      <td>...</td>\n",
       "      <td>...</td>\n",
       "      <td>...</td>\n",
       "    </tr>\n",
       "    <tr>\n",
       "      <th>35479</th>\n",
       "      <td>35479</td>\n",
       "      <td>52386</td>\n",
       "      <td>2015-12-31</td>\n",
       "      <td>49</td>\n",
       "      <td>3828</td>\n",
       "      <td>1.5312</td>\n",
       "      <td>True</td>\n",
       "      <td>100</td>\n",
       "      <td>12</td>\n",
       "      <td>3</td>\n",
       "    </tr>\n",
       "    <tr>\n",
       "      <th>35480</th>\n",
       "      <td>35480</td>\n",
       "      <td>52387</td>\n",
       "      <td>2015-12-31</td>\n",
       "      <td>50</td>\n",
       "      <td>2948</td>\n",
       "      <td>1.1792</td>\n",
       "      <td>True</td>\n",
       "      <td>100</td>\n",
       "      <td>12</td>\n",
       "      <td>3</td>\n",
       "    </tr>\n",
       "    <tr>\n",
       "      <th>35481</th>\n",
       "      <td>35481</td>\n",
       "      <td>52388</td>\n",
       "      <td>2015-12-31</td>\n",
       "      <td>51</td>\n",
       "      <td>2892</td>\n",
       "      <td>1.1568</td>\n",
       "      <td>True</td>\n",
       "      <td>100</td>\n",
       "      <td>12</td>\n",
       "      <td>3</td>\n",
       "    </tr>\n",
       "    <tr>\n",
       "      <th>35482</th>\n",
       "      <td>35482</td>\n",
       "      <td>52389</td>\n",
       "      <td>2015-12-31</td>\n",
       "      <td>53</td>\n",
       "      <td>2300</td>\n",
       "      <td>0.9200</td>\n",
       "      <td>False</td>\n",
       "      <td>0</td>\n",
       "      <td>12</td>\n",
       "      <td>3</td>\n",
       "    </tr>\n",
       "    <tr>\n",
       "      <th>35483</th>\n",
       "      <td>35483</td>\n",
       "      <td>52390</td>\n",
       "      <td>2015-12-31</td>\n",
       "      <td>54</td>\n",
       "      <td>1572</td>\n",
       "      <td>0.6288</td>\n",
       "      <td>False</td>\n",
       "      <td>0</td>\n",
       "      <td>12</td>\n",
       "      <td>3</td>\n",
       "    </tr>\n",
       "  </tbody>\n",
       "</table>\n",
       "<p>35484 rows × 10 columns</p>\n",
       "</div>"
      ],
      "text/plain": [
       "       index  Unnamed: 0       Date  Store_Number  Transaction_Count  \\\n",
       "0          0       16907 2014-01-01            25                840   \n",
       "1          1       16908 2014-01-01            36                487   \n",
       "2          2       16909 2014-01-02             1               1875   \n",
       "3          3       16910 2014-01-02             2               2122   \n",
       "4          4       16911 2014-01-02             3               3350   \n",
       "...      ...         ...        ...           ...                ...   \n",
       "35479  35479       52386 2015-12-31            49               3828   \n",
       "35480  35480       52387 2015-12-31            50               2948   \n",
       "35481  35481       52388 2015-12-31            51               2892   \n",
       "35482  35482       52389 2015-12-31            53               2300   \n",
       "35483  35483       52390 2015-12-31            54               1572   \n",
       "\n",
       "       target_pct  met_target  bonus_payable  month  day_of_week  \n",
       "0          0.3360       False              0      1            2  \n",
       "1          0.1948       False              0      1            2  \n",
       "2          0.7500       False              0      1            3  \n",
       "3          0.8488       False              0      1            3  \n",
       "4          1.3400        True            100      1            3  \n",
       "...           ...         ...            ...    ...          ...  \n",
       "35479      1.5312        True            100     12            3  \n",
       "35480      1.1792        True            100     12            3  \n",
       "35481      1.1568        True            100     12            3  \n",
       "35482      0.9200       False              0     12            3  \n",
       "35483      0.6288       False              0     12            3  \n",
       "\n",
       "[35484 rows x 10 columns]"
      ]
     },
     "execution_count": 79,
     "metadata": {},
     "output_type": "execute_result"
    }
   ],
   "source": [
    "# Bind the two data frames together\n",
    "pd.concat([df_1, df_2], ignore_index=True).reset_index()\n"
   ]
  },
  {
   "cell_type": "code",
   "execution_count": null,
   "metadata": {},
   "outputs": [
    {
     "name": "stdout",
     "output_type": "stream",
     "text": [
      "<class 'pandas.core.frame.DataFrame'>\n",
      "RangeIndex: 1054944 entries, 0 to 1054943\n",
      "Data columns (total 6 columns):\n",
      " #   Column       Non-Null Count    Dtype         \n",
      "---  ------       --------------    -----         \n",
      " 0   id           1054944 non-null  int64         \n",
      " 1   date         1054944 non-null  datetime64[ns]\n",
      " 2   store_nbr    1054944 non-null  int64         \n",
      " 3   family       1054944 non-null  object        \n",
      " 4   sales        1054944 non-null  float64       \n",
      " 5   onpromotion  1054944 non-null  int64         \n",
      "dtypes: datetime64[ns](1), float64(1), int64(3), object(1)\n",
      "memory usage: 48.3+ MB\n",
      "<class 'pandas.core.frame.DataFrame'>\n",
      "RangeIndex: 54 entries, 0 to 53\n",
      "Data columns (total 5 columns):\n",
      " #   Column     Non-Null Count  Dtype \n",
      "---  ------     --------------  ----- \n",
      " 0   store_nbr  54 non-null     int64 \n",
      " 1   city       54 non-null     object\n",
      " 2   state      54 non-null     object\n",
      " 3   type       54 non-null     object\n",
      " 4   cluster    54 non-null     int64 \n",
      "dtypes: int64(2), object(3)\n",
      "memory usage: 2.2+ KB\n",
      "None, None\n"
     ]
    }
   ],
   "source": [
    "# Merging data, join retail.csv with stores.csv\n",
    "retail_df = pd.read_csv(os.path.join(exercise_path, \"retail_2016_2017.csv\"), parse_dates=[\"date\"])\n",
    "stores_df = pd.read_csv(os.path.join(exercise_path, \"stores.csv\"))\n",
    "\n",
    "print(f\"{retail_df.info()}, {stores_df.info()}\")"
   ]
  },
  {
   "cell_type": "code",
   "execution_count": 85,
   "metadata": {},
   "outputs": [
    {
     "data": {
      "application/vnd.microsoft.datawrangler.viewer.v0+json": {
       "columns": [
        {
         "name": "index",
         "rawType": "int64",
         "type": "integer"
        },
        {
         "name": "id",
         "rawType": "int64",
         "type": "integer"
        },
        {
         "name": "date",
         "rawType": "datetime64[ns]",
         "type": "datetime"
        },
        {
         "name": "store_nbr",
         "rawType": "int64",
         "type": "integer"
        },
        {
         "name": "family",
         "rawType": "object",
         "type": "string"
        },
        {
         "name": "sales",
         "rawType": "float64",
         "type": "float"
        },
        {
         "name": "onpromotion",
         "rawType": "int64",
         "type": "integer"
        },
        {
         "name": "city",
         "rawType": "object",
         "type": "string"
        },
        {
         "name": "state",
         "rawType": "object",
         "type": "string"
        },
        {
         "name": "type",
         "rawType": "object",
         "type": "string"
        },
        {
         "name": "cluster",
         "rawType": "int64",
         "type": "integer"
        }
       ],
       "conversionMethod": "pd.DataFrame",
       "ref": "4d52d717-68d8-44c0-8f9e-8402f9d3e405",
       "rows": [
        [
         "0",
         "1945944",
         "2016-01-01 00:00:00",
         "1",
         "AUTOMOTIVE",
         "0.0",
         "0",
         "Quito",
         "Pichincha",
         "D",
         "13"
        ],
        [
         "1",
         "1945945",
         "2016-01-01 00:00:00",
         "1",
         "BABY CARE",
         "0.0",
         "0",
         "Quito",
         "Pichincha",
         "D",
         "13"
        ],
        [
         "2",
         "1945946",
         "2016-01-01 00:00:00",
         "1",
         "BEAUTY",
         "0.0",
         "0",
         "Quito",
         "Pichincha",
         "D",
         "13"
        ],
        [
         "3",
         "1945947",
         "2016-01-01 00:00:00",
         "1",
         "BEVERAGES",
         "0.0",
         "0",
         "Quito",
         "Pichincha",
         "D",
         "13"
        ],
        [
         "4",
         "1945948",
         "2016-01-01 00:00:00",
         "1",
         "BOOKS",
         "0.0",
         "0",
         "Quito",
         "Pichincha",
         "D",
         "13"
        ]
       ],
       "shape": {
        "columns": 10,
        "rows": 5
       }
      },
      "text/html": [
       "<div>\n",
       "<style scoped>\n",
       "    .dataframe tbody tr th:only-of-type {\n",
       "        vertical-align: middle;\n",
       "    }\n",
       "\n",
       "    .dataframe tbody tr th {\n",
       "        vertical-align: top;\n",
       "    }\n",
       "\n",
       "    .dataframe thead th {\n",
       "        text-align: right;\n",
       "    }\n",
       "</style>\n",
       "<table border=\"1\" class=\"dataframe\">\n",
       "  <thead>\n",
       "    <tr style=\"text-align: right;\">\n",
       "      <th></th>\n",
       "      <th>id</th>\n",
       "      <th>date</th>\n",
       "      <th>store_nbr</th>\n",
       "      <th>family</th>\n",
       "      <th>sales</th>\n",
       "      <th>onpromotion</th>\n",
       "      <th>city</th>\n",
       "      <th>state</th>\n",
       "      <th>type</th>\n",
       "      <th>cluster</th>\n",
       "    </tr>\n",
       "  </thead>\n",
       "  <tbody>\n",
       "    <tr>\n",
       "      <th>0</th>\n",
       "      <td>1945944</td>\n",
       "      <td>2016-01-01</td>\n",
       "      <td>1</td>\n",
       "      <td>AUTOMOTIVE</td>\n",
       "      <td>0.0</td>\n",
       "      <td>0</td>\n",
       "      <td>Quito</td>\n",
       "      <td>Pichincha</td>\n",
       "      <td>D</td>\n",
       "      <td>13</td>\n",
       "    </tr>\n",
       "    <tr>\n",
       "      <th>1</th>\n",
       "      <td>1945945</td>\n",
       "      <td>2016-01-01</td>\n",
       "      <td>1</td>\n",
       "      <td>BABY CARE</td>\n",
       "      <td>0.0</td>\n",
       "      <td>0</td>\n",
       "      <td>Quito</td>\n",
       "      <td>Pichincha</td>\n",
       "      <td>D</td>\n",
       "      <td>13</td>\n",
       "    </tr>\n",
       "    <tr>\n",
       "      <th>2</th>\n",
       "      <td>1945946</td>\n",
       "      <td>2016-01-01</td>\n",
       "      <td>1</td>\n",
       "      <td>BEAUTY</td>\n",
       "      <td>0.0</td>\n",
       "      <td>0</td>\n",
       "      <td>Quito</td>\n",
       "      <td>Pichincha</td>\n",
       "      <td>D</td>\n",
       "      <td>13</td>\n",
       "    </tr>\n",
       "    <tr>\n",
       "      <th>3</th>\n",
       "      <td>1945947</td>\n",
       "      <td>2016-01-01</td>\n",
       "      <td>1</td>\n",
       "      <td>BEVERAGES</td>\n",
       "      <td>0.0</td>\n",
       "      <td>0</td>\n",
       "      <td>Quito</td>\n",
       "      <td>Pichincha</td>\n",
       "      <td>D</td>\n",
       "      <td>13</td>\n",
       "    </tr>\n",
       "    <tr>\n",
       "      <th>4</th>\n",
       "      <td>1945948</td>\n",
       "      <td>2016-01-01</td>\n",
       "      <td>1</td>\n",
       "      <td>BOOKS</td>\n",
       "      <td>0.0</td>\n",
       "      <td>0</td>\n",
       "      <td>Quito</td>\n",
       "      <td>Pichincha</td>\n",
       "      <td>D</td>\n",
       "      <td>13</td>\n",
       "    </tr>\n",
       "  </tbody>\n",
       "</table>\n",
       "</div>"
      ],
      "text/plain": [
       "        id       date  store_nbr      family  sales  onpromotion   city  \\\n",
       "0  1945944 2016-01-01          1  AUTOMOTIVE    0.0            0  Quito   \n",
       "1  1945945 2016-01-01          1   BABY CARE    0.0            0  Quito   \n",
       "2  1945946 2016-01-01          1      BEAUTY    0.0            0  Quito   \n",
       "3  1945947 2016-01-01          1   BEVERAGES    0.0            0  Quito   \n",
       "4  1945948 2016-01-01          1       BOOKS    0.0            0  Quito   \n",
       "\n",
       "       state type  cluster  \n",
       "0  Pichincha    D       13  \n",
       "1  Pichincha    D       13  \n",
       "2  Pichincha    D       13  \n",
       "3  Pichincha    D       13  \n",
       "4  Pichincha    D       13  "
      ]
     },
     "execution_count": 85,
     "metadata": {},
     "output_type": "execute_result"
    }
   ],
   "source": [
    "df_join = retail_df.merge(stores_df,\n",
    "                          how = \"left\",\n",
    "                          left_on = \"store_nbr\",\n",
    "                          right_on = \"store_nbr\")\n",
    "df_join.head()"
   ]
  },
  {
   "cell_type": "code",
   "execution_count": 89,
   "metadata": {},
   "outputs": [
    {
     "data": {
      "text/plain": [
       "<Axes: xlabel='city'>"
      ]
     },
     "execution_count": 89,
     "metadata": {},
     "output_type": "execute_result"
    },
    {
     "data": {
      "image/png": "[encoded data removed]",
      "text/plain": [
       "<Figure size 640x480 with 1 Axes>"
      ]
     },
     "metadata": {},
     "output_type": "display_data"
    }
   ],
   "source": [
    "# Plot total sales by city\n",
    "df_join.groupby(\"city\").agg({\"sales\":\"sum\"}).sort_values(\"sales\", ascending=False).plot.bar()"
   ]
  },
  {
   "cell_type": "code",
   "execution_count": null,
   "metadata": {},
   "outputs": [
    {
     "data": {
      "text/plain": [
       "<Axes: xlabel='date'>"
      ]
     },
     "execution_count": 98,
     "metadata": {},
     "output_type": "execute_result"
    },
    {
     "data": {
      "image/png": "[encoded data removed]",
      "text/plain": [
       "<Figure size 640x480 with 1 Axes>"
      ]
     },
     "metadata": {},
     "output_type": "display_data"
    }
   ],
   "source": [
    "# sum of sales by type\n",
    "(df_join.groupby([\"date\", \"type\"])\n",
    "    .agg({\"sales\":\"sum\"})\n",
    "    .reset_index()\n",
    "    .pivot_table(index  = \"date\", columns = \"type\", values = \"sales\", aggfunc= \"mean\")\n",
    "    .plot()\n",
    ")"
   ]
  },
  {
   "cell_type": "code",
   "execution_count": 105,
   "metadata": {},
   "outputs": [
    {
     "data": {
      "text/plain": [
       "<Axes: xlabel='date'>"
      ]
     },
     "execution_count": 105,
     "metadata": {},
     "output_type": "execute_result"
    },
    {
     "data": {
      "image/png": "[encoded data removed]",
      "text/plain": [
       "<Figure size 640x480 with 1 Axes>"
      ]
     },
     "metadata": {},
     "output_type": "display_data"
    }
   ],
   "source": [
    "(df_join.groupby([df_join[\"date\"].dt.month, \"type\"])\n",
    "    .agg({\"sales\":\"mean\"})\n",
    "    .reset_index()\n",
    "    .pivot_table(index  = \"date\", columns = \"type\", values = \"sales\", aggfunc= \"mean\")\n",
    "    .plot(kind = 'bar', stacked = True)\n",
    ")"
   ]
  },
  {
   "cell_type": "code",
   "execution_count": null,
   "metadata": {},
   "outputs": [],
   "source": [
    " c(\"#15478A\", \"#5BB5D5\", \"#8C8C91\", \"#E14BA1\",\"#3B5BBE\", \"#F9C555\",\"#419164\", \"#876EC4\", \"#F36428\"),"
   ]
  }
 ],
 "metadata": {
  "kernelspec": {
   "display_name": ".venv",
   "language": "python",
   "name": "python3"
  },
  "language_info": {
   "codemirror_mode": {
    "name": "ipython",
    "version": 3
   },
   "file_extension": ".py",
   "mimetype": "text/x-python",
   "name": "python",
   "nbconvert_exporter": "python",
   "pygments_lexer": "ipython3",
   "version": "3.13.2"
  }
 },
 "nbformat": 4,
 "nbformat_minor": 2
}
