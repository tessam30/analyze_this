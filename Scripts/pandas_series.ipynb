{
 "cells": [
  {
   "cell_type": "code",
   "execution_count": 48,
   "metadata": {},
   "outputs": [
    {
     "name": "stdout",
     "output_type": "stream",
     "text": [
      "2.2.3\n",
      "['/Users/tim/Documents/Github/analyze_this/.venv/lib/python3.13/site-packages/pandas']\n"
     ]
    }
   ],
   "source": [
    "import pandas as pd\n",
    "import numpy as np\n",
    "\n",
    "# What version and where do these live?\n",
    "print(f'{pd.__version__}')\n",
    "print(f'{pd.__path__}')"
   ]
  },
  {
   "cell_type": "code",
   "execution_count": 17,
   "metadata": {},
   "outputs": [
    {
     "data": {
      "text/plain": [
       "0       0\n",
       "1       5\n",
       "2     155\n",
       "3       0\n",
       "4     518\n",
       "5       0\n",
       "6    1827\n",
       "7     616\n",
       "8     317\n",
       "9     325\n",
       "Name: Sales, dtype: int64"
      ]
     },
     "execution_count": 17,
     "metadata": {},
     "output_type": "execute_result"
    }
   ],
   "source": [
    "sales = [0, 5, 155, 0, 518, 0, 1827, 616, 317, 325]\n",
    "sales_series = pd.Series(sales, name = \"Sales\")\n",
    "sales_series"
   ]
  },
  {
   "cell_type": "code",
   "execution_count": 18,
   "metadata": {},
   "outputs": [
    {
     "name": "stdout",
     "output_type": "stream",
     "text": [
      "[   0    5  155    0  518    0 1827  616  317  325]\n",
      "RangeIndex(start=0, stop=10, step=1)\n",
      "Sales\n",
      "3763\n"
     ]
    }
   ],
   "source": [
    "print(f'{sales_series.values}')\n",
    "print(f'{sales_series.index}')\n",
    "print(f'{sales_series.name}')\n",
    "print(f'{sales_series.sum()}')"
   ]
  },
  {
   "cell_type": "code",
   "execution_count": 19,
   "metadata": {},
   "outputs": [
    {
     "data": {
      "text/plain": [
       "0    0\n",
       "1    1\n",
       "2    2\n",
       "3    3\n",
       "4    4\n",
       "dtype: int64"
      ]
     },
     "execution_count": 19,
     "metadata": {},
     "output_type": "execute_result"
    }
   ],
   "source": [
    "# Conversions with astype()\n",
    "pd.Series(range(5))\n"
   ]
  },
  {
   "cell_type": "code",
   "execution_count": 20,
   "metadata": {},
   "outputs": [
    {
     "data": {
      "text/plain": [
       "0    0.0\n",
       "1    1.0\n",
       "2    2.0\n",
       "3    3.0\n",
       "4    4.0\n",
       "dtype: float64"
      ]
     },
     "execution_count": 20,
     "metadata": {},
     "output_type": "execute_result"
    }
   ],
   "source": [
    "pd.Series(range(5)).astype(float)"
   ]
  },
  {
   "cell_type": "code",
   "execution_count": 21,
   "metadata": {},
   "outputs": [
    {
     "data": {
      "text/plain": [
       "0    False\n",
       "1     True\n",
       "2     True\n",
       "3     True\n",
       "4     True\n",
       "dtype: bool"
      ]
     },
     "execution_count": 21,
     "metadata": {},
     "output_type": "execute_result"
    }
   ],
   "source": [
    "pd.Series(range(5)).astype(bool)"
   ]
  },
  {
   "cell_type": "code",
   "execution_count": 22,
   "metadata": {},
   "outputs": [
    {
     "data": {
      "text/plain": [
       "0    a\n",
       "1    b\n",
       "2    c\n",
       "3    d\n",
       "4    e\n",
       "dtype: object"
      ]
     },
     "execution_count": 22,
     "metadata": {},
     "output_type": "execute_result"
    }
   ],
   "source": [
    "pd.Series(['a', 'b', 'c', 'd', 'e'])"
   ]
  },
  {
   "cell_type": "markdown",
   "metadata": {},
   "source": [
    "### Converting data Exercise"
   ]
  },
  {
   "cell_type": "code",
   "execution_count": 23,
   "metadata": {},
   "outputs": [
    {
     "data": {
      "text/plain": [
       "array([52.22, 51.44, 51.98, 52.01, 52.82, 54.01, 53.8 , 53.75, 52.36,\n",
       "       53.26, 53.77, 53.98, 51.95, 50.82, 52.19, 53.01, 52.36, 52.45,\n",
       "       51.12, 51.39, 52.33, 52.77, 52.38, 52.14, 53.24, 53.18, 52.63,\n",
       "       52.75, 53.9 , 53.55, 53.81, 53.01, 52.19, 52.37, 52.99, 53.84,\n",
       "       52.96, 53.21, 53.11, 53.41, 53.41, 54.02, 53.61, 54.48, 53.99,\n",
       "       54.04, 54.  , 53.82, 52.63, 53.33, 53.19, 52.68, 49.83, 48.75,\n",
       "       48.05, 47.95, 47.24, 48.34, 48.3 , 48.34, 47.79, 47.02, 47.29,\n",
       "       47.  , 47.3 , 47.02, 48.36, 49.47, 50.3 , 50.54, 50.25, 50.99,\n",
       "       51.14, 51.69, 52.25, 53.06, 53.38, 53.12, 53.19, 52.62, 52.46,\n",
       "       50.49, 50.26, 49.64, 48.9 , 49.22, 49.22, 48.96, 49.31, 48.83,\n",
       "       47.65, 47.79, 45.55, 46.23, 46.46, 45.84, 47.28, 47.81, 47.83,\n",
       "       48.86])"
      ]
     },
     "execution_count": 23,
     "metadata": {},
     "output_type": "execute_result"
    }
   ],
   "source": [
    "data_path ='../Python/Exercise Files/Pandas Course Resources/Pandas Course Resources/retail/oil.csv'\n",
    "# create a DataFrame from the oil file, drop missing values\n",
    "oil = pd.read_csv(data_path).dropna()\n",
    "\n",
    "# Grab 100 rows of oil prices\n",
    "oil_array = np.array(oil[\"dcoilwtico\"].iloc[1000:1100])\n",
    "\n",
    "oil_array"
   ]
  },
  {
   "cell_type": "code",
   "execution_count": 74,
   "metadata": {},
   "outputs": [
    {
     "data": {
      "text/plain": [
       "0     52.22\n",
       "1     51.44\n",
       "2     51.98\n",
       "3     52.01\n",
       "4     52.82\n",
       "      ...  \n",
       "95    45.84\n",
       "96    47.28\n",
       "97    47.81\n",
       "98    47.83\n",
       "99    48.86\n",
       "Name: oil_prices, Length: 100, dtype: float64"
      ]
     },
     "execution_count": 74,
     "metadata": {},
     "output_type": "execute_result"
    }
   ],
   "source": [
    "# Create a Series from the oil_array\n",
    "oil_series = pd.Series(oil_array, name = \"oil_prices\")\n",
    "oil_series"
   ]
  },
  {
   "cell_type": "code",
   "execution_count": 25,
   "metadata": {},
   "outputs": [
    {
     "name": "stdout",
     "output_type": "stream",
     "text": [
      "[52.22 51.44 51.98 52.01 52.82 54.01 53.8  53.75 52.36 53.26 53.77 53.98\n",
      " 51.95 50.82 52.19 53.01 52.36 52.45 51.12 51.39 52.33 52.77 52.38 52.14\n",
      " 53.24 53.18 52.63 52.75 53.9  53.55 53.81 53.01 52.19 52.37 52.99 53.84\n",
      " 52.96 53.21 53.11 53.41 53.41 54.02 53.61 54.48 53.99 54.04 54.   53.82\n",
      " 52.63 53.33 53.19 52.68 49.83 48.75 48.05 47.95 47.24 48.34 48.3  48.34\n",
      " 47.79 47.02 47.29 47.   47.3  47.02 48.36 49.47 50.3  50.54 50.25 50.99\n",
      " 51.14 51.69 52.25 53.06 53.38 53.12 53.19 52.62 52.46 50.49 50.26 49.64\n",
      " 48.9  49.22 49.22 48.96 49.31 48.83 47.65 47.79 45.55 46.23 46.46 45.84\n",
      " 47.28 47.81 47.83 48.86]\n",
      "oil_prices\n",
      "RangeIndex(start=0, stop=100, step=1)\n",
      "float64\n",
      "51.128299999999996\n"
     ]
    }
   ],
   "source": [
    "# Show the results across many dimenions\n",
    "print(f'{oil_series.values}')\n",
    "print(f'{oil_series.name}')\n",
    "print(f'{oil_series.index}')\n",
    "print(f'{oil_series.dtype}')\n",
    "print(f'{oil_series.mean()}')"
   ]
  },
  {
   "cell_type": "code",
   "execution_count": 26,
   "metadata": {},
   "outputs": [
    {
     "data": {
      "text/plain": [
       "np.float64(50.66)"
      ]
     },
     "execution_count": 26,
     "metadata": {},
     "output_type": "execute_result"
    }
   ],
   "source": [
    "# Convert to an integer data type and the recalculat the mean\n",
    "oil_series.astype('int').mean()"
   ]
  },
  {
   "cell_type": "markdown",
   "metadata": {},
   "source": [
    "### Series index and custom indices"
   ]
  },
  {
   "cell_type": "code",
   "execution_count": 27,
   "metadata": {},
   "outputs": [
    {
     "data": {
      "text/plain": [
       "np.int64(3)"
      ]
     },
     "execution_count": 27,
     "metadata": {},
     "output_type": "execute_result"
    }
   ],
   "source": [
    "# Text based indices include boundaries when slicing with them\n",
    "my_series = pd.Series(range(5))\n",
    "my_series[3]\n"
   ]
  },
  {
   "cell_type": "code",
   "execution_count": 28,
   "metadata": {},
   "outputs": [],
   "source": [
    "my_series = pd.Series(range(5), index = ['Day 0', 'Day 1', 'Day 2', 'Day 3', 'Day 4'])"
   ]
  },
  {
   "cell_type": "code",
   "execution_count": 29,
   "metadata": {},
   "outputs": [
    {
     "data": {
      "text/plain": [
       "Day 3    3\n",
       "Day 4    4\n",
       "dtype: int64"
      ]
     },
     "execution_count": 29,
     "metadata": {},
     "output_type": "execute_result"
    }
   ],
   "source": [
    "my_series['Day 3':'Day 4']"
   ]
  },
  {
   "cell_type": "code",
   "execution_count": 30,
   "metadata": {},
   "outputs": [
    {
     "data": {
      "text/plain": [
       "Day 0    0\n",
       "Day 1    1\n",
       "Day 2    2\n",
       "Day 3    3\n",
       "Day 4    4\n",
       "dtype: int64"
      ]
     },
     "execution_count": 30,
     "metadata": {},
     "output_type": "execute_result"
    }
   ],
   "source": [
    "my_days = pd.Series([0, 1, 2, 3, 4], index = ['Day 0', 'Day 1', 'Day 2', 'Day 3', 'Day 4'])\n",
    "\n",
    "my_days"
   ]
  },
  {
   "cell_type": "code",
   "execution_count": 31,
   "metadata": {},
   "outputs": [
    {
     "data": {
      "text/plain": [
       "np.int64(2)"
      ]
     },
     "execution_count": 31,
     "metadata": {},
     "output_type": "execute_result"
    }
   ],
   "source": [
    "my_days.iloc[2]"
   ]
  },
  {
   "cell_type": "code",
   "execution_count": 32,
   "metadata": {},
   "outputs": [
    {
     "data": {
      "text/plain": [
       "np.int64(2)"
      ]
     },
     "execution_count": 32,
     "metadata": {},
     "output_type": "execute_result"
    }
   ],
   "source": [
    "# Using .iloc and .loc (where the i refers to integer position)\n",
    "my_days.loc['Day 2']    "
   ]
  },
  {
   "cell_type": "code",
   "execution_count": 33,
   "metadata": {},
   "outputs": [
    {
     "data": {
      "text/plain": [
       "0    0\n",
       "1    1\n",
       "2    2\n",
       "3    3\n",
       "4    4\n",
       "dtype: int64"
      ]
     },
     "execution_count": 33,
     "metadata": {},
     "output_type": "execute_result"
    }
   ],
   "source": [
    "# When you reset the index, it moves the old index values into a column. This is why you need to do this after grouping operations\n",
    "my_days.reset_index(drop = True)"
   ]
  },
  {
   "cell_type": "markdown",
   "metadata": {},
   "source": [
    "### Assessing Series Data Exercise"
   ]
  },
  {
   "cell_type": "code",
   "execution_count": 80,
   "metadata": {},
   "outputs": [
    {
     "name": "stdout",
     "output_type": "stream",
     "text": [
      "date\n",
      "2016-12-20    52.22\n",
      "2016-12-21    51.44\n",
      "2016-12-22    51.98\n",
      "2016-12-23    52.01\n",
      "2016-12-27    52.82\n",
      "              ...  \n",
      "2017-05-09    45.84\n",
      "2017-05-10    47.28\n",
      "2017-05-11    47.81\n",
      "2017-05-12    47.83\n",
      "2017-05-15    48.86\n",
      "Name: oil_prices, Length: 100, dtype: float64\n"
     ]
    }
   ],
   "source": [
    "#oil = pd.read_csv(data_path).dropna()\n",
    "oil_series\n",
    "dates = pd.Series(oil[\"date\"]).iloc[1000:1100]\n",
    "\n",
    "# Use dates as the index for the oil_series\n",
    "oil_series.index = dates\n",
    "print(f'{oil_series}') \n",
    "\n"
   ]
  },
  {
   "cell_type": "code",
   "execution_count": 35,
   "metadata": {},
   "outputs": [
    {
     "name": "stdout",
     "output_type": "stream",
     "text": [
      "The first ten days mean is: 52.76\n",
      " The last ten days mean is: 47.13\n"
     ]
    }
   ],
   "source": [
    "# Take the mean of the first 10 days and last 10 days\n",
    "first_ten = oil_series.iloc[0:10].mean()\n",
    "last_ten = oil_series.iloc[-10:].mean()\n",
    "print(f'The first ten days mean is: {first_ten}\\b\\n The last ten days mean is: {last_ten}')"
   ]
  },
  {
   "cell_type": "code",
   "execution_count": 36,
   "metadata": {},
   "outputs": [
    {
     "data": {
      "text/plain": [
       "0    52.36\n",
       "1    53.26\n",
       "2    53.77\n",
       "3    53.98\n",
       "Name: oil_prices, dtype: float64"
      ]
     },
     "execution_count": 36,
     "metadata": {},
     "output_type": "execute_result"
    }
   ],
   "source": [
    "# Grab oil prices from January 1-7, 2017, and revert index back to integers\n",
    "oil_series.loc[\"2017-01-01\":\"2017-01-07\"].reset_index(drop = True) \n"
   ]
  },
  {
   "cell_type": "code",
   "execution_count": 37,
   "metadata": {},
   "outputs": [
    {
     "data": {
      "text/plain": [
       "0       0\n",
       "1       5\n",
       "2     155\n",
       "3       0\n",
       "4     518\n",
       "5       0\n",
       "6    1827\n",
       "7     616\n",
       "8     317\n",
       "9     325\n",
       "Name: Sales, dtype: int64"
      ]
     },
     "execution_count": 37,
     "metadata": {},
     "output_type": "execute_result"
    }
   ],
   "source": [
    "sales_series\n"
   ]
  },
  {
   "cell_type": "markdown",
   "metadata": {},
   "source": [
    "### Logical Operators  "
   ]
  },
  {
   "cell_type": "code",
   "execution_count": 38,
   "metadata": {},
   "outputs": [
    {
     "data": {
      "text/plain": [
       "Day 0    0\n",
       "Day 1    1\n",
       "Day 2    2\n",
       "Day 3    3\n",
       "Day 4    4\n",
       "dtype: int64"
      ]
     },
     "execution_count": 38,
     "metadata": {},
     "output_type": "execute_result"
    }
   ],
   "source": [
    "my_series"
   ]
  },
  {
   "cell_type": "code",
   "execution_count": 39,
   "metadata": {},
   "outputs": [
    {
     "data": {
      "text/plain": [
       "Day 2    2\n",
       "dtype: int64"
      ]
     },
     "execution_count": 39,
     "metadata": {},
     "output_type": "execute_result"
    }
   ],
   "source": [
    "# Remove all occurences where the value is 2\n",
    "my_series.loc[~(my_series != 2)]\n",
    "\n"
   ]
  },
  {
   "cell_type": "code",
   "execution_count": 40,
   "metadata": {},
   "outputs": [
    {
     "data": {
      "text/plain": [
       "Day 3    3\n",
       "Day 4    4\n",
       "dtype: int64"
      ]
     },
     "execution_count": 40,
     "metadata": {},
     "output_type": "execute_result"
    }
   ],
   "source": [
    "my_series.loc[my_series > 2]"
   ]
  },
  {
   "cell_type": "code",
   "execution_count": 41,
   "metadata": {},
   "outputs": [
    {
     "data": {
      "text/plain": [
       "Day 0    False\n",
       "Day 1     True\n",
       "Day 2     True\n",
       "Day 3    False\n",
       "Day 4    False\n",
       "dtype: bool"
      ]
     },
     "execution_count": 41,
     "metadata": {},
     "output_type": "execute_result"
    }
   ],
   "source": [
    "my_series.isin([1, 2])"
   ]
  },
  {
   "cell_type": "code",
   "execution_count": 42,
   "metadata": {},
   "outputs": [],
   "source": [
    "# Sorting, use inplace = True to preserve the sort order changes to the data frame\n",
    "my_series.sort_values(ascending=False, inplace=True)"
   ]
  },
  {
   "cell_type": "code",
   "execution_count": 43,
   "metadata": {},
   "outputs": [
    {
     "data": {
      "text/plain": [
       "date\n",
       "2017-05-10    47.28\n",
       "2017-05-09    45.84\n",
       "2017-05-08    46.46\n",
       "2017-05-05    46.23\n",
       "2017-05-04    45.55\n",
       "2017-03-27    47.02\n",
       "2017-03-23    47.00\n",
       "2017-03-22    47.29\n",
       "2017-03-21    47.02\n",
       "2017-03-14    47.24\n",
       "Name: oil_prices, dtype: float64"
      ]
     },
     "execution_count": 43,
     "metadata": {},
     "output_type": "execute_result"
    }
   ],
   "source": [
    "# Need to get the 10 lowest prices from the data, then sort them by dat\n",
    "oil_series.sort_values().iloc[0:10].sort_index(ascending = False)"
   ]
  },
  {
   "cell_type": "code",
   "execution_count": 44,
   "metadata": {},
   "outputs": [
    {
     "data": {
      "text/plain": [
       "date\n",
       "2017-03-21    47.02\n",
       "2017-05-03    47.79\n",
       "Name: oil_prices, dtype: float64"
      ]
     },
     "execution_count": 44,
     "metadata": {},
     "output_type": "execute_result"
    }
   ],
   "source": [
    "dates = [\n",
    "    \"2016-12-22\",\n",
    "    \"2017-05-03\",\n",
    "    \"2017-01-06\",\n",
    "    \"2017-03-05\",\n",
    "    \"2017-02-12\",\n",
    "    \"2017-03-21\",\n",
    "    \"2017-04-14\",\n",
    "    \"2017-04-15\",\n",
    "]\n",
    "\n",
    "mask = oil_series.index.isin(dates) & (oil_series <= 50) \n",
    "oil_series.loc[mask]"
   ]
  },
  {
   "cell_type": "code",
   "execution_count": null,
   "metadata": {},
   "outputs": [],
   "source": []
  },
  {
   "cell_type": "code",
   "execution_count": 50,
   "metadata": {},
   "outputs": [
    {
     "data": {
      "text/plain": [
       "day0    1.0\n",
       "day1    NaN\n",
       "day2    3.0\n",
       "day3    4.0\n",
       "day4    5.0\n",
       "dtype: float64"
      ]
     },
     "execution_count": 50,
     "metadata": {},
     "output_type": "execute_result"
    }
   ],
   "source": [
    "# Arthimetic operators in Pandas\n",
    "my_series = pd.Series(\n",
    "    [1, np.nan, 3, 4, 5], index = ['day0', 'day1', 'day2', 'day3', 'day4']\n",
    "    )\n",
    "my_series"
   ]
  },
  {
   "cell_type": "code",
   "execution_count": 55,
   "metadata": {},
   "outputs": [],
   "source": [
    "my_series2 = my_series.add(1, fill_value=0).astype('int') #or my_series + 1"
   ]
  },
  {
   "cell_type": "code",
   "execution_count": 57,
   "metadata": {},
   "outputs": [
    {
     "data": {
      "text/plain": [
       "day0     4\n",
       "day1     2\n",
       "day2     8\n",
       "day3    10\n",
       "day4    12\n",
       "dtype: int64"
      ]
     },
     "execution_count": 57,
     "metadata": {},
     "output_type": "execute_result"
    }
   ],
   "source": [
    "my_series2 * 2"
   ]
  },
  {
   "cell_type": "code",
   "execution_count": 58,
   "metadata": {},
   "outputs": [
    {
     "data": {
      "text/plain": [
       "day0     3.0\n",
       "day1     1.0\n",
       "day2     7.0\n",
       "day3     9.0\n",
       "day4    11.0\n",
       "dtype: float64"
      ]
     },
     "execution_count": 58,
     "metadata": {},
     "output_type": "execute_result"
    }
   ],
   "source": [
    "my_series.add(my_series2, fill_value = 0)"
   ]
  },
  {
   "cell_type": "code",
   "execution_count": null,
   "metadata": {},
   "outputs": [
    {
     "data": {
      "text/plain": [
       "0     $3.99\n",
       "1     $5.99\n",
       "2    $22.99\n",
       "3     $7.99\n",
       "4    $33.99\n",
       "dtype: object"
      ]
     },
     "execution_count": 61,
     "metadata": {},
     "output_type": "execute_result"
    }
   ],
   "source": [
    "# String methods\n",
    "prices = '$'+ pd.Series([3.99, 5.99, 22.99, 7.99, 33.99]).astype('str')\n",
    "prices"
   ]
  },
  {
   "cell_type": "code",
   "execution_count": 62,
   "metadata": {},
   "outputs": [
    {
     "data": {
      "text/plain": [
       "0     True\n",
       "1    False\n",
       "2    False\n",
       "3    False\n",
       "4     True\n",
       "dtype: bool"
      ]
     },
     "execution_count": 62,
     "metadata": {},
     "output_type": "execute_result"
    }
   ],
   "source": [
    "prices.str.contains('3')"
   ]
  },
  {
   "cell_type": "code",
   "execution_count": 63,
   "metadata": {},
   "outputs": [
    {
     "data": {
      "text/plain": [
       "0     3.99\n",
       "1     5.99\n",
       "2    22.99\n",
       "3     7.99\n",
       "4    33.99\n",
       "dtype: float64"
      ]
     },
     "execution_count": 63,
     "metadata": {},
     "output_type": "execute_result"
    }
   ],
   "source": [
    "clean = prices.str.strip('$').astype('float')\n",
    "clean"
   ]
  },
  {
   "cell_type": "code",
   "execution_count": null,
   "metadata": {},
   "outputs": [
    {
     "data": {
      "application/vnd.microsoft.datawrangler.viewer.v0+json": {
       "columns": [
        {
         "name": "index",
         "rawType": "int64",
         "type": "integer"
        },
        {
         "name": "0",
         "rawType": "object",
         "type": "string"
        },
        {
         "name": "1",
         "rawType": "object",
         "type": "string"
        }
       ],
       "conversionMethod": "pd.DataFrame",
       "ref": "1273228b-03b9-4cb4-b346-3380eac75aa6",
       "rows": [
        [
         "0",
         "3",
         "99"
        ],
        [
         "1",
         "5",
         "99"
        ],
        [
         "2",
         "22",
         "99"
        ],
        [
         "3",
         "7",
         "99"
        ],
        [
         "4",
         "33",
         "99"
        ]
       ],
       "shape": {
        "columns": 2,
        "rows": 5
       }
      },
      "text/html": [
       "<div>\n",
       "<style scoped>\n",
       "    .dataframe tbody tr th:only-of-type {\n",
       "        vertical-align: middle;\n",
       "    }\n",
       "\n",
       "    .dataframe tbody tr th {\n",
       "        vertical-align: top;\n",
       "    }\n",
       "\n",
       "    .dataframe thead th {\n",
       "        text-align: right;\n",
       "    }\n",
       "</style>\n",
       "<table border=\"1\" class=\"dataframe\">\n",
       "  <thead>\n",
       "    <tr style=\"text-align: right;\">\n",
       "      <th></th>\n",
       "      <th>0</th>\n",
       "      <th>1</th>\n",
       "    </tr>\n",
       "  </thead>\n",
       "  <tbody>\n",
       "    <tr>\n",
       "      <th>0</th>\n",
       "      <td>3</td>\n",
       "      <td>99</td>\n",
       "    </tr>\n",
       "    <tr>\n",
       "      <th>1</th>\n",
       "      <td>5</td>\n",
       "      <td>99</td>\n",
       "    </tr>\n",
       "    <tr>\n",
       "      <th>2</th>\n",
       "      <td>22</td>\n",
       "      <td>99</td>\n",
       "    </tr>\n",
       "    <tr>\n",
       "      <th>3</th>\n",
       "      <td>7</td>\n",
       "      <td>99</td>\n",
       "    </tr>\n",
       "    <tr>\n",
       "      <th>4</th>\n",
       "      <td>33</td>\n",
       "      <td>99</td>\n",
       "    </tr>\n",
       "  </tbody>\n",
       "</table>\n",
       "</div>"
      ],
      "text/plain": [
       "    0   1\n",
       "0   3  99\n",
       "1   5  99\n",
       "2  22  99\n",
       "3   7  99\n",
       "4  33  99"
      ]
     },
     "execution_count": 65,
     "metadata": {},
     "output_type": "execute_result"
    }
   ],
   "source": [
    "clean.astype('str').str.split('.', expand = True,)"
   ]
  },
  {
   "cell_type": "code",
   "execution_count": 106,
   "metadata": {},
   "outputs": [
    {
     "data": {
      "text/plain": [
       "date\n",
       "2016-12-20    59.442\n",
       "2016-12-21    58.584\n",
       "2016-12-22    59.178\n",
       "2016-12-23    59.211\n",
       "2016-12-27    60.102\n",
       "               ...  \n",
       "2017-05-09    52.424\n",
       "2017-05-10    54.008\n",
       "2017-05-11    54.591\n",
       "2017-05-12    54.613\n",
       "2017-05-15    55.746\n",
       "Name: oil_prices, Length: 100, dtype: float64"
      ]
     },
     "execution_count": 106,
     "metadata": {},
     "output_type": "execute_result"
    }
   ],
   "source": [
    "oil_stress = oil_series * 1.1 + 2\n",
    "oil_stress"
   ]
  },
  {
   "cell_type": "code",
   "execution_count": 82,
   "metadata": {},
   "outputs": [
    {
     "name": "stdout",
     "output_type": "stream",
     "text": [
      "The max price is: 54.48\n"
     ]
    }
   ],
   "source": [
    "max_price = oil_series.max()\n",
    "print(f'The max price is: {max_price}')"
   ]
  },
  {
   "cell_type": "code",
   "execution_count": 107,
   "metadata": {},
   "outputs": [
    {
     "data": {
      "text/plain": [
       "date\n",
       "2016-12-20   -0.041483\n",
       "2016-12-21   -0.055800\n",
       "2016-12-22   -0.045888\n",
       "2016-12-23   -0.045338\n",
       "2016-12-27   -0.030470\n",
       "                ...   \n",
       "2017-05-09   -0.158590\n",
       "2017-05-10   -0.132159\n",
       "2017-05-11   -0.122430\n",
       "2017-05-12   -0.122063\n",
       "2017-05-15   -0.103157\n",
       "Name: oil_prices, Length: 100, dtype: float64"
      ]
     },
     "execution_count": 107,
     "metadata": {},
     "output_type": "execute_result"
    }
   ],
   "source": [
    "oil_deltas = (oil_series - max_price) / max_price\n",
    "oil_deltas"
   ]
  },
  {
   "cell_type": "code",
   "execution_count": 104,
   "metadata": {},
   "outputs": [
    {
     "data": {
      "text/plain": [
       "0     12\n",
       "1     12\n",
       "2     12\n",
       "3     12\n",
       "4     12\n",
       "      ..\n",
       "95     5\n",
       "96     5\n",
       "97     5\n",
       "98     5\n",
       "99     5\n",
       "Name: date, Length: 100, dtype: int64"
      ]
     },
     "execution_count": 104,
     "metadata": {},
     "output_type": "execute_result"
    }
   ],
   "source": [
    "month = pd.Series(oil_deltas.index.str.slice(5, 7).astype('int'))\n",
    "month"
   ]
  },
  {
   "cell_type": "code",
   "execution_count": 109,
   "metadata": {},
   "outputs": [
    {
     "data": {
      "text/plain": [
       "0     770\n",
       "1    2111\n",
       "2    2358\n",
       "3    3487\n",
       "4    1922\n",
       "Name: transactions, dtype: int64"
      ]
     },
     "execution_count": 109,
     "metadata": {},
     "output_type": "execute_result"
    }
   ],
   "source": [
    "# Import transactions data\n",
    "trsctns_path = '../Python/Exercise Files/Pandas Course Resources/Pandas Course Resources/retail/transactions.csv'\n",
    "transactions = pd.read_csv(trsctns_path)\n",
    "trans_series = pd.Series(transactions['transactions'])\n",
    "trans_series.iloc[:5]"
   ]
  },
  {
   "cell_type": "code",
   "execution_count": 117,
   "metadata": {},
   "outputs": [
    {
     "data": {
      "text/plain": [
       "0.25    1046\n",
       "0.50    1393\n",
       "0.75    2079\n",
       "Name: transactions, dtype: int64"
      ]
     },
     "execution_count": 117,
     "metadata": {},
     "output_type": "execute_result"
    }
   ],
   "source": [
    "trans_series.quantile([0.25, 0.5, 0.75], interpolation='nearest')"
   ]
  },
  {
   "cell_type": "code",
   "execution_count": 118,
   "metadata": {},
   "outputs": [
    {
     "data": {
      "text/plain": [
       "0    day 0\n",
       "1    day 1\n",
       "2    day 2\n",
       "3    day 3\n",
       "4    day 4\n",
       "dtype: object"
      ]
     },
     "execution_count": 118,
     "metadata": {},
     "output_type": "execute_result"
    }
   ],
   "source": [
    "string_series = pd.Series(['day 0', 'day 1', 'day 2', 'day 3', 'day 4'])\n",
    "string_series"
   ]
  },
  {
   "cell_type": "code",
   "execution_count": 119,
   "metadata": {},
   "outputs": [
    {
     "data": {
      "text/plain": [
       "array(['day 0', 'day 1', 'day 2', 'day 3', 'day 4'], dtype=object)"
      ]
     },
     "execution_count": 119,
     "metadata": {},
     "output_type": "execute_result"
    }
   ],
   "source": [
    "string_series.unique()"
   ]
  },
  {
   "cell_type": "code",
   "execution_count": 120,
   "metadata": {},
   "outputs": [
    {
     "data": {
      "text/plain": [
       "<bound method IndexOpsMixin.nunique of 0    day 0\n",
       "1    day 1\n",
       "2    day 2\n",
       "3    day 3\n",
       "4    day 4\n",
       "dtype: object>"
      ]
     },
     "execution_count": 120,
     "metadata": {},
     "output_type": "execute_result"
    }
   ],
   "source": [
    "string_series.nunique"
   ]
  },
  {
   "cell_type": "code",
   "execution_count": 121,
   "metadata": {},
   "outputs": [
    {
     "data": {
      "text/plain": [
       "day 0    1\n",
       "day 1    1\n",
       "day 2    1\n",
       "day 3    1\n",
       "day 4    1\n",
       "Name: count, dtype: int64"
      ]
     },
     "execution_count": 121,
     "metadata": {},
     "output_type": "execute_result"
    }
   ],
   "source": [
    "string_series.value_counts()"
   ]
  },
  {
   "cell_type": "code",
   "execution_count": 122,
   "metadata": {},
   "outputs": [
    {
     "data": {
      "text/plain": [
       "day 0    0.2\n",
       "day 1    0.2\n",
       "day 2    0.2\n",
       "day 3    0.2\n",
       "day 4    0.2\n",
       "Name: proportion, dtype: float64"
      ]
     },
     "execution_count": 122,
     "metadata": {},
     "output_type": "execute_result"
    }
   ],
   "source": [
    "string_series.value_counts(normalize=True)"
   ]
  },
  {
   "cell_type": "markdown",
   "metadata": {},
   "source": [
    "### Assisgnment: Series Aggregations"
   ]
  },
  {
   "cell_type": "code",
   "execution_count": 161,
   "metadata": {},
   "outputs": [
    {
     "name": "stdout",
     "output_type": "stream",
     "text": [
      "2016-12-20 and max is 2017-05-15\n",
      "[False False False False False False False False False False False False\n",
      " False False False False False False False False False False False False\n",
      " False False False False False False False False False False False False\n",
      " False False False False False False False False False False False  True\n",
      "  True  True  True  True  True  True  True  True  True  True  True  True\n",
      "  True  True  True  True  True  True  True  True  True  True False False\n",
      " False False False False False False False False False False False False\n",
      " False False False False False False False False False False False False\n",
      " False False False False]\n",
      "The sum is: 1134.54\n",
      "The mean is: 49.32782608695651\n"
     ]
    }
   ],
   "source": [
    "# Data run 2016 - 2017, so we can use a string chunk to filter the range of interest\n",
    "print(f'{oil_series.index.min()} and max is {oil_series.index.max()}')\n",
    "\n",
    "# Question: what is the sum and mean of prices in the month of march? \n",
    "# Need to extract the string value of 3 from the date index so we'll be using an index function\n",
    "print(f'{oil_series.index.str[5:7] == '03'}')\n",
    "\n",
    "# Filter to march, then calculate sum\n",
    "print(f'The sum is: {oil_series[oil_series.index.str[6:7] == '3'].sum().round(2)}')\n",
    "print(f'The mean is: {oil_series[oil_series.index.str[6:7] == '3'].mean()}')\n",
    "\n",
    "\n"
   ]
  },
  {
   "cell_type": "code",
   "execution_count": null,
   "metadata": {},
   "outputs": [],
   "source": []
  },
  {
   "cell_type": "code",
   "execution_count": 162,
   "metadata": {},
   "outputs": [
    {
     "data": {
      "text/plain": [
       "np.int64(47)"
      ]
     },
     "execution_count": 162,
     "metadata": {},
     "output_type": "execute_result"
    }
   ],
   "source": [
    "# How many prices were there in jan and feb?\n",
    "oil_series[oil_series.index.str[6:7].isin(['1', '2'])].count()"
   ]
  },
  {
   "cell_type": "code",
   "execution_count": 143,
   "metadata": {},
   "outputs": [
    {
     "data": {
      "text/plain": [
       "0.1    47.299\n",
       "0.9    53.811\n",
       "Name: oil_prices, dtype: float64"
      ]
     },
     "execution_count": 143,
     "metadata": {},
     "output_type": "execute_result"
    }
   ],
   "source": [
    "oil_series.quantile([.10, .90])"
   ]
  },
  {
   "cell_type": "code",
   "execution_count": 149,
   "metadata": {},
   "outputs": [
    {
     "data": {
      "text/plain": [
       "oil_prices\n",
       "53    0.26\n",
       "52    0.22\n",
       "47    0.13\n",
       "48    0.10\n",
       "51    0.07\n",
       "50    0.07\n",
       "49    0.06\n",
       "54    0.05\n",
       "45    0.02\n",
       "46    0.02\n",
       "Name: proportion, dtype: float64"
      ]
     },
     "execution_count": 149,
     "metadata": {},
     "output_type": "execute_result"
    }
   ],
   "source": [
    "oil_series.astype('int').value_counts(normalize=True).sort_values(ascending=False)"
   ]
  },
  {
   "cell_type": "markdown",
   "metadata": {},
   "source": [
    "### Identifying Missing Data"
   ]
  },
  {
   "cell_type": "code",
   "execution_count": 164,
   "metadata": {},
   "outputs": [
    {
     "data": {
      "text/plain": [
       "0    COMPLETE\n",
       "1         NaN\n",
       "2         NaN\n",
       "3         NaN\n",
       "4    COMPLETE\n",
       "dtype: object"
      ]
     },
     "execution_count": 164,
     "metadata": {},
     "output_type": "execute_result"
    }
   ],
   "source": [
    "# .isna() returns a boolean \n",
    "checklist = pd.Series([\"COMPLETE\", np.nan, np.nan, np.nan, \"COMPLETE\"])\n",
    "checklist"
   ]
  },
  {
   "cell_type": "code",
   "execution_count": 168,
   "metadata": {},
   "outputs": [
    {
     "data": {
      "text/plain": [
       "np.float64(0.6)"
      ]
     },
     "execution_count": 168,
     "metadata": {},
     "output_type": "execute_result"
    }
   ],
   "source": [
    "checklist.isna().mean()"
   ]
  },
  {
   "cell_type": "code",
   "execution_count": null,
   "metadata": {},
   "outputs": [
    {
     "data": {
      "text/plain": [
       "NaN         3\n",
       "COMPLETE    2\n",
       "Name: count, dtype: int64"
      ]
     },
     "execution_count": 170,
     "metadata": {},
     "output_type": "execute_result"
    }
   ],
   "source": [
    "# Use value_counts to get the count of each unique value and missing values\n",
    "checklist.value_counts(dropna=False)"
   ]
  },
  {
   "cell_type": "code",
   "execution_count": 171,
   "metadata": {},
   "outputs": [
    {
     "data": {
      "text/plain": [
       "0      COMPLETE\n",
       "1    INCOMPLETE\n",
       "2    INCOMPLETE\n",
       "3    INCOMPLETE\n",
       "4      COMPLETE\n",
       "dtype: object"
      ]
     },
     "execution_count": 171,
     "metadata": {},
     "output_type": "execute_result"
    }
   ],
   "source": [
    "checklist.fillna('INCOMPLETE')"
   ]
  },
  {
   "cell_type": "code",
   "execution_count": 173,
   "metadata": {},
   "outputs": [
    {
     "data": {
      "text/plain": [
       "0    COMPLETE\n",
       "1    COMPLETE\n",
       "dtype: object"
      ]
     },
     "execution_count": 173,
     "metadata": {},
     "output_type": "execute_result"
    }
   ],
   "source": [
    "checklist.dropna().reset_index(drop=True)"
   ]
  },
  {
   "cell_type": "code",
   "execution_count": 175,
   "metadata": {},
   "outputs": [
    {
     "data": {
      "text/plain": [
       "0   NaN\n",
       "1   NaN\n",
       "2   NaN\n",
       "3   NaN\n",
       "4   NaN\n",
       "dtype: float64"
      ]
     },
     "execution_count": 175,
     "metadata": {},
     "output_type": "execute_result"
    }
   ],
   "source": [
    "new_series = pd.Series([np.nan]*5)\n",
    "new_series"
   ]
  },
  {
   "cell_type": "code",
   "execution_count": 176,
   "metadata": {},
   "outputs": [
    {
     "data": {
      "text/plain": [
       "np.int64(5)"
      ]
     },
     "execution_count": 176,
     "metadata": {},
     "output_type": "execute_result"
    }
   ],
   "source": [
    "new_series.isna().sum()"
   ]
  },
  {
   "cell_type": "code",
   "execution_count": 177,
   "metadata": {},
   "outputs": [
    {
     "data": {
      "text/plain": [
       "0    0.0\n",
       "1    0.0\n",
       "2    0.0\n",
       "3    0.0\n",
       "4    0.0\n",
       "dtype: float64"
      ]
     },
     "execution_count": 177,
     "metadata": {},
     "output_type": "execute_result"
    }
   ],
   "source": [
    "new_series.fillna(0)"
   ]
  },
  {
   "cell_type": "code",
   "execution_count": 178,
   "metadata": {},
   "outputs": [
    {
     "data": {
      "text/plain": [
       "0   NaN\n",
       "1   NaN\n",
       "2   NaN\n",
       "3   NaN\n",
       "4   NaN\n",
       "dtype: float64"
      ]
     },
     "execution_count": 178,
     "metadata": {},
     "output_type": "execute_result"
    }
   ],
   "source": [
    "new_series.fillna(new_series.mean())"
   ]
  },
  {
   "cell_type": "code",
   "execution_count": 179,
   "metadata": {},
   "outputs": [
    {
     "data": {
      "text/plain": [
       "NaN    5\n",
       "Name: count, dtype: int64"
      ]
     },
     "execution_count": 179,
     "metadata": {},
     "output_type": "execute_result"
    }
   ],
   "source": [
    "new_series.value_counts(dropna=False)"
   ]
  },
  {
   "cell_type": "code",
   "execution_count": 180,
   "metadata": {},
   "outputs": [
    {
     "data": {
      "text/plain": [
       "Series([], dtype: float64)"
      ]
     },
     "execution_count": 180,
     "metadata": {},
     "output_type": "execute_result"
    }
   ],
   "source": [
    "new_series.dropna()"
   ]
  },
  {
   "cell_type": "markdown",
   "metadata": {},
   "source": [
    "### Exercise: Dealing with missing data"
   ]
  },
  {
   "cell_type": "code",
   "execution_count": 192,
   "metadata": {},
   "outputs": [
    {
     "data": {
      "text/plain": [
       "date\n",
       "2016-12-20    52.22\n",
       "2016-12-21      NaN\n",
       "2016-12-22    51.98\n",
       "2016-12-23    52.01\n",
       "2016-12-27    52.82\n",
       "              ...  \n",
       "2017-05-09    45.84\n",
       "2017-05-10    47.28\n",
       "2017-05-11    47.81\n",
       "2017-05-12      NaN\n",
       "2017-05-15    48.86\n",
       "Name: oil_prices, Length: 100, dtype: float64"
      ]
     },
     "execution_count": 192,
     "metadata": {},
     "output_type": "execute_result"
    }
   ],
   "source": [
    "# Fill in two values with missing data\n",
    "oil_series = oil_series.where(~oil_series.isin([51.44, 47.83]), pd.NA)\n",
    "oil_series"
   ]
  },
  {
   "cell_type": "code",
   "execution_count": 189,
   "metadata": {},
   "outputs": [
    {
     "data": {
      "text/plain": [
       "np.int64(2)"
      ]
     },
     "execution_count": 189,
     "metadata": {},
     "output_type": "execute_result"
    }
   ],
   "source": [
    "# how many values are missing?\n",
    "oil_series.value_counts(dropna=False)\n",
    "oil_series.isna().sum()\n"
   ]
  },
  {
   "cell_type": "code",
   "execution_count": null,
   "metadata": {},
   "outputs": [
    {
     "data": {
      "text/plain": [
       "date\n",
       "2016-12-20    52.220\n",
       "2016-12-21    52.205\n",
       "2016-12-22    51.980\n",
       "2016-12-23    52.010\n",
       "2016-12-27    52.820\n",
       "               ...  \n",
       "2017-05-09    45.840\n",
       "2017-05-10    47.280\n",
       "2017-05-11    47.810\n",
       "2017-05-12    52.205\n",
       "2017-05-15    48.860\n",
       "Name: oil_prices, Length: 100, dtype: float64"
      ]
     },
     "execution_count": 185,
     "metadata": {},
     "output_type": "execute_result"
    }
   ],
   "source": [
    "# Fill in the missing values with the median\n",
    "oil_series.fillna(oil_series.median())"
   ]
  },
  {
   "cell_type": "code",
   "execution_count": null,
   "metadata": {},
   "outputs": [
    {
     "ename": "SyntaxError",
     "evalue": "invalid syntax (1028967456.py, line 2)",
     "output_type": "error",
     "traceback": [
      "  \u001b[36mCell\u001b[39m\u001b[36m \u001b[39m\u001b[32mIn[193]\u001b[39m\u001b[32m, line 2\u001b[39m\n\u001b[31m    \u001b[39m\u001b[31mdf discount(price):\u001b[39m\n       ^\n\u001b[31mSyntaxError\u001b[39m\u001b[31m:\u001b[39m invalid syntax\n"
     ]
    }
   ],
   "source": [
    "# Create a function to apply a discount\n",
    "df discount(price):\n",
    "    if price > 20:\n",
    "        return round(price * 0.9, 2)\n",
    "    else:\n",
    "    return price\n",
    "\n",
    "clean_wholesale.apply(discount)\n",
    "\n",
    "# Lambda function version\n",
    "clean_wholesale.apply(lamba x: round(x * 0.9, 2) if x > 20 else x) "
   ]
  },
  {
   "cell_type": "code",
   "execution_count": 194,
   "metadata": {},
   "outputs": [
    {
     "data": {
      "text/plain": [
       "0    day 0\n",
       "1    day 1\n",
       "2    day 2\n",
       "3    day 3\n",
       "4    day 4\n",
       "dtype: object"
      ]
     },
     "execution_count": 194,
     "metadata": {},
     "output_type": "execute_result"
    }
   ],
   "source": [
    "string_series"
   ]
  },
  {
   "cell_type": "code",
   "execution_count": null,
   "metadata": {},
   "outputs": [
    {
     "data": {
      "text/plain": [
       "0    0\n",
       "1    1\n",
       "2    2\n",
       "3    3\n",
       "4    4\n",
       "dtype: object"
      ]
     },
     "execution_count": 195,
     "metadata": {},
     "output_type": "execute_result"
    }
   ],
   "source": [
    "# Grab the final string from the series\n",
    "string_series.apply(lambda x: x[-1]) #string_series.str[-1]"
   ]
  },
  {
   "cell_type": "code",
   "execution_count": 198,
   "metadata": {},
   "outputs": [
    {
     "data": {
      "text/plain": [
       "0         Nope\n",
       "1         Nope\n",
       "2    Found it!\n",
       "3         Nope\n",
       "4         Nope\n",
       "dtype: object"
      ]
     },
     "execution_count": 198,
     "metadata": {},
     "output_type": "execute_result"
    }
   ],
   "source": [
    "def search(string, looking_for):\n",
    "    if looking_for in string:\n",
    "        return \"Found it!\"\n",
    "    return \"Nope\"\n",
    "\n",
    "string_series.apply(search, args = ('2'))"
   ]
  },
  {
   "cell_type": "markdown",
   "metadata": {},
   "source": [
    "### Where Methods Practice (do not like these methods in pandas, seem silly compared to NumPy where)"
   ]
  },
  {
   "cell_type": "code",
   "execution_count": null,
   "metadata": {},
   "outputs": [
    {
     "data": {
      "text/plain": [
       "date\n",
       "2016-12-20     Buy\n",
       "2016-12-21    Wait\n",
       "2016-12-22     Buy\n",
       "2016-12-23     Buy\n",
       "2016-12-27     Buy\n",
       "              ... \n",
       "2017-05-09     Buy\n",
       "2017-05-10     Buy\n",
       "2017-05-11     Buy\n",
       "2017-05-12    Wait\n",
       "2017-05-15     Buy\n",
       "Name: oil_prices, Length: 100, dtype: object"
      ]
     },
     "execution_count": 207,
     "metadata": {},
     "output_type": "execute_result"
    }
   ],
   "source": [
    "# Use a lambda function to apply a discount to the oil prices\n",
    "oil_series.apply(lambda x: \"Buy\" if x < oil_series.quantile(.9) else  \"Wait\") \n",
    "\n",
    "# def buy_bool(price, limit):\n",
    "#     if price < limit:\n",
    "#         return \"Buy\"\n",
    "#     else:\n",
    "#         return \"Wait\" \n",
    "# oil_series.apply(buy_bool, args = (oil_series.quantile(.9),))\n"
   ]
  },
  {
   "cell_type": "code",
   "execution_count": null,
   "metadata": {},
   "outputs": [
    {
     "data": {
      "text/plain": [
       "date\n",
       "2016-12-20     Buy\n",
       "2016-12-21    Wait\n",
       "2016-12-22     Buy\n",
       "2016-12-23     Buy\n",
       "2016-12-27     Buy\n",
       "              ... \n",
       "2017-05-09     Buy\n",
       "2017-05-10     Buy\n",
       "2017-05-11     Buy\n",
       "2017-05-12    Wait\n",
       "2017-05-15     Buy\n",
       "Length: 100, dtype: object"
      ]
     },
     "execution_count": 210,
     "metadata": {},
     "output_type": "execute_result"
    }
   ],
   "source": [
    "# Using native functions to do the same thing\n",
    "pd.Series(np.where(oil_series < oil_series.quantile(.9), \"Buy\", \"Wait\"), index = oil_series.index) "
   ]
  },
  {
   "cell_type": "code",
   "execution_count": 213,
   "metadata": {},
   "outputs": [
    {
     "data": {
      "text/plain": [
       "date\n",
       "2016-12-20    46.998\n",
       "2016-12-21       NaN\n",
       "2016-12-22    57.178\n",
       "2016-12-23    57.211\n",
       "2016-12-27    58.102\n",
       "               ...  \n",
       "2017-05-09    50.424\n",
       "2017-05-10    42.552\n",
       "2017-05-11    52.591\n",
       "2017-05-12       NaN\n",
       "2017-05-15    53.746\n",
       "Length: 100, dtype: float64"
      ]
     },
     "execution_count": 213,
     "metadata": {},
     "output_type": "execute_result"
    }
   ],
   "source": [
    "# Fix two final prices, if date is 2016-12-20 or 2017-05-10 multiple price by .9, otherwise return price * 1.1\n",
    "pd.Series(np.where(oil_series.index.isin(['2016-12-20', '2017-05-10']), oil_series * .9, oil_series * 1.1), index = oil_series.index)"
   ]
  },
  {
   "cell_type": "code",
   "execution_count": null,
   "metadata": {},
   "outputs": [],
   "source": []
  }
 ],
 "metadata": {
  "kernelspec": {
   "display_name": ".venv",
   "language": "python",
   "name": "python3"
  },
  "language_info": {
   "codemirror_mode": {
    "name": "ipython",
    "version": 3
   },
   "file_extension": ".py",
   "mimetype": "text/x-python",
   "name": "python",
   "nbconvert_exporter": "python",
   "pygments_lexer": "ipython3",
   "version": "3.13.2"
  }
 },
 "nbformat": 4,
 "nbformat_minor": 2
}
