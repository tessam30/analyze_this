{
 "cells": [
  {
   "cell_type": "code",
   "execution_count": 1,
   "metadata": {},
   "outputs": [],
   "source": [
    "import pandas as pd\n",
    "import numpy as np\n",
    "import os"
   ]
  },
  {
   "cell_type": "code",
   "execution_count": 2,
   "metadata": {},
   "outputs": [],
   "source": [
    "# Set paths\n",
    "# Working from the Scripts folder as the base path\n",
    "exercise_path = '../Python/Exercise Files/Pandas Course Resources/Pandas Course Resources/retail/'"
   ]
  },
  {
   "cell_type": "markdown",
   "metadata": {},
   "source": [
    "### Aggregation\n",
    "`df_data.groupby('col1')[['do_sometthing_col']].mean()` - this will return a data frame, single `[ ]` will return a series"
   ]
  },
  {
   "cell_type": "code",
   "execution_count": 3,
   "metadata": {},
   "outputs": [],
   "source": [
    "# Load transactions data\n",
    "transactions = pd.read_csv(os.path.join(exercise_path, \"transactions.csv\"), parse_dates=['date'])"
   ]
  },
  {
   "cell_type": "code",
   "execution_count": 4,
   "metadata": {},
   "outputs": [
    {
     "data": {
      "application/vnd.microsoft.datawrangler.viewer.v0+json": {
       "columns": [
        {
         "name": "store_nbr",
         "rawType": "int64",
         "type": "integer"
        },
        {
         "name": "transactions",
         "rawType": "int64",
         "type": "integer"
        }
       ],
       "conversionMethod": "pd.DataFrame",
       "ref": "c939cec8-c2f2-402e-b195-7fe229f6b4fb",
       "rows": [
        [
         "44",
         "7273093"
        ],
        [
         "47",
         "6535810"
        ],
        [
         "45",
         "6201115"
        ],
        [
         "46",
         "5990113"
        ],
        [
         "3",
         "5366350"
        ],
        [
         "48",
         "5107785"
        ],
        [
         "8",
         "4637971"
        ],
        [
         "49",
         "4574103"
        ],
        [
         "50",
         "4384444"
        ],
        [
         "11",
         "3972488"
        ]
       ],
       "shape": {
        "columns": 1,
        "rows": 10
       }
      },
      "text/html": [
       "<div>\n",
       "<style scoped>\n",
       "    .dataframe tbody tr th:only-of-type {\n",
       "        vertical-align: middle;\n",
       "    }\n",
       "\n",
       "    .dataframe tbody tr th {\n",
       "        vertical-align: top;\n",
       "    }\n",
       "\n",
       "    .dataframe thead th {\n",
       "        text-align: right;\n",
       "    }\n",
       "</style>\n",
       "<table border=\"1\" class=\"dataframe\">\n",
       "  <thead>\n",
       "    <tr style=\"text-align: right;\">\n",
       "      <th></th>\n",
       "      <th>transactions</th>\n",
       "    </tr>\n",
       "    <tr>\n",
       "      <th>store_nbr</th>\n",
       "      <th></th>\n",
       "    </tr>\n",
       "  </thead>\n",
       "  <tbody>\n",
       "    <tr>\n",
       "      <th>44</th>\n",
       "      <td>7273093</td>\n",
       "    </tr>\n",
       "    <tr>\n",
       "      <th>47</th>\n",
       "      <td>6535810</td>\n",
       "    </tr>\n",
       "    <tr>\n",
       "      <th>45</th>\n",
       "      <td>6201115</td>\n",
       "    </tr>\n",
       "    <tr>\n",
       "      <th>46</th>\n",
       "      <td>5990113</td>\n",
       "    </tr>\n",
       "    <tr>\n",
       "      <th>3</th>\n",
       "      <td>5366350</td>\n",
       "    </tr>\n",
       "    <tr>\n",
       "      <th>48</th>\n",
       "      <td>5107785</td>\n",
       "    </tr>\n",
       "    <tr>\n",
       "      <th>8</th>\n",
       "      <td>4637971</td>\n",
       "    </tr>\n",
       "    <tr>\n",
       "      <th>49</th>\n",
       "      <td>4574103</td>\n",
       "    </tr>\n",
       "    <tr>\n",
       "      <th>50</th>\n",
       "      <td>4384444</td>\n",
       "    </tr>\n",
       "    <tr>\n",
       "      <th>11</th>\n",
       "      <td>3972488</td>\n",
       "    </tr>\n",
       "  </tbody>\n",
       "</table>\n",
       "</div>"
      ],
      "text/plain": [
       "           transactions\n",
       "store_nbr              \n",
       "44              7273093\n",
       "47              6535810\n",
       "45              6201115\n",
       "46              5990113\n",
       "3               5366350\n",
       "48              5107785\n",
       "8               4637971\n",
       "49              4574103\n",
       "50              4384444\n",
       "11              3972488"
      ]
     },
     "execution_count": 4,
     "metadata": {},
     "output_type": "execute_result"
    }
   ],
   "source": [
    "# Group transactions by store and return the top 10 stores\n",
    "transactions.groupby('store_nbr')[['transactions']].sum().sort_values(['transactions'], ascending=False).head(10)"
   ]
  },
  {
   "cell_type": "code",
   "execution_count": 5,
   "metadata": {},
   "outputs": [
    {
     "data": {
      "application/vnd.microsoft.datawrangler.viewer.v0+json": {
       "columns": [
        {
         "name": "index",
         "rawType": "int64",
         "type": "integer"
        },
        {
         "name": "date",
         "rawType": "datetime64[ns]",
         "type": "datetime"
        },
        {
         "name": "store_nbr",
         "rawType": "int64",
         "type": "integer"
        },
        {
         "name": "transactions",
         "rawType": "int64",
         "type": "integer"
        }
       ],
       "conversionMethod": "pd.DataFrame",
       "ref": "024d619f-c9af-4d43-9a53-3d6be8ecc400",
       "rows": [
        [
         "0",
         "2013-01-01 00:00:00",
         "25",
         "770"
        ],
        [
         "1",
         "2013-01-02 00:00:00",
         "1",
         "2111"
        ],
        [
         "2",
         "2013-01-02 00:00:00",
         "2",
         "2358"
        ],
        [
         "3",
         "2013-01-02 00:00:00",
         "3",
         "3487"
        ],
        [
         "4",
         "2013-01-02 00:00:00",
         "4",
         "1922"
        ]
       ],
       "shape": {
        "columns": 3,
        "rows": 5
       }
      },
      "text/html": [
       "<div>\n",
       "<style scoped>\n",
       "    .dataframe tbody tr th:only-of-type {\n",
       "        vertical-align: middle;\n",
       "    }\n",
       "\n",
       "    .dataframe tbody tr th {\n",
       "        vertical-align: top;\n",
       "    }\n",
       "\n",
       "    .dataframe thead th {\n",
       "        text-align: right;\n",
       "    }\n",
       "</style>\n",
       "<table border=\"1\" class=\"dataframe\">\n",
       "  <thead>\n",
       "    <tr style=\"text-align: right;\">\n",
       "      <th></th>\n",
       "      <th>date</th>\n",
       "      <th>store_nbr</th>\n",
       "      <th>transactions</th>\n",
       "    </tr>\n",
       "  </thead>\n",
       "  <tbody>\n",
       "    <tr>\n",
       "      <th>0</th>\n",
       "      <td>2013-01-01</td>\n",
       "      <td>25</td>\n",
       "      <td>770</td>\n",
       "    </tr>\n",
       "    <tr>\n",
       "      <th>1</th>\n",
       "      <td>2013-01-02</td>\n",
       "      <td>1</td>\n",
       "      <td>2111</td>\n",
       "    </tr>\n",
       "    <tr>\n",
       "      <th>2</th>\n",
       "      <td>2013-01-02</td>\n",
       "      <td>2</td>\n",
       "      <td>2358</td>\n",
       "    </tr>\n",
       "    <tr>\n",
       "      <th>3</th>\n",
       "      <td>2013-01-02</td>\n",
       "      <td>3</td>\n",
       "      <td>3487</td>\n",
       "    </tr>\n",
       "    <tr>\n",
       "      <th>4</th>\n",
       "      <td>2013-01-02</td>\n",
       "      <td>4</td>\n",
       "      <td>1922</td>\n",
       "    </tr>\n",
       "  </tbody>\n",
       "</table>\n",
       "</div>"
      ],
      "text/plain": [
       "        date  store_nbr  transactions\n",
       "0 2013-01-01         25           770\n",
       "1 2013-01-02          1          2111\n",
       "2 2013-01-02          2          2358\n",
       "3 2013-01-02          3          3487\n",
       "4 2013-01-02          4          1922"
      ]
     },
     "execution_count": 5,
     "metadata": {},
     "output_type": "execute_result"
    }
   ],
   "source": [
    "transactions.head()"
   ]
  },
  {
   "cell_type": "code",
   "execution_count": 6,
   "metadata": {},
   "outputs": [
    {
     "data": {
      "application/vnd.microsoft.datawrangler.viewer.v0+json": {
       "columns": [
        {
         "name": "index",
         "rawType": "int64",
         "type": "integer"
        },
        {
         "name": "date",
         "rawType": "datetime64[ns]",
         "type": "datetime"
        },
        {
         "name": "store_nbr",
         "rawType": "int64",
         "type": "integer"
        },
        {
         "name": "transactions",
         "rawType": "int64",
         "type": "integer"
        },
        {
         "name": "month",
         "rawType": "int32",
         "type": "integer"
        }
       ],
       "conversionMethod": "pd.DataFrame",
       "ref": "56f76419-27fb-4d19-8095-b3a2a2b28402",
       "rows": [
        [
         "0",
         "2013-01-01 00:00:00",
         "25",
         "770",
         "1"
        ],
        [
         "1",
         "2013-01-02 00:00:00",
         "1",
         "2111",
         "1"
        ],
        [
         "2",
         "2013-01-02 00:00:00",
         "2",
         "2358",
         "1"
        ],
        [
         "3",
         "2013-01-02 00:00:00",
         "3",
         "3487",
         "1"
        ],
        [
         "4",
         "2013-01-02 00:00:00",
         "4",
         "1922",
         "1"
        ]
       ],
       "shape": {
        "columns": 4,
        "rows": 5
       }
      },
      "text/html": [
       "<div>\n",
       "<style scoped>\n",
       "    .dataframe tbody tr th:only-of-type {\n",
       "        vertical-align: middle;\n",
       "    }\n",
       "\n",
       "    .dataframe tbody tr th {\n",
       "        vertical-align: top;\n",
       "    }\n",
       "\n",
       "    .dataframe thead th {\n",
       "        text-align: right;\n",
       "    }\n",
       "</style>\n",
       "<table border=\"1\" class=\"dataframe\">\n",
       "  <thead>\n",
       "    <tr style=\"text-align: right;\">\n",
       "      <th></th>\n",
       "      <th>date</th>\n",
       "      <th>store_nbr</th>\n",
       "      <th>transactions</th>\n",
       "      <th>month</th>\n",
       "    </tr>\n",
       "  </thead>\n",
       "  <tbody>\n",
       "    <tr>\n",
       "      <th>0</th>\n",
       "      <td>2013-01-01</td>\n",
       "      <td>25</td>\n",
       "      <td>770</td>\n",
       "      <td>1</td>\n",
       "    </tr>\n",
       "    <tr>\n",
       "      <th>1</th>\n",
       "      <td>2013-01-02</td>\n",
       "      <td>1</td>\n",
       "      <td>2111</td>\n",
       "      <td>1</td>\n",
       "    </tr>\n",
       "    <tr>\n",
       "      <th>2</th>\n",
       "      <td>2013-01-02</td>\n",
       "      <td>2</td>\n",
       "      <td>2358</td>\n",
       "      <td>1</td>\n",
       "    </tr>\n",
       "    <tr>\n",
       "      <th>3</th>\n",
       "      <td>2013-01-02</td>\n",
       "      <td>3</td>\n",
       "      <td>3487</td>\n",
       "      <td>1</td>\n",
       "    </tr>\n",
       "    <tr>\n",
       "      <th>4</th>\n",
       "      <td>2013-01-02</td>\n",
       "      <td>4</td>\n",
       "      <td>1922</td>\n",
       "      <td>1</td>\n",
       "    </tr>\n",
       "  </tbody>\n",
       "</table>\n",
       "</div>"
      ],
      "text/plain": [
       "        date  store_nbr  transactions  month\n",
       "0 2013-01-01         25           770      1\n",
       "1 2013-01-02          1          2111      1\n",
       "2 2013-01-02          2          2358      1\n",
       "3 2013-01-02          3          3487      1\n",
       "4 2013-01-02          4          1922      1"
      ]
     },
     "execution_count": 6,
     "metadata": {},
     "output_type": "execute_result"
    }
   ],
   "source": [
    "#transactions = transactions.assign(month = transactions.date.dt.month)\n",
    "#transactions.info()\n",
    "\n",
    "transactions[\"month\"] = transactions[\"date\"].dt.month\n",
    "\n",
    "transactions.head()\n",
    "#transactions.groupby(['store_nbr', 'month'])[['transactions']].sum().sort_values(by = ['month', 'transactions'], ascending=[True, False])"
   ]
  },
  {
   "cell_type": "code",
   "execution_count": 7,
   "metadata": {},
   "outputs": [
    {
     "data": {
      "application/vnd.microsoft.datawrangler.viewer.v0+json": {
       "columns": [
        {
         "name": "index",
         "rawType": "int64",
         "type": "integer"
        },
        {
         "name": "store_nbr",
         "rawType": "int64",
         "type": "integer"
        },
        {
         "name": "month",
         "rawType": "int32",
         "type": "integer"
        },
        {
         "name": "transactions",
         "rawType": "int64",
         "type": "integer"
        }
       ],
       "conversionMethod": "pd.DataFrame",
       "ref": "815d534a-33e1-43a1-9487-8f84fb62be4a",
       "rows": [
        [
         "0",
         "44",
         "1",
         "628438"
        ],
        [
         "1",
         "47",
         "1",
         "568824"
        ],
        [
         "2",
         "45",
         "1",
         "538370"
        ],
        [
         "3",
         "46",
         "1",
         "522763"
        ],
        [
         "4",
         "3",
         "1",
         "463260"
        ],
        [
         "5",
         "48",
         "1",
         "439045"
        ],
        [
         "6",
         "8",
         "1",
         "404463"
        ],
        [
         "7",
         "49",
         "1",
         "386589"
        ],
        [
         "8",
         "50",
         "1",
         "372093"
        ],
        [
         "9",
         "11",
         "1",
         "336187"
        ]
       ],
       "shape": {
        "columns": 3,
        "rows": 10
       }
      },
      "text/html": [
       "<div>\n",
       "<style scoped>\n",
       "    .dataframe tbody tr th:only-of-type {\n",
       "        vertical-align: middle;\n",
       "    }\n",
       "\n",
       "    .dataframe tbody tr th {\n",
       "        vertical-align: top;\n",
       "    }\n",
       "\n",
       "    .dataframe thead th {\n",
       "        text-align: right;\n",
       "    }\n",
       "</style>\n",
       "<table border=\"1\" class=\"dataframe\">\n",
       "  <thead>\n",
       "    <tr style=\"text-align: right;\">\n",
       "      <th></th>\n",
       "      <th>store_nbr</th>\n",
       "      <th>month</th>\n",
       "      <th>transactions</th>\n",
       "    </tr>\n",
       "  </thead>\n",
       "  <tbody>\n",
       "    <tr>\n",
       "      <th>0</th>\n",
       "      <td>44</td>\n",
       "      <td>1</td>\n",
       "      <td>628438</td>\n",
       "    </tr>\n",
       "    <tr>\n",
       "      <th>1</th>\n",
       "      <td>47</td>\n",
       "      <td>1</td>\n",
       "      <td>568824</td>\n",
       "    </tr>\n",
       "    <tr>\n",
       "      <th>2</th>\n",
       "      <td>45</td>\n",
       "      <td>1</td>\n",
       "      <td>538370</td>\n",
       "    </tr>\n",
       "    <tr>\n",
       "      <th>3</th>\n",
       "      <td>46</td>\n",
       "      <td>1</td>\n",
       "      <td>522763</td>\n",
       "    </tr>\n",
       "    <tr>\n",
       "      <th>4</th>\n",
       "      <td>3</td>\n",
       "      <td>1</td>\n",
       "      <td>463260</td>\n",
       "    </tr>\n",
       "    <tr>\n",
       "      <th>5</th>\n",
       "      <td>48</td>\n",
       "      <td>1</td>\n",
       "      <td>439045</td>\n",
       "    </tr>\n",
       "    <tr>\n",
       "      <th>6</th>\n",
       "      <td>8</td>\n",
       "      <td>1</td>\n",
       "      <td>404463</td>\n",
       "    </tr>\n",
       "    <tr>\n",
       "      <th>7</th>\n",
       "      <td>49</td>\n",
       "      <td>1</td>\n",
       "      <td>386589</td>\n",
       "    </tr>\n",
       "    <tr>\n",
       "      <th>8</th>\n",
       "      <td>50</td>\n",
       "      <td>1</td>\n",
       "      <td>372093</td>\n",
       "    </tr>\n",
       "    <tr>\n",
       "      <th>9</th>\n",
       "      <td>11</td>\n",
       "      <td>1</td>\n",
       "      <td>336187</td>\n",
       "    </tr>\n",
       "  </tbody>\n",
       "</table>\n",
       "</div>"
      ],
      "text/plain": [
       "   store_nbr  month  transactions\n",
       "0         44      1        628438\n",
       "1         47      1        568824\n",
       "2         45      1        538370\n",
       "3         46      1        522763\n",
       "4          3      1        463260\n",
       "5         48      1        439045\n",
       "6          8      1        404463\n",
       "7         49      1        386589\n",
       "8         50      1        372093\n",
       "9         11      1        336187"
      ]
     },
     "execution_count": 7,
     "metadata": {},
     "output_type": "execute_result"
    }
   ],
   "source": [
    "# Wrap code in parath to have cleaner looking code\n",
    "(transactions\n",
    " .groupby(['store_nbr', 'month'])[['transactions']]\n",
    " .sum()\n",
    " .sort_values(by = ['month', 'transactions'], ascending=[True, False]\n",
    " ).reset_index() # Convert multicolumns to indices)\n",
    ").head(10)"
   ]
  },
  {
   "cell_type": "code",
   "execution_count": 8,
   "metadata": {},
   "outputs": [],
   "source": [
    "\n",
    "grouped = (\n",
    "    transactions.groupby([\"store_nbr\", \"month\"])\n",
    "    .agg({\"transactions\": [\"sum\", \"mean\"]})\n",
    "    .sort_values(by=[\"month\", (\"transactions\", \"sum\")], ascending=[True, False])\n",
    ")"
   ]
  },
  {
   "cell_type": "code",
   "execution_count": 9,
   "metadata": {},
   "outputs": [
    {
     "data": {
      "application/vnd.microsoft.datawrangler.viewer.v0+json": {
       "columns": [
        {
         "name": "('store_nbr', 'month')",
         "rawType": "object",
         "type": "unknown"
        },
        {
         "name": "('transactions', 'sum')",
         "rawType": "int64",
         "type": "integer"
        },
        {
         "name": "('transactions', 'mean')",
         "rawType": "float64",
         "type": "float"
        }
       ],
       "conversionMethod": "pd.DataFrame",
       "ref": "1bb8a332-eb67-46ec-adaa-dea823510d43",
       "rows": [
        [
         "(np.int64(44), np.int32(1))",
         "628438",
         "4246.2027027027025"
        ],
        [
         "(np.int64(47), np.int32(1))",
         "568824",
         "3843.4054054054054"
        ],
        [
         "(np.int64(45), np.int32(1))",
         "538370",
         "3637.635135135135"
        ],
        [
         "(np.int64(46), np.int32(1))",
         "522763",
         "3532.1824324324325"
        ],
        [
         "(np.int64(3), np.int32(1))",
         "463260",
         "3151.4285714285716"
        ],
        [
         "(np.int64(48), np.int32(1))",
         "439045",
         "2966.5202702702704"
        ],
        [
         "(np.int64(8), np.int32(1))",
         "404463",
         "2751.4489795918366"
        ],
        [
         "(np.int64(49), np.int32(1))",
         "386589",
         "2612.087837837838"
        ],
        [
         "(np.int64(50), np.int32(1))",
         "372093",
         "2514.141891891892"
        ],
        [
         "(np.int64(11), np.int32(1))",
         "336187",
         "2286.986394557823"
        ],
        [
         "(np.int64(34), np.int32(1))",
         "335677",
         "2252.8657718120803"
        ],
        [
         "(np.int64(24), np.int32(1))",
         "335585",
         "2252.248322147651"
        ],
        [
         "(np.int64(9), np.int32(1))",
         "300431",
         "2043.748299319728"
        ],
        [
         "(np.int64(2), np.int32(1))",
         "284134",
         "1919.8243243243244"
        ],
        [
         "(np.int64(6), np.int32(1))",
         "267133",
         "1817.2312925170068"
        ],
        [
         "(np.int64(7), np.int32(1))",
         "257875",
         "1754.251700680272"
        ],
        [
         "(np.int64(38), np.int32(1))",
         "252013",
         "1691.3624161073826"
        ],
        [
         "(np.int64(51), np.int32(1))",
         "250549",
         "1692.8986486486488"
        ],
        [
         "(np.int64(1), np.int32(1))",
         "229203",
         "1548.668918918919"
        ],
        [
         "(np.int64(37), np.int32(1))",
         "222196",
         "1491.248322147651"
        ],
        [
         "(np.int64(4), np.int32(1))",
         "222075",
         "1510.7142857142858"
        ],
        [
         "(np.int64(27), np.int32(1))",
         "212498",
         "1435.7972972972973"
        ],
        [
         "(np.int64(14), np.int32(1))",
         "208793",
         "1420.360544217687"
        ],
        [
         "(np.int64(5), np.int32(1))",
         "208297",
         "1407.412162162162"
        ],
        [
         "(np.int64(39), np.int32(1))",
         "206066",
         "1382.993288590604"
        ],
        [
         "(np.int64(31), np.int32(1))",
         "198640",
         "1333.1543624161075"
        ],
        [
         "(np.int64(17), np.int32(1))",
         "194972",
         "1326.3401360544217"
        ],
        [
         "(np.int64(18), np.int32(1))",
         "189990",
         "1292.4489795918366"
        ],
        [
         "(np.int64(15), np.int32(1))",
         "189555",
         "1289.4897959183672"
        ],
        [
         "(np.int64(43), np.int32(1))",
         "188657",
         "1274.7094594594594"
        ],
        [
         "(np.int64(40), np.int32(1))",
         "185490",
         "1253.3108108108108"
        ],
        [
         "(np.int64(12), np.int32(1))",
         "174254",
         "1185.4013605442176"
        ],
        [
         "(np.int64(19), np.int32(1))",
         "173844",
         "1182.6122448979593"
        ],
        [
         "(np.int64(28), np.int32(1))",
         "161205",
         "1089.222972972973"
        ],
        [
         "(np.int64(23), np.int32(1))",
         "159106",
         "1067.8255033557048"
        ],
        [
         "(np.int64(33), np.int32(1))",
         "152561",
         "1023.8993288590603"
        ],
        [
         "(np.int64(41), np.int32(1))",
         "148431",
         "1002.9121621621622"
        ],
        [
         "(np.int64(25), np.int32(1))",
         "148086",
         "967.8823529411765"
        ],
        [
         "(np.int64(10), np.int32(1))",
         "142458",
         "969.1020408163265"
        ],
        [
         "(np.int64(13), np.int32(1))",
         "132243",
         "899.6122448979592"
        ],
        [
         "(np.int64(16), np.int32(1))",
         "128584",
         "868.8108108108108"
        ],
        [
         "(np.int64(36), np.int32(1))",
         "127152",
         "1068.5042016806722"
        ],
        [
         "(np.int64(54), np.int32(1))",
         "123821",
         "836.6283783783783"
        ],
        [
         "(np.int64(30), np.int32(1))",
         "104677",
         "702.5302013422819"
        ],
        [
         "(np.int64(35), np.int32(1))",
         "96297",
         "650.6554054054054"
        ],
        [
         "(np.int64(26), np.int32(1))",
         "93923",
         "630.3557046979865"
        ],
        [
         "(np.int64(32), np.int32(1))",
         "91403",
         "617.5878378378378"
        ],
        [
         "(np.int64(20), np.int32(1))",
         "85439",
         "1473.0862068965516"
        ],
        [
         "(np.int64(53), np.int32(1))",
         "81800",
         "929.5454545454545"
        ],
        [
         "(np.int64(42), np.int32(1))",
         "64758",
         "1116.5172413793102"
        ]
       ],
       "shape": {
        "columns": 2,
        "rows": 641
       }
      },
      "text/html": [
       "<div>\n",
       "<style scoped>\n",
       "    .dataframe tbody tr th:only-of-type {\n",
       "        vertical-align: middle;\n",
       "    }\n",
       "\n",
       "    .dataframe tbody tr th {\n",
       "        vertical-align: top;\n",
       "    }\n",
       "\n",
       "    .dataframe thead tr th {\n",
       "        text-align: left;\n",
       "    }\n",
       "\n",
       "    .dataframe thead tr:last-of-type th {\n",
       "        text-align: right;\n",
       "    }\n",
       "</style>\n",
       "<table border=\"1\" class=\"dataframe\">\n",
       "  <thead>\n",
       "    <tr>\n",
       "      <th></th>\n",
       "      <th></th>\n",
       "      <th colspan=\"2\" halign=\"left\">transactions</th>\n",
       "    </tr>\n",
       "    <tr>\n",
       "      <th></th>\n",
       "      <th></th>\n",
       "      <th>sum</th>\n",
       "      <th>mean</th>\n",
       "    </tr>\n",
       "    <tr>\n",
       "      <th>store_nbr</th>\n",
       "      <th>month</th>\n",
       "      <th></th>\n",
       "      <th></th>\n",
       "    </tr>\n",
       "  </thead>\n",
       "  <tbody>\n",
       "    <tr>\n",
       "      <th>44</th>\n",
       "      <th>1</th>\n",
       "      <td>628438</td>\n",
       "      <td>4246.202703</td>\n",
       "    </tr>\n",
       "    <tr>\n",
       "      <th>47</th>\n",
       "      <th>1</th>\n",
       "      <td>568824</td>\n",
       "      <td>3843.405405</td>\n",
       "    </tr>\n",
       "    <tr>\n",
       "      <th>45</th>\n",
       "      <th>1</th>\n",
       "      <td>538370</td>\n",
       "      <td>3637.635135</td>\n",
       "    </tr>\n",
       "    <tr>\n",
       "      <th>46</th>\n",
       "      <th>1</th>\n",
       "      <td>522763</td>\n",
       "      <td>3532.182432</td>\n",
       "    </tr>\n",
       "    <tr>\n",
       "      <th>3</th>\n",
       "      <th>1</th>\n",
       "      <td>463260</td>\n",
       "      <td>3151.428571</td>\n",
       "    </tr>\n",
       "    <tr>\n",
       "      <th>...</th>\n",
       "      <th>...</th>\n",
       "      <td>...</td>\n",
       "      <td>...</td>\n",
       "    </tr>\n",
       "    <tr>\n",
       "      <th>32</th>\n",
       "      <th>12</th>\n",
       "      <td>86167</td>\n",
       "      <td>718.058333</td>\n",
       "    </tr>\n",
       "    <tr>\n",
       "      <th>21</th>\n",
       "      <th>12</th>\n",
       "      <td>84128</td>\n",
       "      <td>1402.133333</td>\n",
       "    </tr>\n",
       "    <tr>\n",
       "      <th>42</th>\n",
       "      <th>12</th>\n",
       "      <td>76741</td>\n",
       "      <td>1279.016667</td>\n",
       "    </tr>\n",
       "    <tr>\n",
       "      <th>29</th>\n",
       "      <th>12</th>\n",
       "      <td>76627</td>\n",
       "      <td>1277.116667</td>\n",
       "    </tr>\n",
       "    <tr>\n",
       "      <th>22</th>\n",
       "      <th>12</th>\n",
       "      <td>50650</td>\n",
       "      <td>844.166667</td>\n",
       "    </tr>\n",
       "  </tbody>\n",
       "</table>\n",
       "<p>641 rows × 2 columns</p>\n",
       "</div>"
      ],
      "text/plain": [
       "                transactions             \n",
       "                         sum         mean\n",
       "store_nbr month                          \n",
       "44        1           628438  4246.202703\n",
       "47        1           568824  3843.405405\n",
       "45        1           538370  3637.635135\n",
       "46        1           522763  3532.182432\n",
       "3         1           463260  3151.428571\n",
       "...                      ...          ...\n",
       "32        12           86167   718.058333\n",
       "21        12           84128  1402.133333\n",
       "42        12           76741  1279.016667\n",
       "29        12           76627  1277.116667\n",
       "22        12           50650   844.166667\n",
       "\n",
       "[641 rows x 2 columns]"
      ]
     },
     "execution_count": 9,
     "metadata": {},
     "output_type": "execute_result"
    }
   ],
   "source": [
    "grouped"
   ]
  },
  {
   "cell_type": "code",
   "execution_count": 10,
   "metadata": {},
   "outputs": [
    {
     "data": {
      "application/vnd.microsoft.datawrangler.viewer.v0+json": {
       "columns": [
        {
         "name": "index",
         "rawType": "int64",
         "type": "integer"
        },
        {
         "name": "('store_nbr', '')",
         "rawType": "int64",
         "type": "integer"
        },
        {
         "name": "('month', '')",
         "rawType": "int32",
         "type": "integer"
        },
        {
         "name": "('transactions', 'sum')",
         "rawType": "int64",
         "type": "integer"
        },
        {
         "name": "('transactions', 'mean')",
         "rawType": "float64",
         "type": "float"
        }
       ],
       "conversionMethod": "pd.DataFrame",
       "ref": "dae43a89-1a1f-4eee-b070-588287353f19",
       "rows": [
        [
         "0",
         "44",
         "1",
         "628438",
         "4246.2027027027025"
        ],
        [
         "1",
         "47",
         "1",
         "568824",
         "3843.4054054054054"
        ],
        [
         "2",
         "45",
         "1",
         "538370",
         "3637.635135135135"
        ],
        [
         "3",
         "46",
         "1",
         "522763",
         "3532.1824324324325"
        ],
        [
         "4",
         "3",
         "1",
         "463260",
         "3151.4285714285716"
        ],
        [
         "5",
         "48",
         "1",
         "439045",
         "2966.5202702702704"
        ],
        [
         "6",
         "8",
         "1",
         "404463",
         "2751.4489795918366"
        ],
        [
         "7",
         "49",
         "1",
         "386589",
         "2612.087837837838"
        ],
        [
         "8",
         "50",
         "1",
         "372093",
         "2514.141891891892"
        ],
        [
         "9",
         "11",
         "1",
         "336187",
         "2286.986394557823"
        ],
        [
         "10",
         "34",
         "1",
         "335677",
         "2252.8657718120803"
        ],
        [
         "11",
         "24",
         "1",
         "335585",
         "2252.248322147651"
        ],
        [
         "12",
         "9",
         "1",
         "300431",
         "2043.748299319728"
        ],
        [
         "13",
         "2",
         "1",
         "284134",
         "1919.8243243243244"
        ],
        [
         "14",
         "6",
         "1",
         "267133",
         "1817.2312925170068"
        ],
        [
         "15",
         "7",
         "1",
         "257875",
         "1754.251700680272"
        ],
        [
         "16",
         "38",
         "1",
         "252013",
         "1691.3624161073826"
        ],
        [
         "17",
         "51",
         "1",
         "250549",
         "1692.8986486486488"
        ],
        [
         "18",
         "1",
         "1",
         "229203",
         "1548.668918918919"
        ],
        [
         "19",
         "37",
         "1",
         "222196",
         "1491.248322147651"
        ],
        [
         "20",
         "4",
         "1",
         "222075",
         "1510.7142857142858"
        ],
        [
         "21",
         "27",
         "1",
         "212498",
         "1435.7972972972973"
        ],
        [
         "22",
         "14",
         "1",
         "208793",
         "1420.360544217687"
        ],
        [
         "23",
         "5",
         "1",
         "208297",
         "1407.412162162162"
        ],
        [
         "24",
         "39",
         "1",
         "206066",
         "1382.993288590604"
        ],
        [
         "25",
         "31",
         "1",
         "198640",
         "1333.1543624161075"
        ],
        [
         "26",
         "17",
         "1",
         "194972",
         "1326.3401360544217"
        ],
        [
         "27",
         "18",
         "1",
         "189990",
         "1292.4489795918366"
        ],
        [
         "28",
         "15",
         "1",
         "189555",
         "1289.4897959183672"
        ],
        [
         "29",
         "43",
         "1",
         "188657",
         "1274.7094594594594"
        ],
        [
         "30",
         "40",
         "1",
         "185490",
         "1253.3108108108108"
        ],
        [
         "31",
         "12",
         "1",
         "174254",
         "1185.4013605442176"
        ],
        [
         "32",
         "19",
         "1",
         "173844",
         "1182.6122448979593"
        ],
        [
         "33",
         "28",
         "1",
         "161205",
         "1089.222972972973"
        ],
        [
         "34",
         "23",
         "1",
         "159106",
         "1067.8255033557048"
        ],
        [
         "35",
         "33",
         "1",
         "152561",
         "1023.8993288590603"
        ],
        [
         "36",
         "41",
         "1",
         "148431",
         "1002.9121621621622"
        ],
        [
         "37",
         "25",
         "1",
         "148086",
         "967.8823529411765"
        ],
        [
         "38",
         "10",
         "1",
         "142458",
         "969.1020408163265"
        ],
        [
         "39",
         "13",
         "1",
         "132243",
         "899.6122448979592"
        ],
        [
         "40",
         "16",
         "1",
         "128584",
         "868.8108108108108"
        ],
        [
         "41",
         "36",
         "1",
         "127152",
         "1068.5042016806722"
        ],
        [
         "42",
         "54",
         "1",
         "123821",
         "836.6283783783783"
        ],
        [
         "43",
         "30",
         "1",
         "104677",
         "702.5302013422819"
        ],
        [
         "44",
         "35",
         "1",
         "96297",
         "650.6554054054054"
        ],
        [
         "45",
         "26",
         "1",
         "93923",
         "630.3557046979865"
        ],
        [
         "46",
         "32",
         "1",
         "91403",
         "617.5878378378378"
        ],
        [
         "47",
         "20",
         "1",
         "85439",
         "1473.0862068965516"
        ],
        [
         "48",
         "53",
         "1",
         "81800",
         "929.5454545454545"
        ],
        [
         "49",
         "42",
         "1",
         "64758",
         "1116.5172413793102"
        ]
       ],
       "shape": {
        "columns": 4,
        "rows": 641
       }
      },
      "text/html": [
       "<div>\n",
       "<style scoped>\n",
       "    .dataframe tbody tr th:only-of-type {\n",
       "        vertical-align: middle;\n",
       "    }\n",
       "\n",
       "    .dataframe tbody tr th {\n",
       "        vertical-align: top;\n",
       "    }\n",
       "\n",
       "    .dataframe thead tr th {\n",
       "        text-align: left;\n",
       "    }\n",
       "</style>\n",
       "<table border=\"1\" class=\"dataframe\">\n",
       "  <thead>\n",
       "    <tr>\n",
       "      <th></th>\n",
       "      <th>store_nbr</th>\n",
       "      <th>month</th>\n",
       "      <th colspan=\"2\" halign=\"left\">transactions</th>\n",
       "    </tr>\n",
       "    <tr>\n",
       "      <th></th>\n",
       "      <th></th>\n",
       "      <th></th>\n",
       "      <th>sum</th>\n",
       "      <th>mean</th>\n",
       "    </tr>\n",
       "  </thead>\n",
       "  <tbody>\n",
       "    <tr>\n",
       "      <th>0</th>\n",
       "      <td>44</td>\n",
       "      <td>1</td>\n",
       "      <td>628438</td>\n",
       "      <td>4246.202703</td>\n",
       "    </tr>\n",
       "    <tr>\n",
       "      <th>1</th>\n",
       "      <td>47</td>\n",
       "      <td>1</td>\n",
       "      <td>568824</td>\n",
       "      <td>3843.405405</td>\n",
       "    </tr>\n",
       "    <tr>\n",
       "      <th>2</th>\n",
       "      <td>45</td>\n",
       "      <td>1</td>\n",
       "      <td>538370</td>\n",
       "      <td>3637.635135</td>\n",
       "    </tr>\n",
       "    <tr>\n",
       "      <th>3</th>\n",
       "      <td>46</td>\n",
       "      <td>1</td>\n",
       "      <td>522763</td>\n",
       "      <td>3532.182432</td>\n",
       "    </tr>\n",
       "    <tr>\n",
       "      <th>4</th>\n",
       "      <td>3</td>\n",
       "      <td>1</td>\n",
       "      <td>463260</td>\n",
       "      <td>3151.428571</td>\n",
       "    </tr>\n",
       "    <tr>\n",
       "      <th>...</th>\n",
       "      <td>...</td>\n",
       "      <td>...</td>\n",
       "      <td>...</td>\n",
       "      <td>...</td>\n",
       "    </tr>\n",
       "    <tr>\n",
       "      <th>636</th>\n",
       "      <td>32</td>\n",
       "      <td>12</td>\n",
       "      <td>86167</td>\n",
       "      <td>718.058333</td>\n",
       "    </tr>\n",
       "    <tr>\n",
       "      <th>637</th>\n",
       "      <td>21</td>\n",
       "      <td>12</td>\n",
       "      <td>84128</td>\n",
       "      <td>1402.133333</td>\n",
       "    </tr>\n",
       "    <tr>\n",
       "      <th>638</th>\n",
       "      <td>42</td>\n",
       "      <td>12</td>\n",
       "      <td>76741</td>\n",
       "      <td>1279.016667</td>\n",
       "    </tr>\n",
       "    <tr>\n",
       "      <th>639</th>\n",
       "      <td>29</td>\n",
       "      <td>12</td>\n",
       "      <td>76627</td>\n",
       "      <td>1277.116667</td>\n",
       "    </tr>\n",
       "    <tr>\n",
       "      <th>640</th>\n",
       "      <td>22</td>\n",
       "      <td>12</td>\n",
       "      <td>50650</td>\n",
       "      <td>844.166667</td>\n",
       "    </tr>\n",
       "  </tbody>\n",
       "</table>\n",
       "<p>641 rows × 4 columns</p>\n",
       "</div>"
      ],
      "text/plain": [
       "    store_nbr month transactions             \n",
       "                             sum         mean\n",
       "0          44     1       628438  4246.202703\n",
       "1          47     1       568824  3843.405405\n",
       "2          45     1       538370  3637.635135\n",
       "3          46     1       522763  3532.182432\n",
       "4           3     1       463260  3151.428571\n",
       "..        ...   ...          ...          ...\n",
       "636        32    12        86167   718.058333\n",
       "637        21    12        84128  1402.133333\n",
       "638        42    12        76741  1279.016667\n",
       "639        29    12        76627  1277.116667\n",
       "640        22    12        50650   844.166667\n",
       "\n",
       "[641 rows x 4 columns]"
      ]
     },
     "execution_count": 10,
     "metadata": {},
     "output_type": "execute_result"
    }
   ],
   "source": [
    "grouped.reset_index()"
   ]
  },
  {
   "cell_type": "code",
   "execution_count": 11,
   "metadata": {},
   "outputs": [
    {
     "data": {
      "text/plain": [
       "transactions  sum     463260.000000\n",
       "              mean      3151.428571\n",
       "Name: (3, 1), dtype: float64"
      ]
     },
     "execution_count": 11,
     "metadata": {},
     "output_type": "execute_result"
    }
   ],
   "source": [
    "grouped.loc[(3, 1)]"
   ]
  },
  {
   "cell_type": "code",
   "execution_count": 12,
   "metadata": {},
   "outputs": [
    {
     "data": {
      "text/plain": [
       "transactions  sum     463260.000000\n",
       "              mean      3151.428571\n",
       "Name: (3, 1), dtype: float64"
      ]
     },
     "execution_count": 12,
     "metadata": {},
     "output_type": "execute_result"
    }
   ],
   "source": [
    "grouped.iloc[4]"
   ]
  },
  {
   "cell_type": "code",
   "execution_count": 13,
   "metadata": {},
   "outputs": [
    {
     "data": {
      "application/vnd.microsoft.datawrangler.viewer.v0+json": {
       "columns": [
        {
         "name": "index",
         "rawType": "int64",
         "type": "integer"
        },
        {
         "name": "store_nbr",
         "rawType": "int64",
         "type": "integer"
        },
        {
         "name": "month",
         "rawType": "int32",
         "type": "integer"
        },
        {
         "name": "sum",
         "rawType": "int64",
         "type": "integer"
        },
        {
         "name": "mean",
         "rawType": "float64",
         "type": "float"
        }
       ],
       "conversionMethod": "pd.DataFrame",
       "ref": "64009955-1995-4b7f-8153-af56adab1c23",
       "rows": [
        [
         "0",
         "44",
         "1",
         "628438",
         "4246.2027027027025"
        ],
        [
         "1",
         "47",
         "1",
         "568824",
         "3843.4054054054054"
        ],
        [
         "2",
         "45",
         "1",
         "538370",
         "3637.635135135135"
        ],
        [
         "3",
         "46",
         "1",
         "522763",
         "3532.1824324324325"
        ],
        [
         "4",
         "3",
         "1",
         "463260",
         "3151.4285714285716"
        ],
        [
         "5",
         "48",
         "1",
         "439045",
         "2966.5202702702704"
        ],
        [
         "6",
         "8",
         "1",
         "404463",
         "2751.4489795918366"
        ],
        [
         "7",
         "49",
         "1",
         "386589",
         "2612.087837837838"
        ],
        [
         "8",
         "50",
         "1",
         "372093",
         "2514.141891891892"
        ],
        [
         "9",
         "11",
         "1",
         "336187",
         "2286.986394557823"
        ]
       ],
       "shape": {
        "columns": 4,
        "rows": 10
       }
      },
      "text/html": [
       "<div>\n",
       "<style scoped>\n",
       "    .dataframe tbody tr th:only-of-type {\n",
       "        vertical-align: middle;\n",
       "    }\n",
       "\n",
       "    .dataframe tbody tr th {\n",
       "        vertical-align: top;\n",
       "    }\n",
       "\n",
       "    .dataframe thead th {\n",
       "        text-align: right;\n",
       "    }\n",
       "</style>\n",
       "<table border=\"1\" class=\"dataframe\">\n",
       "  <thead>\n",
       "    <tr style=\"text-align: right;\">\n",
       "      <th></th>\n",
       "      <th>store_nbr</th>\n",
       "      <th>month</th>\n",
       "      <th>sum</th>\n",
       "      <th>mean</th>\n",
       "    </tr>\n",
       "  </thead>\n",
       "  <tbody>\n",
       "    <tr>\n",
       "      <th>0</th>\n",
       "      <td>44</td>\n",
       "      <td>1</td>\n",
       "      <td>628438</td>\n",
       "      <td>4246.202703</td>\n",
       "    </tr>\n",
       "    <tr>\n",
       "      <th>1</th>\n",
       "      <td>47</td>\n",
       "      <td>1</td>\n",
       "      <td>568824</td>\n",
       "      <td>3843.405405</td>\n",
       "    </tr>\n",
       "    <tr>\n",
       "      <th>2</th>\n",
       "      <td>45</td>\n",
       "      <td>1</td>\n",
       "      <td>538370</td>\n",
       "      <td>3637.635135</td>\n",
       "    </tr>\n",
       "    <tr>\n",
       "      <th>3</th>\n",
       "      <td>46</td>\n",
       "      <td>1</td>\n",
       "      <td>522763</td>\n",
       "      <td>3532.182432</td>\n",
       "    </tr>\n",
       "    <tr>\n",
       "      <th>4</th>\n",
       "      <td>3</td>\n",
       "      <td>1</td>\n",
       "      <td>463260</td>\n",
       "      <td>3151.428571</td>\n",
       "    </tr>\n",
       "    <tr>\n",
       "      <th>5</th>\n",
       "      <td>48</td>\n",
       "      <td>1</td>\n",
       "      <td>439045</td>\n",
       "      <td>2966.520270</td>\n",
       "    </tr>\n",
       "    <tr>\n",
       "      <th>6</th>\n",
       "      <td>8</td>\n",
       "      <td>1</td>\n",
       "      <td>404463</td>\n",
       "      <td>2751.448980</td>\n",
       "    </tr>\n",
       "    <tr>\n",
       "      <th>7</th>\n",
       "      <td>49</td>\n",
       "      <td>1</td>\n",
       "      <td>386589</td>\n",
       "      <td>2612.087838</td>\n",
       "    </tr>\n",
       "    <tr>\n",
       "      <th>8</th>\n",
       "      <td>50</td>\n",
       "      <td>1</td>\n",
       "      <td>372093</td>\n",
       "      <td>2514.141892</td>\n",
       "    </tr>\n",
       "    <tr>\n",
       "      <th>9</th>\n",
       "      <td>11</td>\n",
       "      <td>1</td>\n",
       "      <td>336187</td>\n",
       "      <td>2286.986395</td>\n",
       "    </tr>\n",
       "  </tbody>\n",
       "</table>\n",
       "</div>"
      ],
      "text/plain": [
       "   store_nbr  month     sum         mean\n",
       "0         44      1  628438  4246.202703\n",
       "1         47      1  568824  3843.405405\n",
       "2         45      1  538370  3637.635135\n",
       "3         46      1  522763  3532.182432\n",
       "4          3      1  463260  3151.428571\n",
       "5         48      1  439045  2966.520270\n",
       "6          8      1  404463  2751.448980\n",
       "7         49      1  386589  2612.087838\n",
       "8         50      1  372093  2514.141892\n",
       "9         11      1  336187  2286.986395"
      ]
     },
     "execution_count": 13,
     "metadata": {},
     "output_type": "execute_result"
    }
   ],
   "source": [
    "grouped.droplevel(0, axis = 1).reset_index().head(10)"
   ]
  },
  {
   "cell_type": "code",
   "execution_count": 14,
   "metadata": {},
   "outputs": [
    {
     "data": {
      "application/vnd.microsoft.datawrangler.viewer.v0+json": {
       "columns": [
        {
         "name": "index",
         "rawType": "int64",
         "type": "integer"
        },
        {
         "name": "store_nbr",
         "rawType": "int64",
         "type": "integer"
        },
        {
         "name": "month",
         "rawType": "int32",
         "type": "integer"
        },
        {
         "name": "sum",
         "rawType": "int64",
         "type": "integer"
        },
        {
         "name": "mean",
         "rawType": "float64",
         "type": "float"
        }
       ],
       "conversionMethod": "pd.DataFrame",
       "ref": "7bf1b8bb-6d7d-42a9-834c-2a8aefa1ffb1",
       "rows": [
        [
         "0",
         "44",
         "1",
         "628438",
         "4246.2027027027025"
        ],
        [
         "1",
         "47",
         "1",
         "568824",
         "3843.4054054054054"
        ],
        [
         "2",
         "45",
         "1",
         "538370",
         "3637.635135135135"
        ],
        [
         "3",
         "46",
         "1",
         "522763",
         "3532.1824324324325"
        ],
        [
         "4",
         "3",
         "1",
         "463260",
         "3151.4285714285716"
        ],
        [
         "5",
         "48",
         "1",
         "439045",
         "2966.5202702702704"
        ],
        [
         "6",
         "8",
         "1",
         "404463",
         "2751.4489795918366"
        ],
        [
         "7",
         "49",
         "1",
         "386589",
         "2612.087837837838"
        ],
        [
         "8",
         "50",
         "1",
         "372093",
         "2514.141891891892"
        ],
        [
         "9",
         "11",
         "1",
         "336187",
         "2286.986394557823"
        ]
       ],
       "shape": {
        "columns": 4,
        "rows": 10
       }
      },
      "text/html": [
       "<div>\n",
       "<style scoped>\n",
       "    .dataframe tbody tr th:only-of-type {\n",
       "        vertical-align: middle;\n",
       "    }\n",
       "\n",
       "    .dataframe tbody tr th {\n",
       "        vertical-align: top;\n",
       "    }\n",
       "\n",
       "    .dataframe thead th {\n",
       "        text-align: right;\n",
       "    }\n",
       "</style>\n",
       "<table border=\"1\" class=\"dataframe\">\n",
       "  <thead>\n",
       "    <tr style=\"text-align: right;\">\n",
       "      <th></th>\n",
       "      <th>store_nbr</th>\n",
       "      <th>month</th>\n",
       "      <th>sum</th>\n",
       "      <th>mean</th>\n",
       "    </tr>\n",
       "  </thead>\n",
       "  <tbody>\n",
       "    <tr>\n",
       "      <th>0</th>\n",
       "      <td>44</td>\n",
       "      <td>1</td>\n",
       "      <td>628438</td>\n",
       "      <td>4246.202703</td>\n",
       "    </tr>\n",
       "    <tr>\n",
       "      <th>1</th>\n",
       "      <td>47</td>\n",
       "      <td>1</td>\n",
       "      <td>568824</td>\n",
       "      <td>3843.405405</td>\n",
       "    </tr>\n",
       "    <tr>\n",
       "      <th>2</th>\n",
       "      <td>45</td>\n",
       "      <td>1</td>\n",
       "      <td>538370</td>\n",
       "      <td>3637.635135</td>\n",
       "    </tr>\n",
       "    <tr>\n",
       "      <th>3</th>\n",
       "      <td>46</td>\n",
       "      <td>1</td>\n",
       "      <td>522763</td>\n",
       "      <td>3532.182432</td>\n",
       "    </tr>\n",
       "    <tr>\n",
       "      <th>4</th>\n",
       "      <td>3</td>\n",
       "      <td>1</td>\n",
       "      <td>463260</td>\n",
       "      <td>3151.428571</td>\n",
       "    </tr>\n",
       "    <tr>\n",
       "      <th>5</th>\n",
       "      <td>48</td>\n",
       "      <td>1</td>\n",
       "      <td>439045</td>\n",
       "      <td>2966.520270</td>\n",
       "    </tr>\n",
       "    <tr>\n",
       "      <th>6</th>\n",
       "      <td>8</td>\n",
       "      <td>1</td>\n",
       "      <td>404463</td>\n",
       "      <td>2751.448980</td>\n",
       "    </tr>\n",
       "    <tr>\n",
       "      <th>7</th>\n",
       "      <td>49</td>\n",
       "      <td>1</td>\n",
       "      <td>386589</td>\n",
       "      <td>2612.087838</td>\n",
       "    </tr>\n",
       "    <tr>\n",
       "      <th>8</th>\n",
       "      <td>50</td>\n",
       "      <td>1</td>\n",
       "      <td>372093</td>\n",
       "      <td>2514.141892</td>\n",
       "    </tr>\n",
       "    <tr>\n",
       "      <th>9</th>\n",
       "      <td>11</td>\n",
       "      <td>1</td>\n",
       "      <td>336187</td>\n",
       "      <td>2286.986395</td>\n",
       "    </tr>\n",
       "  </tbody>\n",
       "</table>\n",
       "</div>"
      ],
      "text/plain": [
       "   store_nbr  month     sum         mean\n",
       "0         44      1  628438  4246.202703\n",
       "1         47      1  568824  3843.405405\n",
       "2         45      1  538370  3637.635135\n",
       "3         46      1  522763  3532.182432\n",
       "4          3      1  463260  3151.428571\n",
       "5         48      1  439045  2966.520270\n",
       "6          8      1  404463  2751.448980\n",
       "7         49      1  386589  2612.087838\n",
       "8         50      1  372093  2514.141892\n",
       "9         11      1  336187  2286.986395"
      ]
     },
     "execution_count": 14,
     "metadata": {},
     "output_type": "execute_result"
    }
   ],
   "source": [
    "grouped.droplevel(0, axis = 1).reset_index().head(10)"
   ]
  },
  {
   "cell_type": "markdown",
   "metadata": {},
   "source": [
    "### .agg() Method"
   ]
  },
  {
   "cell_type": "code",
   "execution_count": 15,
   "metadata": {},
   "outputs": [
    {
     "data": {
      "application/vnd.microsoft.datawrangler.viewer.v0+json": {
       "columns": [
        {
         "name": "index",
         "rawType": "int64",
         "type": "integer"
        },
        {
         "name": "date",
         "rawType": "datetime64[ns]",
         "type": "datetime"
        },
        {
         "name": "store_nbr",
         "rawType": "int64",
         "type": "integer"
        },
        {
         "name": "transactions",
         "rawType": "int64",
         "type": "integer"
        },
        {
         "name": "month",
         "rawType": "int32",
         "type": "integer"
        },
        {
         "name": "target_pct",
         "rawType": "float64",
         "type": "float"
        },
        {
         "name": "met_target",
         "rawType": "bool",
         "type": "boolean"
        },
        {
         "name": "bonus_payable",
         "rawType": "int64",
         "type": "integer"
        },
        {
         "name": "day_of_week",
         "rawType": "int32",
         "type": "integer"
        }
       ],
       "conversionMethod": "pd.DataFrame",
       "ref": "083c46f6-7819-42af-be20-8ff1ae10acbd",
       "rows": [
        [
         "0",
         "2013-01-01 00:00:00",
         "25",
         "770",
         "1",
         "0.308",
         "False",
         "0",
         "1"
        ],
        [
         "1",
         "2013-01-02 00:00:00",
         "1",
         "2111",
         "1",
         "0.8444",
         "False",
         "0",
         "2"
        ],
        [
         "2",
         "2013-01-02 00:00:00",
         "2",
         "2358",
         "1",
         "0.9432",
         "False",
         "0",
         "2"
        ],
        [
         "3",
         "2013-01-02 00:00:00",
         "3",
         "3487",
         "1",
         "1.3948",
         "True",
         "100",
         "2"
        ],
        [
         "4",
         "2013-01-02 00:00:00",
         "4",
         "1922",
         "1",
         "0.7688",
         "False",
         "0",
         "2"
        ]
       ],
       "shape": {
        "columns": 8,
        "rows": 5
       }
      },
      "text/html": [
       "<div>\n",
       "<style scoped>\n",
       "    .dataframe tbody tr th:only-of-type {\n",
       "        vertical-align: middle;\n",
       "    }\n",
       "\n",
       "    .dataframe tbody tr th {\n",
       "        vertical-align: top;\n",
       "    }\n",
       "\n",
       "    .dataframe thead th {\n",
       "        text-align: right;\n",
       "    }\n",
       "</style>\n",
       "<table border=\"1\" class=\"dataframe\">\n",
       "  <thead>\n",
       "    <tr style=\"text-align: right;\">\n",
       "      <th></th>\n",
       "      <th>date</th>\n",
       "      <th>store_nbr</th>\n",
       "      <th>transactions</th>\n",
       "      <th>month</th>\n",
       "      <th>target_pct</th>\n",
       "      <th>met_target</th>\n",
       "      <th>bonus_payable</th>\n",
       "      <th>day_of_week</th>\n",
       "    </tr>\n",
       "  </thead>\n",
       "  <tbody>\n",
       "    <tr>\n",
       "      <th>0</th>\n",
       "      <td>2013-01-01</td>\n",
       "      <td>25</td>\n",
       "      <td>770</td>\n",
       "      <td>1</td>\n",
       "      <td>0.3080</td>\n",
       "      <td>False</td>\n",
       "      <td>0</td>\n",
       "      <td>1</td>\n",
       "    </tr>\n",
       "    <tr>\n",
       "      <th>1</th>\n",
       "      <td>2013-01-02</td>\n",
       "      <td>1</td>\n",
       "      <td>2111</td>\n",
       "      <td>1</td>\n",
       "      <td>0.8444</td>\n",
       "      <td>False</td>\n",
       "      <td>0</td>\n",
       "      <td>2</td>\n",
       "    </tr>\n",
       "    <tr>\n",
       "      <th>2</th>\n",
       "      <td>2013-01-02</td>\n",
       "      <td>2</td>\n",
       "      <td>2358</td>\n",
       "      <td>1</td>\n",
       "      <td>0.9432</td>\n",
       "      <td>False</td>\n",
       "      <td>0</td>\n",
       "      <td>2</td>\n",
       "    </tr>\n",
       "    <tr>\n",
       "      <th>3</th>\n",
       "      <td>2013-01-02</td>\n",
       "      <td>3</td>\n",
       "      <td>3487</td>\n",
       "      <td>1</td>\n",
       "      <td>1.3948</td>\n",
       "      <td>True</td>\n",
       "      <td>100</td>\n",
       "      <td>2</td>\n",
       "    </tr>\n",
       "    <tr>\n",
       "      <th>4</th>\n",
       "      <td>2013-01-02</td>\n",
       "      <td>4</td>\n",
       "      <td>1922</td>\n",
       "      <td>1</td>\n",
       "      <td>0.7688</td>\n",
       "      <td>False</td>\n",
       "      <td>0</td>\n",
       "      <td>2</td>\n",
       "    </tr>\n",
       "  </tbody>\n",
       "</table>\n",
       "</div>"
      ],
      "text/plain": [
       "        date  store_nbr  transactions  month  target_pct  met_target  \\\n",
       "0 2013-01-01         25           770      1      0.3080       False   \n",
       "1 2013-01-02          1          2111      1      0.8444       False   \n",
       "2 2013-01-02          2          2358      1      0.9432       False   \n",
       "3 2013-01-02          3          3487      1      1.3948        True   \n",
       "4 2013-01-02          4          1922      1      0.7688       False   \n",
       "\n",
       "   bonus_payable  day_of_week  \n",
       "0              0            1  \n",
       "1              0            2  \n",
       "2              0            2  \n",
       "3            100            2  \n",
       "4              0            2  "
      ]
     },
     "execution_count": 15,
     "metadata": {},
     "output_type": "execute_result"
    }
   ],
   "source": [
    "\n",
    "# Recreate table from section 3\n",
    "transactions = transactions.assign(\n",
    "    target_pct=transactions[\"transactions\"] / 2500,\n",
    "    met_target=(transactions[\"transactions\"] / 2500) >= 1,\n",
    "    bonus_payable=((transactions[\"transactions\"] / 2500) >= 1) * 100,\n",
    "    month=transactions.date.dt.month,\n",
    "    day_of_week=transactions.date.dt.dayofweek,\n",
    ")\n",
    "\n",
    "transactions.head()\n"
   ]
  },
  {
   "cell_type": "code",
   "execution_count": 16,
   "metadata": {},
   "outputs": [
    {
     "data": {
      "application/vnd.microsoft.datawrangler.viewer.v0+json": {
       "columns": [
        {
         "name": "index",
         "rawType": "int64",
         "type": "integer"
        },
        {
         "name": "store_nbr",
         "rawType": "int64",
         "type": "integer"
        },
        {
         "name": "met_target",
         "rawType": "float64",
         "type": "float"
        },
        {
         "name": "bonus_payable",
         "rawType": "int64",
         "type": "integer"
        }
       ],
       "conversionMethod": "pd.DataFrame",
       "ref": "59fd5551-3be7-49ae-8321-a3cc8d4dc14f",
       "rows": [
        [
         "46",
         "47",
         "0.9994036970781157",
         "167600"
        ],
        [
         "43",
         "44",
         "0.9988073941562313",
         "167500"
        ],
        [
         "44",
         "45",
         "0.9976147883124628",
         "167300"
        ],
        [
         "2",
         "3",
         "0.9982100238663485",
         "167300"
        ],
        [
         "45",
         "46",
         "0.9892665474060823",
         "165900"
        ],
        [
         "7",
         "8",
         "0.8884248210023866",
         "148900"
        ],
        [
         "47",
         "48",
         "0.6905187835420393",
         "115800"
        ],
        [
         "48",
         "49",
         "0.6374478234943352",
         "106900"
        ],
        [
         "49",
         "50",
         "0.4531902206320811",
         "76000"
        ],
        [
         "10",
         "11",
         "0.29653937947494036",
         "49700"
        ],
        [
         "33",
         "34",
         "0.21752085816448152",
         "36500"
        ],
        [
         "23",
         "24",
         "0.17501585288522511",
         "27600"
        ],
        [
         "8",
         "9",
         "0.10083532219570406",
         "16900"
        ],
        [
         "37",
         "38",
         "0.041120381406436236",
         "6900"
        ],
        [
         "51",
         "52",
         "0.3220338983050847",
         "3800"
        ],
        [
         "50",
         "51",
         "0.02146690518783542",
         "3600"
        ],
        [
         "5",
         "6",
         "0.018496420047732696",
         "3100"
        ],
        [
         "1",
         "2",
         "0.0172927847346452",
         "2900"
        ],
        [
         "24",
         "25",
         "0.01671826625386997",
         "2700"
        ],
        [
         "19",
         "20",
         "0.022002200220022004",
         "2000"
        ],
        [
         "30",
         "31",
         "0.0077473182359952325",
         "1300"
        ],
        [
         "3",
         "4",
         "0.007756563245823389",
         "1300"
        ],
        [
         "6",
         "7",
         "0.007164179104477612",
         "1200"
        ],
        [
         "4",
         "5",
         "0.00655933214072749",
         "1100"
        ],
        [
         "0",
         "1",
         "0.0065632458233890216",
         "1100"
        ],
        [
         "36",
         "37",
         "0.005363528009535161",
         "900"
        ],
        [
         "20",
         "21",
         "0.009358288770053475",
         "700"
        ],
        [
         "38",
         "39",
         "0.003575685339690107",
         "600"
        ],
        [
         "16",
         "17",
         "0.0023894862604540022",
         "400"
        ],
        [
         "52",
         "53",
         "0.002570694087403599",
         "300"
        ],
        [
         "42",
         "43",
         "0.0005980861244019139",
         "100"
        ],
        [
         "13",
         "14",
         "0.0006105006105006105",
         "100"
        ],
        [
         "17",
         "18",
         "0.0006385696040868455",
         "100"
        ],
        [
         "35",
         "36",
         "0.0006447453255963894",
         "100"
        ],
        [
         "28",
         "29",
         "0.0011441647597254005",
         "100"
        ],
        [
         "9",
         "10",
         "0.0",
         "0"
        ],
        [
         "11",
         "12",
         "0.0",
         "0"
        ],
        [
         "12",
         "13",
         "0.0",
         "0"
        ],
        [
         "14",
         "15",
         "0.0",
         "0"
        ],
        [
         "15",
         "16",
         "0.0",
         "0"
        ],
        [
         "18",
         "19",
         "0.0",
         "0"
        ],
        [
         "21",
         "22",
         "0.0",
         "0"
        ],
        [
         "22",
         "23",
         "0.0",
         "0"
        ],
        [
         "25",
         "26",
         "0.0",
         "0"
        ],
        [
         "26",
         "27",
         "0.0",
         "0"
        ],
        [
         "27",
         "28",
         "0.0",
         "0"
        ],
        [
         "29",
         "30",
         "0.0",
         "0"
        ],
        [
         "31",
         "32",
         "0.0",
         "0"
        ],
        [
         "32",
         "33",
         "0.0",
         "0"
        ],
        [
         "34",
         "35",
         "0.0",
         "0"
        ]
       ],
       "shape": {
        "columns": 3,
        "rows": 54
       }
      },
      "text/html": [
       "<div>\n",
       "<style scoped>\n",
       "    .dataframe tbody tr th:only-of-type {\n",
       "        vertical-align: middle;\n",
       "    }\n",
       "\n",
       "    .dataframe tbody tr th {\n",
       "        vertical-align: top;\n",
       "    }\n",
       "\n",
       "    .dataframe thead th {\n",
       "        text-align: right;\n",
       "    }\n",
       "</style>\n",
       "<table border=\"1\" class=\"dataframe\">\n",
       "  <thead>\n",
       "    <tr style=\"text-align: right;\">\n",
       "      <th></th>\n",
       "      <th>store_nbr</th>\n",
       "      <th>met_target</th>\n",
       "      <th>bonus_payable</th>\n",
       "    </tr>\n",
       "  </thead>\n",
       "  <tbody>\n",
       "    <tr>\n",
       "      <th>46</th>\n",
       "      <td>47</td>\n",
       "      <td>0.999404</td>\n",
       "      <td>167600</td>\n",
       "    </tr>\n",
       "    <tr>\n",
       "      <th>43</th>\n",
       "      <td>44</td>\n",
       "      <td>0.998807</td>\n",
       "      <td>167500</td>\n",
       "    </tr>\n",
       "    <tr>\n",
       "      <th>44</th>\n",
       "      <td>45</td>\n",
       "      <td>0.997615</td>\n",
       "      <td>167300</td>\n",
       "    </tr>\n",
       "    <tr>\n",
       "      <th>2</th>\n",
       "      <td>3</td>\n",
       "      <td>0.998210</td>\n",
       "      <td>167300</td>\n",
       "    </tr>\n",
       "    <tr>\n",
       "      <th>45</th>\n",
       "      <td>46</td>\n",
       "      <td>0.989267</td>\n",
       "      <td>165900</td>\n",
       "    </tr>\n",
       "    <tr>\n",
       "      <th>7</th>\n",
       "      <td>8</td>\n",
       "      <td>0.888425</td>\n",
       "      <td>148900</td>\n",
       "    </tr>\n",
       "    <tr>\n",
       "      <th>47</th>\n",
       "      <td>48</td>\n",
       "      <td>0.690519</td>\n",
       "      <td>115800</td>\n",
       "    </tr>\n",
       "    <tr>\n",
       "      <th>48</th>\n",
       "      <td>49</td>\n",
       "      <td>0.637448</td>\n",
       "      <td>106900</td>\n",
       "    </tr>\n",
       "    <tr>\n",
       "      <th>49</th>\n",
       "      <td>50</td>\n",
       "      <td>0.453190</td>\n",
       "      <td>76000</td>\n",
       "    </tr>\n",
       "    <tr>\n",
       "      <th>10</th>\n",
       "      <td>11</td>\n",
       "      <td>0.296539</td>\n",
       "      <td>49700</td>\n",
       "    </tr>\n",
       "    <tr>\n",
       "      <th>33</th>\n",
       "      <td>34</td>\n",
       "      <td>0.217521</td>\n",
       "      <td>36500</td>\n",
       "    </tr>\n",
       "    <tr>\n",
       "      <th>23</th>\n",
       "      <td>24</td>\n",
       "      <td>0.175016</td>\n",
       "      <td>27600</td>\n",
       "    </tr>\n",
       "    <tr>\n",
       "      <th>8</th>\n",
       "      <td>9</td>\n",
       "      <td>0.100835</td>\n",
       "      <td>16900</td>\n",
       "    </tr>\n",
       "    <tr>\n",
       "      <th>37</th>\n",
       "      <td>38</td>\n",
       "      <td>0.041120</td>\n",
       "      <td>6900</td>\n",
       "    </tr>\n",
       "    <tr>\n",
       "      <th>51</th>\n",
       "      <td>52</td>\n",
       "      <td>0.322034</td>\n",
       "      <td>3800</td>\n",
       "    </tr>\n",
       "    <tr>\n",
       "      <th>50</th>\n",
       "      <td>51</td>\n",
       "      <td>0.021467</td>\n",
       "      <td>3600</td>\n",
       "    </tr>\n",
       "    <tr>\n",
       "      <th>5</th>\n",
       "      <td>6</td>\n",
       "      <td>0.018496</td>\n",
       "      <td>3100</td>\n",
       "    </tr>\n",
       "    <tr>\n",
       "      <th>1</th>\n",
       "      <td>2</td>\n",
       "      <td>0.017293</td>\n",
       "      <td>2900</td>\n",
       "    </tr>\n",
       "    <tr>\n",
       "      <th>24</th>\n",
       "      <td>25</td>\n",
       "      <td>0.016718</td>\n",
       "      <td>2700</td>\n",
       "    </tr>\n",
       "    <tr>\n",
       "      <th>19</th>\n",
       "      <td>20</td>\n",
       "      <td>0.022002</td>\n",
       "      <td>2000</td>\n",
       "    </tr>\n",
       "    <tr>\n",
       "      <th>30</th>\n",
       "      <td>31</td>\n",
       "      <td>0.007747</td>\n",
       "      <td>1300</td>\n",
       "    </tr>\n",
       "    <tr>\n",
       "      <th>3</th>\n",
       "      <td>4</td>\n",
       "      <td>0.007757</td>\n",
       "      <td>1300</td>\n",
       "    </tr>\n",
       "    <tr>\n",
       "      <th>6</th>\n",
       "      <td>7</td>\n",
       "      <td>0.007164</td>\n",
       "      <td>1200</td>\n",
       "    </tr>\n",
       "    <tr>\n",
       "      <th>4</th>\n",
       "      <td>5</td>\n",
       "      <td>0.006559</td>\n",
       "      <td>1100</td>\n",
       "    </tr>\n",
       "    <tr>\n",
       "      <th>0</th>\n",
       "      <td>1</td>\n",
       "      <td>0.006563</td>\n",
       "      <td>1100</td>\n",
       "    </tr>\n",
       "    <tr>\n",
       "      <th>36</th>\n",
       "      <td>37</td>\n",
       "      <td>0.005364</td>\n",
       "      <td>900</td>\n",
       "    </tr>\n",
       "    <tr>\n",
       "      <th>20</th>\n",
       "      <td>21</td>\n",
       "      <td>0.009358</td>\n",
       "      <td>700</td>\n",
       "    </tr>\n",
       "    <tr>\n",
       "      <th>38</th>\n",
       "      <td>39</td>\n",
       "      <td>0.003576</td>\n",
       "      <td>600</td>\n",
       "    </tr>\n",
       "    <tr>\n",
       "      <th>16</th>\n",
       "      <td>17</td>\n",
       "      <td>0.002389</td>\n",
       "      <td>400</td>\n",
       "    </tr>\n",
       "    <tr>\n",
       "      <th>52</th>\n",
       "      <td>53</td>\n",
       "      <td>0.002571</td>\n",
       "      <td>300</td>\n",
       "    </tr>\n",
       "    <tr>\n",
       "      <th>42</th>\n",
       "      <td>43</td>\n",
       "      <td>0.000598</td>\n",
       "      <td>100</td>\n",
       "    </tr>\n",
       "    <tr>\n",
       "      <th>13</th>\n",
       "      <td>14</td>\n",
       "      <td>0.000611</td>\n",
       "      <td>100</td>\n",
       "    </tr>\n",
       "    <tr>\n",
       "      <th>17</th>\n",
       "      <td>18</td>\n",
       "      <td>0.000639</td>\n",
       "      <td>100</td>\n",
       "    </tr>\n",
       "    <tr>\n",
       "      <th>35</th>\n",
       "      <td>36</td>\n",
       "      <td>0.000645</td>\n",
       "      <td>100</td>\n",
       "    </tr>\n",
       "    <tr>\n",
       "      <th>28</th>\n",
       "      <td>29</td>\n",
       "      <td>0.001144</td>\n",
       "      <td>100</td>\n",
       "    </tr>\n",
       "    <tr>\n",
       "      <th>9</th>\n",
       "      <td>10</td>\n",
       "      <td>0.000000</td>\n",
       "      <td>0</td>\n",
       "    </tr>\n",
       "    <tr>\n",
       "      <th>11</th>\n",
       "      <td>12</td>\n",
       "      <td>0.000000</td>\n",
       "      <td>0</td>\n",
       "    </tr>\n",
       "    <tr>\n",
       "      <th>12</th>\n",
       "      <td>13</td>\n",
       "      <td>0.000000</td>\n",
       "      <td>0</td>\n",
       "    </tr>\n",
       "    <tr>\n",
       "      <th>14</th>\n",
       "      <td>15</td>\n",
       "      <td>0.000000</td>\n",
       "      <td>0</td>\n",
       "    </tr>\n",
       "    <tr>\n",
       "      <th>15</th>\n",
       "      <td>16</td>\n",
       "      <td>0.000000</td>\n",
       "      <td>0</td>\n",
       "    </tr>\n",
       "    <tr>\n",
       "      <th>18</th>\n",
       "      <td>19</td>\n",
       "      <td>0.000000</td>\n",
       "      <td>0</td>\n",
       "    </tr>\n",
       "    <tr>\n",
       "      <th>21</th>\n",
       "      <td>22</td>\n",
       "      <td>0.000000</td>\n",
       "      <td>0</td>\n",
       "    </tr>\n",
       "    <tr>\n",
       "      <th>22</th>\n",
       "      <td>23</td>\n",
       "      <td>0.000000</td>\n",
       "      <td>0</td>\n",
       "    </tr>\n",
       "    <tr>\n",
       "      <th>25</th>\n",
       "      <td>26</td>\n",
       "      <td>0.000000</td>\n",
       "      <td>0</td>\n",
       "    </tr>\n",
       "    <tr>\n",
       "      <th>26</th>\n",
       "      <td>27</td>\n",
       "      <td>0.000000</td>\n",
       "      <td>0</td>\n",
       "    </tr>\n",
       "    <tr>\n",
       "      <th>27</th>\n",
       "      <td>28</td>\n",
       "      <td>0.000000</td>\n",
       "      <td>0</td>\n",
       "    </tr>\n",
       "    <tr>\n",
       "      <th>29</th>\n",
       "      <td>30</td>\n",
       "      <td>0.000000</td>\n",
       "      <td>0</td>\n",
       "    </tr>\n",
       "    <tr>\n",
       "      <th>31</th>\n",
       "      <td>32</td>\n",
       "      <td>0.000000</td>\n",
       "      <td>0</td>\n",
       "    </tr>\n",
       "    <tr>\n",
       "      <th>32</th>\n",
       "      <td>33</td>\n",
       "      <td>0.000000</td>\n",
       "      <td>0</td>\n",
       "    </tr>\n",
       "    <tr>\n",
       "      <th>34</th>\n",
       "      <td>35</td>\n",
       "      <td>0.000000</td>\n",
       "      <td>0</td>\n",
       "    </tr>\n",
       "    <tr>\n",
       "      <th>39</th>\n",
       "      <td>40</td>\n",
       "      <td>0.000000</td>\n",
       "      <td>0</td>\n",
       "    </tr>\n",
       "    <tr>\n",
       "      <th>40</th>\n",
       "      <td>41</td>\n",
       "      <td>0.000000</td>\n",
       "      <td>0</td>\n",
       "    </tr>\n",
       "    <tr>\n",
       "      <th>41</th>\n",
       "      <td>42</td>\n",
       "      <td>0.000000</td>\n",
       "      <td>0</td>\n",
       "    </tr>\n",
       "    <tr>\n",
       "      <th>53</th>\n",
       "      <td>54</td>\n",
       "      <td>0.000000</td>\n",
       "      <td>0</td>\n",
       "    </tr>\n",
       "  </tbody>\n",
       "</table>\n",
       "</div>"
      ],
      "text/plain": [
       "    store_nbr  met_target  bonus_payable\n",
       "46         47    0.999404         167600\n",
       "43         44    0.998807         167500\n",
       "44         45    0.997615         167300\n",
       "2           3    0.998210         167300\n",
       "45         46    0.989267         165900\n",
       "7           8    0.888425         148900\n",
       "47         48    0.690519         115800\n",
       "48         49    0.637448         106900\n",
       "49         50    0.453190          76000\n",
       "10         11    0.296539          49700\n",
       "33         34    0.217521          36500\n",
       "23         24    0.175016          27600\n",
       "8           9    0.100835          16900\n",
       "37         38    0.041120           6900\n",
       "51         52    0.322034           3800\n",
       "50         51    0.021467           3600\n",
       "5           6    0.018496           3100\n",
       "1           2    0.017293           2900\n",
       "24         25    0.016718           2700\n",
       "19         20    0.022002           2000\n",
       "30         31    0.007747           1300\n",
       "3           4    0.007757           1300\n",
       "6           7    0.007164           1200\n",
       "4           5    0.006559           1100\n",
       "0           1    0.006563           1100\n",
       "36         37    0.005364            900\n",
       "20         21    0.009358            700\n",
       "38         39    0.003576            600\n",
       "16         17    0.002389            400\n",
       "52         53    0.002571            300\n",
       "42         43    0.000598            100\n",
       "13         14    0.000611            100\n",
       "17         18    0.000639            100\n",
       "35         36    0.000645            100\n",
       "28         29    0.001144            100\n",
       "9          10    0.000000              0\n",
       "11         12    0.000000              0\n",
       "12         13    0.000000              0\n",
       "14         15    0.000000              0\n",
       "15         16    0.000000              0\n",
       "18         19    0.000000              0\n",
       "21         22    0.000000              0\n",
       "22         23    0.000000              0\n",
       "25         26    0.000000              0\n",
       "26         27    0.000000              0\n",
       "27         28    0.000000              0\n",
       "29         30    0.000000              0\n",
       "31         32    0.000000              0\n",
       "32         33    0.000000              0\n",
       "34         35    0.000000              0\n",
       "39         40    0.000000              0\n",
       "40         41    0.000000              0\n",
       "41         42    0.000000              0\n",
       "53         54    0.000000              0"
      ]
     },
     "execution_count": 16,
     "metadata": {},
     "output_type": "execute_result"
    }
   ],
   "source": [
    "# Create some target tables. # Average number of days each store hit the target\n",
    "(transactions.groupby(['store_nbr'])\n",
    " .agg(met_target = ('met_target', 'mean'), bonus_payable = ('bonus_payable', 'sum'))\n",
    " .reset_index()\n",
    " .sort_values(['bonus_payable', 'met_target'], ascending=[False, True])\n",
    ")\n"
   ]
  },
  {
   "cell_type": "code",
   "execution_count": 17,
   "metadata": {},
   "outputs": [
    {
     "data": {
      "application/vnd.microsoft.datawrangler.viewer.v0+json": {
       "columns": [
        {
         "name": "index",
         "rawType": "int64",
         "type": "integer"
        },
        {
         "name": "month",
         "rawType": "int32",
         "type": "integer"
        },
        {
         "name": "met_target",
         "rawType": "float64",
         "type": "float"
        },
        {
         "name": "bonus_payable",
         "rawType": "int64",
         "type": "integer"
        }
       ],
       "conversionMethod": "pd.DataFrame",
       "ref": "b9a926f3-59a0-422a-abfd-203acff1d671",
       "rows": [
        [
         "11",
         "12",
         "0.25564034505640343",
         "154100"
        ],
        [
         "4",
         "5",
         "0.1707917584553583",
         "131800"
        ],
        [
         "2",
         "3",
         "0.16946068875893439",
         "130400"
        ],
        [
         "3",
         "4",
         "0.17446865751950497",
         "129700"
        ],
        [
         "6",
         "7",
         "0.16248552682362022",
         "126300"
        ],
        [
         "5",
         "6",
         "0.16170608557002392",
         "121700"
        ],
        [
         "1",
         "2",
         "0.17423049391553327",
         "121700"
        ],
        [
         "7",
         "8",
         "0.1741888968997837",
         "120800"
        ],
        [
         "0",
         "1",
         "0.16372347707049967",
         "119600"
        ],
        [
         "10",
         "11",
         "0.16394262841894597",
         "98300"
        ],
        [
         "9",
         "10",
         "0.15844956211482322",
         "97700"
        ],
        [
         "8",
         "9",
         "0.16228070175438597",
         "96200"
        ]
       ],
       "shape": {
        "columns": 3,
        "rows": 12
       }
      },
      "text/html": [
       "<div>\n",
       "<style scoped>\n",
       "    .dataframe tbody tr th:only-of-type {\n",
       "        vertical-align: middle;\n",
       "    }\n",
       "\n",
       "    .dataframe tbody tr th {\n",
       "        vertical-align: top;\n",
       "    }\n",
       "\n",
       "    .dataframe thead th {\n",
       "        text-align: right;\n",
       "    }\n",
       "</style>\n",
       "<table border=\"1\" class=\"dataframe\">\n",
       "  <thead>\n",
       "    <tr style=\"text-align: right;\">\n",
       "      <th></th>\n",
       "      <th>month</th>\n",
       "      <th>met_target</th>\n",
       "      <th>bonus_payable</th>\n",
       "    </tr>\n",
       "  </thead>\n",
       "  <tbody>\n",
       "    <tr>\n",
       "      <th>11</th>\n",
       "      <td>12</td>\n",
       "      <td>0.255640</td>\n",
       "      <td>154100</td>\n",
       "    </tr>\n",
       "    <tr>\n",
       "      <th>4</th>\n",
       "      <td>5</td>\n",
       "      <td>0.170792</td>\n",
       "      <td>131800</td>\n",
       "    </tr>\n",
       "    <tr>\n",
       "      <th>2</th>\n",
       "      <td>3</td>\n",
       "      <td>0.169461</td>\n",
       "      <td>130400</td>\n",
       "    </tr>\n",
       "    <tr>\n",
       "      <th>3</th>\n",
       "      <td>4</td>\n",
       "      <td>0.174469</td>\n",
       "      <td>129700</td>\n",
       "    </tr>\n",
       "    <tr>\n",
       "      <th>6</th>\n",
       "      <td>7</td>\n",
       "      <td>0.162486</td>\n",
       "      <td>126300</td>\n",
       "    </tr>\n",
       "    <tr>\n",
       "      <th>5</th>\n",
       "      <td>6</td>\n",
       "      <td>0.161706</td>\n",
       "      <td>121700</td>\n",
       "    </tr>\n",
       "    <tr>\n",
       "      <th>1</th>\n",
       "      <td>2</td>\n",
       "      <td>0.174230</td>\n",
       "      <td>121700</td>\n",
       "    </tr>\n",
       "    <tr>\n",
       "      <th>7</th>\n",
       "      <td>8</td>\n",
       "      <td>0.174189</td>\n",
       "      <td>120800</td>\n",
       "    </tr>\n",
       "    <tr>\n",
       "      <th>0</th>\n",
       "      <td>1</td>\n",
       "      <td>0.163723</td>\n",
       "      <td>119600</td>\n",
       "    </tr>\n",
       "    <tr>\n",
       "      <th>10</th>\n",
       "      <td>11</td>\n",
       "      <td>0.163943</td>\n",
       "      <td>98300</td>\n",
       "    </tr>\n",
       "    <tr>\n",
       "      <th>9</th>\n",
       "      <td>10</td>\n",
       "      <td>0.158450</td>\n",
       "      <td>97700</td>\n",
       "    </tr>\n",
       "    <tr>\n",
       "      <th>8</th>\n",
       "      <td>9</td>\n",
       "      <td>0.162281</td>\n",
       "      <td>96200</td>\n",
       "    </tr>\n",
       "  </tbody>\n",
       "</table>\n",
       "</div>"
      ],
      "text/plain": [
       "    month  met_target  bonus_payable\n",
       "11     12    0.255640         154100\n",
       "4       5    0.170792         131800\n",
       "2       3    0.169461         130400\n",
       "3       4    0.174469         129700\n",
       "6       7    0.162486         126300\n",
       "5       6    0.161706         121700\n",
       "1       2    0.174230         121700\n",
       "7       8    0.174189         120800\n",
       "0       1    0.163723         119600\n",
       "10     11    0.163943          98300\n",
       "9      10    0.158450          97700\n",
       "8       9    0.162281          96200"
      ]
     },
     "execution_count": 17,
     "metadata": {},
     "output_type": "execute_result"
    }
   ],
   "source": [
    "# Create some target tables. # Average number of days each store hit the target\n",
    "(transactions.groupby(['month'])\n",
    " .agg(met_target = ('met_target', 'mean'), bonus_payable = ('bonus_payable', 'sum'))\n",
    " .reset_index()\n",
    " .sort_values(['bonus_payable', 'met_target'], ascending=[False, True])\n",
    ")"
   ]
  },
  {
   "cell_type": "code",
   "execution_count": 18,
   "metadata": {},
   "outputs": [
    {
     "data": {
      "application/vnd.microsoft.datawrangler.viewer.v0+json": {
       "columns": [
        {
         "name": "index",
         "rawType": "int64",
         "type": "integer"
        },
        {
         "name": "day_of_week",
         "rawType": "int32",
         "type": "integer"
        },
        {
         "name": "met_target",
         "rawType": "float64",
         "type": "float"
        },
        {
         "name": "bonus_payable",
         "rawType": "int64",
         "type": "integer"
        }
       ],
       "conversionMethod": "pd.DataFrame",
       "ref": "afec0e20-cef4-4f19-879f-f2c31a11353b",
       "rows": [
        [
         "5",
         "5",
         "0.2222036867128201",
         "266400"
        ],
        [
         "6",
         "6",
         "0.20400067521944631",
         "241700"
        ],
        [
         "4",
         "4",
         "0.17900663921337928",
         "213000"
        ],
        [
         "0",
         "0",
         "0.16021406472113053",
         "191600"
        ],
        [
         "2",
         "2",
         "0.16057166876839007",
         "191000"
        ],
        [
         "1",
         "1",
         "0.14629876625541846",
         "175500"
        ],
        [
         "3",
         "3",
         "0.1420769618551504",
         "169100"
        ]
       ],
       "shape": {
        "columns": 3,
        "rows": 7
       }
      },
      "text/html": [
       "<div>\n",
       "<style scoped>\n",
       "    .dataframe tbody tr th:only-of-type {\n",
       "        vertical-align: middle;\n",
       "    }\n",
       "\n",
       "    .dataframe tbody tr th {\n",
       "        vertical-align: top;\n",
       "    }\n",
       "\n",
       "    .dataframe thead th {\n",
       "        text-align: right;\n",
       "    }\n",
       "</style>\n",
       "<table border=\"1\" class=\"dataframe\">\n",
       "  <thead>\n",
       "    <tr style=\"text-align: right;\">\n",
       "      <th></th>\n",
       "      <th>day_of_week</th>\n",
       "      <th>met_target</th>\n",
       "      <th>bonus_payable</th>\n",
       "    </tr>\n",
       "  </thead>\n",
       "  <tbody>\n",
       "    <tr>\n",
       "      <th>5</th>\n",
       "      <td>5</td>\n",
       "      <td>0.222204</td>\n",
       "      <td>266400</td>\n",
       "    </tr>\n",
       "    <tr>\n",
       "      <th>6</th>\n",
       "      <td>6</td>\n",
       "      <td>0.204001</td>\n",
       "      <td>241700</td>\n",
       "    </tr>\n",
       "    <tr>\n",
       "      <th>4</th>\n",
       "      <td>4</td>\n",
       "      <td>0.179007</td>\n",
       "      <td>213000</td>\n",
       "    </tr>\n",
       "    <tr>\n",
       "      <th>0</th>\n",
       "      <td>0</td>\n",
       "      <td>0.160214</td>\n",
       "      <td>191600</td>\n",
       "    </tr>\n",
       "    <tr>\n",
       "      <th>2</th>\n",
       "      <td>2</td>\n",
       "      <td>0.160572</td>\n",
       "      <td>191000</td>\n",
       "    </tr>\n",
       "    <tr>\n",
       "      <th>1</th>\n",
       "      <td>1</td>\n",
       "      <td>0.146299</td>\n",
       "      <td>175500</td>\n",
       "    </tr>\n",
       "    <tr>\n",
       "      <th>3</th>\n",
       "      <td>3</td>\n",
       "      <td>0.142077</td>\n",
       "      <td>169100</td>\n",
       "    </tr>\n",
       "  </tbody>\n",
       "</table>\n",
       "</div>"
      ],
      "text/plain": [
       "   day_of_week  met_target  bonus_payable\n",
       "5            5    0.222204         266400\n",
       "6            6    0.204001         241700\n",
       "4            4    0.179007         213000\n",
       "0            0    0.160214         191600\n",
       "2            2    0.160572         191000\n",
       "1            1    0.146299         175500\n",
       "3            3    0.142077         169100"
      ]
     },
     "execution_count": 18,
     "metadata": {},
     "output_type": "execute_result"
    }
   ],
   "source": [
    "(transactions.groupby(['day_of_week'])\n",
    " .agg({'met_target':'mean', 'bonus_payable':'sum'})\n",
    " .reset_index()\n",
    " .sort_values(['bonus_payable', 'met_target'], ascending=[False, True])\n",
    ")"
   ]
  },
  {
   "cell_type": "markdown",
   "metadata": {},
   "source": [
    "### Pivoting & Melting"
   ]
  },
  {
   "cell_type": "code",
   "execution_count": 25,
   "metadata": {},
   "outputs": [
    {
     "data": {
      "text/html": [
       "<style type=\"text/css\">\n",
       "#T_4860d_row0_col0, #T_4860d_row0_col3, #T_4860d_row1_col3, #T_4860d_row1_col4, #T_4860d_row3_col0, #T_4860d_row3_col3, #T_4860d_row3_col5, #T_4860d_row4_col0, #T_4860d_row6_col0, #T_4860d_row6_col3 {\n",
       "  background-color: #feffbe;\n",
       "  color: #000000;\n",
       "}\n",
       "#T_4860d_row0_col1, #T_4860d_row0_col2, #T_4860d_row1_col1, #T_4860d_row2_col0, #T_4860d_row2_col5, #T_4860d_row3_col1, #T_4860d_row3_col2, #T_4860d_row4_col1, #T_4860d_row4_col2, #T_4860d_row5_col5, #T_4860d_row6_col1, #T_4860d_row6_col2, #T_4860d_row7_col2, #T_4860d_row8_col5, #T_4860d_row9_col6 {\n",
       "  background-color: #006837;\n",
       "  color: #f1f1f1;\n",
       "}\n",
       "#T_4860d_row0_col4, #T_4860d_row1_col6, #T_4860d_row2_col6, #T_4860d_row3_col4, #T_4860d_row4_col3, #T_4860d_row4_col4, #T_4860d_row4_col5, #T_4860d_row5_col4, #T_4860d_row6_col4, #T_4860d_row6_col5, #T_4860d_row7_col3, #T_4860d_row8_col4, #T_4860d_row9_col4 {\n",
       "  background-color: #a50026;\n",
       "  color: #f1f1f1;\n",
       "}\n",
       "#T_4860d_row0_col5, #T_4860d_row0_col6, #T_4860d_row3_col6, #T_4860d_row4_col6, #T_4860d_row6_col6 {\n",
       "  background-color: #000000;\n",
       "  color: #f1f1f1;\n",
       "}\n",
       "#T_4860d_row1_col0 {\n",
       "  background-color: #f98e52;\n",
       "  color: #f1f1f1;\n",
       "}\n",
       "#T_4860d_row1_col2, #T_4860d_row1_col5 {\n",
       "  background-color: #84ca66;\n",
       "  color: #000000;\n",
       "}\n",
       "#T_4860d_row2_col1, #T_4860d_row2_col2, #T_4860d_row2_col3, #T_4860d_row2_col4 {\n",
       "  background-color: #b7e075;\n",
       "  color: #000000;\n",
       "}\n",
       "#T_4860d_row5_col0 {\n",
       "  background-color: #fca55d;\n",
       "  color: #000000;\n",
       "}\n",
       "#T_4860d_row5_col1, #T_4860d_row5_col2 {\n",
       "  background-color: #fee999;\n",
       "  color: #000000;\n",
       "}\n",
       "#T_4860d_row5_col3, #T_4860d_row5_col6 {\n",
       "  background-color: #e34933;\n",
       "  color: #f1f1f1;\n",
       "}\n",
       "#T_4860d_row7_col0 {\n",
       "  background-color: #abdb6d;\n",
       "  color: #000000;\n",
       "}\n",
       "#T_4860d_row7_col1 {\n",
       "  background-color: #e24731;\n",
       "  color: #f1f1f1;\n",
       "}\n",
       "#T_4860d_row7_col4 {\n",
       "  background-color: #42ac5a;\n",
       "  color: #f1f1f1;\n",
       "}\n",
       "#T_4860d_row7_col5 {\n",
       "  background-color: #118848;\n",
       "  color: #f1f1f1;\n",
       "}\n",
       "#T_4860d_row7_col6 {\n",
       "  background-color: #fdc574;\n",
       "  color: #000000;\n",
       "}\n",
       "#T_4860d_row8_col0 {\n",
       "  background-color: #d93429;\n",
       "  color: #f1f1f1;\n",
       "}\n",
       "#T_4860d_row8_col1, #T_4860d_row8_col2 {\n",
       "  background-color: #be1827;\n",
       "  color: #f1f1f1;\n",
       "}\n",
       "#T_4860d_row8_col3 {\n",
       "  background-color: #b91326;\n",
       "  color: #f1f1f1;\n",
       "}\n",
       "#T_4860d_row8_col6 {\n",
       "  background-color: #cbe982;\n",
       "  color: #000000;\n",
       "}\n",
       "#T_4860d_row9_col0 {\n",
       "  background-color: #d42d27;\n",
       "  color: #f1f1f1;\n",
       "}\n",
       "#T_4860d_row9_col1 {\n",
       "  background-color: #ed5f3c;\n",
       "  color: #f1f1f1;\n",
       "}\n",
       "#T_4860d_row9_col2 {\n",
       "  background-color: #ca2427;\n",
       "  color: #f1f1f1;\n",
       "}\n",
       "#T_4860d_row9_col3 {\n",
       "  background-color: #c41e27;\n",
       "  color: #f1f1f1;\n",
       "}\n",
       "#T_4860d_row9_col5 {\n",
       "  background-color: #2da155;\n",
       "  color: #f1f1f1;\n",
       "}\n",
       "</style>\n",
       "<table id=\"T_4860d\">\n",
       "  <thead>\n",
       "    <tr>\n",
       "      <th class=\"index_name level0\" >day_of_week</th>\n",
       "      <th id=\"T_4860d_level0_col0\" class=\"col_heading level0 col0\" >0</th>\n",
       "      <th id=\"T_4860d_level0_col1\" class=\"col_heading level0 col1\" >1</th>\n",
       "      <th id=\"T_4860d_level0_col2\" class=\"col_heading level0 col2\" >2</th>\n",
       "      <th id=\"T_4860d_level0_col3\" class=\"col_heading level0 col3\" >3</th>\n",
       "      <th id=\"T_4860d_level0_col4\" class=\"col_heading level0 col4\" >4</th>\n",
       "      <th id=\"T_4860d_level0_col5\" class=\"col_heading level0 col5\" >5</th>\n",
       "      <th id=\"T_4860d_level0_col6\" class=\"col_heading level0 col6\" >6</th>\n",
       "    </tr>\n",
       "    <tr>\n",
       "      <th class=\"index_name level0\" >store_nbr</th>\n",
       "      <th class=\"blank col0\" >&nbsp;</th>\n",
       "      <th class=\"blank col1\" >&nbsp;</th>\n",
       "      <th class=\"blank col2\" >&nbsp;</th>\n",
       "      <th class=\"blank col3\" >&nbsp;</th>\n",
       "      <th class=\"blank col4\" >&nbsp;</th>\n",
       "      <th class=\"blank col5\" >&nbsp;</th>\n",
       "      <th class=\"blank col6\" >&nbsp;</th>\n",
       "    </tr>\n",
       "  </thead>\n",
       "  <tbody>\n",
       "    <tr>\n",
       "      <th id=\"T_4860d_level0_row0\" class=\"row_heading level0 row0\" >1</th>\n",
       "      <td id=\"T_4860d_row0_col0\" class=\"data row0 col0\" >200.000000</td>\n",
       "      <td id=\"T_4860d_row0_col1\" class=\"data row0 col1\" >300.000000</td>\n",
       "      <td id=\"T_4860d_row0_col2\" class=\"data row0 col2\" >300.000000</td>\n",
       "      <td id=\"T_4860d_row0_col3\" class=\"data row0 col3\" >200.000000</td>\n",
       "      <td id=\"T_4860d_row0_col4\" class=\"data row0 col4\" >100.000000</td>\n",
       "      <td id=\"T_4860d_row0_col5\" class=\"data row0 col5\" >nan</td>\n",
       "      <td id=\"T_4860d_row0_col6\" class=\"data row0 col6\" >nan</td>\n",
       "    </tr>\n",
       "    <tr>\n",
       "      <th id=\"T_4860d_level0_row1\" class=\"row_heading level0 row1\" >2</th>\n",
       "      <td id=\"T_4860d_row1_col0\" class=\"data row1 col0\" >300.000000</td>\n",
       "      <td id=\"T_4860d_row1_col1\" class=\"data row1 col1\" >600.000000</td>\n",
       "      <td id=\"T_4860d_row1_col2\" class=\"data row1 col2\" >500.000000</td>\n",
       "      <td id=\"T_4860d_row1_col3\" class=\"data row1 col3\" >400.000000</td>\n",
       "      <td id=\"T_4860d_row1_col4\" class=\"data row1 col4\" >400.000000</td>\n",
       "      <td id=\"T_4860d_row1_col5\" class=\"data row1 col5\" >500.000000</td>\n",
       "      <td id=\"T_4860d_row1_col6\" class=\"data row1 col6\" >200.000000</td>\n",
       "    </tr>\n",
       "    <tr>\n",
       "      <th id=\"T_4860d_level0_row2\" class=\"row_heading level0 row2\" >3</th>\n",
       "      <td id=\"T_4860d_row2_col0\" class=\"data row2 col0\" >24000.000000</td>\n",
       "      <td id=\"T_4860d_row2_col1\" class=\"data row2 col1\" >23900.000000</td>\n",
       "      <td id=\"T_4860d_row2_col2\" class=\"data row2 col2\" >23900.000000</td>\n",
       "      <td id=\"T_4860d_row2_col3\" class=\"data row2 col3\" >23900.000000</td>\n",
       "      <td id=\"T_4860d_row2_col4\" class=\"data row2 col4\" >23900.000000</td>\n",
       "      <td id=\"T_4860d_row2_col5\" class=\"data row2 col5\" >24000.000000</td>\n",
       "      <td id=\"T_4860d_row2_col6\" class=\"data row2 col6\" >23700.000000</td>\n",
       "    </tr>\n",
       "    <tr>\n",
       "      <th id=\"T_4860d_level0_row3\" class=\"row_heading level0 row3\" >4</th>\n",
       "      <td id=\"T_4860d_row3_col0\" class=\"data row3 col0\" >200.000000</td>\n",
       "      <td id=\"T_4860d_row3_col1\" class=\"data row3 col1\" >300.000000</td>\n",
       "      <td id=\"T_4860d_row3_col2\" class=\"data row3 col2\" >300.000000</td>\n",
       "      <td id=\"T_4860d_row3_col3\" class=\"data row3 col3\" >200.000000</td>\n",
       "      <td id=\"T_4860d_row3_col4\" class=\"data row3 col4\" >100.000000</td>\n",
       "      <td id=\"T_4860d_row3_col5\" class=\"data row3 col5\" >200.000000</td>\n",
       "      <td id=\"T_4860d_row3_col6\" class=\"data row3 col6\" >nan</td>\n",
       "    </tr>\n",
       "    <tr>\n",
       "      <th id=\"T_4860d_level0_row4\" class=\"row_heading level0 row4\" >5</th>\n",
       "      <td id=\"T_4860d_row4_col0\" class=\"data row4 col0\" >200.000000</td>\n",
       "      <td id=\"T_4860d_row4_col1\" class=\"data row4 col1\" >300.000000</td>\n",
       "      <td id=\"T_4860d_row4_col2\" class=\"data row4 col2\" >300.000000</td>\n",
       "      <td id=\"T_4860d_row4_col3\" class=\"data row4 col3\" >100.000000</td>\n",
       "      <td id=\"T_4860d_row4_col4\" class=\"data row4 col4\" >100.000000</td>\n",
       "      <td id=\"T_4860d_row4_col5\" class=\"data row4 col5\" >100.000000</td>\n",
       "      <td id=\"T_4860d_row4_col6\" class=\"data row4 col6\" >nan</td>\n",
       "    </tr>\n",
       "    <tr>\n",
       "      <th id=\"T_4860d_level0_row5\" class=\"row_heading level0 row5\" >6</th>\n",
       "      <td id=\"T_4860d_row5_col0\" class=\"data row5 col0\" >400.000000</td>\n",
       "      <td id=\"T_4860d_row5_col1\" class=\"data row5 col1\" >500.000000</td>\n",
       "      <td id=\"T_4860d_row5_col2\" class=\"data row5 col2\" >500.000000</td>\n",
       "      <td id=\"T_4860d_row5_col3\" class=\"data row5 col3\" >300.000000</td>\n",
       "      <td id=\"T_4860d_row5_col4\" class=\"data row5 col4\" >200.000000</td>\n",
       "      <td id=\"T_4860d_row5_col5\" class=\"data row5 col5\" >900.000000</td>\n",
       "      <td id=\"T_4860d_row5_col6\" class=\"data row5 col6\" >300.000000</td>\n",
       "    </tr>\n",
       "    <tr>\n",
       "      <th id=\"T_4860d_level0_row6\" class=\"row_heading level0 row6\" >7</th>\n",
       "      <td id=\"T_4860d_row6_col0\" class=\"data row6 col0\" >200.000000</td>\n",
       "      <td id=\"T_4860d_row6_col1\" class=\"data row6 col1\" >300.000000</td>\n",
       "      <td id=\"T_4860d_row6_col2\" class=\"data row6 col2\" >300.000000</td>\n",
       "      <td id=\"T_4860d_row6_col3\" class=\"data row6 col3\" >200.000000</td>\n",
       "      <td id=\"T_4860d_row6_col4\" class=\"data row6 col4\" >100.000000</td>\n",
       "      <td id=\"T_4860d_row6_col5\" class=\"data row6 col5\" >100.000000</td>\n",
       "      <td id=\"T_4860d_row6_col6\" class=\"data row6 col6\" >nan</td>\n",
       "    </tr>\n",
       "    <tr>\n",
       "      <th id=\"T_4860d_level0_row7\" class=\"row_heading level0 row7\" >8</th>\n",
       "      <td id=\"T_4860d_row7_col0\" class=\"data row7 col0\" >22000.000000</td>\n",
       "      <td id=\"T_4860d_row7_col1\" class=\"data row7 col1\" >18800.000000</td>\n",
       "      <td id=\"T_4860d_row7_col2\" class=\"data row7 col2\" >23800.000000</td>\n",
       "      <td id=\"T_4860d_row7_col3\" class=\"data row7 col3\" >18000.000000</td>\n",
       "      <td id=\"T_4860d_row7_col4\" class=\"data row7 col4\" >22900.000000</td>\n",
       "      <td id=\"T_4860d_row7_col5\" class=\"data row7 col5\" >23400.000000</td>\n",
       "      <td id=\"T_4860d_row7_col6\" class=\"data row7 col6\" >20000.000000</td>\n",
       "    </tr>\n",
       "    <tr>\n",
       "      <th id=\"T_4860d_level0_row8\" class=\"row_heading level0 row8\" >9</th>\n",
       "      <td id=\"T_4860d_row8_col0\" class=\"data row8 col0\" >1200.000000</td>\n",
       "      <td id=\"T_4860d_row8_col1\" class=\"data row8 col1\" >800.000000</td>\n",
       "      <td id=\"T_4860d_row8_col2\" class=\"data row8 col2\" >800.000000</td>\n",
       "      <td id=\"T_4860d_row8_col3\" class=\"data row8 col3\" >700.000000</td>\n",
       "      <td id=\"T_4860d_row8_col4\" class=\"data row8 col4\" >400.000000</td>\n",
       "      <td id=\"T_4860d_row8_col5\" class=\"data row8 col5\" >7900.000000</td>\n",
       "      <td id=\"T_4860d_row8_col6\" class=\"data row8 col6\" >5100.000000</td>\n",
       "    </tr>\n",
       "    <tr>\n",
       "      <th id=\"T_4860d_level0_row9\" class=\"row_heading level0 row9\" >11</th>\n",
       "      <td id=\"T_4860d_row9_col0\" class=\"data row9 col0\" >3500.000000</td>\n",
       "      <td id=\"T_4860d_row9_col1\" class=\"data row9 col1\" >4800.000000</td>\n",
       "      <td id=\"T_4860d_row9_col2\" class=\"data row9 col2\" >3200.000000</td>\n",
       "      <td id=\"T_4860d_row9_col3\" class=\"data row9 col3\" >3000.000000</td>\n",
       "      <td id=\"T_4860d_row9_col4\" class=\"data row9 col4\" >2000.000000</td>\n",
       "      <td id=\"T_4860d_row9_col5\" class=\"data row9 col5\" >15600.000000</td>\n",
       "      <td id=\"T_4860d_row9_col6\" class=\"data row9 col6\" >17600.000000</td>\n",
       "    </tr>\n",
       "  </tbody>\n",
       "</table>\n"
      ],
      "text/plain": [
       "<pandas.io.formats.style.Styler at 0x11b9a02d0>"
      ]
     },
     "execution_count": 25,
     "metadata": {},
     "output_type": "execute_result"
    }
   ],
   "source": [
    "# Pivot and Melting Practice\n",
    "# Keep stores 1-11\n",
    "trans_pivot = (transactions[transactions['store_nbr'].isin(range(1,12))]\n",
    " .query(\"bonus_payable > 0\")\n",
    " .pivot_table(index = 'store_nbr', \n",
    "              columns = 'day_of_week',\n",
    "              values = 'bonus_payable',\n",
    "              aggfunc = 'sum')\n",
    ")\n",
    "trans_pivot.style.background_gradient(cmap = \"RdYlGn\", axis = 1)"
   ]
  },
  {
   "cell_type": "code",
   "execution_count": 28,
   "metadata": {},
   "outputs": [
    {
     "data": {
      "application/vnd.microsoft.datawrangler.viewer.v0+json": {
       "columns": [
        {
         "name": "index",
         "rawType": "int64",
         "type": "integer"
        },
        {
         "name": "store_nbr",
         "rawType": "int64",
         "type": "integer"
        },
        {
         "name": "day_of_week",
         "rawType": "object",
         "type": "unknown"
        },
        {
         "name": "value",
         "rawType": "float64",
         "type": "float"
        }
       ],
       "conversionMethod": "pd.DataFrame",
       "ref": "430d6b2e-be8f-4585-98d9-1d31ff819c59",
       "rows": [
        [
         "0",
         "1",
         "0",
         "200.0"
        ],
        [
         "1",
         "2",
         "0",
         "300.0"
        ],
        [
         "2",
         "3",
         "0",
         "24000.0"
        ],
        [
         "3",
         "4",
         "0",
         "200.0"
        ],
        [
         "4",
         "5",
         "0",
         "200.0"
        ],
        [
         "5",
         "6",
         "0",
         "400.0"
        ],
        [
         "6",
         "7",
         "0",
         "200.0"
        ],
        [
         "7",
         "8",
         "0",
         "22000.0"
        ],
        [
         "8",
         "9",
         "0",
         "1200.0"
        ],
        [
         "9",
         "11",
         "0",
         "3500.0"
        ],
        [
         "10",
         "1",
         "1",
         "300.0"
        ],
        [
         "11",
         "2",
         "1",
         "600.0"
        ],
        [
         "12",
         "3",
         "1",
         "23900.0"
        ],
        [
         "13",
         "4",
         "1",
         "300.0"
        ],
        [
         "14",
         "5",
         "1",
         "300.0"
        ],
        [
         "15",
         "6",
         "1",
         "500.0"
        ],
        [
         "16",
         "7",
         "1",
         "300.0"
        ],
        [
         "17",
         "8",
         "1",
         "18800.0"
        ],
        [
         "18",
         "9",
         "1",
         "800.0"
        ],
        [
         "19",
         "11",
         "1",
         "4800.0"
        ],
        [
         "20",
         "1",
         "2",
         "300.0"
        ],
        [
         "21",
         "2",
         "2",
         "500.0"
        ],
        [
         "22",
         "3",
         "2",
         "23900.0"
        ],
        [
         "23",
         "4",
         "2",
         "300.0"
        ],
        [
         "24",
         "5",
         "2",
         "300.0"
        ],
        [
         "25",
         "6",
         "2",
         "500.0"
        ],
        [
         "26",
         "7",
         "2",
         "300.0"
        ],
        [
         "27",
         "8",
         "2",
         "23800.0"
        ],
        [
         "28",
         "9",
         "2",
         "800.0"
        ],
        [
         "29",
         "11",
         "2",
         "3200.0"
        ],
        [
         "30",
         "1",
         "3",
         "200.0"
        ],
        [
         "31",
         "2",
         "3",
         "400.0"
        ],
        [
         "32",
         "3",
         "3",
         "23900.0"
        ],
        [
         "33",
         "4",
         "3",
         "200.0"
        ],
        [
         "34",
         "5",
         "3",
         "100.0"
        ],
        [
         "35",
         "6",
         "3",
         "300.0"
        ],
        [
         "36",
         "7",
         "3",
         "200.0"
        ],
        [
         "37",
         "8",
         "3",
         "18000.0"
        ],
        [
         "38",
         "9",
         "3",
         "700.0"
        ],
        [
         "39",
         "11",
         "3",
         "3000.0"
        ],
        [
         "40",
         "1",
         "4",
         "100.0"
        ],
        [
         "41",
         "2",
         "4",
         "400.0"
        ],
        [
         "42",
         "3",
         "4",
         "23900.0"
        ],
        [
         "43",
         "4",
         "4",
         "100.0"
        ],
        [
         "44",
         "5",
         "4",
         "100.0"
        ],
        [
         "45",
         "6",
         "4",
         "200.0"
        ],
        [
         "46",
         "7",
         "4",
         "100.0"
        ],
        [
         "47",
         "8",
         "4",
         "22900.0"
        ],
        [
         "48",
         "9",
         "4",
         "400.0"
        ],
        [
         "49",
         "11",
         "4",
         "2000.0"
        ]
       ],
       "shape": {
        "columns": 3,
        "rows": 70
       }
      },
      "text/html": [
       "<div>\n",
       "<style scoped>\n",
       "    .dataframe tbody tr th:only-of-type {\n",
       "        vertical-align: middle;\n",
       "    }\n",
       "\n",
       "    .dataframe tbody tr th {\n",
       "        vertical-align: top;\n",
       "    }\n",
       "\n",
       "    .dataframe thead th {\n",
       "        text-align: right;\n",
       "    }\n",
       "</style>\n",
       "<table border=\"1\" class=\"dataframe\">\n",
       "  <thead>\n",
       "    <tr style=\"text-align: right;\">\n",
       "      <th></th>\n",
       "      <th>store_nbr</th>\n",
       "      <th>day_of_week</th>\n",
       "      <th>value</th>\n",
       "    </tr>\n",
       "  </thead>\n",
       "  <tbody>\n",
       "    <tr>\n",
       "      <th>0</th>\n",
       "      <td>1</td>\n",
       "      <td>0</td>\n",
       "      <td>200.0</td>\n",
       "    </tr>\n",
       "    <tr>\n",
       "      <th>1</th>\n",
       "      <td>2</td>\n",
       "      <td>0</td>\n",
       "      <td>300.0</td>\n",
       "    </tr>\n",
       "    <tr>\n",
       "      <th>2</th>\n",
       "      <td>3</td>\n",
       "      <td>0</td>\n",
       "      <td>24000.0</td>\n",
       "    </tr>\n",
       "    <tr>\n",
       "      <th>3</th>\n",
       "      <td>4</td>\n",
       "      <td>0</td>\n",
       "      <td>200.0</td>\n",
       "    </tr>\n",
       "    <tr>\n",
       "      <th>4</th>\n",
       "      <td>5</td>\n",
       "      <td>0</td>\n",
       "      <td>200.0</td>\n",
       "    </tr>\n",
       "    <tr>\n",
       "      <th>...</th>\n",
       "      <td>...</td>\n",
       "      <td>...</td>\n",
       "      <td>...</td>\n",
       "    </tr>\n",
       "    <tr>\n",
       "      <th>65</th>\n",
       "      <td>6</td>\n",
       "      <td>6</td>\n",
       "      <td>300.0</td>\n",
       "    </tr>\n",
       "    <tr>\n",
       "      <th>66</th>\n",
       "      <td>7</td>\n",
       "      <td>6</td>\n",
       "      <td>NaN</td>\n",
       "    </tr>\n",
       "    <tr>\n",
       "      <th>67</th>\n",
       "      <td>8</td>\n",
       "      <td>6</td>\n",
       "      <td>20000.0</td>\n",
       "    </tr>\n",
       "    <tr>\n",
       "      <th>68</th>\n",
       "      <td>9</td>\n",
       "      <td>6</td>\n",
       "      <td>5100.0</td>\n",
       "    </tr>\n",
       "    <tr>\n",
       "      <th>69</th>\n",
       "      <td>11</td>\n",
       "      <td>6</td>\n",
       "      <td>17600.0</td>\n",
       "    </tr>\n",
       "  </tbody>\n",
       "</table>\n",
       "<p>70 rows × 3 columns</p>\n",
       "</div>"
      ],
      "text/plain": [
       "    store_nbr day_of_week    value\n",
       "0           1           0    200.0\n",
       "1           2           0    300.0\n",
       "2           3           0  24000.0\n",
       "3           4           0    200.0\n",
       "4           5           0    200.0\n",
       "..        ...         ...      ...\n",
       "65          6           6    300.0\n",
       "66          7           6      NaN\n",
       "67          8           6  20000.0\n",
       "68          9           6   5100.0\n",
       "69         11           6  17600.0\n",
       "\n",
       "[70 rows x 3 columns]"
      ]
     },
     "execution_count": 28,
     "metadata": {},
     "output_type": "execute_result"
    }
   ],
   "source": [
    "trans_pivot.reset_index().melt(id_vars = 'store_nbr')\n"
   ]
  }
 ],
 "metadata": {
  "kernelspec": {
   "display_name": ".venv",
   "language": "python",
   "name": "python3"
  },
  "language_info": {
   "codemirror_mode": {
    "name": "ipython",
    "version": 3
   },
   "file_extension": ".py",
   "mimetype": "text/x-python",
   "name": "python",
   "nbconvert_exporter": "python",
   "pygments_lexer": "ipython3",
   "version": "3.13.2"
  }
 },
 "nbformat": 4,
 "nbformat_minor": 2
}
