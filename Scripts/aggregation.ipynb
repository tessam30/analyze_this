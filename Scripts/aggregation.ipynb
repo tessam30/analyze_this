{
 "cells": [
  {
   "cell_type": "code",
   "execution_count": 1,
   "metadata": {},
   "outputs": [],
   "source": [
    "import pandas as pd\n",
    "import numpy as np\n",
    "import os"
   ]
  },
  {
   "cell_type": "code",
   "execution_count": 2,
   "metadata": {},
   "outputs": [],
   "source": [
    "# Set paths\n",
    "# Working from the Scripts folder as the base path\n",
    "exercise_path = '../Python/Exercise Files/Pandas Course Resources/Pandas Course Resources/retail/'"
   ]
  },
  {
   "cell_type": "markdown",
   "metadata": {},
   "source": [
    "### Aggregation\n",
    "`df_data.groupby('col1')[['do_sometthing_col']].mean()` - this will return a data frame, single `[ ]` will return a series"
   ]
  },
  {
   "cell_type": "code",
   "execution_count": 3,
   "metadata": {},
   "outputs": [],
   "source": [
    "# Load transactions data\n",
    "transactions = pd.read_csv(os.path.join(exercise_path, \"transactions.csv\"), parse_dates=['date'])"
   ]
  },
  {
   "cell_type": "code",
   "execution_count": null,
   "metadata": {},
   "outputs": [
    {
     "data": {
      "application/vnd.microsoft.datawrangler.viewer.v0+json": {
       "columns": [
        {
         "name": "store_nbr",
         "rawType": "int64",
         "type": "integer"
        },
        {
         "name": "transactions",
         "rawType": "int64",
         "type": "integer"
        }
       ],
       "conversionMethod": "pd.DataFrame",
       "ref": "482cdf48-ceb3-4b34-b112-770fd63cfc2e",
       "rows": [
        [
         "44",
         "7273093"
        ],
        [
         "47",
         "6535810"
        ],
        [
         "45",
         "6201115"
        ],
        [
         "46",
         "5990113"
        ],
        [
         "3",
         "5366350"
        ],
        [
         "48",
         "5107785"
        ],
        [
         "8",
         "4637971"
        ],
        [
         "49",
         "4574103"
        ],
        [
         "50",
         "4384444"
        ],
        [
         "11",
         "3972488"
        ]
       ],
       "shape": {
        "columns": 1,
        "rows": 10
       }
      },
      "text/html": [
       "<div>\n",
       "<style scoped>\n",
       "    .dataframe tbody tr th:only-of-type {\n",
       "        vertical-align: middle;\n",
       "    }\n",
       "\n",
       "    .dataframe tbody tr th {\n",
       "        vertical-align: top;\n",
       "    }\n",
       "\n",
       "    .dataframe thead th {\n",
       "        text-align: right;\n",
       "    }\n",
       "</style>\n",
       "<table border=\"1\" class=\"dataframe\">\n",
       "  <thead>\n",
       "    <tr style=\"text-align: right;\">\n",
       "      <th></th>\n",
       "      <th>transactions</th>\n",
       "    </tr>\n",
       "    <tr>\n",
       "      <th>store_nbr</th>\n",
       "      <th></th>\n",
       "    </tr>\n",
       "  </thead>\n",
       "  <tbody>\n",
       "    <tr>\n",
       "      <th>44</th>\n",
       "      <td>7273093</td>\n",
       "    </tr>\n",
       "    <tr>\n",
       "      <th>47</th>\n",
       "      <td>6535810</td>\n",
       "    </tr>\n",
       "    <tr>\n",
       "      <th>45</th>\n",
       "      <td>6201115</td>\n",
       "    </tr>\n",
       "    <tr>\n",
       "      <th>46</th>\n",
       "      <td>5990113</td>\n",
       "    </tr>\n",
       "    <tr>\n",
       "      <th>3</th>\n",
       "      <td>5366350</td>\n",
       "    </tr>\n",
       "    <tr>\n",
       "      <th>48</th>\n",
       "      <td>5107785</td>\n",
       "    </tr>\n",
       "    <tr>\n",
       "      <th>8</th>\n",
       "      <td>4637971</td>\n",
       "    </tr>\n",
       "    <tr>\n",
       "      <th>49</th>\n",
       "      <td>4574103</td>\n",
       "    </tr>\n",
       "    <tr>\n",
       "      <th>50</th>\n",
       "      <td>4384444</td>\n",
       "    </tr>\n",
       "    <tr>\n",
       "      <th>11</th>\n",
       "      <td>3972488</td>\n",
       "    </tr>\n",
       "  </tbody>\n",
       "</table>\n",
       "</div>"
      ],
      "text/plain": [
       "           transactions\n",
       "store_nbr              \n",
       "44              7273093\n",
       "47              6535810\n",
       "45              6201115\n",
       "46              5990113\n",
       "3               5366350\n",
       "48              5107785\n",
       "8               4637971\n",
       "49              4574103\n",
       "50              4384444\n",
       "11              3972488"
      ]
     },
     "execution_count": 11,
     "metadata": {},
     "output_type": "execute_result"
    }
   ],
   "source": [
    "# Group transactions by store and return the top 10 stores\n",
    "transactions.groupby('store_nbr')[['transactions']].sum().sort_values(['transactions'], ascending=False).head(10)"
   ]
  },
  {
   "cell_type": "code",
   "execution_count": 12,
   "metadata": {},
   "outputs": [
    {
     "data": {
      "application/vnd.microsoft.datawrangler.viewer.v0+json": {
       "columns": [
        {
         "name": "index",
         "rawType": "int64",
         "type": "integer"
        },
        {
         "name": "date",
         "rawType": "datetime64[ns]",
         "type": "datetime"
        },
        {
         "name": "store_nbr",
         "rawType": "int64",
         "type": "integer"
        },
        {
         "name": "transactions",
         "rawType": "int64",
         "type": "integer"
        }
       ],
       "conversionMethod": "pd.DataFrame",
       "ref": "513adc99-e32a-4f50-b1eb-e6edeb6fb710",
       "rows": [
        [
         "0",
         "2013-01-01 00:00:00",
         "25",
         "770"
        ],
        [
         "1",
         "2013-01-02 00:00:00",
         "1",
         "2111"
        ],
        [
         "2",
         "2013-01-02 00:00:00",
         "2",
         "2358"
        ],
        [
         "3",
         "2013-01-02 00:00:00",
         "3",
         "3487"
        ],
        [
         "4",
         "2013-01-02 00:00:00",
         "4",
         "1922"
        ]
       ],
       "shape": {
        "columns": 3,
        "rows": 5
       }
      },
      "text/html": [
       "<div>\n",
       "<style scoped>\n",
       "    .dataframe tbody tr th:only-of-type {\n",
       "        vertical-align: middle;\n",
       "    }\n",
       "\n",
       "    .dataframe tbody tr th {\n",
       "        vertical-align: top;\n",
       "    }\n",
       "\n",
       "    .dataframe thead th {\n",
       "        text-align: right;\n",
       "    }\n",
       "</style>\n",
       "<table border=\"1\" class=\"dataframe\">\n",
       "  <thead>\n",
       "    <tr style=\"text-align: right;\">\n",
       "      <th></th>\n",
       "      <th>date</th>\n",
       "      <th>store_nbr</th>\n",
       "      <th>transactions</th>\n",
       "    </tr>\n",
       "  </thead>\n",
       "  <tbody>\n",
       "    <tr>\n",
       "      <th>0</th>\n",
       "      <td>2013-01-01</td>\n",
       "      <td>25</td>\n",
       "      <td>770</td>\n",
       "    </tr>\n",
       "    <tr>\n",
       "      <th>1</th>\n",
       "      <td>2013-01-02</td>\n",
       "      <td>1</td>\n",
       "      <td>2111</td>\n",
       "    </tr>\n",
       "    <tr>\n",
       "      <th>2</th>\n",
       "      <td>2013-01-02</td>\n",
       "      <td>2</td>\n",
       "      <td>2358</td>\n",
       "    </tr>\n",
       "    <tr>\n",
       "      <th>3</th>\n",
       "      <td>2013-01-02</td>\n",
       "      <td>3</td>\n",
       "      <td>3487</td>\n",
       "    </tr>\n",
       "    <tr>\n",
       "      <th>4</th>\n",
       "      <td>2013-01-02</td>\n",
       "      <td>4</td>\n",
       "      <td>1922</td>\n",
       "    </tr>\n",
       "  </tbody>\n",
       "</table>\n",
       "</div>"
      ],
      "text/plain": [
       "        date  store_nbr  transactions\n",
       "0 2013-01-01         25           770\n",
       "1 2013-01-02          1          2111\n",
       "2 2013-01-02          2          2358\n",
       "3 2013-01-02          3          3487\n",
       "4 2013-01-02          4          1922"
      ]
     },
     "execution_count": 12,
     "metadata": {},
     "output_type": "execute_result"
    }
   ],
   "source": [
    "transactions.head()"
   ]
  },
  {
   "cell_type": "code",
   "execution_count": null,
   "metadata": {},
   "outputs": [
    {
     "name": "stdout",
     "output_type": "stream",
     "text": [
      "<class 'pandas.core.frame.DataFrame'>\n",
      "RangeIndex: 83488 entries, 0 to 83487\n",
      "Data columns (total 4 columns):\n",
      " #   Column        Non-Null Count  Dtype         \n",
      "---  ------        --------------  -----         \n",
      " 0   date          83488 non-null  datetime64[ns]\n",
      " 1   store_nbr     83488 non-null  int64         \n",
      " 2   transactions  83488 non-null  int64         \n",
      " 3   month         83488 non-null  int32         \n",
      "dtypes: datetime64[ns](1), int32(1), int64(2)\n",
      "memory usage: 2.2 MB\n"
     ]
    },
    {
     "data": {
      "application/vnd.microsoft.datawrangler.viewer.v0+json": {
       "columns": [
        {
         "name": "index",
         "rawType": "int64",
         "type": "integer"
        },
        {
         "name": "date",
         "rawType": "datetime64[ns]",
         "type": "datetime"
        },
        {
         "name": "store_nbr",
         "rawType": "int64",
         "type": "integer"
        },
        {
         "name": "transactions",
         "rawType": "int64",
         "type": "integer"
        },
        {
         "name": "month",
         "rawType": "int32",
         "type": "integer"
        }
       ],
       "conversionMethod": "pd.DataFrame",
       "ref": "29ad43a3-f61c-424f-92f9-e557afe726d3",
       "rows": [
        [
         "0",
         "2013-01-01 00:00:00",
         "25",
         "770",
         "1"
        ],
        [
         "1",
         "2013-01-02 00:00:00",
         "1",
         "2111",
         "1"
        ],
        [
         "2",
         "2013-01-02 00:00:00",
         "2",
         "2358",
         "1"
        ],
        [
         "3",
         "2013-01-02 00:00:00",
         "3",
         "3487",
         "1"
        ],
        [
         "4",
         "2013-01-02 00:00:00",
         "4",
         "1922",
         "1"
        ]
       ],
       "shape": {
        "columns": 4,
        "rows": 5
       }
      },
      "text/html": [
       "<div>\n",
       "<style scoped>\n",
       "    .dataframe tbody tr th:only-of-type {\n",
       "        vertical-align: middle;\n",
       "    }\n",
       "\n",
       "    .dataframe tbody tr th {\n",
       "        vertical-align: top;\n",
       "    }\n",
       "\n",
       "    .dataframe thead th {\n",
       "        text-align: right;\n",
       "    }\n",
       "</style>\n",
       "<table border=\"1\" class=\"dataframe\">\n",
       "  <thead>\n",
       "    <tr style=\"text-align: right;\">\n",
       "      <th></th>\n",
       "      <th>date</th>\n",
       "      <th>store_nbr</th>\n",
       "      <th>transactions</th>\n",
       "      <th>month</th>\n",
       "    </tr>\n",
       "  </thead>\n",
       "  <tbody>\n",
       "    <tr>\n",
       "      <th>0</th>\n",
       "      <td>2013-01-01</td>\n",
       "      <td>25</td>\n",
       "      <td>770</td>\n",
       "      <td>1</td>\n",
       "    </tr>\n",
       "    <tr>\n",
       "      <th>1</th>\n",
       "      <td>2013-01-02</td>\n",
       "      <td>1</td>\n",
       "      <td>2111</td>\n",
       "      <td>1</td>\n",
       "    </tr>\n",
       "    <tr>\n",
       "      <th>2</th>\n",
       "      <td>2013-01-02</td>\n",
       "      <td>2</td>\n",
       "      <td>2358</td>\n",
       "      <td>1</td>\n",
       "    </tr>\n",
       "    <tr>\n",
       "      <th>3</th>\n",
       "      <td>2013-01-02</td>\n",
       "      <td>3</td>\n",
       "      <td>3487</td>\n",
       "      <td>1</td>\n",
       "    </tr>\n",
       "    <tr>\n",
       "      <th>4</th>\n",
       "      <td>2013-01-02</td>\n",
       "      <td>4</td>\n",
       "      <td>1922</td>\n",
       "      <td>1</td>\n",
       "    </tr>\n",
       "  </tbody>\n",
       "</table>\n",
       "</div>"
      ],
      "text/plain": [
       "        date  store_nbr  transactions  month\n",
       "0 2013-01-01         25           770      1\n",
       "1 2013-01-02          1          2111      1\n",
       "2 2013-01-02          2          2358      1\n",
       "3 2013-01-02          3          3487      1\n",
       "4 2013-01-02          4          1922      1"
      ]
     },
     "execution_count": 23,
     "metadata": {},
     "output_type": "execute_result"
    }
   ],
   "source": [
    "#transactions = transactions.assign(month = transactions.date.dt.month)\n",
    "#transactions.info()\n",
    "\n",
    "transactions[\"month\"] = transactions[\"date\"].dt.month\n",
    "\n",
    "transactions.head()\n",
    "#transactions.groupby(['store_nbr', 'month'])[['transactions']].sum().sort_values(by = ['month', 'transactions'], ascending=[True, False])"
   ]
  },
  {
   "cell_type": "code",
   "execution_count": 28,
   "metadata": {},
   "outputs": [
    {
     "data": {
      "application/vnd.microsoft.datawrangler.viewer.v0+json": {
       "columns": [
        {
         "name": "index",
         "rawType": "int64",
         "type": "integer"
        },
        {
         "name": "store_nbr",
         "rawType": "int64",
         "type": "integer"
        },
        {
         "name": "month",
         "rawType": "int32",
         "type": "integer"
        },
        {
         "name": "transactions",
         "rawType": "int64",
         "type": "integer"
        }
       ],
       "conversionMethod": "pd.DataFrame",
       "ref": "f34d78b6-86a3-4fb2-8f37-12d4492108b8",
       "rows": [
        [
         "0",
         "44",
         "1",
         "628438"
        ],
        [
         "1",
         "47",
         "1",
         "568824"
        ],
        [
         "2",
         "45",
         "1",
         "538370"
        ],
        [
         "3",
         "46",
         "1",
         "522763"
        ],
        [
         "4",
         "3",
         "1",
         "463260"
        ],
        [
         "5",
         "48",
         "1",
         "439045"
        ],
        [
         "6",
         "8",
         "1",
         "404463"
        ],
        [
         "7",
         "49",
         "1",
         "386589"
        ],
        [
         "8",
         "50",
         "1",
         "372093"
        ],
        [
         "9",
         "11",
         "1",
         "336187"
        ]
       ],
       "shape": {
        "columns": 3,
        "rows": 10
       }
      },
      "text/html": [
       "<div>\n",
       "<style scoped>\n",
       "    .dataframe tbody tr th:only-of-type {\n",
       "        vertical-align: middle;\n",
       "    }\n",
       "\n",
       "    .dataframe tbody tr th {\n",
       "        vertical-align: top;\n",
       "    }\n",
       "\n",
       "    .dataframe thead th {\n",
       "        text-align: right;\n",
       "    }\n",
       "</style>\n",
       "<table border=\"1\" class=\"dataframe\">\n",
       "  <thead>\n",
       "    <tr style=\"text-align: right;\">\n",
       "      <th></th>\n",
       "      <th>store_nbr</th>\n",
       "      <th>month</th>\n",
       "      <th>transactions</th>\n",
       "    </tr>\n",
       "  </thead>\n",
       "  <tbody>\n",
       "    <tr>\n",
       "      <th>0</th>\n",
       "      <td>44</td>\n",
       "      <td>1</td>\n",
       "      <td>628438</td>\n",
       "    </tr>\n",
       "    <tr>\n",
       "      <th>1</th>\n",
       "      <td>47</td>\n",
       "      <td>1</td>\n",
       "      <td>568824</td>\n",
       "    </tr>\n",
       "    <tr>\n",
       "      <th>2</th>\n",
       "      <td>45</td>\n",
       "      <td>1</td>\n",
       "      <td>538370</td>\n",
       "    </tr>\n",
       "    <tr>\n",
       "      <th>3</th>\n",
       "      <td>46</td>\n",
       "      <td>1</td>\n",
       "      <td>522763</td>\n",
       "    </tr>\n",
       "    <tr>\n",
       "      <th>4</th>\n",
       "      <td>3</td>\n",
       "      <td>1</td>\n",
       "      <td>463260</td>\n",
       "    </tr>\n",
       "    <tr>\n",
       "      <th>5</th>\n",
       "      <td>48</td>\n",
       "      <td>1</td>\n",
       "      <td>439045</td>\n",
       "    </tr>\n",
       "    <tr>\n",
       "      <th>6</th>\n",
       "      <td>8</td>\n",
       "      <td>1</td>\n",
       "      <td>404463</td>\n",
       "    </tr>\n",
       "    <tr>\n",
       "      <th>7</th>\n",
       "      <td>49</td>\n",
       "      <td>1</td>\n",
       "      <td>386589</td>\n",
       "    </tr>\n",
       "    <tr>\n",
       "      <th>8</th>\n",
       "      <td>50</td>\n",
       "      <td>1</td>\n",
       "      <td>372093</td>\n",
       "    </tr>\n",
       "    <tr>\n",
       "      <th>9</th>\n",
       "      <td>11</td>\n",
       "      <td>1</td>\n",
       "      <td>336187</td>\n",
       "    </tr>\n",
       "  </tbody>\n",
       "</table>\n",
       "</div>"
      ],
      "text/plain": [
       "   store_nbr  month  transactions\n",
       "0         44      1        628438\n",
       "1         47      1        568824\n",
       "2         45      1        538370\n",
       "3         46      1        522763\n",
       "4          3      1        463260\n",
       "5         48      1        439045\n",
       "6          8      1        404463\n",
       "7         49      1        386589\n",
       "8         50      1        372093\n",
       "9         11      1        336187"
      ]
     },
     "execution_count": 28,
     "metadata": {},
     "output_type": "execute_result"
    }
   ],
   "source": [
    "# Wrap code in parath to have cleaner looking code\n",
    "(transactions\n",
    " .groupby(['store_nbr', 'month'])[['transactions']]\n",
    " .sum()\n",
    " .sort_values(by = ['month', 'transactions'], ascending=[True, False]\n",
    " ).reset_index() # Convert multicolumns to indices)\n",
    ").head(10)"
   ]
  },
  {
   "cell_type": "code",
   "execution_count": 29,
   "metadata": {},
   "outputs": [],
   "source": [
    "\n",
    "grouped = (\n",
    "    transactions.groupby([\"store_nbr\", \"month\"])\n",
    "    .agg({\"transactions\": [\"sum\", \"mean\"]})\n",
    "    .sort_values(by=[\"month\", (\"transactions\", \"sum\")], ascending=[True, False])\n",
    ")"
   ]
  },
  {
   "cell_type": "code",
   "execution_count": 30,
   "metadata": {},
   "outputs": [
    {
     "data": {
      "application/vnd.microsoft.datawrangler.viewer.v0+json": {
       "columns": [
        {
         "name": "('store_nbr', 'month')",
         "rawType": "object",
         "type": "unknown"
        },
        {
         "name": "('transactions', 'sum')",
         "rawType": "int64",
         "type": "integer"
        },
        {
         "name": "('transactions', 'mean')",
         "rawType": "float64",
         "type": "float"
        }
       ],
       "conversionMethod": "pd.DataFrame",
       "ref": "cd97f2a3-f055-49c0-954c-17b8089f908e",
       "rows": [
        [
         "(np.int64(44), np.int32(1))",
         "628438",
         "4246.2027027027025"
        ],
        [
         "(np.int64(47), np.int32(1))",
         "568824",
         "3843.4054054054054"
        ],
        [
         "(np.int64(45), np.int32(1))",
         "538370",
         "3637.635135135135"
        ],
        [
         "(np.int64(46), np.int32(1))",
         "522763",
         "3532.1824324324325"
        ],
        [
         "(np.int64(3), np.int32(1))",
         "463260",
         "3151.4285714285716"
        ],
        [
         "(np.int64(48), np.int32(1))",
         "439045",
         "2966.5202702702704"
        ],
        [
         "(np.int64(8), np.int32(1))",
         "404463",
         "2751.4489795918366"
        ],
        [
         "(np.int64(49), np.int32(1))",
         "386589",
         "2612.087837837838"
        ],
        [
         "(np.int64(50), np.int32(1))",
         "372093",
         "2514.141891891892"
        ],
        [
         "(np.int64(11), np.int32(1))",
         "336187",
         "2286.986394557823"
        ],
        [
         "(np.int64(34), np.int32(1))",
         "335677",
         "2252.8657718120803"
        ],
        [
         "(np.int64(24), np.int32(1))",
         "335585",
         "2252.248322147651"
        ],
        [
         "(np.int64(9), np.int32(1))",
         "300431",
         "2043.748299319728"
        ],
        [
         "(np.int64(2), np.int32(1))",
         "284134",
         "1919.8243243243244"
        ],
        [
         "(np.int64(6), np.int32(1))",
         "267133",
         "1817.2312925170068"
        ],
        [
         "(np.int64(7), np.int32(1))",
         "257875",
         "1754.251700680272"
        ],
        [
         "(np.int64(38), np.int32(1))",
         "252013",
         "1691.3624161073826"
        ],
        [
         "(np.int64(51), np.int32(1))",
         "250549",
         "1692.8986486486488"
        ],
        [
         "(np.int64(1), np.int32(1))",
         "229203",
         "1548.668918918919"
        ],
        [
         "(np.int64(37), np.int32(1))",
         "222196",
         "1491.248322147651"
        ],
        [
         "(np.int64(4), np.int32(1))",
         "222075",
         "1510.7142857142858"
        ],
        [
         "(np.int64(27), np.int32(1))",
         "212498",
         "1435.7972972972973"
        ],
        [
         "(np.int64(14), np.int32(1))",
         "208793",
         "1420.360544217687"
        ],
        [
         "(np.int64(5), np.int32(1))",
         "208297",
         "1407.412162162162"
        ],
        [
         "(np.int64(39), np.int32(1))",
         "206066",
         "1382.993288590604"
        ],
        [
         "(np.int64(31), np.int32(1))",
         "198640",
         "1333.1543624161075"
        ],
        [
         "(np.int64(17), np.int32(1))",
         "194972",
         "1326.3401360544217"
        ],
        [
         "(np.int64(18), np.int32(1))",
         "189990",
         "1292.4489795918366"
        ],
        [
         "(np.int64(15), np.int32(1))",
         "189555",
         "1289.4897959183672"
        ],
        [
         "(np.int64(43), np.int32(1))",
         "188657",
         "1274.7094594594594"
        ],
        [
         "(np.int64(40), np.int32(1))",
         "185490",
         "1253.3108108108108"
        ],
        [
         "(np.int64(12), np.int32(1))",
         "174254",
         "1185.4013605442176"
        ],
        [
         "(np.int64(19), np.int32(1))",
         "173844",
         "1182.6122448979593"
        ],
        [
         "(np.int64(28), np.int32(1))",
         "161205",
         "1089.222972972973"
        ],
        [
         "(np.int64(23), np.int32(1))",
         "159106",
         "1067.8255033557048"
        ],
        [
         "(np.int64(33), np.int32(1))",
         "152561",
         "1023.8993288590603"
        ],
        [
         "(np.int64(41), np.int32(1))",
         "148431",
         "1002.9121621621622"
        ],
        [
         "(np.int64(25), np.int32(1))",
         "148086",
         "967.8823529411765"
        ],
        [
         "(np.int64(10), np.int32(1))",
         "142458",
         "969.1020408163265"
        ],
        [
         "(np.int64(13), np.int32(1))",
         "132243",
         "899.6122448979592"
        ],
        [
         "(np.int64(16), np.int32(1))",
         "128584",
         "868.8108108108108"
        ],
        [
         "(np.int64(36), np.int32(1))",
         "127152",
         "1068.5042016806722"
        ],
        [
         "(np.int64(54), np.int32(1))",
         "123821",
         "836.6283783783783"
        ],
        [
         "(np.int64(30), np.int32(1))",
         "104677",
         "702.5302013422819"
        ],
        [
         "(np.int64(35), np.int32(1))",
         "96297",
         "650.6554054054054"
        ],
        [
         "(np.int64(26), np.int32(1))",
         "93923",
         "630.3557046979865"
        ],
        [
         "(np.int64(32), np.int32(1))",
         "91403",
         "617.5878378378378"
        ],
        [
         "(np.int64(20), np.int32(1))",
         "85439",
         "1473.0862068965516"
        ],
        [
         "(np.int64(53), np.int32(1))",
         "81800",
         "929.5454545454545"
        ],
        [
         "(np.int64(42), np.int32(1))",
         "64758",
         "1116.5172413793102"
        ]
       ],
       "shape": {
        "columns": 2,
        "rows": 641
       }
      },
      "text/html": [
       "<div>\n",
       "<style scoped>\n",
       "    .dataframe tbody tr th:only-of-type {\n",
       "        vertical-align: middle;\n",
       "    }\n",
       "\n",
       "    .dataframe tbody tr th {\n",
       "        vertical-align: top;\n",
       "    }\n",
       "\n",
       "    .dataframe thead tr th {\n",
       "        text-align: left;\n",
       "    }\n",
       "\n",
       "    .dataframe thead tr:last-of-type th {\n",
       "        text-align: right;\n",
       "    }\n",
       "</style>\n",
       "<table border=\"1\" class=\"dataframe\">\n",
       "  <thead>\n",
       "    <tr>\n",
       "      <th></th>\n",
       "      <th></th>\n",
       "      <th colspan=\"2\" halign=\"left\">transactions</th>\n",
       "    </tr>\n",
       "    <tr>\n",
       "      <th></th>\n",
       "      <th></th>\n",
       "      <th>sum</th>\n",
       "      <th>mean</th>\n",
       "    </tr>\n",
       "    <tr>\n",
       "      <th>store_nbr</th>\n",
       "      <th>month</th>\n",
       "      <th></th>\n",
       "      <th></th>\n",
       "    </tr>\n",
       "  </thead>\n",
       "  <tbody>\n",
       "    <tr>\n",
       "      <th>44</th>\n",
       "      <th>1</th>\n",
       "      <td>628438</td>\n",
       "      <td>4246.202703</td>\n",
       "    </tr>\n",
       "    <tr>\n",
       "      <th>47</th>\n",
       "      <th>1</th>\n",
       "      <td>568824</td>\n",
       "      <td>3843.405405</td>\n",
       "    </tr>\n",
       "    <tr>\n",
       "      <th>45</th>\n",
       "      <th>1</th>\n",
       "      <td>538370</td>\n",
       "      <td>3637.635135</td>\n",
       "    </tr>\n",
       "    <tr>\n",
       "      <th>46</th>\n",
       "      <th>1</th>\n",
       "      <td>522763</td>\n",
       "      <td>3532.182432</td>\n",
       "    </tr>\n",
       "    <tr>\n",
       "      <th>3</th>\n",
       "      <th>1</th>\n",
       "      <td>463260</td>\n",
       "      <td>3151.428571</td>\n",
       "    </tr>\n",
       "    <tr>\n",
       "      <th>...</th>\n",
       "      <th>...</th>\n",
       "      <td>...</td>\n",
       "      <td>...</td>\n",
       "    </tr>\n",
       "    <tr>\n",
       "      <th>32</th>\n",
       "      <th>12</th>\n",
       "      <td>86167</td>\n",
       "      <td>718.058333</td>\n",
       "    </tr>\n",
       "    <tr>\n",
       "      <th>21</th>\n",
       "      <th>12</th>\n",
       "      <td>84128</td>\n",
       "      <td>1402.133333</td>\n",
       "    </tr>\n",
       "    <tr>\n",
       "      <th>42</th>\n",
       "      <th>12</th>\n",
       "      <td>76741</td>\n",
       "      <td>1279.016667</td>\n",
       "    </tr>\n",
       "    <tr>\n",
       "      <th>29</th>\n",
       "      <th>12</th>\n",
       "      <td>76627</td>\n",
       "      <td>1277.116667</td>\n",
       "    </tr>\n",
       "    <tr>\n",
       "      <th>22</th>\n",
       "      <th>12</th>\n",
       "      <td>50650</td>\n",
       "      <td>844.166667</td>\n",
       "    </tr>\n",
       "  </tbody>\n",
       "</table>\n",
       "<p>641 rows × 2 columns</p>\n",
       "</div>"
      ],
      "text/plain": [
       "                transactions             \n",
       "                         sum         mean\n",
       "store_nbr month                          \n",
       "44        1           628438  4246.202703\n",
       "47        1           568824  3843.405405\n",
       "45        1           538370  3637.635135\n",
       "46        1           522763  3532.182432\n",
       "3         1           463260  3151.428571\n",
       "...                      ...          ...\n",
       "32        12           86167   718.058333\n",
       "21        12           84128  1402.133333\n",
       "42        12           76741  1279.016667\n",
       "29        12           76627  1277.116667\n",
       "22        12           50650   844.166667\n",
       "\n",
       "[641 rows x 2 columns]"
      ]
     },
     "execution_count": 30,
     "metadata": {},
     "output_type": "execute_result"
    }
   ],
   "source": [
    "grouped"
   ]
  },
  {
   "cell_type": "code",
   "execution_count": 31,
   "metadata": {},
   "outputs": [
    {
     "data": {
      "application/vnd.microsoft.datawrangler.viewer.v0+json": {
       "columns": [
        {
         "name": "index",
         "rawType": "int64",
         "type": "integer"
        },
        {
         "name": "('store_nbr', '')",
         "rawType": "int64",
         "type": "integer"
        },
        {
         "name": "('month', '')",
         "rawType": "int32",
         "type": "integer"
        },
        {
         "name": "('transactions', 'sum')",
         "rawType": "int64",
         "type": "integer"
        },
        {
         "name": "('transactions', 'mean')",
         "rawType": "float64",
         "type": "float"
        }
       ],
       "conversionMethod": "pd.DataFrame",
       "ref": "053ebf1b-f2be-4529-b2eb-7d223f867fc9",
       "rows": [
        [
         "0",
         "44",
         "1",
         "628438",
         "4246.2027027027025"
        ],
        [
         "1",
         "47",
         "1",
         "568824",
         "3843.4054054054054"
        ],
        [
         "2",
         "45",
         "1",
         "538370",
         "3637.635135135135"
        ],
        [
         "3",
         "46",
         "1",
         "522763",
         "3532.1824324324325"
        ],
        [
         "4",
         "3",
         "1",
         "463260",
         "3151.4285714285716"
        ],
        [
         "5",
         "48",
         "1",
         "439045",
         "2966.5202702702704"
        ],
        [
         "6",
         "8",
         "1",
         "404463",
         "2751.4489795918366"
        ],
        [
         "7",
         "49",
         "1",
         "386589",
         "2612.087837837838"
        ],
        [
         "8",
         "50",
         "1",
         "372093",
         "2514.141891891892"
        ],
        [
         "9",
         "11",
         "1",
         "336187",
         "2286.986394557823"
        ],
        [
         "10",
         "34",
         "1",
         "335677",
         "2252.8657718120803"
        ],
        [
         "11",
         "24",
         "1",
         "335585",
         "2252.248322147651"
        ],
        [
         "12",
         "9",
         "1",
         "300431",
         "2043.748299319728"
        ],
        [
         "13",
         "2",
         "1",
         "284134",
         "1919.8243243243244"
        ],
        [
         "14",
         "6",
         "1",
         "267133",
         "1817.2312925170068"
        ],
        [
         "15",
         "7",
         "1",
         "257875",
         "1754.251700680272"
        ],
        [
         "16",
         "38",
         "1",
         "252013",
         "1691.3624161073826"
        ],
        [
         "17",
         "51",
         "1",
         "250549",
         "1692.8986486486488"
        ],
        [
         "18",
         "1",
         "1",
         "229203",
         "1548.668918918919"
        ],
        [
         "19",
         "37",
         "1",
         "222196",
         "1491.248322147651"
        ],
        [
         "20",
         "4",
         "1",
         "222075",
         "1510.7142857142858"
        ],
        [
         "21",
         "27",
         "1",
         "212498",
         "1435.7972972972973"
        ],
        [
         "22",
         "14",
         "1",
         "208793",
         "1420.360544217687"
        ],
        [
         "23",
         "5",
         "1",
         "208297",
         "1407.412162162162"
        ],
        [
         "24",
         "39",
         "1",
         "206066",
         "1382.993288590604"
        ],
        [
         "25",
         "31",
         "1",
         "198640",
         "1333.1543624161075"
        ],
        [
         "26",
         "17",
         "1",
         "194972",
         "1326.3401360544217"
        ],
        [
         "27",
         "18",
         "1",
         "189990",
         "1292.4489795918366"
        ],
        [
         "28",
         "15",
         "1",
         "189555",
         "1289.4897959183672"
        ],
        [
         "29",
         "43",
         "1",
         "188657",
         "1274.7094594594594"
        ],
        [
         "30",
         "40",
         "1",
         "185490",
         "1253.3108108108108"
        ],
        [
         "31",
         "12",
         "1",
         "174254",
         "1185.4013605442176"
        ],
        [
         "32",
         "19",
         "1",
         "173844",
         "1182.6122448979593"
        ],
        [
         "33",
         "28",
         "1",
         "161205",
         "1089.222972972973"
        ],
        [
         "34",
         "23",
         "1",
         "159106",
         "1067.8255033557048"
        ],
        [
         "35",
         "33",
         "1",
         "152561",
         "1023.8993288590603"
        ],
        [
         "36",
         "41",
         "1",
         "148431",
         "1002.9121621621622"
        ],
        [
         "37",
         "25",
         "1",
         "148086",
         "967.8823529411765"
        ],
        [
         "38",
         "10",
         "1",
         "142458",
         "969.1020408163265"
        ],
        [
         "39",
         "13",
         "1",
         "132243",
         "899.6122448979592"
        ],
        [
         "40",
         "16",
         "1",
         "128584",
         "868.8108108108108"
        ],
        [
         "41",
         "36",
         "1",
         "127152",
         "1068.5042016806722"
        ],
        [
         "42",
         "54",
         "1",
         "123821",
         "836.6283783783783"
        ],
        [
         "43",
         "30",
         "1",
         "104677",
         "702.5302013422819"
        ],
        [
         "44",
         "35",
         "1",
         "96297",
         "650.6554054054054"
        ],
        [
         "45",
         "26",
         "1",
         "93923",
         "630.3557046979865"
        ],
        [
         "46",
         "32",
         "1",
         "91403",
         "617.5878378378378"
        ],
        [
         "47",
         "20",
         "1",
         "85439",
         "1473.0862068965516"
        ],
        [
         "48",
         "53",
         "1",
         "81800",
         "929.5454545454545"
        ],
        [
         "49",
         "42",
         "1",
         "64758",
         "1116.5172413793102"
        ]
       ],
       "shape": {
        "columns": 4,
        "rows": 641
       }
      },
      "text/html": [
       "<div>\n",
       "<style scoped>\n",
       "    .dataframe tbody tr th:only-of-type {\n",
       "        vertical-align: middle;\n",
       "    }\n",
       "\n",
       "    .dataframe tbody tr th {\n",
       "        vertical-align: top;\n",
       "    }\n",
       "\n",
       "    .dataframe thead tr th {\n",
       "        text-align: left;\n",
       "    }\n",
       "</style>\n",
       "<table border=\"1\" class=\"dataframe\">\n",
       "  <thead>\n",
       "    <tr>\n",
       "      <th></th>\n",
       "      <th>store_nbr</th>\n",
       "      <th>month</th>\n",
       "      <th colspan=\"2\" halign=\"left\">transactions</th>\n",
       "    </tr>\n",
       "    <tr>\n",
       "      <th></th>\n",
       "      <th></th>\n",
       "      <th></th>\n",
       "      <th>sum</th>\n",
       "      <th>mean</th>\n",
       "    </tr>\n",
       "  </thead>\n",
       "  <tbody>\n",
       "    <tr>\n",
       "      <th>0</th>\n",
       "      <td>44</td>\n",
       "      <td>1</td>\n",
       "      <td>628438</td>\n",
       "      <td>4246.202703</td>\n",
       "    </tr>\n",
       "    <tr>\n",
       "      <th>1</th>\n",
       "      <td>47</td>\n",
       "      <td>1</td>\n",
       "      <td>568824</td>\n",
       "      <td>3843.405405</td>\n",
       "    </tr>\n",
       "    <tr>\n",
       "      <th>2</th>\n",
       "      <td>45</td>\n",
       "      <td>1</td>\n",
       "      <td>538370</td>\n",
       "      <td>3637.635135</td>\n",
       "    </tr>\n",
       "    <tr>\n",
       "      <th>3</th>\n",
       "      <td>46</td>\n",
       "      <td>1</td>\n",
       "      <td>522763</td>\n",
       "      <td>3532.182432</td>\n",
       "    </tr>\n",
       "    <tr>\n",
       "      <th>4</th>\n",
       "      <td>3</td>\n",
       "      <td>1</td>\n",
       "      <td>463260</td>\n",
       "      <td>3151.428571</td>\n",
       "    </tr>\n",
       "    <tr>\n",
       "      <th>...</th>\n",
       "      <td>...</td>\n",
       "      <td>...</td>\n",
       "      <td>...</td>\n",
       "      <td>...</td>\n",
       "    </tr>\n",
       "    <tr>\n",
       "      <th>636</th>\n",
       "      <td>32</td>\n",
       "      <td>12</td>\n",
       "      <td>86167</td>\n",
       "      <td>718.058333</td>\n",
       "    </tr>\n",
       "    <tr>\n",
       "      <th>637</th>\n",
       "      <td>21</td>\n",
       "      <td>12</td>\n",
       "      <td>84128</td>\n",
       "      <td>1402.133333</td>\n",
       "    </tr>\n",
       "    <tr>\n",
       "      <th>638</th>\n",
       "      <td>42</td>\n",
       "      <td>12</td>\n",
       "      <td>76741</td>\n",
       "      <td>1279.016667</td>\n",
       "    </tr>\n",
       "    <tr>\n",
       "      <th>639</th>\n",
       "      <td>29</td>\n",
       "      <td>12</td>\n",
       "      <td>76627</td>\n",
       "      <td>1277.116667</td>\n",
       "    </tr>\n",
       "    <tr>\n",
       "      <th>640</th>\n",
       "      <td>22</td>\n",
       "      <td>12</td>\n",
       "      <td>50650</td>\n",
       "      <td>844.166667</td>\n",
       "    </tr>\n",
       "  </tbody>\n",
       "</table>\n",
       "<p>641 rows × 4 columns</p>\n",
       "</div>"
      ],
      "text/plain": [
       "    store_nbr month transactions             \n",
       "                             sum         mean\n",
       "0          44     1       628438  4246.202703\n",
       "1          47     1       568824  3843.405405\n",
       "2          45     1       538370  3637.635135\n",
       "3          46     1       522763  3532.182432\n",
       "4           3     1       463260  3151.428571\n",
       "..        ...   ...          ...          ...\n",
       "636        32    12        86167   718.058333\n",
       "637        21    12        84128  1402.133333\n",
       "638        42    12        76741  1279.016667\n",
       "639        29    12        76627  1277.116667\n",
       "640        22    12        50650   844.166667\n",
       "\n",
       "[641 rows x 4 columns]"
      ]
     },
     "execution_count": 31,
     "metadata": {},
     "output_type": "execute_result"
    }
   ],
   "source": [
    "grouped.reset_index()"
   ]
  },
  {
   "cell_type": "code",
   "execution_count": 36,
   "metadata": {},
   "outputs": [
    {
     "data": {
      "text/plain": [
       "transactions  sum     463260.000000\n",
       "              mean      3151.428571\n",
       "Name: (3, 1), dtype: float64"
      ]
     },
     "execution_count": 36,
     "metadata": {},
     "output_type": "execute_result"
    }
   ],
   "source": [
    "grouped.loc[(3, 1)]"
   ]
  },
  {
   "cell_type": "code",
   "execution_count": 38,
   "metadata": {},
   "outputs": [
    {
     "data": {
      "text/plain": [
       "transactions  sum     463260.000000\n",
       "              mean      3151.428571\n",
       "Name: (3, 1), dtype: float64"
      ]
     },
     "execution_count": 38,
     "metadata": {},
     "output_type": "execute_result"
    }
   ],
   "source": [
    "grouped.iloc[4]"
   ]
  },
  {
   "cell_type": "code",
   "execution_count": null,
   "metadata": {},
   "outputs": [
    {
     "data": {
      "application/vnd.microsoft.datawrangler.viewer.v0+json": {
       "columns": [
        {
         "name": "index",
         "rawType": "int64",
         "type": "integer"
        },
        {
         "name": "('store_nbr', '')",
         "rawType": "int64",
         "type": "integer"
        },
        {
         "name": "('month', '')",
         "rawType": "int32",
         "type": "integer"
        },
        {
         "name": "('transactions', 'sum')",
         "rawType": "int64",
         "type": "integer"
        },
        {
         "name": "('transactions', 'mean')",
         "rawType": "float64",
         "type": "float"
        }
       ],
       "conversionMethod": "pd.DataFrame",
       "ref": "eb088737-0e49-47aa-b05b-0f28955b8445",
       "rows": [
        [
         "0",
         "44",
         "1",
         "628438",
         "4246.2027027027025"
        ],
        [
         "1",
         "47",
         "1",
         "568824",
         "3843.4054054054054"
        ],
        [
         "2",
         "45",
         "1",
         "538370",
         "3637.635135135135"
        ],
        [
         "3",
         "46",
         "1",
         "522763",
         "3532.1824324324325"
        ],
        [
         "4",
         "3",
         "1",
         "463260",
         "3151.4285714285716"
        ],
        [
         "5",
         "48",
         "1",
         "439045",
         "2966.5202702702704"
        ],
        [
         "6",
         "8",
         "1",
         "404463",
         "2751.4489795918366"
        ],
        [
         "7",
         "49",
         "1",
         "386589",
         "2612.087837837838"
        ],
        [
         "8",
         "50",
         "1",
         "372093",
         "2514.141891891892"
        ],
        [
         "9",
         "11",
         "1",
         "336187",
         "2286.986394557823"
        ]
       ],
       "shape": {
        "columns": 4,
        "rows": 10
       }
      },
      "text/html": [
       "<div>\n",
       "<style scoped>\n",
       "    .dataframe tbody tr th:only-of-type {\n",
       "        vertical-align: middle;\n",
       "    }\n",
       "\n",
       "    .dataframe tbody tr th {\n",
       "        vertical-align: top;\n",
       "    }\n",
       "\n",
       "    .dataframe thead tr th {\n",
       "        text-align: left;\n",
       "    }\n",
       "</style>\n",
       "<table border=\"1\" class=\"dataframe\">\n",
       "  <thead>\n",
       "    <tr>\n",
       "      <th></th>\n",
       "      <th>store_nbr</th>\n",
       "      <th>month</th>\n",
       "      <th colspan=\"2\" halign=\"left\">transactions</th>\n",
       "    </tr>\n",
       "    <tr>\n",
       "      <th></th>\n",
       "      <th></th>\n",
       "      <th></th>\n",
       "      <th>sum</th>\n",
       "      <th>mean</th>\n",
       "    </tr>\n",
       "  </thead>\n",
       "  <tbody>\n",
       "    <tr>\n",
       "      <th>0</th>\n",
       "      <td>44</td>\n",
       "      <td>1</td>\n",
       "      <td>628438</td>\n",
       "      <td>4246.202703</td>\n",
       "    </tr>\n",
       "    <tr>\n",
       "      <th>1</th>\n",
       "      <td>47</td>\n",
       "      <td>1</td>\n",
       "      <td>568824</td>\n",
       "      <td>3843.405405</td>\n",
       "    </tr>\n",
       "    <tr>\n",
       "      <th>2</th>\n",
       "      <td>45</td>\n",
       "      <td>1</td>\n",
       "      <td>538370</td>\n",
       "      <td>3637.635135</td>\n",
       "    </tr>\n",
       "    <tr>\n",
       "      <th>3</th>\n",
       "      <td>46</td>\n",
       "      <td>1</td>\n",
       "      <td>522763</td>\n",
       "      <td>3532.182432</td>\n",
       "    </tr>\n",
       "    <tr>\n",
       "      <th>4</th>\n",
       "      <td>3</td>\n",
       "      <td>1</td>\n",
       "      <td>463260</td>\n",
       "      <td>3151.428571</td>\n",
       "    </tr>\n",
       "    <tr>\n",
       "      <th>5</th>\n",
       "      <td>48</td>\n",
       "      <td>1</td>\n",
       "      <td>439045</td>\n",
       "      <td>2966.520270</td>\n",
       "    </tr>\n",
       "    <tr>\n",
       "      <th>6</th>\n",
       "      <td>8</td>\n",
       "      <td>1</td>\n",
       "      <td>404463</td>\n",
       "      <td>2751.448980</td>\n",
       "    </tr>\n",
       "    <tr>\n",
       "      <th>7</th>\n",
       "      <td>49</td>\n",
       "      <td>1</td>\n",
       "      <td>386589</td>\n",
       "      <td>2612.087838</td>\n",
       "    </tr>\n",
       "    <tr>\n",
       "      <th>8</th>\n",
       "      <td>50</td>\n",
       "      <td>1</td>\n",
       "      <td>372093</td>\n",
       "      <td>2514.141892</td>\n",
       "    </tr>\n",
       "    <tr>\n",
       "      <th>9</th>\n",
       "      <td>11</td>\n",
       "      <td>1</td>\n",
       "      <td>336187</td>\n",
       "      <td>2286.986395</td>\n",
       "    </tr>\n",
       "  </tbody>\n",
       "</table>\n",
       "</div>"
      ],
      "text/plain": [
       "  store_nbr month transactions             \n",
       "                           sum         mean\n",
       "0        44     1       628438  4246.202703\n",
       "1        47     1       568824  3843.405405\n",
       "2        45     1       538370  3637.635135\n",
       "3        46     1       522763  3532.182432\n",
       "4         3     1       463260  3151.428571\n",
       "5        48     1       439045  2966.520270\n",
       "6         8     1       404463  2751.448980\n",
       "7        49     1       386589  2612.087838\n",
       "8        50     1       372093  2514.141892\n",
       "9        11     1       336187  2286.986395"
      ]
     },
     "execution_count": 40,
     "metadata": {},
     "output_type": "execute_result"
    }
   ],
   "source": [
    "grouped.droplevel(0, axis = 1).reset_index().head(10)"
   ]
  },
  {
   "cell_type": "code",
   "execution_count": 41,
   "metadata": {},
   "outputs": [
    {
     "data": {
      "application/vnd.microsoft.datawrangler.viewer.v0+json": {
       "columns": [
        {
         "name": "index",
         "rawType": "int64",
         "type": "integer"
        },
        {
         "name": "store_nbr",
         "rawType": "int64",
         "type": "integer"
        },
        {
         "name": "month",
         "rawType": "int32",
         "type": "integer"
        },
        {
         "name": "sum",
         "rawType": "int64",
         "type": "integer"
        },
        {
         "name": "mean",
         "rawType": "float64",
         "type": "float"
        }
       ],
       "conversionMethod": "pd.DataFrame",
       "ref": "92d2a768-1bfd-4186-bfc8-dde846916d46",
       "rows": [
        [
         "0",
         "44",
         "1",
         "628438",
         "4246.2027027027025"
        ],
        [
         "1",
         "47",
         "1",
         "568824",
         "3843.4054054054054"
        ],
        [
         "2",
         "45",
         "1",
         "538370",
         "3637.635135135135"
        ],
        [
         "3",
         "46",
         "1",
         "522763",
         "3532.1824324324325"
        ],
        [
         "4",
         "3",
         "1",
         "463260",
         "3151.4285714285716"
        ],
        [
         "5",
         "48",
         "1",
         "439045",
         "2966.5202702702704"
        ],
        [
         "6",
         "8",
         "1",
         "404463",
         "2751.4489795918366"
        ],
        [
         "7",
         "49",
         "1",
         "386589",
         "2612.087837837838"
        ],
        [
         "8",
         "50",
         "1",
         "372093",
         "2514.141891891892"
        ],
        [
         "9",
         "11",
         "1",
         "336187",
         "2286.986394557823"
        ]
       ],
       "shape": {
        "columns": 4,
        "rows": 10
       }
      },
      "text/html": [
       "<div>\n",
       "<style scoped>\n",
       "    .dataframe tbody tr th:only-of-type {\n",
       "        vertical-align: middle;\n",
       "    }\n",
       "\n",
       "    .dataframe tbody tr th {\n",
       "        vertical-align: top;\n",
       "    }\n",
       "\n",
       "    .dataframe thead th {\n",
       "        text-align: right;\n",
       "    }\n",
       "</style>\n",
       "<table border=\"1\" class=\"dataframe\">\n",
       "  <thead>\n",
       "    <tr style=\"text-align: right;\">\n",
       "      <th></th>\n",
       "      <th>store_nbr</th>\n",
       "      <th>month</th>\n",
       "      <th>sum</th>\n",
       "      <th>mean</th>\n",
       "    </tr>\n",
       "  </thead>\n",
       "  <tbody>\n",
       "    <tr>\n",
       "      <th>0</th>\n",
       "      <td>44</td>\n",
       "      <td>1</td>\n",
       "      <td>628438</td>\n",
       "      <td>4246.202703</td>\n",
       "    </tr>\n",
       "    <tr>\n",
       "      <th>1</th>\n",
       "      <td>47</td>\n",
       "      <td>1</td>\n",
       "      <td>568824</td>\n",
       "      <td>3843.405405</td>\n",
       "    </tr>\n",
       "    <tr>\n",
       "      <th>2</th>\n",
       "      <td>45</td>\n",
       "      <td>1</td>\n",
       "      <td>538370</td>\n",
       "      <td>3637.635135</td>\n",
       "    </tr>\n",
       "    <tr>\n",
       "      <th>3</th>\n",
       "      <td>46</td>\n",
       "      <td>1</td>\n",
       "      <td>522763</td>\n",
       "      <td>3532.182432</td>\n",
       "    </tr>\n",
       "    <tr>\n",
       "      <th>4</th>\n",
       "      <td>3</td>\n",
       "      <td>1</td>\n",
       "      <td>463260</td>\n",
       "      <td>3151.428571</td>\n",
       "    </tr>\n",
       "    <tr>\n",
       "      <th>5</th>\n",
       "      <td>48</td>\n",
       "      <td>1</td>\n",
       "      <td>439045</td>\n",
       "      <td>2966.520270</td>\n",
       "    </tr>\n",
       "    <tr>\n",
       "      <th>6</th>\n",
       "      <td>8</td>\n",
       "      <td>1</td>\n",
       "      <td>404463</td>\n",
       "      <td>2751.448980</td>\n",
       "    </tr>\n",
       "    <tr>\n",
       "      <th>7</th>\n",
       "      <td>49</td>\n",
       "      <td>1</td>\n",
       "      <td>386589</td>\n",
       "      <td>2612.087838</td>\n",
       "    </tr>\n",
       "    <tr>\n",
       "      <th>8</th>\n",
       "      <td>50</td>\n",
       "      <td>1</td>\n",
       "      <td>372093</td>\n",
       "      <td>2514.141892</td>\n",
       "    </tr>\n",
       "    <tr>\n",
       "      <th>9</th>\n",
       "      <td>11</td>\n",
       "      <td>1</td>\n",
       "      <td>336187</td>\n",
       "      <td>2286.986395</td>\n",
       "    </tr>\n",
       "  </tbody>\n",
       "</table>\n",
       "</div>"
      ],
      "text/plain": [
       "   store_nbr  month     sum         mean\n",
       "0         44      1  628438  4246.202703\n",
       "1         47      1  568824  3843.405405\n",
       "2         45      1  538370  3637.635135\n",
       "3         46      1  522763  3532.182432\n",
       "4          3      1  463260  3151.428571\n",
       "5         48      1  439045  2966.520270\n",
       "6          8      1  404463  2751.448980\n",
       "7         49      1  386589  2612.087838\n",
       "8         50      1  372093  2514.141892\n",
       "9         11      1  336187  2286.986395"
      ]
     },
     "execution_count": 41,
     "metadata": {},
     "output_type": "execute_result"
    }
   ],
   "source": [
    "grouped.droplevel(0, axis = 1).reset_index().head(10)"
   ]
  },
  {
   "cell_type": "code",
   "execution_count": null,
   "metadata": {},
   "outputs": [],
   "source": []
  }
 ],
 "metadata": {
  "kernelspec": {
   "display_name": ".venv",
   "language": "python",
   "name": "python3"
  },
  "language_info": {
   "codemirror_mode": {
    "name": "ipython",
    "version": 3
   },
   "file_extension": ".py",
   "mimetype": "text/x-python",
   "name": "python",
   "nbconvert_exporter": "python",
   "pygments_lexer": "ipython3",
   "version": "3.13.2"
  }
 },
 "nbformat": 4,
 "nbformat_minor": 2
}
