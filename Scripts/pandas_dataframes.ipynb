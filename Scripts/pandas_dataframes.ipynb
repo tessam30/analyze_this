{
 "cells": [
  {
   "cell_type": "markdown",
   "metadata": {},
   "source": [
    "### Introduction to Pandas Dataframes"
   ]
  },
  {
   "cell_type": "markdown",
   "metadata": {},
   "source": [
    "# Data frames have five properties\n",
    "1. __shape__: rows and columns of a dateframe (`df.shape`)\n",
    "1. __index__: row index of the dataframe, 0 by default (`df.index`)\n",
    "1. __columns__: column index of the dataframe (`df.columns`)\n",
    "1. __axes__: row and column indices (`df.axes`)\n",
    "1. __dtypes__: data types (`df.dtypes`)"
   ]
  },
  {
   "cell_type": "code",
   "execution_count": 158,
   "metadata": {},
   "outputs": [
    {
     "name": "stdout",
     "output_type": "stream",
     "text": [
      "/Users/tim/Documents/Github/analyze_this/Scripts\n"
     ]
    }
   ],
   "source": [
    "import numpy as np\n",
    "import pandas as pd\n",
    "import os\n",
    "\n",
    "# Print out the base path\n",
    "print(os.getcwd())"
   ]
  },
  {
   "cell_type": "code",
   "execution_count": 166,
   "metadata": {},
   "outputs": [],
   "source": [
    "# Set paths that will be called\n",
    "# Working from the Scripts folder as the base path\n",
    "exercise_path = '../Python/Exercise Files/Pandas Course Resources/Pandas Course Resources/retail/'"
   ]
  },
  {
   "cell_type": "code",
   "execution_count": null,
   "metadata": {},
   "outputs": [],
   "source": [
    "# To see what is in each different directory\n",
    "for root, dirs, files in os.walk(\".\"): #or os.walk(\"..\") to start at parent directory\n",
    "    print(\"Current Directory:\", root)\n",
    "    print(\"Subdirectories:\", dirs)\n",
    "    print(\"Files:\", files)\n",
    "    print(\"-\" * 40)"
   ]
  },
  {
   "cell_type": "code",
   "execution_count": 4,
   "metadata": {},
   "outputs": [
    {
     "data": {
      "application/vnd.microsoft.datawrangler.viewer.v0+json": {
       "columns": [
        {
         "name": "index",
         "rawType": "int64",
         "type": "integer"
        },
        {
         "name": "id",
         "rawType": "int64",
         "type": "integer"
        },
        {
         "name": "store_nbr",
         "rawType": "int64",
         "type": "integer"
        },
        {
         "name": "family",
         "rawType": "object",
         "type": "string"
        }
       ],
       "conversionMethod": "pd.DataFrame",
       "ref": "62356553-f5d2-4022-b2fe-9e0db2680794",
       "rows": [
        [
         "0",
         "1",
         "1",
         "POULTRY"
        ],
        [
         "1",
         "2",
         "2",
         "PRODUCE"
        ]
       ],
       "shape": {
        "columns": 3,
        "rows": 2
       }
      },
      "text/html": [
       "<div>\n",
       "<style scoped>\n",
       "    .dataframe tbody tr th:only-of-type {\n",
       "        vertical-align: middle;\n",
       "    }\n",
       "\n",
       "    .dataframe tbody tr th {\n",
       "        vertical-align: top;\n",
       "    }\n",
       "\n",
       "    .dataframe thead th {\n",
       "        text-align: right;\n",
       "    }\n",
       "</style>\n",
       "<table border=\"1\" class=\"dataframe\">\n",
       "  <thead>\n",
       "    <tr style=\"text-align: right;\">\n",
       "      <th></th>\n",
       "      <th>id</th>\n",
       "      <th>store_nbr</th>\n",
       "      <th>family</th>\n",
       "    </tr>\n",
       "  </thead>\n",
       "  <tbody>\n",
       "    <tr>\n",
       "      <th>0</th>\n",
       "      <td>1</td>\n",
       "      <td>1</td>\n",
       "      <td>POULTRY</td>\n",
       "    </tr>\n",
       "    <tr>\n",
       "      <th>1</th>\n",
       "      <td>2</td>\n",
       "      <td>2</td>\n",
       "      <td>PRODUCE</td>\n",
       "    </tr>\n",
       "  </tbody>\n",
       "</table>\n",
       "</div>"
      ],
      "text/plain": [
       "   id  store_nbr   family\n",
       "0   1          1  POULTRY\n",
       "1   2          2  PRODUCE"
      ]
     },
     "execution_count": 4,
     "metadata": {},
     "output_type": "execute_result"
    }
   ],
   "source": [
    "# You can create a dataframe from a numpy array or a python dictionary\n",
    "pd.DataFrame(\n",
    "    {'id':[1, 2], \n",
    "    'store_nbr':[1, 2],\n",
    "    'family':['POULTRY', 'PRODUCE']\n",
    "    }\n",
    ")"
   ]
  },
  {
   "cell_type": "code",
   "execution_count": 5,
   "metadata": {},
   "outputs": [
    {
     "data": {
      "text/plain": [
       "(1218, 2)"
      ]
     },
     "execution_count": 5,
     "metadata": {},
     "output_type": "execute_result"
    }
   ],
   "source": [
    "# Read csv for importing data\n",
    "oil_path = os.path.join(exercise_path, 'oil.csv')  \n",
    "oil_df = pd.read_csv(oil_path)\n",
    "oil_df.shape"
   ]
  },
  {
   "cell_type": "code",
   "execution_count": 6,
   "metadata": {},
   "outputs": [
    {
     "data": {
      "application/vnd.microsoft.datawrangler.viewer.v0+json": {
       "columns": [
        {
         "name": "index",
         "rawType": "int64",
         "type": "integer"
        },
        {
         "name": "date",
         "rawType": "object",
         "type": "string"
        },
        {
         "name": "dcoilwtico",
         "rawType": "float64",
         "type": "float"
        }
       ],
       "conversionMethod": "pd.DataFrame",
       "ref": "a14a2beb-2ba0-4224-9435-a82be7f29bc8",
       "rows": [
        [
         "0",
         "2013-01-01",
         null
        ],
        [
         "1",
         "2013-01-02",
         "93.14"
        ],
        [
         "2",
         "2013-01-03",
         "92.97"
        ],
        [
         "3",
         "2013-01-04",
         "93.12"
        ],
        [
         "4",
         "2013-01-07",
         "93.2"
        ]
       ],
       "shape": {
        "columns": 2,
        "rows": 5
       }
      },
      "text/html": [
       "<div>\n",
       "<style scoped>\n",
       "    .dataframe tbody tr th:only-of-type {\n",
       "        vertical-align: middle;\n",
       "    }\n",
       "\n",
       "    .dataframe tbody tr th {\n",
       "        vertical-align: top;\n",
       "    }\n",
       "\n",
       "    .dataframe thead th {\n",
       "        text-align: right;\n",
       "    }\n",
       "</style>\n",
       "<table border=\"1\" class=\"dataframe\">\n",
       "  <thead>\n",
       "    <tr style=\"text-align: right;\">\n",
       "      <th></th>\n",
       "      <th>date</th>\n",
       "      <th>dcoilwtico</th>\n",
       "    </tr>\n",
       "  </thead>\n",
       "  <tbody>\n",
       "    <tr>\n",
       "      <th>0</th>\n",
       "      <td>2013-01-01</td>\n",
       "      <td>NaN</td>\n",
       "    </tr>\n",
       "    <tr>\n",
       "      <th>1</th>\n",
       "      <td>2013-01-02</td>\n",
       "      <td>93.14</td>\n",
       "    </tr>\n",
       "    <tr>\n",
       "      <th>2</th>\n",
       "      <td>2013-01-03</td>\n",
       "      <td>92.97</td>\n",
       "    </tr>\n",
       "    <tr>\n",
       "      <th>3</th>\n",
       "      <td>2013-01-04</td>\n",
       "      <td>93.12</td>\n",
       "    </tr>\n",
       "    <tr>\n",
       "      <th>4</th>\n",
       "      <td>2013-01-07</td>\n",
       "      <td>93.20</td>\n",
       "    </tr>\n",
       "  </tbody>\n",
       "</table>\n",
       "</div>"
      ],
      "text/plain": [
       "         date  dcoilwtico\n",
       "0  2013-01-01         NaN\n",
       "1  2013-01-02       93.14\n",
       "2  2013-01-03       92.97\n",
       "3  2013-01-04       93.12\n",
       "4  2013-01-07       93.20"
      ]
     },
     "execution_count": 6,
     "metadata": {},
     "output_type": "execute_result"
    }
   ],
   "source": [
    "oil_df.head()"
   ]
  },
  {
   "cell_type": "code",
   "execution_count": 7,
   "metadata": {},
   "outputs": [
    {
     "data": {
      "text/plain": [
       "Index(['date', 'dcoilwtico'], dtype='object')"
      ]
     },
     "execution_count": 7,
     "metadata": {},
     "output_type": "execute_result"
    }
   ],
   "source": [
    "oil_df.columns"
   ]
  },
  {
   "cell_type": "code",
   "execution_count": 8,
   "metadata": {},
   "outputs": [
    {
     "data": {
      "application/vnd.microsoft.datawrangler.viewer.v0+json": {
       "columns": [
        {
         "name": "index",
         "rawType": "int64",
         "type": "integer"
        },
        {
         "name": "price_date",
         "rawType": "object",
         "type": "string"
        },
        {
         "name": "oil_price",
         "rawType": "float64",
         "type": "float"
        }
       ],
       "conversionMethod": "pd.DataFrame",
       "ref": "e3470b63-664c-48b4-b311-4c8dd62c0993",
       "rows": [
        [
         "0",
         "2013-01-01",
         null
        ],
        [
         "1",
         "2013-01-02",
         "93.14"
        ],
        [
         "2",
         "2013-01-03",
         "92.97"
        ],
        [
         "3",
         "2013-01-04",
         "93.12"
        ],
        [
         "4",
         "2013-01-07",
         "93.2"
        ],
        [
         "5",
         "2013-01-08",
         "93.21"
        ],
        [
         "6",
         "2013-01-09",
         "93.08"
        ],
        [
         "7",
         "2013-01-10",
         "93.81"
        ],
        [
         "8",
         "2013-01-11",
         "93.6"
        ],
        [
         "9",
         "2013-01-14",
         "94.27"
        ],
        [
         "10",
         "2013-01-15",
         "93.26"
        ],
        [
         "11",
         "2013-01-16",
         "94.28"
        ],
        [
         "12",
         "2013-01-17",
         "95.49"
        ],
        [
         "13",
         "2013-01-18",
         "95.61"
        ],
        [
         "14",
         "2013-01-21",
         null
        ],
        [
         "15",
         "2013-01-22",
         "96.09"
        ],
        [
         "16",
         "2013-01-23",
         "95.06"
        ],
        [
         "17",
         "2013-01-24",
         "95.35"
        ],
        [
         "18",
         "2013-01-25",
         "95.15"
        ],
        [
         "19",
         "2013-01-28",
         "95.95"
        ],
        [
         "20",
         "2013-01-29",
         "97.62"
        ],
        [
         "21",
         "2013-01-30",
         "97.98"
        ],
        [
         "22",
         "2013-01-31",
         "97.65"
        ],
        [
         "23",
         "2013-02-01",
         "97.46"
        ],
        [
         "24",
         "2013-02-04",
         "96.21"
        ],
        [
         "25",
         "2013-02-05",
         "96.68"
        ],
        [
         "26",
         "2013-02-06",
         "96.44"
        ],
        [
         "27",
         "2013-02-07",
         "95.84"
        ],
        [
         "28",
         "2013-02-08",
         "95.71"
        ],
        [
         "29",
         "2013-02-11",
         "97.01"
        ],
        [
         "30",
         "2013-02-12",
         "97.48"
        ],
        [
         "31",
         "2013-02-13",
         "97.03"
        ],
        [
         "32",
         "2013-02-14",
         "97.3"
        ],
        [
         "33",
         "2013-02-15",
         "95.95"
        ],
        [
         "34",
         "2013-02-18",
         null
        ],
        [
         "35",
         "2013-02-19",
         "96.69"
        ],
        [
         "36",
         "2013-02-20",
         "94.92"
        ],
        [
         "37",
         "2013-02-21",
         "92.79"
        ],
        [
         "38",
         "2013-02-22",
         "93.12"
        ],
        [
         "39",
         "2013-02-25",
         "92.74"
        ],
        [
         "40",
         "2013-02-26",
         "92.63"
        ],
        [
         "41",
         "2013-02-27",
         "92.84"
        ],
        [
         "42",
         "2013-02-28",
         "92.03"
        ],
        [
         "43",
         "2013-03-01",
         "90.71"
        ],
        [
         "44",
         "2013-03-04",
         "90.13"
        ],
        [
         "45",
         "2013-03-05",
         "90.88"
        ],
        [
         "46",
         "2013-03-06",
         "90.47"
        ],
        [
         "47",
         "2013-03-07",
         "91.53"
        ],
        [
         "48",
         "2013-03-08",
         "92.01"
        ],
        [
         "49",
         "2013-03-11",
         "92.07"
        ]
       ],
       "shape": {
        "columns": 2,
        "rows": 1218
       }
      },
      "text/html": [
       "<div>\n",
       "<style scoped>\n",
       "    .dataframe tbody tr th:only-of-type {\n",
       "        vertical-align: middle;\n",
       "    }\n",
       "\n",
       "    .dataframe tbody tr th {\n",
       "        vertical-align: top;\n",
       "    }\n",
       "\n",
       "    .dataframe thead th {\n",
       "        text-align: right;\n",
       "    }\n",
       "</style>\n",
       "<table border=\"1\" class=\"dataframe\">\n",
       "  <thead>\n",
       "    <tr style=\"text-align: right;\">\n",
       "      <th></th>\n",
       "      <th>price_date</th>\n",
       "      <th>oil_price</th>\n",
       "    </tr>\n",
       "  </thead>\n",
       "  <tbody>\n",
       "    <tr>\n",
       "      <th>0</th>\n",
       "      <td>2013-01-01</td>\n",
       "      <td>NaN</td>\n",
       "    </tr>\n",
       "    <tr>\n",
       "      <th>1</th>\n",
       "      <td>2013-01-02</td>\n",
       "      <td>93.14</td>\n",
       "    </tr>\n",
       "    <tr>\n",
       "      <th>2</th>\n",
       "      <td>2013-01-03</td>\n",
       "      <td>92.97</td>\n",
       "    </tr>\n",
       "    <tr>\n",
       "      <th>3</th>\n",
       "      <td>2013-01-04</td>\n",
       "      <td>93.12</td>\n",
       "    </tr>\n",
       "    <tr>\n",
       "      <th>4</th>\n",
       "      <td>2013-01-07</td>\n",
       "      <td>93.20</td>\n",
       "    </tr>\n",
       "    <tr>\n",
       "      <th>...</th>\n",
       "      <td>...</td>\n",
       "      <td>...</td>\n",
       "    </tr>\n",
       "    <tr>\n",
       "      <th>1213</th>\n",
       "      <td>2017-08-25</td>\n",
       "      <td>47.65</td>\n",
       "    </tr>\n",
       "    <tr>\n",
       "      <th>1214</th>\n",
       "      <td>2017-08-28</td>\n",
       "      <td>46.40</td>\n",
       "    </tr>\n",
       "    <tr>\n",
       "      <th>1215</th>\n",
       "      <td>2017-08-29</td>\n",
       "      <td>46.46</td>\n",
       "    </tr>\n",
       "    <tr>\n",
       "      <th>1216</th>\n",
       "      <td>2017-08-30</td>\n",
       "      <td>45.96</td>\n",
       "    </tr>\n",
       "    <tr>\n",
       "      <th>1217</th>\n",
       "      <td>2017-08-31</td>\n",
       "      <td>47.26</td>\n",
       "    </tr>\n",
       "  </tbody>\n",
       "</table>\n",
       "<p>1218 rows × 2 columns</p>\n",
       "</div>"
      ],
      "text/plain": [
       "      price_date  oil_price\n",
       "0     2013-01-01        NaN\n",
       "1     2013-01-02      93.14\n",
       "2     2013-01-03      92.97\n",
       "3     2013-01-04      93.12\n",
       "4     2013-01-07      93.20\n",
       "...          ...        ...\n",
       "1213  2017-08-25      47.65\n",
       "1214  2017-08-28      46.40\n",
       "1215  2017-08-29      46.46\n",
       "1216  2017-08-30      45.96\n",
       "1217  2017-08-31      47.26\n",
       "\n",
       "[1218 rows x 2 columns]"
      ]
     },
     "execution_count": 8,
     "metadata": {},
     "output_type": "execute_result"
    }
   ],
   "source": [
    "oil_df.columns = ['price_date', 'oil_price']\n",
    "oil_df"
   ]
  },
  {
   "cell_type": "code",
   "execution_count": 9,
   "metadata": {},
   "outputs": [
    {
     "data": {
      "text/plain": [
       "[RangeIndex(start=0, stop=1218, step=1),\n",
       " Index(['price_date', 'oil_price'], dtype='object')]"
      ]
     },
     "execution_count": 9,
     "metadata": {},
     "output_type": "execute_result"
    }
   ],
   "source": [
    "oil_df.axes"
   ]
  },
  {
   "cell_type": "code",
   "execution_count": 10,
   "metadata": {},
   "outputs": [
    {
     "data": {
      "text/plain": [
       "price_date     object\n",
       "oil_price     float64\n",
       "dtype: object"
      ]
     },
     "execution_count": 10,
     "metadata": {},
     "output_type": "execute_result"
    }
   ],
   "source": [
    "oil_df.dtypes"
   ]
  },
  {
   "cell_type": "markdown",
   "metadata": {},
   "source": [
    "### Exercise: Reading in Transactions data"
   ]
  },
  {
   "cell_type": "code",
   "execution_count": 167,
   "metadata": {},
   "outputs": [
    {
     "name": "stdout",
     "output_type": "stream",
     "text": [
      "['retail_2016_2017.csv', '.ipynb_checkpoints', 'transactions.csv', 'oil.csv', 'stores.csv']\n"
     ]
    }
   ],
   "source": [
    "# What's in the retail folder?\n",
    "print(f'{os.listdir(\"../Python/Exercise Files/Pandas Course Resources/Pandas Course Resources/retail/\")}')"
   ]
  },
  {
   "cell_type": "code",
   "execution_count": 168,
   "metadata": {},
   "outputs": [
    {
     "data": {
      "application/vnd.microsoft.datawrangler.viewer.v0+json": {
       "columns": [
        {
         "name": "index",
         "rawType": "int64",
         "type": "integer"
        },
        {
         "name": "date",
         "rawType": "object",
         "type": "string"
        },
        {
         "name": "store_nbr",
         "rawType": "int64",
         "type": "integer"
        },
        {
         "name": "transactions",
         "rawType": "int64",
         "type": "integer"
        }
       ],
       "conversionMethod": "pd.DataFrame",
       "ref": "29cc40cc-7bd7-40fc-8673-a82ff91b4b6e",
       "rows": [
        [
         "0",
         "2013-01-01",
         "25",
         "770"
        ],
        [
         "1",
         "2013-01-02",
         "1",
         "2111"
        ],
        [
         "2",
         "2013-01-02",
         "2",
         "2358"
        ],
        [
         "3",
         "2013-01-02",
         "3",
         "3487"
        ],
        [
         "4",
         "2013-01-02",
         "4",
         "1922"
        ],
        [
         "5",
         "2013-01-02",
         "5",
         "1903"
        ],
        [
         "6",
         "2013-01-02",
         "6",
         "2143"
        ],
        [
         "7",
         "2013-01-02",
         "7",
         "1874"
        ],
        [
         "8",
         "2013-01-02",
         "8",
         "3250"
        ],
        [
         "9",
         "2013-01-02",
         "9",
         "2940"
        ],
        [
         "10",
         "2013-01-02",
         "10",
         "1293"
        ],
        [
         "11",
         "2013-01-02",
         "11",
         "3547"
        ],
        [
         "12",
         "2013-01-02",
         "12",
         "1362"
        ],
        [
         "13",
         "2013-01-02",
         "13",
         "1102"
        ],
        [
         "14",
         "2013-01-02",
         "14",
         "2002"
        ],
        [
         "15",
         "2013-01-02",
         "15",
         "1622"
        ],
        [
         "16",
         "2013-01-02",
         "16",
         "1167"
        ],
        [
         "17",
         "2013-01-02",
         "17",
         "1580"
        ],
        [
         "18",
         "2013-01-02",
         "18",
         "1635"
        ],
        [
         "19",
         "2013-01-02",
         "19",
         "1369"
        ],
        [
         "20",
         "2013-01-02",
         "23",
         "1381"
        ],
        [
         "21",
         "2013-01-02",
         "24",
         "2605"
        ],
        [
         "22",
         "2013-01-02",
         "25",
         "1038"
        ],
        [
         "23",
         "2013-01-02",
         "26",
         "1008"
        ],
        [
         "24",
         "2013-01-02",
         "27",
         "1386"
        ],
        [
         "25",
         "2013-01-02",
         "28",
         "950"
        ],
        [
         "26",
         "2013-01-02",
         "30",
         "708"
        ],
        [
         "27",
         "2013-01-02",
         "31",
         "1401"
        ],
        [
         "28",
         "2013-01-02",
         "32",
         "776"
        ],
        [
         "29",
         "2013-01-02",
         "33",
         "1163"
        ],
        [
         "30",
         "2013-01-02",
         "34",
         "2724"
        ],
        [
         "31",
         "2013-01-02",
         "35",
         "786"
        ],
        [
         "32",
         "2013-01-02",
         "37",
         "1691"
        ],
        [
         "33",
         "2013-01-02",
         "38",
         "1987"
        ],
        [
         "34",
         "2013-01-02",
         "39",
         "1587"
        ],
        [
         "35",
         "2013-01-02",
         "40",
         "1178"
        ],
        [
         "36",
         "2013-01-02",
         "41",
         "915"
        ],
        [
         "37",
         "2013-01-02",
         "43",
         "1385"
        ],
        [
         "38",
         "2013-01-02",
         "44",
         "4821"
        ],
        [
         "39",
         "2013-01-02",
         "45",
         "4208"
        ],
        [
         "40",
         "2013-01-02",
         "46",
         "4886"
        ],
        [
         "41",
         "2013-01-02",
         "47",
         "4161"
        ],
        [
         "42",
         "2013-01-02",
         "48",
         "3397"
        ],
        [
         "43",
         "2013-01-02",
         "49",
         "2346"
        ],
        [
         "44",
         "2013-01-02",
         "50",
         "3077"
        ],
        [
         "45",
         "2013-01-02",
         "51",
         "1985"
        ],
        [
         "46",
         "2013-01-02",
         "54",
         "998"
        ],
        [
         "47",
         "2013-01-03",
         "1",
         "1833"
        ],
        [
         "48",
         "2013-01-03",
         "2",
         "2033"
        ],
        [
         "49",
         "2013-01-03",
         "3",
         "3026"
        ]
       ],
       "shape": {
        "columns": 3,
        "rows": 83488
       }
      },
      "text/html": [
       "<div>\n",
       "<style scoped>\n",
       "    .dataframe tbody tr th:only-of-type {\n",
       "        vertical-align: middle;\n",
       "    }\n",
       "\n",
       "    .dataframe tbody tr th {\n",
       "        vertical-align: top;\n",
       "    }\n",
       "\n",
       "    .dataframe thead th {\n",
       "        text-align: right;\n",
       "    }\n",
       "</style>\n",
       "<table border=\"1\" class=\"dataframe\">\n",
       "  <thead>\n",
       "    <tr style=\"text-align: right;\">\n",
       "      <th></th>\n",
       "      <th>date</th>\n",
       "      <th>store_nbr</th>\n",
       "      <th>transactions</th>\n",
       "    </tr>\n",
       "  </thead>\n",
       "  <tbody>\n",
       "    <tr>\n",
       "      <th>0</th>\n",
       "      <td>2013-01-01</td>\n",
       "      <td>25</td>\n",
       "      <td>770</td>\n",
       "    </tr>\n",
       "    <tr>\n",
       "      <th>1</th>\n",
       "      <td>2013-01-02</td>\n",
       "      <td>1</td>\n",
       "      <td>2111</td>\n",
       "    </tr>\n",
       "    <tr>\n",
       "      <th>2</th>\n",
       "      <td>2013-01-02</td>\n",
       "      <td>2</td>\n",
       "      <td>2358</td>\n",
       "    </tr>\n",
       "    <tr>\n",
       "      <th>3</th>\n",
       "      <td>2013-01-02</td>\n",
       "      <td>3</td>\n",
       "      <td>3487</td>\n",
       "    </tr>\n",
       "    <tr>\n",
       "      <th>4</th>\n",
       "      <td>2013-01-02</td>\n",
       "      <td>4</td>\n",
       "      <td>1922</td>\n",
       "    </tr>\n",
       "    <tr>\n",
       "      <th>...</th>\n",
       "      <td>...</td>\n",
       "      <td>...</td>\n",
       "      <td>...</td>\n",
       "    </tr>\n",
       "    <tr>\n",
       "      <th>83483</th>\n",
       "      <td>2017-08-15</td>\n",
       "      <td>50</td>\n",
       "      <td>2804</td>\n",
       "    </tr>\n",
       "    <tr>\n",
       "      <th>83484</th>\n",
       "      <td>2017-08-15</td>\n",
       "      <td>51</td>\n",
       "      <td>1573</td>\n",
       "    </tr>\n",
       "    <tr>\n",
       "      <th>83485</th>\n",
       "      <td>2017-08-15</td>\n",
       "      <td>52</td>\n",
       "      <td>2255</td>\n",
       "    </tr>\n",
       "    <tr>\n",
       "      <th>83486</th>\n",
       "      <td>2017-08-15</td>\n",
       "      <td>53</td>\n",
       "      <td>932</td>\n",
       "    </tr>\n",
       "    <tr>\n",
       "      <th>83487</th>\n",
       "      <td>2017-08-15</td>\n",
       "      <td>54</td>\n",
       "      <td>802</td>\n",
       "    </tr>\n",
       "  </tbody>\n",
       "</table>\n",
       "<p>83488 rows × 3 columns</p>\n",
       "</div>"
      ],
      "text/plain": [
       "             date  store_nbr  transactions\n",
       "0      2013-01-01         25           770\n",
       "1      2013-01-02          1          2111\n",
       "2      2013-01-02          2          2358\n",
       "3      2013-01-02          3          3487\n",
       "4      2013-01-02          4          1922\n",
       "...           ...        ...           ...\n",
       "83483  2017-08-15         50          2804\n",
       "83484  2017-08-15         51          1573\n",
       "83485  2017-08-15         52          2255\n",
       "83486  2017-08-15         53           932\n",
       "83487  2017-08-15         54           802\n",
       "\n",
       "[83488 rows x 3 columns]"
      ]
     },
     "execution_count": 168,
     "metadata": {},
     "output_type": "execute_result"
    }
   ],
   "source": [
    "# Read in the transactions data from the base path\n",
    "transactions_path = os.path.join(exercise_path, 'transactions.csv')\n",
    "transactions = pd.read_csv(transactions_path)\n",
    "transactions"
   ]
  },
  {
   "cell_type": "code",
   "execution_count": 37,
   "metadata": {},
   "outputs": [
    {
     "name": "stdout",
     "output_type": "stream",
     "text": [
      "The size of the data is: (83488, 3) \n",
      "Index(['date', 'store_nbr', 'transactions'], dtype='object')\n",
      "date            object\n",
      "store_nbr        int64\n",
      "transactions     int64\n",
      "dtype: object\n"
     ]
    }
   ],
   "source": [
    "print(f'The size of the data is: {transactions.shape} \\n{transactions.columns}\\n{transactions.dtypes}')"
   ]
  },
  {
   "cell_type": "code",
   "execution_count": 50,
   "metadata": {},
   "outputs": [
    {
     "name": "stdout",
     "output_type": "stream",
     "text": [
      "<class 'pandas.core.frame.DataFrame'>\n",
      "RangeIndex: 83488 entries, 0 to 83487\n",
      "Data columns (total 3 columns):\n",
      " #   Column        Non-Null Count  Dtype \n",
      "---  ------        --------------  ----- \n",
      " 0   date          83488 non-null  object\n",
      " 1   store_nbr     83488 non-null  int64 \n",
      " 2   transactions  83488 non-null  int64 \n",
      "dtypes: int64(2), object(1)\n",
      "memory usage: 1.9+ MB\n",
      "to see the top          date  store_nbr  transactions\n",
      "0  2013-01-01         25           770\n",
      "1  2013-01-02          1          2111 \n",
      "for the bottom              date  store_nbr  transactions\n",
      "83486  2017-08-15         53           932\n",
      "83487  2017-08-15         54           802\n",
      "      \n",
      "to grab a sample              date  store_nbr  transactions\n",
      "2545   2013-02-26         15          1317\n",
      "31113  2014-10-30         49          2405\n",
      "33326  2014-12-16          1          2026\n",
      "1686   2013-02-07         34          2579\n",
      "26014  2014-07-15         39          1479\n",
      "      \n",
      "for reviewing the information None,\n",
      "      \n",
      "for details on the data           store_nbr  transactions\n",
      "count  83488.000000  83488.000000\n",
      "mean      26.939237   1694.602158\n",
      "std       15.608204    963.286644\n",
      "min        1.000000      5.000000\n",
      "25%       13.000000   1046.000000\n",
      "50%       27.000000   1393.000000\n",
      "75%       40.000000   2079.000000\n",
      "max       54.000000   8359.000000\n",
      "      \n"
     ]
    }
   ],
   "source": [
    "# There are a couple of key commands we can use to explore what's in a data frame\n",
    "print(f\"\"\"to see the top {transactions.head(2)} \\nfor the bottom {transactions.tail(2)}\n",
    "      \\nto grab a sample {transactions.sample(5)}\n",
    "      \\nfor reviewing the information {transactions.info()},\n",
    "      \\nfor details on the data {transactions.describe()}\n",
    "      \"\"\")"
   ]
  },
  {
   "cell_type": "code",
   "execution_count": 55,
   "metadata": {},
   "outputs": [
    {
     "data": {
      "application/vnd.microsoft.datawrangler.viewer.v0+json": {
       "columns": [
        {
         "name": "index",
         "rawType": "int64",
         "type": "integer"
        },
        {
         "name": "date",
         "rawType": "object",
         "type": "string"
        },
        {
         "name": "store_nbr",
         "rawType": "int64",
         "type": "integer"
        },
        {
         "name": "transactions",
         "rawType": "int64",
         "type": "integer"
        }
       ],
       "conversionMethod": "pd.DataFrame",
       "ref": "ff1eabe4-62b1-4ac7-b147-5b27c56a7942",
       "rows": [
        [
         "4387",
         "2013-04-07",
         "17",
         "1500"
        ],
        [
         "8131",
         "2013-06-26",
         "41",
         "792"
        ],
        [
         "37114",
         "2015-03-06",
         "25",
         "1238"
        ],
        [
         "74716",
         "2017-03-05",
         "39",
         "1664"
        ],
        [
         "75348",
         "2017-03-17",
         "35",
         "726"
        ],
        [
         "22961",
         "2014-05-11",
         "18",
         "1259"
        ],
        [
         "15276",
         "2013-11-26",
         "14",
         "1477"
        ],
        [
         "81550",
         "2017-07-11",
         "7",
         "1752"
        ],
        [
         "52962",
         "2016-01-14",
         "44",
         "3784"
        ],
        [
         "45776",
         "2015-08-27",
         "20",
         "1430"
        ],
        [
         "40071",
         "2015-05-05",
         "33",
         "1113"
        ],
        [
         "2449",
         "2013-02-24",
         "11",
         "2503"
        ],
        [
         "82235",
         "2017-07-23",
         "44",
         "5294"
        ],
        [
         "24523",
         "2014-06-13",
         "54",
         "785"
        ],
        [
         "47759",
         "2015-10-04",
         "28",
         "1393"
        ],
        [
         "20506",
         "2014-03-19",
         "30",
         "660"
        ],
        [
         "28227",
         "2014-08-31",
         "32",
         "745"
        ],
        [
         "72609",
         "2017-01-24",
         "53",
         "916"
        ],
        [
         "41296",
         "2015-05-30",
         "31",
         "1767"
        ],
        [
         "65412",
         "2016-09-06",
         "27",
         "1508"
        ],
        [
         "26566",
         "2014-07-27",
         "19",
         "1063"
        ],
        [
         "38156",
         "2015-03-27",
         "31",
         "1290"
        ],
        [
         "40093",
         "2015-05-06",
         "3",
         "3197"
        ],
        [
         "60790",
         "2016-06-10",
         "30",
         "636"
        ],
        [
         "18776",
         "2014-02-10",
         "39",
         "1427"
        ],
        [
         "52254",
         "2015-12-29",
         "22",
         "758"
        ],
        [
         "6888",
         "2013-05-31",
         "12",
         "1261"
        ],
        [
         "58006",
         "2016-04-19",
         "2",
         "2512"
        ],
        [
         "59963",
         "2016-05-25",
         "51",
         "1618"
        ],
        [
         "34473",
         "2015-01-10",
         "48",
         "3785"
        ],
        [
         "69428",
         "2016-11-23",
         "43",
         "1278"
        ],
        [
         "47795",
         "2015-10-05",
         "11",
         "2335"
        ],
        [
         "28872",
         "2014-09-14",
         "11",
         "2763"
        ],
        [
         "60606",
         "2016-06-07",
         "5",
         "1252"
        ],
        [
         "7356",
         "2013-06-10",
         "10",
         "1139"
        ],
        [
         "33348",
         "2014-12-16",
         "26",
         "799"
        ],
        [
         "69564",
         "2016-11-26",
         "23",
         "1033"
        ],
        [
         "68325",
         "2016-11-02",
         "28",
         "1413"
        ],
        [
         "56351",
         "2016-03-18",
         "41",
         "981"
        ],
        [
         "69742",
         "2016-11-29",
         "45",
         "2941"
        ],
        [
         "75927",
         "2017-03-28",
         "31",
         "1311"
        ],
        [
         "58524",
         "2016-04-28",
         "43",
         "1081"
        ],
        [
         "52345",
         "2015-12-31",
         "7",
         "1924"
        ],
        [
         "48719",
         "2015-10-22",
         "38",
         "1272"
        ],
        [
         "83175",
         "2017-08-10",
         "12",
         "1182"
        ],
        [
         "68287",
         "2016-11-01",
         "42",
         "1077"
        ],
        [
         "27038",
         "2014-08-06",
         "13",
         "893"
        ],
        [
         "3738",
         "2013-03-24",
         "12",
         "1291"
        ],
        [
         "75600",
         "2017-03-22",
         "22",
         "762"
        ],
        [
         "41338",
         "2015-05-31",
         "23",
         "1123"
        ]
       ],
       "shape": {
        "columns": 3,
        "rows": 100
       }
      },
      "text/html": [
       "<div>\n",
       "<style scoped>\n",
       "    .dataframe tbody tr th:only-of-type {\n",
       "        vertical-align: middle;\n",
       "    }\n",
       "\n",
       "    .dataframe tbody tr th {\n",
       "        vertical-align: top;\n",
       "    }\n",
       "\n",
       "    .dataframe thead th {\n",
       "        text-align: right;\n",
       "    }\n",
       "</style>\n",
       "<table border=\"1\" class=\"dataframe\">\n",
       "  <thead>\n",
       "    <tr style=\"text-align: right;\">\n",
       "      <th></th>\n",
       "      <th>date</th>\n",
       "      <th>store_nbr</th>\n",
       "      <th>transactions</th>\n",
       "    </tr>\n",
       "  </thead>\n",
       "  <tbody>\n",
       "    <tr>\n",
       "      <th>4387</th>\n",
       "      <td>2013-04-07</td>\n",
       "      <td>17</td>\n",
       "      <td>1500</td>\n",
       "    </tr>\n",
       "    <tr>\n",
       "      <th>8131</th>\n",
       "      <td>2013-06-26</td>\n",
       "      <td>41</td>\n",
       "      <td>792</td>\n",
       "    </tr>\n",
       "    <tr>\n",
       "      <th>37114</th>\n",
       "      <td>2015-03-06</td>\n",
       "      <td>25</td>\n",
       "      <td>1238</td>\n",
       "    </tr>\n",
       "    <tr>\n",
       "      <th>74716</th>\n",
       "      <td>2017-03-05</td>\n",
       "      <td>39</td>\n",
       "      <td>1664</td>\n",
       "    </tr>\n",
       "    <tr>\n",
       "      <th>75348</th>\n",
       "      <td>2017-03-17</td>\n",
       "      <td>35</td>\n",
       "      <td>726</td>\n",
       "    </tr>\n",
       "    <tr>\n",
       "      <th>...</th>\n",
       "      <td>...</td>\n",
       "      <td>...</td>\n",
       "      <td>...</td>\n",
       "    </tr>\n",
       "    <tr>\n",
       "      <th>3563</th>\n",
       "      <td>2013-03-20</td>\n",
       "      <td>24</td>\n",
       "      <td>2769</td>\n",
       "    </tr>\n",
       "    <tr>\n",
       "      <th>69095</th>\n",
       "      <td>2016-11-17</td>\n",
       "      <td>21</td>\n",
       "      <td>822</td>\n",
       "    </tr>\n",
       "    <tr>\n",
       "      <th>32533</th>\n",
       "      <td>2014-11-29</td>\n",
       "      <td>27</td>\n",
       "      <td>1769</td>\n",
       "    </tr>\n",
       "    <tr>\n",
       "      <th>27753</th>\n",
       "      <td>2014-08-21</td>\n",
       "      <td>27</td>\n",
       "      <td>1212</td>\n",
       "    </tr>\n",
       "    <tr>\n",
       "      <th>54121</th>\n",
       "      <td>2016-02-05</td>\n",
       "      <td>37</td>\n",
       "      <td>1866</td>\n",
       "    </tr>\n",
       "  </tbody>\n",
       "</table>\n",
       "<p>100 rows × 3 columns</p>\n",
       "</div>"
      ],
      "text/plain": [
       "             date  store_nbr  transactions\n",
       "4387   2013-04-07         17          1500\n",
       "8131   2013-06-26         41           792\n",
       "37114  2015-03-06         25          1238\n",
       "74716  2017-03-05         39          1664\n",
       "75348  2017-03-17         35           726\n",
       "...           ...        ...           ...\n",
       "3563   2013-03-20         24          2769\n",
       "69095  2016-11-17         21           822\n",
       "32533  2014-11-29         27          1769\n",
       "27753  2014-08-21         27          1212\n",
       "54121  2016-02-05         37          1866\n",
       "\n",
       "[100 rows x 3 columns]"
      ]
     },
     "execution_count": 55,
     "metadata": {},
     "output_type": "execute_result"
    }
   ],
   "source": [
    "# Create a random sample with a random state\n",
    "transactions.sample(100, random_state=42)"
   ]
  },
  {
   "cell_type": "code",
   "execution_count": 56,
   "metadata": {},
   "outputs": [
    {
     "name": "stdout",
     "output_type": "stream",
     "text": [
      "<class 'pandas.core.frame.DataFrame'>\n",
      "RangeIndex: 83488 entries, 0 to 83487\n",
      "Data columns (total 3 columns):\n",
      " #   Column        Non-Null Count  Dtype \n",
      "---  ------        --------------  ----- \n",
      " 0   date          83488 non-null  object\n",
      " 1   store_nbr     83488 non-null  int64 \n",
      " 2   transactions  83488 non-null  int64 \n",
      "dtypes: int64(2), object(1)\n",
      "memory usage: 1.9+ MB\n"
     ]
    }
   ],
   "source": [
    "transactions.info()"
   ]
  },
  {
   "cell_type": "code",
   "execution_count": null,
   "metadata": {},
   "outputs": [
    {
     "data": {
      "application/vnd.microsoft.datawrangler.viewer.v0+json": {
       "columns": [
        {
         "name": "index",
         "rawType": "object",
         "type": "string"
        },
        {
         "name": "date",
         "rawType": "object",
         "type": "unknown"
        },
        {
         "name": "store_nbr",
         "rawType": "float64",
         "type": "float"
        },
        {
         "name": "transactions",
         "rawType": "float64",
         "type": "float"
        }
       ],
       "conversionMethod": "pd.DataFrame",
       "ref": "4e3a0ef5-28ef-4ed9-8f64-564d70f978be",
       "rows": [
        [
         "count",
         "83488",
         "83488.0",
         "83488.0"
        ],
        [
         "unique",
         "1682",
         null,
         null
        ],
        [
         "top",
         "2017-07-29",
         null,
         null
        ],
        [
         "freq",
         "54",
         null,
         null
        ],
        [
         "mean",
         null,
         "27.0",
         "1695.0"
        ],
        [
         "std",
         null,
         "16.0",
         "963.0"
        ],
        [
         "min",
         null,
         "1.0",
         "5.0"
        ],
        [
         "25%",
         null,
         "13.0",
         "1046.0"
        ],
        [
         "50%",
         null,
         "27.0",
         "1393.0"
        ],
        [
         "75%",
         null,
         "40.0",
         "2079.0"
        ],
        [
         "max",
         null,
         "54.0",
         "8359.0"
        ]
       ],
       "shape": {
        "columns": 3,
        "rows": 11
       }
      },
      "text/html": [
       "<div>\n",
       "<style scoped>\n",
       "    .dataframe tbody tr th:only-of-type {\n",
       "        vertical-align: middle;\n",
       "    }\n",
       "\n",
       "    .dataframe tbody tr th {\n",
       "        vertical-align: top;\n",
       "    }\n",
       "\n",
       "    .dataframe thead th {\n",
       "        text-align: right;\n",
       "    }\n",
       "</style>\n",
       "<table border=\"1\" class=\"dataframe\">\n",
       "  <thead>\n",
       "    <tr style=\"text-align: right;\">\n",
       "      <th></th>\n",
       "      <th>date</th>\n",
       "      <th>store_nbr</th>\n",
       "      <th>transactions</th>\n",
       "    </tr>\n",
       "  </thead>\n",
       "  <tbody>\n",
       "    <tr>\n",
       "      <th>count</th>\n",
       "      <td>83488</td>\n",
       "      <td>83488.0</td>\n",
       "      <td>83488.0</td>\n",
       "    </tr>\n",
       "    <tr>\n",
       "      <th>unique</th>\n",
       "      <td>1682</td>\n",
       "      <td>NaN</td>\n",
       "      <td>NaN</td>\n",
       "    </tr>\n",
       "    <tr>\n",
       "      <th>top</th>\n",
       "      <td>2017-07-29</td>\n",
       "      <td>NaN</td>\n",
       "      <td>NaN</td>\n",
       "    </tr>\n",
       "    <tr>\n",
       "      <th>freq</th>\n",
       "      <td>54</td>\n",
       "      <td>NaN</td>\n",
       "      <td>NaN</td>\n",
       "    </tr>\n",
       "    <tr>\n",
       "      <th>mean</th>\n",
       "      <td>NaN</td>\n",
       "      <td>27.0</td>\n",
       "      <td>1695.0</td>\n",
       "    </tr>\n",
       "    <tr>\n",
       "      <th>std</th>\n",
       "      <td>NaN</td>\n",
       "      <td>16.0</td>\n",
       "      <td>963.0</td>\n",
       "    </tr>\n",
       "    <tr>\n",
       "      <th>min</th>\n",
       "      <td>NaN</td>\n",
       "      <td>1.0</td>\n",
       "      <td>5.0</td>\n",
       "    </tr>\n",
       "    <tr>\n",
       "      <th>25%</th>\n",
       "      <td>NaN</td>\n",
       "      <td>13.0</td>\n",
       "      <td>1046.0</td>\n",
       "    </tr>\n",
       "    <tr>\n",
       "      <th>50%</th>\n",
       "      <td>NaN</td>\n",
       "      <td>27.0</td>\n",
       "      <td>1393.0</td>\n",
       "    </tr>\n",
       "    <tr>\n",
       "      <th>75%</th>\n",
       "      <td>NaN</td>\n",
       "      <td>40.0</td>\n",
       "      <td>2079.0</td>\n",
       "    </tr>\n",
       "    <tr>\n",
       "      <th>max</th>\n",
       "      <td>NaN</td>\n",
       "      <td>54.0</td>\n",
       "      <td>8359.0</td>\n",
       "    </tr>\n",
       "  </tbody>\n",
       "</table>\n",
       "</div>"
      ],
      "text/plain": [
       "              date  store_nbr  transactions\n",
       "count        83488    83488.0       83488.0\n",
       "unique        1682        NaN           NaN\n",
       "top     2017-07-29        NaN           NaN\n",
       "freq            54        NaN           NaN\n",
       "mean           NaN       27.0        1695.0\n",
       "std            NaN       16.0         963.0\n",
       "min            NaN        1.0           5.0\n",
       "25%            NaN       13.0        1046.0\n",
       "50%            NaN       27.0        1393.0\n",
       "75%            NaN       40.0        2079.0\n",
       "max            NaN       54.0        8359.0"
      ]
     },
     "execution_count": 59,
     "metadata": {},
     "output_type": "execute_result"
    }
   ],
   "source": [
    "# To understand what the different columns look like\n",
    "transactions.describe(include = 'all').round()"
   ]
  },
  {
   "cell_type": "code",
   "execution_count": 61,
   "metadata": {},
   "outputs": [
    {
     "data": {
      "application/vnd.microsoft.datawrangler.viewer.v0+json": {
       "columns": [
        {
         "name": "index",
         "rawType": "int64",
         "type": "integer"
        },
        {
         "name": "date",
         "rawType": "object",
         "type": "string"
        },
        {
         "name": "dcoilwtico",
         "rawType": "float64",
         "type": "float"
        }
       ],
       "conversionMethod": "pd.DataFrame",
       "ref": "6e623cc9-95ad-47b4-8bcc-bc7b1c9f0ef2",
       "rows": [
        [
         "0",
         "2013-01-01",
         null
        ],
        [
         "1",
         "2013-01-02",
         "93.14"
        ],
        [
         "2",
         "2013-01-03",
         "92.97"
        ],
        [
         "3",
         "2013-01-04",
         "93.12"
        ],
        [
         "4",
         "2013-01-07",
         "93.2"
        ],
        [
         "5",
         "2013-01-08",
         "93.21"
        ],
        [
         "6",
         "2013-01-09",
         "93.08"
        ],
        [
         "7",
         "2013-01-10",
         "93.81"
        ],
        [
         "8",
         "2013-01-11",
         "93.6"
        ],
        [
         "9",
         "2013-01-14",
         "94.27"
        ],
        [
         "10",
         "2013-01-15",
         "93.26"
        ],
        [
         "11",
         "2013-01-16",
         "94.28"
        ],
        [
         "12",
         "2013-01-17",
         "95.49"
        ],
        [
         "13",
         "2013-01-18",
         "95.61"
        ],
        [
         "14",
         "2013-01-21",
         null
        ],
        [
         "15",
         "2013-01-22",
         "96.09"
        ],
        [
         "16",
         "2013-01-23",
         "95.06"
        ],
        [
         "17",
         "2013-01-24",
         "95.35"
        ],
        [
         "18",
         "2013-01-25",
         "95.15"
        ],
        [
         "19",
         "2013-01-28",
         "95.95"
        ],
        [
         "20",
         "2013-01-29",
         "97.62"
        ],
        [
         "21",
         "2013-01-30",
         "97.98"
        ],
        [
         "22",
         "2013-01-31",
         "97.65"
        ],
        [
         "23",
         "2013-02-01",
         "97.46"
        ],
        [
         "24",
         "2013-02-04",
         "96.21"
        ],
        [
         "25",
         "2013-02-05",
         "96.68"
        ],
        [
         "26",
         "2013-02-06",
         "96.44"
        ],
        [
         "27",
         "2013-02-07",
         "95.84"
        ],
        [
         "28",
         "2013-02-08",
         "95.71"
        ],
        [
         "29",
         "2013-02-11",
         "97.01"
        ],
        [
         "30",
         "2013-02-12",
         "97.48"
        ],
        [
         "31",
         "2013-02-13",
         "97.03"
        ],
        [
         "32",
         "2013-02-14",
         "97.3"
        ],
        [
         "33",
         "2013-02-15",
         "95.95"
        ],
        [
         "34",
         "2013-02-18",
         null
        ],
        [
         "35",
         "2013-02-19",
         "96.69"
        ],
        [
         "36",
         "2013-02-20",
         "94.92"
        ],
        [
         "37",
         "2013-02-21",
         "92.79"
        ],
        [
         "38",
         "2013-02-22",
         "93.12"
        ],
        [
         "39",
         "2013-02-25",
         "92.74"
        ],
        [
         "40",
         "2013-02-26",
         "92.63"
        ],
        [
         "41",
         "2013-02-27",
         "92.84"
        ],
        [
         "42",
         "2013-02-28",
         "92.03"
        ],
        [
         "43",
         "2013-03-01",
         "90.71"
        ],
        [
         "44",
         "2013-03-04",
         "90.13"
        ],
        [
         "45",
         "2013-03-05",
         "90.88"
        ],
        [
         "46",
         "2013-03-06",
         "90.47"
        ],
        [
         "47",
         "2013-03-07",
         "91.53"
        ],
        [
         "48",
         "2013-03-08",
         "92.01"
        ],
        [
         "49",
         "2013-03-11",
         "92.07"
        ]
       ],
       "shape": {
        "columns": 2,
        "rows": 1218
       }
      },
      "text/html": [
       "<div>\n",
       "<style scoped>\n",
       "    .dataframe tbody tr th:only-of-type {\n",
       "        vertical-align: middle;\n",
       "    }\n",
       "\n",
       "    .dataframe tbody tr th {\n",
       "        vertical-align: top;\n",
       "    }\n",
       "\n",
       "    .dataframe thead th {\n",
       "        text-align: right;\n",
       "    }\n",
       "</style>\n",
       "<table border=\"1\" class=\"dataframe\">\n",
       "  <thead>\n",
       "    <tr style=\"text-align: right;\">\n",
       "      <th></th>\n",
       "      <th>date</th>\n",
       "      <th>dcoilwtico</th>\n",
       "    </tr>\n",
       "  </thead>\n",
       "  <tbody>\n",
       "    <tr>\n",
       "      <th>0</th>\n",
       "      <td>2013-01-01</td>\n",
       "      <td>NaN</td>\n",
       "    </tr>\n",
       "    <tr>\n",
       "      <th>1</th>\n",
       "      <td>2013-01-02</td>\n",
       "      <td>93.14</td>\n",
       "    </tr>\n",
       "    <tr>\n",
       "      <th>2</th>\n",
       "      <td>2013-01-03</td>\n",
       "      <td>92.97</td>\n",
       "    </tr>\n",
       "    <tr>\n",
       "      <th>3</th>\n",
       "      <td>2013-01-04</td>\n",
       "      <td>93.12</td>\n",
       "    </tr>\n",
       "    <tr>\n",
       "      <th>4</th>\n",
       "      <td>2013-01-07</td>\n",
       "      <td>93.20</td>\n",
       "    </tr>\n",
       "    <tr>\n",
       "      <th>...</th>\n",
       "      <td>...</td>\n",
       "      <td>...</td>\n",
       "    </tr>\n",
       "    <tr>\n",
       "      <th>1213</th>\n",
       "      <td>2017-08-25</td>\n",
       "      <td>47.65</td>\n",
       "    </tr>\n",
       "    <tr>\n",
       "      <th>1214</th>\n",
       "      <td>2017-08-28</td>\n",
       "      <td>46.40</td>\n",
       "    </tr>\n",
       "    <tr>\n",
       "      <th>1215</th>\n",
       "      <td>2017-08-29</td>\n",
       "      <td>46.46</td>\n",
       "    </tr>\n",
       "    <tr>\n",
       "      <th>1216</th>\n",
       "      <td>2017-08-30</td>\n",
       "      <td>45.96</td>\n",
       "    </tr>\n",
       "    <tr>\n",
       "      <th>1217</th>\n",
       "      <td>2017-08-31</td>\n",
       "      <td>47.26</td>\n",
       "    </tr>\n",
       "  </tbody>\n",
       "</table>\n",
       "<p>1218 rows × 2 columns</p>\n",
       "</div>"
      ],
      "text/plain": [
       "            date  dcoilwtico\n",
       "0     2013-01-01         NaN\n",
       "1     2013-01-02       93.14\n",
       "2     2013-01-03       92.97\n",
       "3     2013-01-04       93.12\n",
       "4     2013-01-07       93.20\n",
       "...          ...         ...\n",
       "1213  2017-08-25       47.65\n",
       "1214  2017-08-28       46.40\n",
       "1215  2017-08-29       46.46\n",
       "1216  2017-08-30       45.96\n",
       "1217  2017-08-31       47.26\n",
       "\n",
       "[1218 rows x 2 columns]"
      ]
     },
     "execution_count": 61,
     "metadata": {},
     "output_type": "execute_result"
    }
   ],
   "source": [
    "# Read in the oil data\n",
    "oil_path = os.path.join(exercise_path, \"oil.csv\")\n",
    "oil = pd.read_csv(oil_path)\n",
    "oil"
   ]
  },
  {
   "cell_type": "code",
   "execution_count": 68,
   "metadata": {},
   "outputs": [
    {
     "data": {
      "application/vnd.microsoft.datawrangler.viewer.v0+json": {
       "columns": [
        {
         "name": "index",
         "rawType": "object",
         "type": "string"
        },
        {
         "name": "date",
         "rawType": "object",
         "type": "unknown"
        },
        {
         "name": "dcoilwtico",
         "rawType": "float64",
         "type": "float"
        }
       ],
       "conversionMethod": "pd.DataFrame",
       "ref": "be680319-41af-44b5-aa28-87f42ee3c976",
       "rows": [
        [
         "count",
         "1218",
         "1175.0"
        ],
        [
         "unique",
         "1218",
         null
        ],
        [
         "top",
         "2017-08-31",
         null
        ],
        [
         "freq",
         "1",
         null
        ],
        [
         "mean",
         null,
         "67.71436595744682"
        ],
        [
         "std",
         null,
         "25.63047572945322"
        ],
        [
         "min",
         null,
         "26.19"
        ],
        [
         "25%",
         null,
         "46.405"
        ],
        [
         "50%",
         null,
         "53.19"
        ],
        [
         "75%",
         null,
         "95.66"
        ],
        [
         "max",
         null,
         "110.62"
        ]
       ],
       "shape": {
        "columns": 2,
        "rows": 11
       }
      },
      "text/html": [
       "<div>\n",
       "<style scoped>\n",
       "    .dataframe tbody tr th:only-of-type {\n",
       "        vertical-align: middle;\n",
       "    }\n",
       "\n",
       "    .dataframe tbody tr th {\n",
       "        vertical-align: top;\n",
       "    }\n",
       "\n",
       "    .dataframe thead th {\n",
       "        text-align: right;\n",
       "    }\n",
       "</style>\n",
       "<table border=\"1\" class=\"dataframe\">\n",
       "  <thead>\n",
       "    <tr style=\"text-align: right;\">\n",
       "      <th></th>\n",
       "      <th>date</th>\n",
       "      <th>dcoilwtico</th>\n",
       "    </tr>\n",
       "  </thead>\n",
       "  <tbody>\n",
       "    <tr>\n",
       "      <th>count</th>\n",
       "      <td>1218</td>\n",
       "      <td>1175.000000</td>\n",
       "    </tr>\n",
       "    <tr>\n",
       "      <th>unique</th>\n",
       "      <td>1218</td>\n",
       "      <td>NaN</td>\n",
       "    </tr>\n",
       "    <tr>\n",
       "      <th>top</th>\n",
       "      <td>2017-08-31</td>\n",
       "      <td>NaN</td>\n",
       "    </tr>\n",
       "    <tr>\n",
       "      <th>freq</th>\n",
       "      <td>1</td>\n",
       "      <td>NaN</td>\n",
       "    </tr>\n",
       "    <tr>\n",
       "      <th>mean</th>\n",
       "      <td>NaN</td>\n",
       "      <td>67.714366</td>\n",
       "    </tr>\n",
       "    <tr>\n",
       "      <th>std</th>\n",
       "      <td>NaN</td>\n",
       "      <td>25.630476</td>\n",
       "    </tr>\n",
       "    <tr>\n",
       "      <th>min</th>\n",
       "      <td>NaN</td>\n",
       "      <td>26.190000</td>\n",
       "    </tr>\n",
       "    <tr>\n",
       "      <th>25%</th>\n",
       "      <td>NaN</td>\n",
       "      <td>46.405000</td>\n",
       "    </tr>\n",
       "    <tr>\n",
       "      <th>50%</th>\n",
       "      <td>NaN</td>\n",
       "      <td>53.190000</td>\n",
       "    </tr>\n",
       "    <tr>\n",
       "      <th>75%</th>\n",
       "      <td>NaN</td>\n",
       "      <td>95.660000</td>\n",
       "    </tr>\n",
       "    <tr>\n",
       "      <th>max</th>\n",
       "      <td>NaN</td>\n",
       "      <td>110.620000</td>\n",
       "    </tr>\n",
       "  </tbody>\n",
       "</table>\n",
       "</div>"
      ],
      "text/plain": [
       "              date   dcoilwtico\n",
       "count         1218  1175.000000\n",
       "unique        1218          NaN\n",
       "top     2017-08-31          NaN\n",
       "freq             1          NaN\n",
       "mean           NaN    67.714366\n",
       "std            NaN    25.630476\n",
       "min            NaN    26.190000\n",
       "25%            NaN    46.405000\n",
       "50%            NaN    53.190000\n",
       "75%            NaN    95.660000\n",
       "max            NaN   110.620000"
      ]
     },
     "execution_count": 68,
     "metadata": {},
     "output_type": "execute_result"
    }
   ],
   "source": [
    "oil.describe(include = \"all\")"
   ]
  },
  {
   "cell_type": "code",
   "execution_count": 64,
   "metadata": {},
   "outputs": [
    {
     "data": {
      "application/vnd.microsoft.datawrangler.viewer.v0+json": {
       "columns": [
        {
         "name": "index",
         "rawType": "int64",
         "type": "integer"
        },
        {
         "name": "date",
         "rawType": "object",
         "type": "string"
        },
        {
         "name": "dcoilwtico",
         "rawType": "float64",
         "type": "float"
        }
       ],
       "conversionMethod": "pd.DataFrame",
       "ref": "92817324-84ca-47d7-87a1-3d456b68c1cb",
       "rows": [
        [
         "541",
         "2015-01-28",
         "44.08"
        ],
        [
         "259",
         "2013-12-30",
         "98.9"
        ],
        [
         "43",
         "2013-03-01",
         "90.71"
        ],
        [
         "1008",
         "2016-11-11",
         "43.39"
        ],
        [
         "584",
         "2015-03-30",
         "48.66"
        ]
       ],
       "shape": {
        "columns": 2,
        "rows": 5
       }
      },
      "text/html": [
       "<div>\n",
       "<style scoped>\n",
       "    .dataframe tbody tr th:only-of-type {\n",
       "        vertical-align: middle;\n",
       "    }\n",
       "\n",
       "    .dataframe tbody tr th {\n",
       "        vertical-align: top;\n",
       "    }\n",
       "\n",
       "    .dataframe thead th {\n",
       "        text-align: right;\n",
       "    }\n",
       "</style>\n",
       "<table border=\"1\" class=\"dataframe\">\n",
       "  <thead>\n",
       "    <tr style=\"text-align: right;\">\n",
       "      <th></th>\n",
       "      <th>date</th>\n",
       "      <th>dcoilwtico</th>\n",
       "    </tr>\n",
       "  </thead>\n",
       "  <tbody>\n",
       "    <tr>\n",
       "      <th>541</th>\n",
       "      <td>2015-01-28</td>\n",
       "      <td>44.08</td>\n",
       "    </tr>\n",
       "    <tr>\n",
       "      <th>259</th>\n",
       "      <td>2013-12-30</td>\n",
       "      <td>98.90</td>\n",
       "    </tr>\n",
       "    <tr>\n",
       "      <th>43</th>\n",
       "      <td>2013-03-01</td>\n",
       "      <td>90.71</td>\n",
       "    </tr>\n",
       "    <tr>\n",
       "      <th>1008</th>\n",
       "      <td>2016-11-11</td>\n",
       "      <td>43.39</td>\n",
       "    </tr>\n",
       "    <tr>\n",
       "      <th>584</th>\n",
       "      <td>2015-03-30</td>\n",
       "      <td>48.66</td>\n",
       "    </tr>\n",
       "  </tbody>\n",
       "</table>\n",
       "</div>"
      ],
      "text/plain": [
       "            date  dcoilwtico\n",
       "541   2015-01-28       44.08\n",
       "259   2013-12-30       98.90\n",
       "43    2013-03-01       90.71\n",
       "1008  2016-11-11       43.39\n",
       "584   2015-03-30       48.66"
      ]
     },
     "execution_count": 64,
     "metadata": {},
     "output_type": "execute_result"
    }
   ],
   "source": [
    "oil.sample(5, random_state=42)"
   ]
  },
  {
   "cell_type": "code",
   "execution_count": 66,
   "metadata": {},
   "outputs": [
    {
     "name": "stdout",
     "output_type": "stream",
     "text": [
      "<class 'pandas.core.frame.DataFrame'>\n",
      "RangeIndex: 1218 entries, 0 to 1217\n",
      "Data columns (total 2 columns):\n",
      " #   Column      Non-Null Count  Dtype  \n",
      "---  ------      --------------  -----  \n",
      " 0   date        1218 non-null   object \n",
      " 1   dcoilwtico  1175 non-null   float64\n",
      "dtypes: float64(1), object(1)\n",
      "memory usage: 19.2+ KB\n"
     ]
    }
   ],
   "source": [
    "oil.info()"
   ]
  },
  {
   "cell_type": "code",
   "execution_count": 67,
   "metadata": {},
   "outputs": [
    {
     "data": {
      "text/plain": [
       "43"
      ]
     },
     "execution_count": 67,
     "metadata": {},
     "output_type": "execute_result"
    }
   ],
   "source": [
    "1218 - 1175"
   ]
  },
  {
   "cell_type": "code",
   "execution_count": 70,
   "metadata": {},
   "outputs": [
    {
     "name": "stdout",
     "output_type": "stream",
     "text": [
      "         date  store_nbr  transactions\n",
      "0  2013-01-01         25           770\n",
      "1  2013-01-02          1          2111\n",
      "2  2013-01-02          2          2358\n",
      "3  2013-01-02          3          3487\n",
      "4  2013-01-02          4          1922\n"
     ]
    }
   ],
   "source": [
    "# Looking at the transactions data\n",
    "print(f'{transactions.head(5)}')"
   ]
  },
  {
   "cell_type": "code",
   "execution_count": 94,
   "metadata": {},
   "outputs": [
    {
     "name": "stdout",
     "output_type": "stream",
     "text": [
      "<class 'pandas.core.frame.DataFrame'>\n",
      "RangeIndex: 83488 entries, 0 to 83487\n",
      "Data columns (total 3 columns):\n",
      " #   Column        Non-Null Count  Dtype \n",
      "---  ------        --------------  ----- \n",
      " 0   date          83488 non-null  object\n",
      " 1   store_nbr     83488 non-null  int64 \n",
      " 2   transactions  83488 non-null  int64 \n",
      "dtypes: int64(2), object(1)\n",
      "memory usage: 1.9+ MB\n"
     ]
    }
   ],
   "source": [
    "# Any missing values?\n",
    "#transactions.isna().sum()\n",
    "transactions.info()"
   ]
  },
  {
   "cell_type": "code",
   "execution_count": 72,
   "metadata": {},
   "outputs": [
    {
     "data": {
      "text/plain": [
       "Index(['date', 'store_nbr', 'transactions'], dtype='object')"
      ]
     },
     "execution_count": 72,
     "metadata": {},
     "output_type": "execute_result"
    }
   ],
   "source": [
    "transactions.columns"
   ]
  },
  {
   "cell_type": "code",
   "execution_count": null,
   "metadata": {},
   "outputs": [
    {
     "data": {
      "text/plain": [
       "np.False_"
      ]
     },
     "execution_count": 98,
     "metadata": {},
     "output_type": "execute_result"
    }
   ],
   "source": [
    "# Check if there are any missing values in the data\n",
    "#transactions.apply(lambda col: col.isnull().any())\n",
    "# oil.isnull().any()\n",
    "transactions.isnull().any()\n",
    "#transactions.date.isnull().any()\n"
   ]
  },
  {
   "cell_type": "code",
   "execution_count": 91,
   "metadata": {},
   "outputs": [
    {
     "name": "stdout",
     "output_type": "stream",
     "text": [
      "date            1682\n",
      "store_nbr         54\n",
      "transactions    4993\n",
      "dtype: int64\n"
     ]
    },
    {
     "data": {
      "application/vnd.microsoft.datawrangler.viewer.v0+json": {
       "columns": [
        {
         "name": "index",
         "rawType": "object",
         "type": "string"
        },
        {
         "name": "date",
         "rawType": "object",
         "type": "unknown"
        },
        {
         "name": "store_nbr",
         "rawType": "float64",
         "type": "float"
        },
        {
         "name": "transactions",
         "rawType": "float64",
         "type": "float"
        }
       ],
       "conversionMethod": "pd.DataFrame",
       "ref": "b584419c-ee2b-470c-8935-3f1acb685670",
       "rows": [
        [
         "count",
         "83488",
         "83488.0",
         "83488.0"
        ],
        [
         "unique",
         "1682",
         null,
         null
        ],
        [
         "top",
         "2017-07-29",
         null,
         null
        ],
        [
         "freq",
         "54",
         null,
         null
        ],
        [
         "mean",
         null,
         "26.939236776542735",
         "1694.6021583940208"
        ],
        [
         "std",
         null,
         "15.608203645366109",
         "963.2866435167256"
        ],
        [
         "min",
         null,
         "1.0",
         "5.0"
        ],
        [
         "25%",
         null,
         "13.0",
         "1046.0"
        ],
        [
         "50%",
         null,
         "27.0",
         "1393.0"
        ],
        [
         "75%",
         null,
         "40.0",
         "2079.0"
        ],
        [
         "max",
         null,
         "54.0",
         "8359.0"
        ]
       ],
       "shape": {
        "columns": 3,
        "rows": 11
       }
      },
      "text/html": [
       "<div>\n",
       "<style scoped>\n",
       "    .dataframe tbody tr th:only-of-type {\n",
       "        vertical-align: middle;\n",
       "    }\n",
       "\n",
       "    .dataframe tbody tr th {\n",
       "        vertical-align: top;\n",
       "    }\n",
       "\n",
       "    .dataframe thead th {\n",
       "        text-align: right;\n",
       "    }\n",
       "</style>\n",
       "<table border=\"1\" class=\"dataframe\">\n",
       "  <thead>\n",
       "    <tr style=\"text-align: right;\">\n",
       "      <th></th>\n",
       "      <th>date</th>\n",
       "      <th>store_nbr</th>\n",
       "      <th>transactions</th>\n",
       "    </tr>\n",
       "  </thead>\n",
       "  <tbody>\n",
       "    <tr>\n",
       "      <th>count</th>\n",
       "      <td>83488</td>\n",
       "      <td>83488.000000</td>\n",
       "      <td>83488.000000</td>\n",
       "    </tr>\n",
       "    <tr>\n",
       "      <th>unique</th>\n",
       "      <td>1682</td>\n",
       "      <td>NaN</td>\n",
       "      <td>NaN</td>\n",
       "    </tr>\n",
       "    <tr>\n",
       "      <th>top</th>\n",
       "      <td>2017-07-29</td>\n",
       "      <td>NaN</td>\n",
       "      <td>NaN</td>\n",
       "    </tr>\n",
       "    <tr>\n",
       "      <th>freq</th>\n",
       "      <td>54</td>\n",
       "      <td>NaN</td>\n",
       "      <td>NaN</td>\n",
       "    </tr>\n",
       "    <tr>\n",
       "      <th>mean</th>\n",
       "      <td>NaN</td>\n",
       "      <td>26.939237</td>\n",
       "      <td>1694.602158</td>\n",
       "    </tr>\n",
       "    <tr>\n",
       "      <th>std</th>\n",
       "      <td>NaN</td>\n",
       "      <td>15.608204</td>\n",
       "      <td>963.286644</td>\n",
       "    </tr>\n",
       "    <tr>\n",
       "      <th>min</th>\n",
       "      <td>NaN</td>\n",
       "      <td>1.000000</td>\n",
       "      <td>5.000000</td>\n",
       "    </tr>\n",
       "    <tr>\n",
       "      <th>25%</th>\n",
       "      <td>NaN</td>\n",
       "      <td>13.000000</td>\n",
       "      <td>1046.000000</td>\n",
       "    </tr>\n",
       "    <tr>\n",
       "      <th>50%</th>\n",
       "      <td>NaN</td>\n",
       "      <td>27.000000</td>\n",
       "      <td>1393.000000</td>\n",
       "    </tr>\n",
       "    <tr>\n",
       "      <th>75%</th>\n",
       "      <td>NaN</td>\n",
       "      <td>40.000000</td>\n",
       "      <td>2079.000000</td>\n",
       "    </tr>\n",
       "    <tr>\n",
       "      <th>max</th>\n",
       "      <td>NaN</td>\n",
       "      <td>54.000000</td>\n",
       "      <td>8359.000000</td>\n",
       "    </tr>\n",
       "  </tbody>\n",
       "</table>\n",
       "</div>"
      ],
      "text/plain": [
       "              date     store_nbr  transactions\n",
       "count        83488  83488.000000  83488.000000\n",
       "unique        1682           NaN           NaN\n",
       "top     2017-07-29           NaN           NaN\n",
       "freq            54           NaN           NaN\n",
       "mean           NaN     26.939237   1694.602158\n",
       "std            NaN     15.608204    963.286644\n",
       "min            NaN      1.000000      5.000000\n",
       "25%            NaN     13.000000   1046.000000\n",
       "50%            NaN     27.000000   1393.000000\n",
       "75%            NaN     40.000000   2079.000000\n",
       "max            NaN     54.000000   8359.000000"
      ]
     },
     "execution_count": 91,
     "metadata": {},
     "output_type": "execute_result"
    }
   ],
   "source": [
    "# How many unique dates?\n",
    "print(f'{transactions.nunique()}')\n",
    "transactions.describe(include='all')"
   ]
  },
  {
   "cell_type": "code",
   "execution_count": 103,
   "metadata": {},
   "outputs": [
    {
     "data": {
      "application/vnd.microsoft.datawrangler.viewer.v0+json": {
       "columns": [
        {
         "name": "index",
         "rawType": "int64",
         "type": "integer"
        },
        {
         "name": "price_date",
         "rawType": "object",
         "type": "string"
        },
        {
         "name": "oil_price",
         "rawType": "float64",
         "type": "float"
        }
       ],
       "conversionMethod": "pd.DataFrame",
       "ref": "5fe28fe6-ab62-4592-879a-570ee68c645d",
       "rows": [
        [
         "0",
         "2013-01-01",
         null
        ],
        [
         "1",
         "2013-01-02",
         "93.14"
        ],
        [
         "2",
         "2013-01-03",
         "92.97"
        ],
        [
         "3",
         "2013-01-04",
         "93.12"
        ],
        [
         "4",
         "2013-01-07",
         "93.2"
        ],
        [
         "5",
         "2013-01-08",
         "93.21"
        ],
        [
         "6",
         "2013-01-09",
         "93.08"
        ],
        [
         "7",
         "2013-01-10",
         "93.81"
        ],
        [
         "8",
         "2013-01-11",
         "93.6"
        ],
        [
         "9",
         "2013-01-14",
         "94.27"
        ],
        [
         "10",
         "2013-01-15",
         "93.26"
        ],
        [
         "11",
         "2013-01-16",
         "94.28"
        ],
        [
         "12",
         "2013-01-17",
         "95.49"
        ],
        [
         "13",
         "2013-01-18",
         "95.61"
        ],
        [
         "14",
         "2013-01-21",
         null
        ],
        [
         "15",
         "2013-01-22",
         "96.09"
        ],
        [
         "16",
         "2013-01-23",
         "95.06"
        ],
        [
         "17",
         "2013-01-24",
         "95.35"
        ],
        [
         "18",
         "2013-01-25",
         "95.15"
        ],
        [
         "19",
         "2013-01-28",
         "95.95"
        ],
        [
         "20",
         "2013-01-29",
         "97.62"
        ],
        [
         "21",
         "2013-01-30",
         "97.98"
        ],
        [
         "22",
         "2013-01-31",
         "97.65"
        ],
        [
         "23",
         "2013-02-01",
         "97.46"
        ],
        [
         "24",
         "2013-02-04",
         "96.21"
        ],
        [
         "25",
         "2013-02-05",
         "96.68"
        ],
        [
         "26",
         "2013-02-06",
         "96.44"
        ],
        [
         "27",
         "2013-02-07",
         "95.84"
        ],
        [
         "28",
         "2013-02-08",
         "95.71"
        ],
        [
         "29",
         "2013-02-11",
         "97.01"
        ],
        [
         "30",
         "2013-02-12",
         "97.48"
        ],
        [
         "31",
         "2013-02-13",
         "97.03"
        ],
        [
         "32",
         "2013-02-14",
         "97.3"
        ],
        [
         "33",
         "2013-02-15",
         "95.95"
        ],
        [
         "34",
         "2013-02-18",
         null
        ],
        [
         "35",
         "2013-02-19",
         "96.69"
        ],
        [
         "36",
         "2013-02-20",
         "94.92"
        ],
        [
         "37",
         "2013-02-21",
         "92.79"
        ],
        [
         "38",
         "2013-02-22",
         "93.12"
        ],
        [
         "39",
         "2013-02-25",
         "92.74"
        ],
        [
         "40",
         "2013-02-26",
         "92.63"
        ],
        [
         "41",
         "2013-02-27",
         "92.84"
        ],
        [
         "42",
         "2013-02-28",
         "92.03"
        ],
        [
         "43",
         "2013-03-01",
         "90.71"
        ],
        [
         "44",
         "2013-03-04",
         "90.13"
        ],
        [
         "45",
         "2013-03-05",
         "90.88"
        ],
        [
         "46",
         "2013-03-06",
         "90.47"
        ],
        [
         "47",
         "2013-03-07",
         "91.53"
        ],
        [
         "48",
         "2013-03-08",
         "92.01"
        ],
        [
         "49",
         "2013-03-11",
         "92.07"
        ]
       ],
       "shape": {
        "columns": 2,
        "rows": 1218
       }
      },
      "text/html": [
       "<div>\n",
       "<style scoped>\n",
       "    .dataframe tbody tr th:only-of-type {\n",
       "        vertical-align: middle;\n",
       "    }\n",
       "\n",
       "    .dataframe tbody tr th {\n",
       "        vertical-align: top;\n",
       "    }\n",
       "\n",
       "    .dataframe thead th {\n",
       "        text-align: right;\n",
       "    }\n",
       "</style>\n",
       "<table border=\"1\" class=\"dataframe\">\n",
       "  <thead>\n",
       "    <tr style=\"text-align: right;\">\n",
       "      <th></th>\n",
       "      <th>price_date</th>\n",
       "      <th>oil_price</th>\n",
       "    </tr>\n",
       "  </thead>\n",
       "  <tbody>\n",
       "    <tr>\n",
       "      <th>0</th>\n",
       "      <td>2013-01-01</td>\n",
       "      <td>NaN</td>\n",
       "    </tr>\n",
       "    <tr>\n",
       "      <th>1</th>\n",
       "      <td>2013-01-02</td>\n",
       "      <td>93.14</td>\n",
       "    </tr>\n",
       "    <tr>\n",
       "      <th>2</th>\n",
       "      <td>2013-01-03</td>\n",
       "      <td>92.97</td>\n",
       "    </tr>\n",
       "    <tr>\n",
       "      <th>3</th>\n",
       "      <td>2013-01-04</td>\n",
       "      <td>93.12</td>\n",
       "    </tr>\n",
       "    <tr>\n",
       "      <th>4</th>\n",
       "      <td>2013-01-07</td>\n",
       "      <td>93.20</td>\n",
       "    </tr>\n",
       "    <tr>\n",
       "      <th>...</th>\n",
       "      <td>...</td>\n",
       "      <td>...</td>\n",
       "    </tr>\n",
       "    <tr>\n",
       "      <th>1213</th>\n",
       "      <td>2017-08-25</td>\n",
       "      <td>47.65</td>\n",
       "    </tr>\n",
       "    <tr>\n",
       "      <th>1214</th>\n",
       "      <td>2017-08-28</td>\n",
       "      <td>46.40</td>\n",
       "    </tr>\n",
       "    <tr>\n",
       "      <th>1215</th>\n",
       "      <td>2017-08-29</td>\n",
       "      <td>46.46</td>\n",
       "    </tr>\n",
       "    <tr>\n",
       "      <th>1216</th>\n",
       "      <td>2017-08-30</td>\n",
       "      <td>45.96</td>\n",
       "    </tr>\n",
       "    <tr>\n",
       "      <th>1217</th>\n",
       "      <td>2017-08-31</td>\n",
       "      <td>47.26</td>\n",
       "    </tr>\n",
       "  </tbody>\n",
       "</table>\n",
       "<p>1218 rows × 2 columns</p>\n",
       "</div>"
      ],
      "text/plain": [
       "      price_date  oil_price\n",
       "0     2013-01-01        NaN\n",
       "1     2013-01-02      93.14\n",
       "2     2013-01-03      92.97\n",
       "3     2013-01-04      93.12\n",
       "4     2013-01-07      93.20\n",
       "...          ...        ...\n",
       "1213  2017-08-25      47.65\n",
       "1214  2017-08-28      46.40\n",
       "1215  2017-08-29      46.46\n",
       "1216  2017-08-30      45.96\n",
       "1217  2017-08-31      47.26\n",
       "\n",
       "[1218 rows x 2 columns]"
      ]
     },
     "execution_count": 103,
     "metadata": {},
     "output_type": "execute_result"
    }
   ],
   "source": [
    "oil_df[['price_date', 'oil_price']]"
   ]
  },
  {
   "cell_type": "code",
   "execution_count": null,
   "metadata": {},
   "outputs": [
    {
     "data": {
      "application/vnd.microsoft.datawrangler.viewer.v0+json": {
       "columns": [
        {
         "name": "index",
         "rawType": "int64",
         "type": "integer"
        },
        {
         "name": "price_date",
         "rawType": "object",
         "type": "string"
        },
        {
         "name": "oil_price",
         "rawType": "float64",
         "type": "float"
        }
       ],
       "conversionMethod": "pd.DataFrame",
       "ref": "3eca9915-acaf-4200-9d05-6e815b3a4e1a",
       "rows": [
        [
         "1213",
         "2017-08-25",
         "47.65"
        ],
        [
         "1214",
         "2017-08-28",
         "46.4"
        ],
        [
         "1215",
         "2017-08-29",
         "46.46"
        ],
        [
         "1216",
         "2017-08-30",
         "45.96"
        ],
        [
         "1217",
         "2017-08-31",
         "47.26"
        ]
       ],
       "shape": {
        "columns": 2,
        "rows": 5
       }
      },
      "text/html": [
       "<div>\n",
       "<style scoped>\n",
       "    .dataframe tbody tr th:only-of-type {\n",
       "        vertical-align: middle;\n",
       "    }\n",
       "\n",
       "    .dataframe tbody tr th {\n",
       "        vertical-align: top;\n",
       "    }\n",
       "\n",
       "    .dataframe thead th {\n",
       "        text-align: right;\n",
       "    }\n",
       "</style>\n",
       "<table border=\"1\" class=\"dataframe\">\n",
       "  <thead>\n",
       "    <tr style=\"text-align: right;\">\n",
       "      <th></th>\n",
       "      <th>price_date</th>\n",
       "      <th>oil_price</th>\n",
       "    </tr>\n",
       "  </thead>\n",
       "  <tbody>\n",
       "    <tr>\n",
       "      <th>1213</th>\n",
       "      <td>2017-08-25</td>\n",
       "      <td>47.65</td>\n",
       "    </tr>\n",
       "    <tr>\n",
       "      <th>1214</th>\n",
       "      <td>2017-08-28</td>\n",
       "      <td>46.40</td>\n",
       "    </tr>\n",
       "    <tr>\n",
       "      <th>1215</th>\n",
       "      <td>2017-08-29</td>\n",
       "      <td>46.46</td>\n",
       "    </tr>\n",
       "    <tr>\n",
       "      <th>1216</th>\n",
       "      <td>2017-08-30</td>\n",
       "      <td>45.96</td>\n",
       "    </tr>\n",
       "    <tr>\n",
       "      <th>1217</th>\n",
       "      <td>2017-08-31</td>\n",
       "      <td>47.26</td>\n",
       "    </tr>\n",
       "  </tbody>\n",
       "</table>\n",
       "</div>"
      ],
      "text/plain": [
       "      price_date  oil_price\n",
       "1213  2017-08-25      47.65\n",
       "1214  2017-08-28      46.40\n",
       "1215  2017-08-29      46.46\n",
       "1216  2017-08-30      45.96\n",
       "1217  2017-08-31      47.26"
      ]
     },
     "execution_count": 108,
     "metadata": {},
     "output_type": "execute_result"
    }
   ],
   "source": [
    "# Access last five rows of oil data frame\n",
    "oil_df.iloc[-5:, :]"
   ]
  },
  {
   "cell_type": "code",
   "execution_count": 111,
   "metadata": {},
   "outputs": [
    {
     "data": {
      "application/vnd.microsoft.datawrangler.viewer.v0+json": {
       "columns": [
        {
         "name": "index",
         "rawType": "int64",
         "type": "integer"
        },
        {
         "name": "oil_price",
         "rawType": "float64",
         "type": "float"
        },
        {
         "name": "price_date",
         "rawType": "object",
         "type": "string"
        }
       ],
       "conversionMethod": "pd.DataFrame",
       "ref": "8943b367-8dbd-4ec5-9723-5d8d94dd1dcf",
       "rows": [
        [
         "0",
         null,
         "2013-01-01"
        ],
        [
         "1",
         "93.14",
         "2013-01-02"
        ],
        [
         "2",
         "92.97",
         "2013-01-03"
        ],
        [
         "3",
         "93.12",
         "2013-01-04"
        ],
        [
         "4",
         "93.2",
         "2013-01-07"
        ],
        [
         "5",
         "93.21",
         "2013-01-08"
        ],
        [
         "6",
         "93.08",
         "2013-01-09"
        ],
        [
         "7",
         "93.81",
         "2013-01-10"
        ],
        [
         "8",
         "93.6",
         "2013-01-11"
        ],
        [
         "9",
         "94.27",
         "2013-01-14"
        ],
        [
         "10",
         "93.26",
         "2013-01-15"
        ],
        [
         "11",
         "94.28",
         "2013-01-16"
        ],
        [
         "12",
         "95.49",
         "2013-01-17"
        ],
        [
         "13",
         "95.61",
         "2013-01-18"
        ],
        [
         "14",
         null,
         "2013-01-21"
        ],
        [
         "15",
         "96.09",
         "2013-01-22"
        ],
        [
         "16",
         "95.06",
         "2013-01-23"
        ],
        [
         "17",
         "95.35",
         "2013-01-24"
        ],
        [
         "18",
         "95.15",
         "2013-01-25"
        ],
        [
         "19",
         "95.95",
         "2013-01-28"
        ],
        [
         "20",
         "97.62",
         "2013-01-29"
        ],
        [
         "21",
         "97.98",
         "2013-01-30"
        ],
        [
         "22",
         "97.65",
         "2013-01-31"
        ],
        [
         "23",
         "97.46",
         "2013-02-01"
        ],
        [
         "24",
         "96.21",
         "2013-02-04"
        ],
        [
         "25",
         "96.68",
         "2013-02-05"
        ],
        [
         "26",
         "96.44",
         "2013-02-06"
        ],
        [
         "27",
         "95.84",
         "2013-02-07"
        ],
        [
         "28",
         "95.71",
         "2013-02-08"
        ],
        [
         "29",
         "97.01",
         "2013-02-11"
        ],
        [
         "30",
         "97.48",
         "2013-02-12"
        ],
        [
         "31",
         "97.03",
         "2013-02-13"
        ],
        [
         "32",
         "97.3",
         "2013-02-14"
        ],
        [
         "33",
         "95.95",
         "2013-02-15"
        ],
        [
         "34",
         null,
         "2013-02-18"
        ],
        [
         "35",
         "96.69",
         "2013-02-19"
        ],
        [
         "36",
         "94.92",
         "2013-02-20"
        ],
        [
         "37",
         "92.79",
         "2013-02-21"
        ],
        [
         "38",
         "93.12",
         "2013-02-22"
        ],
        [
         "39",
         "92.74",
         "2013-02-25"
        ],
        [
         "40",
         "92.63",
         "2013-02-26"
        ],
        [
         "41",
         "92.84",
         "2013-02-27"
        ],
        [
         "42",
         "92.03",
         "2013-02-28"
        ],
        [
         "43",
         "90.71",
         "2013-03-01"
        ],
        [
         "44",
         "90.13",
         "2013-03-04"
        ],
        [
         "45",
         "90.88",
         "2013-03-05"
        ],
        [
         "46",
         "90.47",
         "2013-03-06"
        ],
        [
         "47",
         "91.53",
         "2013-03-07"
        ],
        [
         "48",
         "92.01",
         "2013-03-08"
        ],
        [
         "49",
         "92.07",
         "2013-03-11"
        ]
       ],
       "shape": {
        "columns": 2,
        "rows": 1218
       }
      },
      "text/html": [
       "<div>\n",
       "<style scoped>\n",
       "    .dataframe tbody tr th:only-of-type {\n",
       "        vertical-align: middle;\n",
       "    }\n",
       "\n",
       "    .dataframe tbody tr th {\n",
       "        vertical-align: top;\n",
       "    }\n",
       "\n",
       "    .dataframe thead th {\n",
       "        text-align: right;\n",
       "    }\n",
       "</style>\n",
       "<table border=\"1\" class=\"dataframe\">\n",
       "  <thead>\n",
       "    <tr style=\"text-align: right;\">\n",
       "      <th></th>\n",
       "      <th>oil_price</th>\n",
       "      <th>price_date</th>\n",
       "    </tr>\n",
       "  </thead>\n",
       "  <tbody>\n",
       "    <tr>\n",
       "      <th>0</th>\n",
       "      <td>NaN</td>\n",
       "      <td>2013-01-01</td>\n",
       "    </tr>\n",
       "    <tr>\n",
       "      <th>1</th>\n",
       "      <td>93.14</td>\n",
       "      <td>2013-01-02</td>\n",
       "    </tr>\n",
       "    <tr>\n",
       "      <th>2</th>\n",
       "      <td>92.97</td>\n",
       "      <td>2013-01-03</td>\n",
       "    </tr>\n",
       "    <tr>\n",
       "      <th>3</th>\n",
       "      <td>93.12</td>\n",
       "      <td>2013-01-04</td>\n",
       "    </tr>\n",
       "    <tr>\n",
       "      <th>4</th>\n",
       "      <td>93.20</td>\n",
       "      <td>2013-01-07</td>\n",
       "    </tr>\n",
       "    <tr>\n",
       "      <th>...</th>\n",
       "      <td>...</td>\n",
       "      <td>...</td>\n",
       "    </tr>\n",
       "    <tr>\n",
       "      <th>1213</th>\n",
       "      <td>47.65</td>\n",
       "      <td>2017-08-25</td>\n",
       "    </tr>\n",
       "    <tr>\n",
       "      <th>1214</th>\n",
       "      <td>46.40</td>\n",
       "      <td>2017-08-28</td>\n",
       "    </tr>\n",
       "    <tr>\n",
       "      <th>1215</th>\n",
       "      <td>46.46</td>\n",
       "      <td>2017-08-29</td>\n",
       "    </tr>\n",
       "    <tr>\n",
       "      <th>1216</th>\n",
       "      <td>45.96</td>\n",
       "      <td>2017-08-30</td>\n",
       "    </tr>\n",
       "    <tr>\n",
       "      <th>1217</th>\n",
       "      <td>47.26</td>\n",
       "      <td>2017-08-31</td>\n",
       "    </tr>\n",
       "  </tbody>\n",
       "</table>\n",
       "<p>1218 rows × 2 columns</p>\n",
       "</div>"
      ],
      "text/plain": [
       "      oil_price  price_date\n",
       "0           NaN  2013-01-01\n",
       "1         93.14  2013-01-02\n",
       "2         92.97  2013-01-03\n",
       "3         93.12  2013-01-04\n",
       "4         93.20  2013-01-07\n",
       "...         ...         ...\n",
       "1213      47.65  2017-08-25\n",
       "1214      46.40  2017-08-28\n",
       "1215      46.46  2017-08-29\n",
       "1216      45.96  2017-08-30\n",
       "1217      47.26  2017-08-31\n",
       "\n",
       "[1218 rows x 2 columns]"
      ]
     },
     "execution_count": 111,
     "metadata": {},
     "output_type": "execute_result"
    }
   ],
   "source": [
    "oil_df.loc[:, ['oil_price','price_date']]"
   ]
  },
  {
   "cell_type": "code",
   "execution_count": 119,
   "metadata": {},
   "outputs": [],
   "source": [
    "oil_df['euro_price'] = (oil_df['oil_price']*1.1).round(2)"
   ]
  },
  {
   "cell_type": "code",
   "execution_count": 120,
   "metadata": {},
   "outputs": [
    {
     "data": {
      "text/plain": [
       "Index(['price_date', 'oil_price', 'euro_price'], dtype='object')"
      ]
     },
     "execution_count": 120,
     "metadata": {},
     "output_type": "execute_result"
    }
   ],
   "source": [
    "oil_df.columns"
   ]
  },
  {
   "cell_type": "code",
   "execution_count": null,
   "metadata": {},
   "outputs": [
    {
     "data": {
      "application/vnd.microsoft.datawrangler.viewer.v0+json": {
       "columns": [
        {
         "name": "index",
         "rawType": "int64",
         "type": "integer"
        },
        {
         "name": "price_date",
         "rawType": "object",
         "type": "string"
        },
        {
         "name": "oil_price",
         "rawType": "float64",
         "type": "float"
        },
        {
         "name": "euro_price",
         "rawType": "float64",
         "type": "float"
        }
       ],
       "conversionMethod": "pd.DataFrame",
       "ref": "49cedd54-c958-4ca3-b40e-9d29e0666751",
       "rows": [
        [
         "0",
         "2013-01-01",
         null,
         null
        ],
        [
         "1",
         "2013-01-02",
         "93.14",
         "102.45"
        ],
        [
         "2",
         "2013-01-03",
         "92.97",
         "102.27"
        ],
        [
         "3",
         "2013-01-04",
         "93.12",
         "102.43"
        ],
        [
         "4",
         "2013-01-07",
         "93.2",
         "102.52"
        ]
       ],
       "shape": {
        "columns": 3,
        "rows": 5
       }
      },
      "text/html": [
       "<div>\n",
       "<style scoped>\n",
       "    .dataframe tbody tr th:only-of-type {\n",
       "        vertical-align: middle;\n",
       "    }\n",
       "\n",
       "    .dataframe tbody tr th {\n",
       "        vertical-align: top;\n",
       "    }\n",
       "\n",
       "    .dataframe thead th {\n",
       "        text-align: right;\n",
       "    }\n",
       "</style>\n",
       "<table border=\"1\" class=\"dataframe\">\n",
       "  <thead>\n",
       "    <tr style=\"text-align: right;\">\n",
       "      <th></th>\n",
       "      <th>price_date</th>\n",
       "      <th>oil_price</th>\n",
       "      <th>euro_price</th>\n",
       "    </tr>\n",
       "  </thead>\n",
       "  <tbody>\n",
       "    <tr>\n",
       "      <th>0</th>\n",
       "      <td>2013-01-01</td>\n",
       "      <td>NaN</td>\n",
       "      <td>NaN</td>\n",
       "    </tr>\n",
       "    <tr>\n",
       "      <th>1</th>\n",
       "      <td>2013-01-02</td>\n",
       "      <td>93.14</td>\n",
       "      <td>102.45</td>\n",
       "    </tr>\n",
       "    <tr>\n",
       "      <th>2</th>\n",
       "      <td>2013-01-03</td>\n",
       "      <td>92.97</td>\n",
       "      <td>102.27</td>\n",
       "    </tr>\n",
       "    <tr>\n",
       "      <th>3</th>\n",
       "      <td>2013-01-04</td>\n",
       "      <td>93.12</td>\n",
       "      <td>102.43</td>\n",
       "    </tr>\n",
       "    <tr>\n",
       "      <th>4</th>\n",
       "      <td>2013-01-07</td>\n",
       "      <td>93.20</td>\n",
       "      <td>102.52</td>\n",
       "    </tr>\n",
       "  </tbody>\n",
       "</table>\n",
       "</div>"
      ],
      "text/plain": [
       "   price_date  oil_price  euro_price\n",
       "0  2013-01-01        NaN         NaN\n",
       "1  2013-01-02      93.14      102.45\n",
       "2  2013-01-03      92.97      102.27\n",
       "3  2013-01-04      93.12      102.43\n",
       "4  2013-01-07      93.20      102.52"
      ]
     },
     "execution_count": 123,
     "metadata": {},
     "output_type": "execute_result"
    }
   ],
   "source": [
    "# Slicing does not work inside the brackets, have to remove them \n",
    "oil_df.loc[:,'price_date':'euro_price'].head()"
   ]
  },
  {
   "cell_type": "code",
   "execution_count": 144,
   "metadata": {},
   "outputs": [
    {
     "data": {
      "application/vnd.microsoft.datawrangler.viewer.v0+json": {
       "columns": [
        {
         "name": "index",
         "rawType": "int64",
         "type": "integer"
        },
        {
         "name": "store_nbr",
         "rawType": "int64",
         "type": "integer"
        },
        {
         "name": "transactions",
         "rawType": "int64",
         "type": "integer"
        }
       ],
       "conversionMethod": "pd.DataFrame",
       "ref": "cc47713b-2f63-4c89-97d1-9a59545f4dc5",
       "rows": [
        [
         "0",
         "1",
         "2111"
        ],
        [
         "1",
         "2",
         "2358"
        ],
        [
         "2",
         "3",
         "3487"
        ],
        [
         "3",
         "4",
         "1922"
        ],
        [
         "4",
         "5",
         "1903"
        ]
       ],
       "shape": {
        "columns": 2,
        "rows": 5
       }
      },
      "text/html": [
       "<div>\n",
       "<style scoped>\n",
       "    .dataframe tbody tr th:only-of-type {\n",
       "        vertical-align: middle;\n",
       "    }\n",
       "\n",
       "    .dataframe tbody tr th {\n",
       "        vertical-align: top;\n",
       "    }\n",
       "\n",
       "    .dataframe thead th {\n",
       "        text-align: right;\n",
       "    }\n",
       "</style>\n",
       "<table border=\"1\" class=\"dataframe\">\n",
       "  <thead>\n",
       "    <tr style=\"text-align: right;\">\n",
       "      <th></th>\n",
       "      <th>store_nbr</th>\n",
       "      <th>transactions</th>\n",
       "    </tr>\n",
       "  </thead>\n",
       "  <tbody>\n",
       "    <tr>\n",
       "      <th>0</th>\n",
       "      <td>1</td>\n",
       "      <td>2111</td>\n",
       "    </tr>\n",
       "    <tr>\n",
       "      <th>1</th>\n",
       "      <td>2</td>\n",
       "      <td>2358</td>\n",
       "    </tr>\n",
       "    <tr>\n",
       "      <th>2</th>\n",
       "      <td>3</td>\n",
       "      <td>3487</td>\n",
       "    </tr>\n",
       "    <tr>\n",
       "      <th>3</th>\n",
       "      <td>4</td>\n",
       "      <td>1922</td>\n",
       "    </tr>\n",
       "    <tr>\n",
       "      <th>4</th>\n",
       "      <td>5</td>\n",
       "      <td>1903</td>\n",
       "    </tr>\n",
       "  </tbody>\n",
       "</table>\n",
       "</div>"
      ],
      "text/plain": [
       "   store_nbr  transactions\n",
       "0          1          2111\n",
       "1          2          2358\n",
       "2          3          3487\n",
       "3          4          1922\n",
       "4          5          1903"
      ]
     },
     "execution_count": 144,
     "metadata": {},
     "output_type": "execute_result"
    }
   ],
   "source": [
    "# remove the 1st entry from the transactions data frame and return a new one\n",
    "df_trans = transactions.loc[1:, ['store_nbr', 'transactions']].reset_index(drop=True)\n",
    "df_trans.head()"
   ]
  },
  {
   "cell_type": "code",
   "execution_count": null,
   "metadata": {},
   "outputs": [
    {
     "name": "stdout",
     "output_type": "stream",
     "text": [
      "There are 54 distinct stores.\n",
      "There are 141.478175 total transactions\n"
     ]
    }
   ],
   "source": [
    "# How many unique store numbers?\n",
    "print(f'There are {df_trans['store_nbr'].nunique()} distinct stores')\n",
    "tot_trans = (df_trans['transactions'].sum()/1e6).round(6)\n",
    "print(f'There are {tot_trans:,} total transactions')"
   ]
  },
  {
   "cell_type": "markdown",
   "metadata": {},
   "source": [
    "### Dropping Data\n",
    "USe the `.drop()` function to drop columns or rows. Use the axes to specify whether the action should be done on rows or columns. \n",
    "**`inplace=True`** use with caution, as this will modify the data from upon which the action has been called. \n",
    "\n",
    "### Duplicates\n",
    "Use the `.duplcated()` function to return a boolean on whether or not duplicates exist. The `subset` argument is used to specify a column or set of columns.\n",
    "Use the `.drop_duplicates(..., subset = ..., keep = (first, last), ignore_index=True)` to drop duplicates, keep the first or last one, and reset the index. "
   ]
  },
  {
   "cell_type": "code",
   "execution_count": null,
   "metadata": {},
   "outputs": [
    {
     "data": {
      "application/vnd.microsoft.datawrangler.viewer.v0+json": {
       "columns": [
        {
         "name": "index",
         "rawType": "int64",
         "type": "integer"
        },
        {
         "name": "date",
         "rawType": "object",
         "type": "string"
        },
        {
         "name": "store_nbr",
         "rawType": "int64",
         "type": "integer"
        },
        {
         "name": "transactions",
         "rawType": "int64",
         "type": "integer"
        }
       ],
       "conversionMethod": "pd.DataFrame",
       "ref": "09cb7059-6171-4bc0-8c33-4e068ed4a0e4",
       "rows": [
        [
         "1",
         "2013-01-02",
         "1",
         "2111"
        ],
        [
         "2",
         "2013-01-02",
         "2",
         "2358"
        ],
        [
         "3",
         "2013-01-02",
         "3",
         "3487"
        ],
        [
         "4",
         "2013-01-02",
         "4",
         "1922"
        ],
        [
         "5",
         "2013-01-02",
         "5",
         "1903"
        ]
       ],
       "shape": {
        "columns": 3,
        "rows": 5
       }
      },
      "text/html": [
       "<div>\n",
       "<style scoped>\n",
       "    .dataframe tbody tr th:only-of-type {\n",
       "        vertical-align: middle;\n",
       "    }\n",
       "\n",
       "    .dataframe tbody tr th {\n",
       "        vertical-align: top;\n",
       "    }\n",
       "\n",
       "    .dataframe thead th {\n",
       "        text-align: right;\n",
       "    }\n",
       "</style>\n",
       "<table border=\"1\" class=\"dataframe\">\n",
       "  <thead>\n",
       "    <tr style=\"text-align: right;\">\n",
       "      <th></th>\n",
       "      <th>date</th>\n",
       "      <th>store_nbr</th>\n",
       "      <th>transactions</th>\n",
       "    </tr>\n",
       "  </thead>\n",
       "  <tbody>\n",
       "    <tr>\n",
       "      <th>1</th>\n",
       "      <td>2013-01-02</td>\n",
       "      <td>1</td>\n",
       "      <td>2111</td>\n",
       "    </tr>\n",
       "    <tr>\n",
       "      <th>2</th>\n",
       "      <td>2013-01-02</td>\n",
       "      <td>2</td>\n",
       "      <td>2358</td>\n",
       "    </tr>\n",
       "    <tr>\n",
       "      <th>3</th>\n",
       "      <td>2013-01-02</td>\n",
       "      <td>3</td>\n",
       "      <td>3487</td>\n",
       "    </tr>\n",
       "    <tr>\n",
       "      <th>4</th>\n",
       "      <td>2013-01-02</td>\n",
       "      <td>4</td>\n",
       "      <td>1922</td>\n",
       "    </tr>\n",
       "    <tr>\n",
       "      <th>5</th>\n",
       "      <td>2013-01-02</td>\n",
       "      <td>5</td>\n",
       "      <td>1903</td>\n",
       "    </tr>\n",
       "  </tbody>\n",
       "</table>\n",
       "</div>"
      ],
      "text/plain": [
       "         date  store_nbr  transactions\n",
       "1  2013-01-02          1          2111\n",
       "2  2013-01-02          2          2358\n",
       "3  2013-01-02          3          3487\n",
       "4  2013-01-02          4          1922\n",
       "5  2013-01-02          5          1903"
      ]
     },
     "execution_count": 170,
     "metadata": {},
     "output_type": "execute_result"
    }
   ],
   "source": [
    "transactions = transactions.drop(0, axis = 0)\n",
    "#transactions.drop(0, axis = 0, inplace=True)\n",
    "transactions.head()"
   ]
  },
  {
   "cell_type": "code",
   "execution_count": 172,
   "metadata": {},
   "outputs": [
    {
     "data": {
      "application/vnd.microsoft.datawrangler.viewer.v0+json": {
       "columns": [
        {
         "name": "index",
         "rawType": "int64",
         "type": "integer"
        },
        {
         "name": "store_nbr",
         "rawType": "int64",
         "type": "integer"
        },
        {
         "name": "transactions",
         "rawType": "int64",
         "type": "integer"
        }
       ],
       "conversionMethod": "pd.DataFrame",
       "ref": "8e468748-4b93-49dd-a3f0-a05746436503",
       "rows": [
        [
         "1",
         "1",
         "2111"
        ],
        [
         "2",
         "2",
         "2358"
        ],
        [
         "3",
         "3",
         "3487"
        ],
        [
         "4",
         "4",
         "1922"
        ],
        [
         "5",
         "5",
         "1903"
        ]
       ],
       "shape": {
        "columns": 2,
        "rows": 5
       }
      },
      "text/html": [
       "<div>\n",
       "<style scoped>\n",
       "    .dataframe tbody tr th:only-of-type {\n",
       "        vertical-align: middle;\n",
       "    }\n",
       "\n",
       "    .dataframe tbody tr th {\n",
       "        vertical-align: top;\n",
       "    }\n",
       "\n",
       "    .dataframe thead th {\n",
       "        text-align: right;\n",
       "    }\n",
       "</style>\n",
       "<table border=\"1\" class=\"dataframe\">\n",
       "  <thead>\n",
       "    <tr style=\"text-align: right;\">\n",
       "      <th></th>\n",
       "      <th>store_nbr</th>\n",
       "      <th>transactions</th>\n",
       "    </tr>\n",
       "  </thead>\n",
       "  <tbody>\n",
       "    <tr>\n",
       "      <th>1</th>\n",
       "      <td>1</td>\n",
       "      <td>2111</td>\n",
       "    </tr>\n",
       "    <tr>\n",
       "      <th>2</th>\n",
       "      <td>2</td>\n",
       "      <td>2358</td>\n",
       "    </tr>\n",
       "    <tr>\n",
       "      <th>3</th>\n",
       "      <td>3</td>\n",
       "      <td>3487</td>\n",
       "    </tr>\n",
       "    <tr>\n",
       "      <th>4</th>\n",
       "      <td>4</td>\n",
       "      <td>1922</td>\n",
       "    </tr>\n",
       "    <tr>\n",
       "      <th>5</th>\n",
       "      <td>5</td>\n",
       "      <td>1903</td>\n",
       "    </tr>\n",
       "  </tbody>\n",
       "</table>\n",
       "</div>"
      ],
      "text/plain": [
       "   store_nbr  transactions\n",
       "1          1          2111\n",
       "2          2          2358\n",
       "3          3          3487\n",
       "4          4          1922\n",
       "5          5          1903"
      ]
     },
     "execution_count": 172,
     "metadata": {},
     "output_type": "execute_result"
    }
   ],
   "source": [
    "# drop the date column\n",
    "transactions.drop('date', axis = 1).head()"
   ]
  },
  {
   "cell_type": "code",
   "execution_count": 174,
   "metadata": {},
   "outputs": [
    {
     "data": {
      "application/vnd.microsoft.datawrangler.viewer.v0+json": {
       "columns": [
        {
         "name": "index",
         "rawType": "int64",
         "type": "integer"
        },
        {
         "name": "date",
         "rawType": "object",
         "type": "string"
        },
        {
         "name": "store_nbr",
         "rawType": "int64",
         "type": "integer"
        },
        {
         "name": "transactions",
         "rawType": "int64",
         "type": "integer"
        }
       ],
       "conversionMethod": "pd.DataFrame",
       "ref": "3af79885-1ff3-4729-8a1b-b6e7c9fdd15f",
       "rows": [
        [
         "0",
         "2017-08-15",
         "1",
         "1693"
        ],
        [
         "1",
         "2017-08-15",
         "2",
         "1737"
        ],
        [
         "2",
         "2017-08-15",
         "3",
         "2956"
        ],
        [
         "3",
         "2017-08-15",
         "4",
         "1283"
        ],
        [
         "4",
         "2017-08-15",
         "5",
         "1310"
        ]
       ],
       "shape": {
        "columns": 3,
        "rows": 5
       }
      },
      "text/html": [
       "<div>\n",
       "<style scoped>\n",
       "    .dataframe tbody tr th:only-of-type {\n",
       "        vertical-align: middle;\n",
       "    }\n",
       "\n",
       "    .dataframe tbody tr th {\n",
       "        vertical-align: top;\n",
       "    }\n",
       "\n",
       "    .dataframe thead th {\n",
       "        text-align: right;\n",
       "    }\n",
       "</style>\n",
       "<table border=\"1\" class=\"dataframe\">\n",
       "  <thead>\n",
       "    <tr style=\"text-align: right;\">\n",
       "      <th></th>\n",
       "      <th>date</th>\n",
       "      <th>store_nbr</th>\n",
       "      <th>transactions</th>\n",
       "    </tr>\n",
       "  </thead>\n",
       "  <tbody>\n",
       "    <tr>\n",
       "      <th>0</th>\n",
       "      <td>2017-08-15</td>\n",
       "      <td>1</td>\n",
       "      <td>1693</td>\n",
       "    </tr>\n",
       "    <tr>\n",
       "      <th>1</th>\n",
       "      <td>2017-08-15</td>\n",
       "      <td>2</td>\n",
       "      <td>1737</td>\n",
       "    </tr>\n",
       "    <tr>\n",
       "      <th>2</th>\n",
       "      <td>2017-08-15</td>\n",
       "      <td>3</td>\n",
       "      <td>2956</td>\n",
       "    </tr>\n",
       "    <tr>\n",
       "      <th>3</th>\n",
       "      <td>2017-08-15</td>\n",
       "      <td>4</td>\n",
       "      <td>1283</td>\n",
       "    </tr>\n",
       "    <tr>\n",
       "      <th>4</th>\n",
       "      <td>2017-08-15</td>\n",
       "      <td>5</td>\n",
       "      <td>1310</td>\n",
       "    </tr>\n",
       "  </tbody>\n",
       "</table>\n",
       "</div>"
      ],
      "text/plain": [
       "         date  store_nbr  transactions\n",
       "0  2017-08-15          1          1693\n",
       "1  2017-08-15          2          1737\n",
       "2  2017-08-15          3          2956\n",
       "3  2017-08-15          4          1283\n",
       "4  2017-08-15          5          1310"
      ]
     },
     "execution_count": 174,
     "metadata": {},
     "output_type": "execute_result"
    }
   ],
   "source": [
    "# Get a data frame that only includes the last row for each store\n",
    "transactions.drop_duplicates(subset = 'store_nbr', keep = 'last', ignore_index=True).head()"
   ]
  },
  {
   "cell_type": "markdown",
   "metadata": {},
   "source": [
    "### Handling Missing data\n",
    "Can use `.dropna()` or `.fillna()` methods to deal with missing data\n",
    "`product_df.fillna({\"price\":0})` uses a dictionary to fill all missing values of the price column with 0s. This can be really useful. "
   ]
  },
  {
   "cell_type": "code",
   "execution_count": 180,
   "metadata": {},
   "outputs": [
    {
     "data": {
      "application/vnd.microsoft.datawrangler.viewer.v0+json": {
       "columns": [
        {
         "name": "index",
         "rawType": "int64",
         "type": "integer"
        },
        {
         "name": "product",
         "rawType": "object",
         "type": "unknown"
        },
        {
         "name": "price",
         "rawType": "object",
         "type": "unknown"
        }
       ],
       "conversionMethod": "pd.DataFrame",
       "ref": "3d20c714-96e4-4b9c-a11c-da0b40012242",
       "rows": [
        [
         "0",
         null,
         "2.56"
        ],
        [
         "1",
         "Dairy",
         null
        ],
        [
         "2",
         "Dairy",
         "4.55"
        ],
        [
         "3",
         null,
         "2.74"
        ],
        [
         "4",
         "Fruits",
         null
        ]
       ],
       "shape": {
        "columns": 2,
        "rows": 5
       }
      },
      "text/html": [
       "<div>\n",
       "<style scoped>\n",
       "    .dataframe tbody tr th:only-of-type {\n",
       "        vertical-align: middle;\n",
       "    }\n",
       "\n",
       "    .dataframe tbody tr th {\n",
       "        vertical-align: top;\n",
       "    }\n",
       "\n",
       "    .dataframe thead th {\n",
       "        text-align: right;\n",
       "    }\n",
       "</style>\n",
       "<table border=\"1\" class=\"dataframe\">\n",
       "  <thead>\n",
       "    <tr style=\"text-align: right;\">\n",
       "      <th></th>\n",
       "      <th>product</th>\n",
       "      <th>price</th>\n",
       "    </tr>\n",
       "  </thead>\n",
       "  <tbody>\n",
       "    <tr>\n",
       "      <th>0</th>\n",
       "      <td>&lt;NA&gt;</td>\n",
       "      <td>2.56</td>\n",
       "    </tr>\n",
       "    <tr>\n",
       "      <th>1</th>\n",
       "      <td>Dairy</td>\n",
       "      <td>&lt;NA&gt;</td>\n",
       "    </tr>\n",
       "    <tr>\n",
       "      <th>2</th>\n",
       "      <td>Dairy</td>\n",
       "      <td>4.55</td>\n",
       "    </tr>\n",
       "    <tr>\n",
       "      <th>3</th>\n",
       "      <td>&lt;NA&gt;</td>\n",
       "      <td>2.74</td>\n",
       "    </tr>\n",
       "    <tr>\n",
       "      <th>4</th>\n",
       "      <td>Fruits</td>\n",
       "      <td>&lt;NA&gt;</td>\n",
       "    </tr>\n",
       "  </tbody>\n",
       "</table>\n",
       "</div>"
      ],
      "text/plain": [
       "  product price\n",
       "0    <NA>  2.56\n",
       "1   Dairy  <NA>\n",
       "2   Dairy  4.55\n",
       "3    <NA>  2.74\n",
       "4  Fruits  <NA>"
      ]
     },
     "execution_count": 180,
     "metadata": {},
     "output_type": "execute_result"
    }
   ],
   "source": [
    "product_df = pd.DataFrame(\n",
    "    {'product':[pd.NA, 'Dairy', 'Dairy', pd.NA, 'Fruits'], \n",
    "    'price':[2.56, pd.NA, 4.55, 2.74, pd.NA]\n",
    "    }\n",
    ")\n",
    "product_df"
   ]
  },
  {
   "cell_type": "code",
   "execution_count": 181,
   "metadata": {},
   "outputs": [
    {
     "name": "stderr",
     "output_type": "stream",
     "text": [
      "/var/folders/y7/p6k2fh7s3rz0qzq7d9hkljkw0000gn/T/ipykernel_35925/3271226303.py:1: FutureWarning: Downcasting object dtype arrays on .fillna, .ffill, .bfill is deprecated and will change in a future version. Call result.infer_objects(copy=False) instead. To opt-in to the future behavior, set `pd.set_option('future.no_silent_downcasting', True)`\n",
      "  product_df.fillna(0)\n"
     ]
    },
    {
     "data": {
      "application/vnd.microsoft.datawrangler.viewer.v0+json": {
       "columns": [
        {
         "name": "index",
         "rawType": "int64",
         "type": "integer"
        },
        {
         "name": "product",
         "rawType": "object",
         "type": "unknown"
        },
        {
         "name": "price",
         "rawType": "float64",
         "type": "float"
        }
       ],
       "conversionMethod": "pd.DataFrame",
       "ref": "44cb1ccb-278a-4413-bd60-d369efe98fcd",
       "rows": [
        [
         "0",
         "0",
         "2.56"
        ],
        [
         "1",
         "Dairy",
         "0.0"
        ],
        [
         "2",
         "Dairy",
         "4.55"
        ],
        [
         "3",
         "0",
         "2.74"
        ],
        [
         "4",
         "Fruits",
         "0.0"
        ]
       ],
       "shape": {
        "columns": 2,
        "rows": 5
       }
      },
      "text/html": [
       "<div>\n",
       "<style scoped>\n",
       "    .dataframe tbody tr th:only-of-type {\n",
       "        vertical-align: middle;\n",
       "    }\n",
       "\n",
       "    .dataframe tbody tr th {\n",
       "        vertical-align: top;\n",
       "    }\n",
       "\n",
       "    .dataframe thead th {\n",
       "        text-align: right;\n",
       "    }\n",
       "</style>\n",
       "<table border=\"1\" class=\"dataframe\">\n",
       "  <thead>\n",
       "    <tr style=\"text-align: right;\">\n",
       "      <th></th>\n",
       "      <th>product</th>\n",
       "      <th>price</th>\n",
       "    </tr>\n",
       "  </thead>\n",
       "  <tbody>\n",
       "    <tr>\n",
       "      <th>0</th>\n",
       "      <td>0</td>\n",
       "      <td>2.56</td>\n",
       "    </tr>\n",
       "    <tr>\n",
       "      <th>1</th>\n",
       "      <td>Dairy</td>\n",
       "      <td>0.00</td>\n",
       "    </tr>\n",
       "    <tr>\n",
       "      <th>2</th>\n",
       "      <td>Dairy</td>\n",
       "      <td>4.55</td>\n",
       "    </tr>\n",
       "    <tr>\n",
       "      <th>3</th>\n",
       "      <td>0</td>\n",
       "      <td>2.74</td>\n",
       "    </tr>\n",
       "    <tr>\n",
       "      <th>4</th>\n",
       "      <td>Fruits</td>\n",
       "      <td>0.00</td>\n",
       "    </tr>\n",
       "  </tbody>\n",
       "</table>\n",
       "</div>"
      ],
      "text/plain": [
       "  product  price\n",
       "0       0   2.56\n",
       "1   Dairy   0.00\n",
       "2   Dairy   4.55\n",
       "3       0   2.74\n",
       "4  Fruits   0.00"
      ]
     },
     "execution_count": 181,
     "metadata": {},
     "output_type": "execute_result"
    }
   ],
   "source": [
    "product_df.fillna(0)"
   ]
  },
  {
   "cell_type": "code",
   "execution_count": 182,
   "metadata": {},
   "outputs": [
    {
     "name": "stderr",
     "output_type": "stream",
     "text": [
      "/var/folders/y7/p6k2fh7s3rz0qzq7d9hkljkw0000gn/T/ipykernel_35925/2715920973.py:1: FutureWarning: Downcasting object dtype arrays on .fillna, .ffill, .bfill is deprecated and will change in a future version. Call result.infer_objects(copy=False) instead. To opt-in to the future behavior, set `pd.set_option('future.no_silent_downcasting', True)`\n",
      "  product_df.fillna({\"price\": 0})\n"
     ]
    },
    {
     "data": {
      "application/vnd.microsoft.datawrangler.viewer.v0+json": {
       "columns": [
        {
         "name": "index",
         "rawType": "int64",
         "type": "integer"
        },
        {
         "name": "product",
         "rawType": "object",
         "type": "unknown"
        },
        {
         "name": "price",
         "rawType": "float64",
         "type": "float"
        }
       ],
       "conversionMethod": "pd.DataFrame",
       "ref": "ae3c5e79-b817-4c1c-9767-a76ca2d4ab14",
       "rows": [
        [
         "0",
         null,
         "2.56"
        ],
        [
         "1",
         "Dairy",
         "0.0"
        ],
        [
         "2",
         "Dairy",
         "4.55"
        ],
        [
         "3",
         null,
         "2.74"
        ],
        [
         "4",
         "Fruits",
         "0.0"
        ]
       ],
       "shape": {
        "columns": 2,
        "rows": 5
       }
      },
      "text/html": [
       "<div>\n",
       "<style scoped>\n",
       "    .dataframe tbody tr th:only-of-type {\n",
       "        vertical-align: middle;\n",
       "    }\n",
       "\n",
       "    .dataframe tbody tr th {\n",
       "        vertical-align: top;\n",
       "    }\n",
       "\n",
       "    .dataframe thead th {\n",
       "        text-align: right;\n",
       "    }\n",
       "</style>\n",
       "<table border=\"1\" class=\"dataframe\">\n",
       "  <thead>\n",
       "    <tr style=\"text-align: right;\">\n",
       "      <th></th>\n",
       "      <th>product</th>\n",
       "      <th>price</th>\n",
       "    </tr>\n",
       "  </thead>\n",
       "  <tbody>\n",
       "    <tr>\n",
       "      <th>0</th>\n",
       "      <td>&lt;NA&gt;</td>\n",
       "      <td>2.56</td>\n",
       "    </tr>\n",
       "    <tr>\n",
       "      <th>1</th>\n",
       "      <td>Dairy</td>\n",
       "      <td>0.00</td>\n",
       "    </tr>\n",
       "    <tr>\n",
       "      <th>2</th>\n",
       "      <td>Dairy</td>\n",
       "      <td>4.55</td>\n",
       "    </tr>\n",
       "    <tr>\n",
       "      <th>3</th>\n",
       "      <td>&lt;NA&gt;</td>\n",
       "      <td>2.74</td>\n",
       "    </tr>\n",
       "    <tr>\n",
       "      <th>4</th>\n",
       "      <td>Fruits</td>\n",
       "      <td>0.00</td>\n",
       "    </tr>\n",
       "  </tbody>\n",
       "</table>\n",
       "</div>"
      ],
      "text/plain": [
       "  product  price\n",
       "0    <NA>   2.56\n",
       "1   Dairy   0.00\n",
       "2   Dairy   4.55\n",
       "3    <NA>   2.74\n",
       "4  Fruits   0.00"
      ]
     },
     "execution_count": 182,
     "metadata": {},
     "output_type": "execute_result"
    }
   ],
   "source": [
    "product_df.fillna({\"price\": 0})"
   ]
  },
  {
   "cell_type": "code",
   "execution_count": 237,
   "metadata": {},
   "outputs": [
    {
     "name": "stdout",
     "output_type": "stream",
     "text": [
      "<class 'pandas.core.frame.DataFrame'>\n",
      "RangeIndex: 1218 entries, 0 to 1217\n",
      "Data columns (total 2 columns):\n",
      " #   Column      Non-Null Count  Dtype         \n",
      "---  ------      --------------  -----         \n",
      " 0   date        1218 non-null   datetime64[ns]\n",
      " 1   dcoilwtico  1175 non-null   float64       \n",
      "dtypes: datetime64[ns](1), float64(1)\n",
      "memory usage: 19.2 KB\n"
     ]
    },
    {
     "data": {
      "text/plain": [
       "date           0\n",
       "dcoilwtico    43\n",
       "dtype: int64"
      ]
     },
     "execution_count": 237,
     "metadata": {},
     "output_type": "execute_result"
    }
   ],
   "source": [
    "oil_path = os.path.join(exercise_path, 'oil.csv')  \n",
    "oil_df = pd.read_csv(oil_path, parse_dates=['date'])\n",
    "\n",
    "oil_df.info()\n",
    "oil_df.isna().sum()"
   ]
  },
  {
   "cell_type": "code",
   "execution_count": null,
   "metadata": {},
   "outputs": [
    {
     "name": "stdout",
     "output_type": "stream",
     "text": [
      "65.32379310344828\n",
      "65.32379310344828\n"
     ]
    }
   ],
   "source": [
    "#Two ways to fill the missing values with zero and them return the mean of the price series\n",
    "print(f'{oil_df.loc[:, 'dcoilwtico'].fillna(0).mean()}')\n",
    "print(f'{oil_df['dcoilwtico'].fillna(0).mean()}')"
   ]
  },
  {
   "cell_type": "code",
   "execution_count": 212,
   "metadata": {},
   "outputs": [
    {
     "name": "stdout",
     "output_type": "stream",
     "text": [
      "67.71436595744682\n"
     ]
    }
   ],
   "source": [
    "print(f'{oil_df['dcoilwtico'].fillna(oil_df['dcoilwtico'].mean()).mean()}')"
   ]
  },
  {
   "cell_type": "code",
   "execution_count": 216,
   "metadata": {},
   "outputs": [
    {
     "data": {
      "text/plain": [
       "np.float64(67.71436595744682)"
      ]
     },
     "execution_count": 216,
     "metadata": {},
     "output_type": "execute_result"
    }
   ],
   "source": [
    "oil_df['dcoilwtico'].mean()"
   ]
  },
  {
   "cell_type": "markdown",
   "metadata": {},
   "source": [
    "### Filtering\n",
    "We can filter a data frame by passing a logical test into the .loc[] accessor\n",
    "`retail_df.loc[retail_df[\"date\"] == \"2016-10-28\"]` # will filter the dataframe to all rows where the data is Oct 28, 2016\n",
    "\n",
    "We can also have a row filter and columnn filter in the loc accessor:\n",
    "`retail_df.loc[retail_df[\"date\"] == \"2016-10-28\", [\"date\", \"sales\"]].head()` \n"
   ]
  },
  {
   "cell_type": "code",
   "execution_count": 240,
   "metadata": {},
   "outputs": [
    {
     "data": {
      "application/vnd.microsoft.datawrangler.viewer.v0+json": {
       "columns": [
        {
         "name": "index",
         "rawType": "int64",
         "type": "integer"
        },
        {
         "name": "date",
         "rawType": "datetime64[ns]",
         "type": "datetime"
        },
        {
         "name": "dcoilwtico",
         "rawType": "float64",
         "type": "float"
        },
        {
         "name": "benchmark",
         "rawType": "int64",
         "type": "integer"
        }
       ],
       "conversionMethod": "pd.DataFrame",
       "ref": "1a08dff6-886f-47ed-aa4c-09f1c641cea2",
       "rows": [
        [
         "131",
         "2013-07-03 00:00:00",
         "101.92",
         "100"
        ],
        [
         "133",
         "2013-07-05 00:00:00",
         "103.09",
         "100"
        ],
        [
         "134",
         "2013-07-08 00:00:00",
         "103.03",
         "100"
        ],
        [
         "135",
         "2013-07-09 00:00:00",
         "103.46",
         "100"
        ],
        [
         "136",
         "2013-07-10 00:00:00",
         "106.41",
         "100"
        ],
        [
         "137",
         "2013-07-11 00:00:00",
         "104.77",
         "100"
        ],
        [
         "138",
         "2013-07-12 00:00:00",
         "105.85",
         "100"
        ],
        [
         "139",
         "2013-07-15 00:00:00",
         "106.2",
         "100"
        ],
        [
         "140",
         "2013-07-16 00:00:00",
         "105.88",
         "100"
        ],
        [
         "141",
         "2013-07-17 00:00:00",
         "106.39",
         "100"
        ],
        [
         "142",
         "2013-07-18 00:00:00",
         "107.94",
         "100"
        ],
        [
         "143",
         "2013-07-19 00:00:00",
         "108.0",
         "100"
        ],
        [
         "144",
         "2013-07-22 00:00:00",
         "106.61",
         "100"
        ],
        [
         "145",
         "2013-07-23 00:00:00",
         "107.13",
         "100"
        ],
        [
         "146",
         "2013-07-24 00:00:00",
         "105.41",
         "100"
        ],
        [
         "147",
         "2013-07-25 00:00:00",
         "105.47",
         "100"
        ],
        [
         "148",
         "2013-07-26 00:00:00",
         "104.76",
         "100"
        ],
        [
         "149",
         "2013-07-29 00:00:00",
         "104.61",
         "100"
        ],
        [
         "150",
         "2013-07-30 00:00:00",
         "103.14",
         "100"
        ],
        [
         "151",
         "2013-07-31 00:00:00",
         "105.1",
         "100"
        ],
        [
         "152",
         "2013-08-01 00:00:00",
         "107.93",
         "100"
        ],
        [
         "153",
         "2013-08-02 00:00:00",
         "106.94",
         "100"
        ],
        [
         "154",
         "2013-08-05 00:00:00",
         "106.61",
         "100"
        ],
        [
         "155",
         "2013-08-06 00:00:00",
         "105.32",
         "100"
        ],
        [
         "156",
         "2013-08-07 00:00:00",
         "104.41",
         "100"
        ],
        [
         "157",
         "2013-08-08 00:00:00",
         "103.45",
         "100"
        ],
        [
         "158",
         "2013-08-09 00:00:00",
         "106.04",
         "100"
        ],
        [
         "159",
         "2013-08-12 00:00:00",
         "106.19",
         "100"
        ],
        [
         "160",
         "2013-08-13 00:00:00",
         "106.78",
         "100"
        ],
        [
         "161",
         "2013-08-14 00:00:00",
         "106.89",
         "100"
        ],
        [
         "162",
         "2013-08-15 00:00:00",
         "107.43",
         "100"
        ],
        [
         "163",
         "2013-08-16 00:00:00",
         "107.58",
         "100"
        ],
        [
         "164",
         "2013-08-19 00:00:00",
         "107.14",
         "100"
        ],
        [
         "165",
         "2013-08-20 00:00:00",
         "104.9",
         "100"
        ],
        [
         "166",
         "2013-08-21 00:00:00",
         "103.93",
         "100"
        ],
        [
         "167",
         "2013-08-22 00:00:00",
         "104.93",
         "100"
        ],
        [
         "168",
         "2013-08-23 00:00:00",
         "106.48",
         "100"
        ],
        [
         "169",
         "2013-08-26 00:00:00",
         "105.88",
         "100"
        ],
        [
         "170",
         "2013-08-27 00:00:00",
         "109.11",
         "100"
        ],
        [
         "171",
         "2013-08-28 00:00:00",
         "110.17",
         "100"
        ],
        [
         "172",
         "2013-08-29 00:00:00",
         "108.51",
         "100"
        ],
        [
         "173",
         "2013-08-30 00:00:00",
         "107.98",
         "100"
        ],
        [
         "175",
         "2013-09-03 00:00:00",
         "108.67",
         "100"
        ],
        [
         "176",
         "2013-09-04 00:00:00",
         "107.29",
         "100"
        ],
        [
         "177",
         "2013-09-05 00:00:00",
         "108.5",
         "100"
        ],
        [
         "178",
         "2013-09-06 00:00:00",
         "110.62",
         "100"
        ],
        [
         "179",
         "2013-09-09 00:00:00",
         "109.62",
         "100"
        ],
        [
         "180",
         "2013-09-10 00:00:00",
         "107.48",
         "100"
        ],
        [
         "181",
         "2013-09-11 00:00:00",
         "107.65",
         "100"
        ],
        [
         "182",
         "2013-09-12 00:00:00",
         "108.72",
         "100"
        ]
       ],
       "shape": {
        "columns": 3,
        "rows": 182
       }
      },
      "text/html": [
       "<div>\n",
       "<style scoped>\n",
       "    .dataframe tbody tr th:only-of-type {\n",
       "        vertical-align: middle;\n",
       "    }\n",
       "\n",
       "    .dataframe tbody tr th {\n",
       "        vertical-align: top;\n",
       "    }\n",
       "\n",
       "    .dataframe thead th {\n",
       "        text-align: right;\n",
       "    }\n",
       "</style>\n",
       "<table border=\"1\" class=\"dataframe\">\n",
       "  <thead>\n",
       "    <tr style=\"text-align: right;\">\n",
       "      <th></th>\n",
       "      <th>date</th>\n",
       "      <th>dcoilwtico</th>\n",
       "      <th>benchmark</th>\n",
       "    </tr>\n",
       "  </thead>\n",
       "  <tbody>\n",
       "    <tr>\n",
       "      <th>131</th>\n",
       "      <td>2013-07-03</td>\n",
       "      <td>101.92</td>\n",
       "      <td>100</td>\n",
       "    </tr>\n",
       "    <tr>\n",
       "      <th>133</th>\n",
       "      <td>2013-07-05</td>\n",
       "      <td>103.09</td>\n",
       "      <td>100</td>\n",
       "    </tr>\n",
       "    <tr>\n",
       "      <th>134</th>\n",
       "      <td>2013-07-08</td>\n",
       "      <td>103.03</td>\n",
       "      <td>100</td>\n",
       "    </tr>\n",
       "    <tr>\n",
       "      <th>135</th>\n",
       "      <td>2013-07-09</td>\n",
       "      <td>103.46</td>\n",
       "      <td>100</td>\n",
       "    </tr>\n",
       "    <tr>\n",
       "      <th>136</th>\n",
       "      <td>2013-07-10</td>\n",
       "      <td>106.41</td>\n",
       "      <td>100</td>\n",
       "    </tr>\n",
       "    <tr>\n",
       "      <th>...</th>\n",
       "      <td>...</td>\n",
       "      <td>...</td>\n",
       "      <td>...</td>\n",
       "    </tr>\n",
       "    <tr>\n",
       "      <th>407</th>\n",
       "      <td>2014-07-24</td>\n",
       "      <td>102.76</td>\n",
       "      <td>100</td>\n",
       "    </tr>\n",
       "    <tr>\n",
       "      <th>408</th>\n",
       "      <td>2014-07-25</td>\n",
       "      <td>105.23</td>\n",
       "      <td>100</td>\n",
       "    </tr>\n",
       "    <tr>\n",
       "      <th>409</th>\n",
       "      <td>2014-07-28</td>\n",
       "      <td>105.68</td>\n",
       "      <td>100</td>\n",
       "    </tr>\n",
       "    <tr>\n",
       "      <th>410</th>\n",
       "      <td>2014-07-29</td>\n",
       "      <td>104.91</td>\n",
       "      <td>100</td>\n",
       "    </tr>\n",
       "    <tr>\n",
       "      <th>411</th>\n",
       "      <td>2014-07-30</td>\n",
       "      <td>104.29</td>\n",
       "      <td>100</td>\n",
       "    </tr>\n",
       "  </tbody>\n",
       "</table>\n",
       "<p>182 rows × 3 columns</p>\n",
       "</div>"
      ],
      "text/plain": [
       "          date  dcoilwtico  benchmark\n",
       "131 2013-07-03      101.92        100\n",
       "133 2013-07-05      103.09        100\n",
       "134 2013-07-08      103.03        100\n",
       "135 2013-07-09      103.46        100\n",
       "136 2013-07-10      106.41        100\n",
       "..         ...         ...        ...\n",
       "407 2014-07-24      102.76        100\n",
       "408 2014-07-25      105.23        100\n",
       "409 2014-07-28      105.68        100\n",
       "410 2014-07-29      104.91        100\n",
       "411 2014-07-30      104.29        100\n",
       "\n",
       "[182 rows x 3 columns]"
      ]
     },
     "execution_count": 240,
     "metadata": {},
     "output_type": "execute_result"
    }
   ],
   "source": [
    "oil_df['benchmark'] = 100\n",
    "oil_df.loc[oil_df['dcoilwtico'] > oil_df['benchmark']]"
   ]
  },
  {
   "cell_type": "code",
   "execution_count": 232,
   "metadata": {},
   "outputs": [
    {
     "data": {
      "application/vnd.microsoft.datawrangler.viewer.v0+json": {
       "columns": [
        {
         "name": "index",
         "rawType": "int64",
         "type": "integer"
        },
        {
         "name": "date",
         "rawType": "object",
         "type": "string"
        },
        {
         "name": "dcoilwtico",
         "rawType": "float64",
         "type": "float"
        },
        {
         "name": "benchmark",
         "rawType": "int64",
         "type": "integer"
        }
       ],
       "conversionMethod": "pd.DataFrame",
       "ref": "6ff18b3c-8912-4b48-857a-a783ee786692",
       "rows": [
        [
         "131",
         "2013-07-03",
         "101.92",
         "100"
        ],
        [
         "133",
         "2013-07-05",
         "103.09",
         "100"
        ],
        [
         "134",
         "2013-07-08",
         "103.03",
         "100"
        ],
        [
         "135",
         "2013-07-09",
         "103.46",
         "100"
        ],
        [
         "136",
         "2013-07-10",
         "106.41",
         "100"
        ],
        [
         "137",
         "2013-07-11",
         "104.77",
         "100"
        ],
        [
         "138",
         "2013-07-12",
         "105.85",
         "100"
        ],
        [
         "139",
         "2013-07-15",
         "106.2",
         "100"
        ],
        [
         "140",
         "2013-07-16",
         "105.88",
         "100"
        ],
        [
         "141",
         "2013-07-17",
         "106.39",
         "100"
        ],
        [
         "142",
         "2013-07-18",
         "107.94",
         "100"
        ],
        [
         "143",
         "2013-07-19",
         "108.0",
         "100"
        ],
        [
         "144",
         "2013-07-22",
         "106.61",
         "100"
        ],
        [
         "145",
         "2013-07-23",
         "107.13",
         "100"
        ],
        [
         "146",
         "2013-07-24",
         "105.41",
         "100"
        ],
        [
         "147",
         "2013-07-25",
         "105.47",
         "100"
        ],
        [
         "148",
         "2013-07-26",
         "104.76",
         "100"
        ],
        [
         "149",
         "2013-07-29",
         "104.61",
         "100"
        ],
        [
         "150",
         "2013-07-30",
         "103.14",
         "100"
        ],
        [
         "151",
         "2013-07-31",
         "105.1",
         "100"
        ],
        [
         "152",
         "2013-08-01",
         "107.93",
         "100"
        ],
        [
         "153",
         "2013-08-02",
         "106.94",
         "100"
        ],
        [
         "154",
         "2013-08-05",
         "106.61",
         "100"
        ],
        [
         "155",
         "2013-08-06",
         "105.32",
         "100"
        ],
        [
         "156",
         "2013-08-07",
         "104.41",
         "100"
        ],
        [
         "157",
         "2013-08-08",
         "103.45",
         "100"
        ],
        [
         "158",
         "2013-08-09",
         "106.04",
         "100"
        ],
        [
         "159",
         "2013-08-12",
         "106.19",
         "100"
        ],
        [
         "160",
         "2013-08-13",
         "106.78",
         "100"
        ],
        [
         "161",
         "2013-08-14",
         "106.89",
         "100"
        ],
        [
         "162",
         "2013-08-15",
         "107.43",
         "100"
        ],
        [
         "163",
         "2013-08-16",
         "107.58",
         "100"
        ],
        [
         "164",
         "2013-08-19",
         "107.14",
         "100"
        ],
        [
         "165",
         "2013-08-20",
         "104.9",
         "100"
        ],
        [
         "166",
         "2013-08-21",
         "103.93",
         "100"
        ],
        [
         "167",
         "2013-08-22",
         "104.93",
         "100"
        ],
        [
         "168",
         "2013-08-23",
         "106.48",
         "100"
        ],
        [
         "169",
         "2013-08-26",
         "105.88",
         "100"
        ],
        [
         "170",
         "2013-08-27",
         "109.11",
         "100"
        ],
        [
         "171",
         "2013-08-28",
         "110.17",
         "100"
        ],
        [
         "172",
         "2013-08-29",
         "108.51",
         "100"
        ],
        [
         "173",
         "2013-08-30",
         "107.98",
         "100"
        ],
        [
         "175",
         "2013-09-03",
         "108.67",
         "100"
        ],
        [
         "176",
         "2013-09-04",
         "107.29",
         "100"
        ],
        [
         "177",
         "2013-09-05",
         "108.5",
         "100"
        ],
        [
         "178",
         "2013-09-06",
         "110.62",
         "100"
        ],
        [
         "179",
         "2013-09-09",
         "109.62",
         "100"
        ],
        [
         "180",
         "2013-09-10",
         "107.48",
         "100"
        ],
        [
         "181",
         "2013-09-11",
         "107.65",
         "100"
        ],
        [
         "182",
         "2013-09-12",
         "108.72",
         "100"
        ]
       ],
       "shape": {
        "columns": 3,
        "rows": 76
       }
      },
      "text/html": [
       "<div>\n",
       "<style scoped>\n",
       "    .dataframe tbody tr th:only-of-type {\n",
       "        vertical-align: middle;\n",
       "    }\n",
       "\n",
       "    .dataframe tbody tr th {\n",
       "        vertical-align: top;\n",
       "    }\n",
       "\n",
       "    .dataframe thead th {\n",
       "        text-align: right;\n",
       "    }\n",
       "</style>\n",
       "<table border=\"1\" class=\"dataframe\">\n",
       "  <thead>\n",
       "    <tr style=\"text-align: right;\">\n",
       "      <th></th>\n",
       "      <th>date</th>\n",
       "      <th>dcoilwtico</th>\n",
       "      <th>benchmark</th>\n",
       "    </tr>\n",
       "  </thead>\n",
       "  <tbody>\n",
       "    <tr>\n",
       "      <th>131</th>\n",
       "      <td>2013-07-03</td>\n",
       "      <td>101.92</td>\n",
       "      <td>100</td>\n",
       "    </tr>\n",
       "    <tr>\n",
       "      <th>133</th>\n",
       "      <td>2013-07-05</td>\n",
       "      <td>103.09</td>\n",
       "      <td>100</td>\n",
       "    </tr>\n",
       "    <tr>\n",
       "      <th>134</th>\n",
       "      <td>2013-07-08</td>\n",
       "      <td>103.03</td>\n",
       "      <td>100</td>\n",
       "    </tr>\n",
       "    <tr>\n",
       "      <th>135</th>\n",
       "      <td>2013-07-09</td>\n",
       "      <td>103.46</td>\n",
       "      <td>100</td>\n",
       "    </tr>\n",
       "    <tr>\n",
       "      <th>136</th>\n",
       "      <td>2013-07-10</td>\n",
       "      <td>106.41</td>\n",
       "      <td>100</td>\n",
       "    </tr>\n",
       "    <tr>\n",
       "      <th>...</th>\n",
       "      <td>...</td>\n",
       "      <td>...</td>\n",
       "      <td>...</td>\n",
       "    </tr>\n",
       "    <tr>\n",
       "      <th>204</th>\n",
       "      <td>2013-10-14</td>\n",
       "      <td>102.46</td>\n",
       "      <td>100</td>\n",
       "    </tr>\n",
       "    <tr>\n",
       "      <th>205</th>\n",
       "      <td>2013-10-15</td>\n",
       "      <td>101.15</td>\n",
       "      <td>100</td>\n",
       "    </tr>\n",
       "    <tr>\n",
       "      <th>206</th>\n",
       "      <td>2013-10-16</td>\n",
       "      <td>102.34</td>\n",
       "      <td>100</td>\n",
       "    </tr>\n",
       "    <tr>\n",
       "      <th>207</th>\n",
       "      <td>2013-10-17</td>\n",
       "      <td>100.72</td>\n",
       "      <td>100</td>\n",
       "    </tr>\n",
       "    <tr>\n",
       "      <th>208</th>\n",
       "      <td>2013-10-18</td>\n",
       "      <td>100.87</td>\n",
       "      <td>100</td>\n",
       "    </tr>\n",
       "  </tbody>\n",
       "</table>\n",
       "<p>76 rows × 3 columns</p>\n",
       "</div>"
      ],
      "text/plain": [
       "           date  dcoilwtico  benchmark\n",
       "131  2013-07-03      101.92        100\n",
       "133  2013-07-05      103.09        100\n",
       "134  2013-07-08      103.03        100\n",
       "135  2013-07-09      103.46        100\n",
       "136  2013-07-10      106.41        100\n",
       "..          ...         ...        ...\n",
       "204  2013-10-14      102.46        100\n",
       "205  2013-10-15      101.15        100\n",
       "206  2013-10-16      102.34        100\n",
       "207  2013-10-17      100.72        100\n",
       "208  2013-10-18      100.87        100\n",
       "\n",
       "[76 rows x 3 columns]"
      ]
     },
     "execution_count": 232,
     "metadata": {},
     "output_type": "execute_result"
    }
   ],
   "source": [
    "# Filter to only when the year is 2013\n",
    "oil_mask = (oil_df['dcoilwtico'] > oil_df['benchmark']) & (oil_df['date'].str[0:4] == \"2013\")\n",
    "oil_df.loc[oil_mask]"
   ]
  },
  {
   "cell_type": "code",
   "execution_count": 241,
   "metadata": {},
   "outputs": [
    {
     "data": {
      "application/vnd.microsoft.datawrangler.viewer.v0+json": {
       "columns": [
        {
         "name": "index",
         "rawType": "int64",
         "type": "integer"
        },
        {
         "name": "date",
         "rawType": "datetime64[ns]",
         "type": "datetime"
        },
        {
         "name": "dcoilwtico",
         "rawType": "float64",
         "type": "float"
        },
        {
         "name": "benchmark",
         "rawType": "int64",
         "type": "integer"
        }
       ],
       "conversionMethod": "pd.DataFrame",
       "ref": "bf70b0f7-fe64-4a39-8be0-c19986e20fa8",
       "rows": [
        [
         "0",
         "2013-01-01 00:00:00",
         null,
         "100"
        ],
        [
         "1",
         "2013-01-02 00:00:00",
         "93.14",
         "100"
        ],
        [
         "2",
         "2013-01-03 00:00:00",
         "92.97",
         "100"
        ],
        [
         "3",
         "2013-01-04 00:00:00",
         "93.12",
         "100"
        ],
        [
         "4",
         "2013-01-07 00:00:00",
         "93.2",
         "100"
        ],
        [
         "5",
         "2013-01-08 00:00:00",
         "93.21",
         "100"
        ],
        [
         "6",
         "2013-01-09 00:00:00",
         "93.08",
         "100"
        ],
        [
         "7",
         "2013-01-10 00:00:00",
         "93.81",
         "100"
        ],
        [
         "8",
         "2013-01-11 00:00:00",
         "93.6",
         "100"
        ],
        [
         "9",
         "2013-01-14 00:00:00",
         "94.27",
         "100"
        ],
        [
         "10",
         "2013-01-15 00:00:00",
         "93.26",
         "100"
        ],
        [
         "11",
         "2013-01-16 00:00:00",
         "94.28",
         "100"
        ],
        [
         "12",
         "2013-01-17 00:00:00",
         "95.49",
         "100"
        ],
        [
         "13",
         "2013-01-18 00:00:00",
         "95.61",
         "100"
        ],
        [
         "14",
         "2013-01-21 00:00:00",
         null,
         "100"
        ],
        [
         "15",
         "2013-01-22 00:00:00",
         "96.09",
         "100"
        ],
        [
         "16",
         "2013-01-23 00:00:00",
         "95.06",
         "100"
        ],
        [
         "17",
         "2013-01-24 00:00:00",
         "95.35",
         "100"
        ],
        [
         "18",
         "2013-01-25 00:00:00",
         "95.15",
         "100"
        ],
        [
         "19",
         "2013-01-28 00:00:00",
         "95.95",
         "100"
        ],
        [
         "20",
         "2013-01-29 00:00:00",
         "97.62",
         "100"
        ],
        [
         "21",
         "2013-01-30 00:00:00",
         "97.98",
         "100"
        ],
        [
         "22",
         "2013-01-31 00:00:00",
         "97.65",
         "100"
        ],
        [
         "23",
         "2013-02-01 00:00:00",
         "97.46",
         "100"
        ],
        [
         "24",
         "2013-02-04 00:00:00",
         "96.21",
         "100"
        ],
        [
         "25",
         "2013-02-05 00:00:00",
         "96.68",
         "100"
        ],
        [
         "26",
         "2013-02-06 00:00:00",
         "96.44",
         "100"
        ],
        [
         "27",
         "2013-02-07 00:00:00",
         "95.84",
         "100"
        ],
        [
         "28",
         "2013-02-08 00:00:00",
         "95.71",
         "100"
        ],
        [
         "29",
         "2013-02-11 00:00:00",
         "97.01",
         "100"
        ],
        [
         "30",
         "2013-02-12 00:00:00",
         "97.48",
         "100"
        ],
        [
         "31",
         "2013-02-13 00:00:00",
         "97.03",
         "100"
        ],
        [
         "32",
         "2013-02-14 00:00:00",
         "97.3",
         "100"
        ],
        [
         "33",
         "2013-02-15 00:00:00",
         "95.95",
         "100"
        ],
        [
         "34",
         "2013-02-18 00:00:00",
         null,
         "100"
        ],
        [
         "35",
         "2013-02-19 00:00:00",
         "96.69",
         "100"
        ],
        [
         "36",
         "2013-02-20 00:00:00",
         "94.92",
         "100"
        ],
        [
         "37",
         "2013-02-21 00:00:00",
         "92.79",
         "100"
        ],
        [
         "38",
         "2013-02-22 00:00:00",
         "93.12",
         "100"
        ],
        [
         "39",
         "2013-02-25 00:00:00",
         "92.74",
         "100"
        ],
        [
         "40",
         "2013-02-26 00:00:00",
         "92.63",
         "100"
        ],
        [
         "41",
         "2013-02-27 00:00:00",
         "92.84",
         "100"
        ],
        [
         "42",
         "2013-02-28 00:00:00",
         "92.03",
         "100"
        ],
        [
         "43",
         "2013-03-01 00:00:00",
         "90.71",
         "100"
        ],
        [
         "44",
         "2013-03-04 00:00:00",
         "90.13",
         "100"
        ],
        [
         "45",
         "2013-03-05 00:00:00",
         "90.88",
         "100"
        ],
        [
         "46",
         "2013-03-06 00:00:00",
         "90.47",
         "100"
        ],
        [
         "47",
         "2013-03-07 00:00:00",
         "91.53",
         "100"
        ],
        [
         "48",
         "2013-03-08 00:00:00",
         "92.01",
         "100"
        ],
        [
         "49",
         "2013-03-11 00:00:00",
         "92.07",
         "100"
        ]
       ],
       "shape": {
        "columns": 3,
        "rows": 367
       }
      },
      "text/html": [
       "<div>\n",
       "<style scoped>\n",
       "    .dataframe tbody tr th:only-of-type {\n",
       "        vertical-align: middle;\n",
       "    }\n",
       "\n",
       "    .dataframe tbody tr th {\n",
       "        vertical-align: top;\n",
       "    }\n",
       "\n",
       "    .dataframe thead th {\n",
       "        text-align: right;\n",
       "    }\n",
       "</style>\n",
       "<table border=\"1\" class=\"dataframe\">\n",
       "  <thead>\n",
       "    <tr style=\"text-align: right;\">\n",
       "      <th></th>\n",
       "      <th>date</th>\n",
       "      <th>dcoilwtico</th>\n",
       "      <th>benchmark</th>\n",
       "    </tr>\n",
       "  </thead>\n",
       "  <tbody>\n",
       "    <tr>\n",
       "      <th>0</th>\n",
       "      <td>2013-01-01</td>\n",
       "      <td>NaN</td>\n",
       "      <td>100</td>\n",
       "    </tr>\n",
       "    <tr>\n",
       "      <th>1</th>\n",
       "      <td>2013-01-02</td>\n",
       "      <td>93.14</td>\n",
       "      <td>100</td>\n",
       "    </tr>\n",
       "    <tr>\n",
       "      <th>2</th>\n",
       "      <td>2013-01-03</td>\n",
       "      <td>92.97</td>\n",
       "      <td>100</td>\n",
       "    </tr>\n",
       "    <tr>\n",
       "      <th>3</th>\n",
       "      <td>2013-01-04</td>\n",
       "      <td>93.12</td>\n",
       "      <td>100</td>\n",
       "    </tr>\n",
       "    <tr>\n",
       "      <th>4</th>\n",
       "      <td>2013-01-07</td>\n",
       "      <td>93.20</td>\n",
       "      <td>100</td>\n",
       "    </tr>\n",
       "    <tr>\n",
       "      <th>...</th>\n",
       "      <td>...</td>\n",
       "      <td>...</td>\n",
       "      <td>...</td>\n",
       "    </tr>\n",
       "    <tr>\n",
       "      <th>407</th>\n",
       "      <td>2014-07-24</td>\n",
       "      <td>102.76</td>\n",
       "      <td>100</td>\n",
       "    </tr>\n",
       "    <tr>\n",
       "      <th>408</th>\n",
       "      <td>2014-07-25</td>\n",
       "      <td>105.23</td>\n",
       "      <td>100</td>\n",
       "    </tr>\n",
       "    <tr>\n",
       "      <th>409</th>\n",
       "      <td>2014-07-28</td>\n",
       "      <td>105.68</td>\n",
       "      <td>100</td>\n",
       "    </tr>\n",
       "    <tr>\n",
       "      <th>410</th>\n",
       "      <td>2014-07-29</td>\n",
       "      <td>104.91</td>\n",
       "      <td>100</td>\n",
       "    </tr>\n",
       "    <tr>\n",
       "      <th>411</th>\n",
       "      <td>2014-07-30</td>\n",
       "      <td>104.29</td>\n",
       "      <td>100</td>\n",
       "    </tr>\n",
       "  </tbody>\n",
       "</table>\n",
       "<p>367 rows × 3 columns</p>\n",
       "</div>"
      ],
      "text/plain": [
       "          date  dcoilwtico  benchmark\n",
       "0   2013-01-01         NaN        100\n",
       "1   2013-01-02       93.14        100\n",
       "2   2013-01-03       92.97        100\n",
       "3   2013-01-04       93.12        100\n",
       "4   2013-01-07       93.20        100\n",
       "..         ...         ...        ...\n",
       "407 2014-07-24      102.76        100\n",
       "408 2014-07-25      105.23        100\n",
       "409 2014-07-28      105.68        100\n",
       "410 2014-07-29      104.91        100\n",
       "411 2014-07-30      104.29        100\n",
       "\n",
       "[367 rows x 3 columns]"
      ]
     },
     "execution_count": 241,
     "metadata": {},
     "output_type": "execute_result"
    }
   ],
   "source": [
    "# Let's use boolean logic to recreate filtering conditions from last demo\n",
    "oil_df.query(\"dcoilwtico > benchmark or date.dt.year == 2013\")"
   ]
  },
  {
   "cell_type": "code",
   "execution_count": 266,
   "metadata": {},
   "outputs": [
    {
     "data": {
      "application/vnd.microsoft.datawrangler.viewer.v0+json": {
       "columns": [
        {
         "name": "index",
         "rawType": "int64",
         "type": "integer"
        },
        {
         "name": "date",
         "rawType": "object",
         "type": "string"
        },
        {
         "name": "store_nbr",
         "rawType": "int64",
         "type": "integer"
        },
        {
         "name": "transactions",
         "rawType": "int64",
         "type": "integer"
        }
       ],
       "conversionMethod": "pd.DataFrame",
       "ref": "9a17bbf2-f103-429b-a8ce-7d8a48989d2c",
       "rows": [
        [
         "1",
         "2013-01-02",
         "1",
         "2111"
        ],
        [
         "2",
         "2013-01-02",
         "2",
         "2358"
        ],
        [
         "3",
         "2013-01-02",
         "3",
         "3487"
        ],
        [
         "4",
         "2013-01-02",
         "4",
         "1922"
        ],
        [
         "5",
         "2013-01-02",
         "5",
         "1903"
        ]
       ],
       "shape": {
        "columns": 3,
        "rows": 5
       }
      },
      "text/html": [
       "<div>\n",
       "<style scoped>\n",
       "    .dataframe tbody tr th:only-of-type {\n",
       "        vertical-align: middle;\n",
       "    }\n",
       "\n",
       "    .dataframe tbody tr th {\n",
       "        vertical-align: top;\n",
       "    }\n",
       "\n",
       "    .dataframe thead th {\n",
       "        text-align: right;\n",
       "    }\n",
       "</style>\n",
       "<table border=\"1\" class=\"dataframe\">\n",
       "  <thead>\n",
       "    <tr style=\"text-align: right;\">\n",
       "      <th></th>\n",
       "      <th>date</th>\n",
       "      <th>store_nbr</th>\n",
       "      <th>transactions</th>\n",
       "    </tr>\n",
       "  </thead>\n",
       "  <tbody>\n",
       "    <tr>\n",
       "      <th>1</th>\n",
       "      <td>2013-01-02</td>\n",
       "      <td>1</td>\n",
       "      <td>2111</td>\n",
       "    </tr>\n",
       "    <tr>\n",
       "      <th>2</th>\n",
       "      <td>2013-01-02</td>\n",
       "      <td>2</td>\n",
       "      <td>2358</td>\n",
       "    </tr>\n",
       "    <tr>\n",
       "      <th>3</th>\n",
       "      <td>2013-01-02</td>\n",
       "      <td>3</td>\n",
       "      <td>3487</td>\n",
       "    </tr>\n",
       "    <tr>\n",
       "      <th>4</th>\n",
       "      <td>2013-01-02</td>\n",
       "      <td>4</td>\n",
       "      <td>1922</td>\n",
       "    </tr>\n",
       "    <tr>\n",
       "      <th>5</th>\n",
       "      <td>2013-01-02</td>\n",
       "      <td>5</td>\n",
       "      <td>1903</td>\n",
       "    </tr>\n",
       "  </tbody>\n",
       "</table>\n",
       "</div>"
      ],
      "text/plain": [
       "         date  store_nbr  transactions\n",
       "1  2013-01-02          1          2111\n",
       "2  2013-01-02          2          2358\n",
       "3  2013-01-02          3          3487\n",
       "4  2013-01-02          4          1922\n",
       "5  2013-01-02          5          1903"
      ]
     },
     "execution_count": 266,
     "metadata": {},
     "output_type": "execute_result"
    }
   ],
   "source": [
    "# Practice: What is the percentage of times all stores had more than 2000 transactions\n",
    "transactions.head()\n",
    "#transactions.shape[0]\n",
    "#(transactions.loc[transactions['transactions'] > 2000]).count() / transactions.shape[0]\n",
    "\n"
   ]
  },
  {
   "cell_type": "code",
   "execution_count": 278,
   "metadata": {},
   "outputs": [
    {
     "name": "stdout",
     "output_type": "stream",
     "text": [
      "<class 'pandas.core.frame.DataFrame'>\n",
      "RangeIndex: 83488 entries, 0 to 83487\n",
      "Data columns (total 3 columns):\n",
      " #   Column        Non-Null Count  Dtype         \n",
      "---  ------        --------------  -----         \n",
      " 0   date          83488 non-null  datetime64[ns]\n",
      " 1   store_nbr     83488 non-null  int64         \n",
      " 2   transactions  83488 non-null  int64         \n",
      "dtypes: datetime64[ns](1), int64(2)\n",
      "memory usage: 1.9 MB\n"
     ]
    }
   ],
   "source": [
    "transactions_path = os.path.join(exercise_path, 'transactions.csv')\n",
    "transactions = pd.read_csv(transactions_path, parse_dates=['date'])\n",
    "transactions.info()"
   ]
  },
  {
   "cell_type": "code",
   "execution_count": 265,
   "metadata": {},
   "outputs": [
    {
     "data": {
      "text/plain": [
       "date            0.266808\n",
       "store_nbr       0.266808\n",
       "transactions    0.266808\n",
       "dtype: float64"
      ]
     },
     "execution_count": 265,
     "metadata": {},
     "output_type": "execute_result"
    }
   ],
   "source": [
    "# Practice: What is the percentage of times all stores had more than 2000 transactions\n",
    "tot_trans = transactions.shape[0]\n",
    "transactions.query(\"transactions > 2000\").count() / tot_trans"
   ]
  },
  {
   "cell_type": "code",
   "execution_count": null,
   "metadata": {},
   "outputs": [
    {
     "data": {
      "text/plain": [
       "np.float64(0.26680481027213493)"
      ]
     },
     "execution_count": 311,
     "metadata": {},
     "output_type": "execute_result"
    }
   ],
   "source": [
    "# Can take the average of the boolean condition to get the percentage of times a condition was met\n",
    "(transactions[\"transactions\"] > 2000).mean()"
   ]
  },
  {
   "cell_type": "code",
   "execution_count": 269,
   "metadata": {},
   "outputs": [
    {
     "name": "stdout",
     "output_type": "stream",
     "text": [
      "Store 25 had date            1614\n",
      "store_nbr       1614\n",
      "transactions    1614\n",
      "dtype: int64 tranactions, of which date            0.034696\n",
      "store_nbr       0.034696\n",
      "transactions    0.034696\n",
      "dtype: float64 were above 2000\n",
      " and date            2013-02-092013-02-102013-02-112013-03-022013-0...\n",
      "store_nbr                                                    1400\n",
      "transactions                                               144903\n",
      "dtype: object was the total\n"
     ]
    }
   ],
   "source": [
    "store_25 = transactions.query(\"store_nbr ==25\").count()\n",
    "count_25 = transactions.query(\"store_nbr == 25 & transactions > 2000\").count()\n",
    "sum_25 = transactions.query(\"store_nbr == 25 & transactions > 2000\").sum()\n",
    "\n",
    "print(f'Store 25 had {store_25} tranactions, of which {count_25/store_25} were above 2000\\n and {sum_25} was the total')"
   ]
  },
  {
   "cell_type": "code",
   "execution_count": 316,
   "metadata": {},
   "outputs": [
    {
     "data": {
      "text/plain": [
       "np.int64(56)"
      ]
     },
     "execution_count": 316,
     "metadata": {},
     "output_type": "execute_result"
    }
   ],
   "source": [
    "store_25_mask = (transactions['store_nbr'] == 25) &  (transactions[\"transactions\"] > 2000)\n",
    "transactions.loc[store_25_mask, 'transactions'].count()"
   ]
  },
  {
   "cell_type": "code",
   "execution_count": null,
   "metadata": {},
   "outputs": [
    {
     "name": "stdout",
     "output_type": "stream",
     "text": [
      "644910\n"
     ]
    }
   ],
   "source": [
    "# Sum the transactions for stores 25 and 31 that occured in May or June and had less than 2000 transactions\n",
    "subset_trans = transactions.query(\"store_nbr in [25, 31] and (date.dt.month == 5 | date.dt.month == 6) and transactions < 2000\")\n",
    "print(f'{subset_trans['transactions'].sum()}')"
   ]
  },
  {
   "cell_type": "code",
   "execution_count": 309,
   "metadata": {},
   "outputs": [
    {
     "data": {
      "text/plain": [
       "np.int64(644910)"
      ]
     },
     "execution_count": 309,
     "metadata": {},
     "output_type": "execute_result"
    }
   ],
   "source": [
    "#Filtering without the query method\n",
    "mask = (transactions['store_nbr'].isin([25, 31])) & (transactions['date'].astype('string').str[6:7].isin(['5', '6'])) & (transactions['transactions'] < 2000)\n",
    "transactions.loc[mask]['transactions'].sum()"
   ]
  },
  {
   "cell_type": "code",
   "execution_count": 323,
   "metadata": {},
   "outputs": [
    {
     "data": {
      "application/vnd.microsoft.datawrangler.viewer.v0+json": {
       "columns": [
        {
         "name": "index",
         "rawType": "int64",
         "type": "integer"
        },
        {
         "name": "date",
         "rawType": "datetime64[ns]",
         "type": "datetime"
        },
        {
         "name": "dcoilwtico",
         "rawType": "float64",
         "type": "float"
        },
        {
         "name": "benchmark",
         "rawType": "int64",
         "type": "integer"
        }
       ],
       "conversionMethod": "pd.DataFrame",
       "ref": "7a995fc9-6c28-472d-bde1-9d3a703d7ce0",
       "rows": [
        [
         "0",
         "2013-01-01 00:00:00",
         null,
         "100"
        ],
        [
         "1",
         "2013-01-02 00:00:00",
         "93.14",
         "100"
        ],
        [
         "2",
         "2013-01-03 00:00:00",
         "92.97",
         "100"
        ],
        [
         "3",
         "2013-01-04 00:00:00",
         "93.12",
         "100"
        ],
        [
         "4",
         "2013-01-07 00:00:00",
         "93.2",
         "100"
        ],
        [
         "5",
         "2013-01-08 00:00:00",
         "93.21",
         "100"
        ],
        [
         "6",
         "2013-01-09 00:00:00",
         "93.08",
         "100"
        ],
        [
         "7",
         "2013-01-10 00:00:00",
         "93.81",
         "100"
        ],
        [
         "8",
         "2013-01-11 00:00:00",
         "93.6",
         "100"
        ],
        [
         "9",
         "2013-01-14 00:00:00",
         "94.27",
         "100"
        ],
        [
         "10",
         "2013-01-15 00:00:00",
         "93.26",
         "100"
        ],
        [
         "11",
         "2013-01-16 00:00:00",
         "94.28",
         "100"
        ],
        [
         "12",
         "2013-01-17 00:00:00",
         "95.49",
         "100"
        ],
        [
         "13",
         "2013-01-18 00:00:00",
         "95.61",
         "100"
        ],
        [
         "14",
         "2013-01-21 00:00:00",
         null,
         "100"
        ],
        [
         "15",
         "2013-01-22 00:00:00",
         "96.09",
         "100"
        ],
        [
         "16",
         "2013-01-23 00:00:00",
         "95.06",
         "100"
        ],
        [
         "17",
         "2013-01-24 00:00:00",
         "95.35",
         "100"
        ],
        [
         "18",
         "2013-01-25 00:00:00",
         "95.15",
         "100"
        ],
        [
         "19",
         "2013-01-28 00:00:00",
         "95.95",
         "100"
        ],
        [
         "20",
         "2013-01-29 00:00:00",
         "97.62",
         "100"
        ],
        [
         "21",
         "2013-01-30 00:00:00",
         "97.98",
         "100"
        ],
        [
         "22",
         "2013-01-31 00:00:00",
         "97.65",
         "100"
        ],
        [
         "23",
         "2013-02-01 00:00:00",
         "97.46",
         "100"
        ],
        [
         "24",
         "2013-02-04 00:00:00",
         "96.21",
         "100"
        ],
        [
         "25",
         "2013-02-05 00:00:00",
         "96.68",
         "100"
        ],
        [
         "26",
         "2013-02-06 00:00:00",
         "96.44",
         "100"
        ],
        [
         "27",
         "2013-02-07 00:00:00",
         "95.84",
         "100"
        ],
        [
         "28",
         "2013-02-08 00:00:00",
         "95.71",
         "100"
        ],
        [
         "29",
         "2013-02-11 00:00:00",
         "97.01",
         "100"
        ],
        [
         "30",
         "2013-02-12 00:00:00",
         "97.48",
         "100"
        ],
        [
         "31",
         "2013-02-13 00:00:00",
         "97.03",
         "100"
        ],
        [
         "32",
         "2013-02-14 00:00:00",
         "97.3",
         "100"
        ],
        [
         "33",
         "2013-02-15 00:00:00",
         "95.95",
         "100"
        ],
        [
         "34",
         "2013-02-18 00:00:00",
         null,
         "100"
        ],
        [
         "35",
         "2013-02-19 00:00:00",
         "96.69",
         "100"
        ],
        [
         "36",
         "2013-02-20 00:00:00",
         "94.92",
         "100"
        ],
        [
         "37",
         "2013-02-21 00:00:00",
         "92.79",
         "100"
        ],
        [
         "38",
         "2013-02-22 00:00:00",
         "93.12",
         "100"
        ],
        [
         "39",
         "2013-02-25 00:00:00",
         "92.74",
         "100"
        ],
        [
         "40",
         "2013-02-26 00:00:00",
         "92.63",
         "100"
        ],
        [
         "41",
         "2013-02-27 00:00:00",
         "92.84",
         "100"
        ],
        [
         "42",
         "2013-02-28 00:00:00",
         "92.03",
         "100"
        ],
        [
         "43",
         "2013-03-01 00:00:00",
         "90.71",
         "100"
        ],
        [
         "44",
         "2013-03-04 00:00:00",
         "90.13",
         "100"
        ],
        [
         "45",
         "2013-03-05 00:00:00",
         "90.88",
         "100"
        ],
        [
         "46",
         "2013-03-06 00:00:00",
         "90.47",
         "100"
        ],
        [
         "47",
         "2013-03-07 00:00:00",
         "91.53",
         "100"
        ],
        [
         "48",
         "2013-03-08 00:00:00",
         "92.01",
         "100"
        ],
        [
         "49",
         "2013-03-11 00:00:00",
         "92.07",
         "100"
        ]
       ],
       "shape": {
        "columns": 3,
        "rows": 1218
       }
      },
      "text/html": [
       "<div>\n",
       "<style scoped>\n",
       "    .dataframe tbody tr th:only-of-type {\n",
       "        vertical-align: middle;\n",
       "    }\n",
       "\n",
       "    .dataframe tbody tr th {\n",
       "        vertical-align: top;\n",
       "    }\n",
       "\n",
       "    .dataframe thead th {\n",
       "        text-align: right;\n",
       "    }\n",
       "</style>\n",
       "<table border=\"1\" class=\"dataframe\">\n",
       "  <thead>\n",
       "    <tr style=\"text-align: right;\">\n",
       "      <th></th>\n",
       "      <th>date</th>\n",
       "      <th>dcoilwtico</th>\n",
       "      <th>benchmark</th>\n",
       "    </tr>\n",
       "  </thead>\n",
       "  <tbody>\n",
       "    <tr>\n",
       "      <th>0</th>\n",
       "      <td>2013-01-01</td>\n",
       "      <td>NaN</td>\n",
       "      <td>100</td>\n",
       "    </tr>\n",
       "    <tr>\n",
       "      <th>1</th>\n",
       "      <td>2013-01-02</td>\n",
       "      <td>93.14</td>\n",
       "      <td>100</td>\n",
       "    </tr>\n",
       "    <tr>\n",
       "      <th>2</th>\n",
       "      <td>2013-01-03</td>\n",
       "      <td>92.97</td>\n",
       "      <td>100</td>\n",
       "    </tr>\n",
       "    <tr>\n",
       "      <th>3</th>\n",
       "      <td>2013-01-04</td>\n",
       "      <td>93.12</td>\n",
       "      <td>100</td>\n",
       "    </tr>\n",
       "    <tr>\n",
       "      <th>4</th>\n",
       "      <td>2013-01-07</td>\n",
       "      <td>93.20</td>\n",
       "      <td>100</td>\n",
       "    </tr>\n",
       "    <tr>\n",
       "      <th>...</th>\n",
       "      <td>...</td>\n",
       "      <td>...</td>\n",
       "      <td>...</td>\n",
       "    </tr>\n",
       "    <tr>\n",
       "      <th>1213</th>\n",
       "      <td>2017-08-25</td>\n",
       "      <td>47.65</td>\n",
       "      <td>100</td>\n",
       "    </tr>\n",
       "    <tr>\n",
       "      <th>1214</th>\n",
       "      <td>2017-08-28</td>\n",
       "      <td>46.40</td>\n",
       "      <td>100</td>\n",
       "    </tr>\n",
       "    <tr>\n",
       "      <th>1215</th>\n",
       "      <td>2017-08-29</td>\n",
       "      <td>46.46</td>\n",
       "      <td>100</td>\n",
       "    </tr>\n",
       "    <tr>\n",
       "      <th>1216</th>\n",
       "      <td>2017-08-30</td>\n",
       "      <td>45.96</td>\n",
       "      <td>100</td>\n",
       "    </tr>\n",
       "    <tr>\n",
       "      <th>1217</th>\n",
       "      <td>2017-08-31</td>\n",
       "      <td>47.26</td>\n",
       "      <td>100</td>\n",
       "    </tr>\n",
       "  </tbody>\n",
       "</table>\n",
       "<p>1218 rows × 3 columns</p>\n",
       "</div>"
      ],
      "text/plain": [
       "           date  dcoilwtico  benchmark\n",
       "0    2013-01-01         NaN        100\n",
       "1    2013-01-02       93.14        100\n",
       "2    2013-01-03       92.97        100\n",
       "3    2013-01-04       93.12        100\n",
       "4    2013-01-07       93.20        100\n",
       "...         ...         ...        ...\n",
       "1213 2017-08-25       47.65        100\n",
       "1214 2017-08-28       46.40        100\n",
       "1215 2017-08-29       46.46        100\n",
       "1216 2017-08-30       45.96        100\n",
       "1217 2017-08-31       47.26        100\n",
       "\n",
       "[1218 rows x 3 columns]"
      ]
     },
     "execution_count": 323,
     "metadata": {},
     "output_type": "execute_result"
    }
   ],
   "source": [
    "oil_df"
   ]
  },
  {
   "cell_type": "code",
   "execution_count": 324,
   "metadata": {},
   "outputs": [
    {
     "data": {
      "application/vnd.microsoft.datawrangler.viewer.v0+json": {
       "columns": [
        {
         "name": "index",
         "rawType": "int64",
         "type": "integer"
        },
        {
         "name": "date",
         "rawType": "datetime64[ns]",
         "type": "datetime"
        },
        {
         "name": "dcoilwtico",
         "rawType": "float64",
         "type": "float"
        },
        {
         "name": "benchmark",
         "rawType": "int64",
         "type": "integer"
        }
       ],
       "conversionMethod": "pd.DataFrame",
       "ref": "db17b411-22e4-4e1a-9cfe-443ce15e8359",
       "rows": [
        [
         "1217",
         "2017-08-31 00:00:00",
         "47.26",
         "100"
        ],
        [
         "1216",
         "2017-08-30 00:00:00",
         "45.96",
         "100"
        ],
        [
         "1215",
         "2017-08-29 00:00:00",
         "46.46",
         "100"
        ],
        [
         "1214",
         "2017-08-28 00:00:00",
         "46.4",
         "100"
        ],
        [
         "1213",
         "2017-08-25 00:00:00",
         "47.65",
         "100"
        ],
        [
         "1212",
         "2017-08-24 00:00:00",
         "47.24",
         "100"
        ],
        [
         "1211",
         "2017-08-23 00:00:00",
         "48.45",
         "100"
        ],
        [
         "1210",
         "2017-08-22 00:00:00",
         "47.65",
         "100"
        ],
        [
         "1209",
         "2017-08-21 00:00:00",
         "47.39",
         "100"
        ],
        [
         "1208",
         "2017-08-18 00:00:00",
         "48.59",
         "100"
        ],
        [
         "1207",
         "2017-08-17 00:00:00",
         "47.07",
         "100"
        ],
        [
         "1206",
         "2017-08-16 00:00:00",
         "46.8",
         "100"
        ],
        [
         "1205",
         "2017-08-15 00:00:00",
         "47.57",
         "100"
        ],
        [
         "1204",
         "2017-08-14 00:00:00",
         "47.59",
         "100"
        ],
        [
         "1203",
         "2017-08-11 00:00:00",
         "48.81",
         "100"
        ],
        [
         "1202",
         "2017-08-10 00:00:00",
         "48.54",
         "100"
        ],
        [
         "1201",
         "2017-08-09 00:00:00",
         "49.59",
         "100"
        ],
        [
         "1200",
         "2017-08-08 00:00:00",
         "49.07",
         "100"
        ],
        [
         "1199",
         "2017-08-07 00:00:00",
         "49.37",
         "100"
        ],
        [
         "1198",
         "2017-08-04 00:00:00",
         "49.57",
         "100"
        ],
        [
         "1197",
         "2017-08-03 00:00:00",
         "49.03",
         "100"
        ],
        [
         "1196",
         "2017-08-02 00:00:00",
         "49.6",
         "100"
        ],
        [
         "1195",
         "2017-08-01 00:00:00",
         "49.19",
         "100"
        ],
        [
         "1194",
         "2017-07-31 00:00:00",
         "50.21",
         "100"
        ],
        [
         "1193",
         "2017-07-28 00:00:00",
         "49.72",
         "100"
        ],
        [
         "1192",
         "2017-07-27 00:00:00",
         "49.05",
         "100"
        ],
        [
         "1191",
         "2017-07-26 00:00:00",
         "48.58",
         "100"
        ],
        [
         "1190",
         "2017-07-25 00:00:00",
         "47.77",
         "100"
        ],
        [
         "1189",
         "2017-07-24 00:00:00",
         "46.21",
         "100"
        ],
        [
         "1188",
         "2017-07-21 00:00:00",
         "45.78",
         "100"
        ],
        [
         "1187",
         "2017-07-20 00:00:00",
         "46.73",
         "100"
        ],
        [
         "1186",
         "2017-07-19 00:00:00",
         "47.1",
         "100"
        ],
        [
         "1185",
         "2017-07-18 00:00:00",
         "46.4",
         "100"
        ],
        [
         "1184",
         "2017-07-17 00:00:00",
         "46.02",
         "100"
        ],
        [
         "1183",
         "2017-07-14 00:00:00",
         "46.53",
         "100"
        ],
        [
         "1182",
         "2017-07-13 00:00:00",
         "46.06",
         "100"
        ],
        [
         "1181",
         "2017-07-12 00:00:00",
         "45.48",
         "100"
        ],
        [
         "1180",
         "2017-07-11 00:00:00",
         "45.06",
         "100"
        ],
        [
         "1179",
         "2017-07-10 00:00:00",
         "44.4",
         "100"
        ],
        [
         "1178",
         "2017-07-07 00:00:00",
         "44.25",
         "100"
        ],
        [
         "1177",
         "2017-07-06 00:00:00",
         "45.52",
         "100"
        ],
        [
         "1176",
         "2017-07-05 00:00:00",
         "45.11",
         "100"
        ],
        [
         "1175",
         "2017-07-04 00:00:00",
         null,
         "100"
        ],
        [
         "1174",
         "2017-07-03 00:00:00",
         null,
         "100"
        ],
        [
         "1173",
         "2017-06-30 00:00:00",
         "46.02",
         "100"
        ],
        [
         "1172",
         "2017-06-29 00:00:00",
         "44.88",
         "100"
        ],
        [
         "1171",
         "2017-06-28 00:00:00",
         "44.74",
         "100"
        ],
        [
         "1170",
         "2017-06-27 00:00:00",
         "44.25",
         "100"
        ],
        [
         "1169",
         "2017-06-26 00:00:00",
         "43.24",
         "100"
        ],
        [
         "1168",
         "2017-06-23 00:00:00",
         "42.86",
         "100"
        ]
       ],
       "shape": {
        "columns": 3,
        "rows": 1218
       }
      },
      "text/html": [
       "<div>\n",
       "<style scoped>\n",
       "    .dataframe tbody tr th:only-of-type {\n",
       "        vertical-align: middle;\n",
       "    }\n",
       "\n",
       "    .dataframe tbody tr th {\n",
       "        vertical-align: top;\n",
       "    }\n",
       "\n",
       "    .dataframe thead th {\n",
       "        text-align: right;\n",
       "    }\n",
       "</style>\n",
       "<table border=\"1\" class=\"dataframe\">\n",
       "  <thead>\n",
       "    <tr style=\"text-align: right;\">\n",
       "      <th></th>\n",
       "      <th>date</th>\n",
       "      <th>dcoilwtico</th>\n",
       "      <th>benchmark</th>\n",
       "    </tr>\n",
       "  </thead>\n",
       "  <tbody>\n",
       "    <tr>\n",
       "      <th>1217</th>\n",
       "      <td>2017-08-31</td>\n",
       "      <td>47.26</td>\n",
       "      <td>100</td>\n",
       "    </tr>\n",
       "    <tr>\n",
       "      <th>1216</th>\n",
       "      <td>2017-08-30</td>\n",
       "      <td>45.96</td>\n",
       "      <td>100</td>\n",
       "    </tr>\n",
       "    <tr>\n",
       "      <th>1215</th>\n",
       "      <td>2017-08-29</td>\n",
       "      <td>46.46</td>\n",
       "      <td>100</td>\n",
       "    </tr>\n",
       "    <tr>\n",
       "      <th>1214</th>\n",
       "      <td>2017-08-28</td>\n",
       "      <td>46.40</td>\n",
       "      <td>100</td>\n",
       "    </tr>\n",
       "    <tr>\n",
       "      <th>1213</th>\n",
       "      <td>2017-08-25</td>\n",
       "      <td>47.65</td>\n",
       "      <td>100</td>\n",
       "    </tr>\n",
       "    <tr>\n",
       "      <th>...</th>\n",
       "      <td>...</td>\n",
       "      <td>...</td>\n",
       "      <td>...</td>\n",
       "    </tr>\n",
       "    <tr>\n",
       "      <th>4</th>\n",
       "      <td>2013-01-07</td>\n",
       "      <td>93.20</td>\n",
       "      <td>100</td>\n",
       "    </tr>\n",
       "    <tr>\n",
       "      <th>3</th>\n",
       "      <td>2013-01-04</td>\n",
       "      <td>93.12</td>\n",
       "      <td>100</td>\n",
       "    </tr>\n",
       "    <tr>\n",
       "      <th>2</th>\n",
       "      <td>2013-01-03</td>\n",
       "      <td>92.97</td>\n",
       "      <td>100</td>\n",
       "    </tr>\n",
       "    <tr>\n",
       "      <th>1</th>\n",
       "      <td>2013-01-02</td>\n",
       "      <td>93.14</td>\n",
       "      <td>100</td>\n",
       "    </tr>\n",
       "    <tr>\n",
       "      <th>0</th>\n",
       "      <td>2013-01-01</td>\n",
       "      <td>NaN</td>\n",
       "      <td>100</td>\n",
       "    </tr>\n",
       "  </tbody>\n",
       "</table>\n",
       "<p>1218 rows × 3 columns</p>\n",
       "</div>"
      ],
      "text/plain": [
       "           date  dcoilwtico  benchmark\n",
       "1217 2017-08-31       47.26        100\n",
       "1216 2017-08-30       45.96        100\n",
       "1215 2017-08-29       46.46        100\n",
       "1214 2017-08-28       46.40        100\n",
       "1213 2017-08-25       47.65        100\n",
       "...         ...         ...        ...\n",
       "4    2013-01-07       93.20        100\n",
       "3    2013-01-04       93.12        100\n",
       "2    2013-01-03       92.97        100\n",
       "1    2013-01-02       93.14        100\n",
       "0    2013-01-01         NaN        100\n",
       "\n",
       "[1218 rows x 3 columns]"
      ]
     },
     "execution_count": 324,
     "metadata": {},
     "output_type": "execute_result"
    }
   ],
   "source": [
    "oil_df.sort_index(ascending=False)"
   ]
  },
  {
   "cell_type": "code",
   "execution_count": 326,
   "metadata": {},
   "outputs": [
    {
     "data": {
      "application/vnd.microsoft.datawrangler.viewer.v0+json": {
       "columns": [
        {
         "name": "index",
         "rawType": "int64",
         "type": "integer"
        },
        {
         "name": "benchmark",
         "rawType": "int64",
         "type": "integer"
        },
        {
         "name": "date",
         "rawType": "datetime64[ns]",
         "type": "datetime"
        },
        {
         "name": "dcoilwtico",
         "rawType": "float64",
         "type": "float"
        }
       ],
       "conversionMethod": "pd.DataFrame",
       "ref": "69c1e84c-2557-444e-8a90-f9609199a180",
       "rows": [
        [
         "0",
         "100",
         "2013-01-01 00:00:00",
         null
        ],
        [
         "1",
         "100",
         "2013-01-02 00:00:00",
         "93.14"
        ],
        [
         "2",
         "100",
         "2013-01-03 00:00:00",
         "92.97"
        ],
        [
         "3",
         "100",
         "2013-01-04 00:00:00",
         "93.12"
        ],
        [
         "4",
         "100",
         "2013-01-07 00:00:00",
         "93.2"
        ],
        [
         "5",
         "100",
         "2013-01-08 00:00:00",
         "93.21"
        ],
        [
         "6",
         "100",
         "2013-01-09 00:00:00",
         "93.08"
        ],
        [
         "7",
         "100",
         "2013-01-10 00:00:00",
         "93.81"
        ],
        [
         "8",
         "100",
         "2013-01-11 00:00:00",
         "93.6"
        ],
        [
         "9",
         "100",
         "2013-01-14 00:00:00",
         "94.27"
        ],
        [
         "10",
         "100",
         "2013-01-15 00:00:00",
         "93.26"
        ],
        [
         "11",
         "100",
         "2013-01-16 00:00:00",
         "94.28"
        ],
        [
         "12",
         "100",
         "2013-01-17 00:00:00",
         "95.49"
        ],
        [
         "13",
         "100",
         "2013-01-18 00:00:00",
         "95.61"
        ],
        [
         "14",
         "100",
         "2013-01-21 00:00:00",
         null
        ],
        [
         "15",
         "100",
         "2013-01-22 00:00:00",
         "96.09"
        ],
        [
         "16",
         "100",
         "2013-01-23 00:00:00",
         "95.06"
        ],
        [
         "17",
         "100",
         "2013-01-24 00:00:00",
         "95.35"
        ],
        [
         "18",
         "100",
         "2013-01-25 00:00:00",
         "95.15"
        ],
        [
         "19",
         "100",
         "2013-01-28 00:00:00",
         "95.95"
        ],
        [
         "20",
         "100",
         "2013-01-29 00:00:00",
         "97.62"
        ],
        [
         "21",
         "100",
         "2013-01-30 00:00:00",
         "97.98"
        ],
        [
         "22",
         "100",
         "2013-01-31 00:00:00",
         "97.65"
        ],
        [
         "23",
         "100",
         "2013-02-01 00:00:00",
         "97.46"
        ],
        [
         "24",
         "100",
         "2013-02-04 00:00:00",
         "96.21"
        ],
        [
         "25",
         "100",
         "2013-02-05 00:00:00",
         "96.68"
        ],
        [
         "26",
         "100",
         "2013-02-06 00:00:00",
         "96.44"
        ],
        [
         "27",
         "100",
         "2013-02-07 00:00:00",
         "95.84"
        ],
        [
         "28",
         "100",
         "2013-02-08 00:00:00",
         "95.71"
        ],
        [
         "29",
         "100",
         "2013-02-11 00:00:00",
         "97.01"
        ],
        [
         "30",
         "100",
         "2013-02-12 00:00:00",
         "97.48"
        ],
        [
         "31",
         "100",
         "2013-02-13 00:00:00",
         "97.03"
        ],
        [
         "32",
         "100",
         "2013-02-14 00:00:00",
         "97.3"
        ],
        [
         "33",
         "100",
         "2013-02-15 00:00:00",
         "95.95"
        ],
        [
         "34",
         "100",
         "2013-02-18 00:00:00",
         null
        ],
        [
         "35",
         "100",
         "2013-02-19 00:00:00",
         "96.69"
        ],
        [
         "36",
         "100",
         "2013-02-20 00:00:00",
         "94.92"
        ],
        [
         "37",
         "100",
         "2013-02-21 00:00:00",
         "92.79"
        ],
        [
         "38",
         "100",
         "2013-02-22 00:00:00",
         "93.12"
        ],
        [
         "39",
         "100",
         "2013-02-25 00:00:00",
         "92.74"
        ],
        [
         "40",
         "100",
         "2013-02-26 00:00:00",
         "92.63"
        ],
        [
         "41",
         "100",
         "2013-02-27 00:00:00",
         "92.84"
        ],
        [
         "42",
         "100",
         "2013-02-28 00:00:00",
         "92.03"
        ],
        [
         "43",
         "100",
         "2013-03-01 00:00:00",
         "90.71"
        ],
        [
         "44",
         "100",
         "2013-03-04 00:00:00",
         "90.13"
        ],
        [
         "45",
         "100",
         "2013-03-05 00:00:00",
         "90.88"
        ],
        [
         "46",
         "100",
         "2013-03-06 00:00:00",
         "90.47"
        ],
        [
         "47",
         "100",
         "2013-03-07 00:00:00",
         "91.53"
        ],
        [
         "48",
         "100",
         "2013-03-08 00:00:00",
         "92.01"
        ],
        [
         "49",
         "100",
         "2013-03-11 00:00:00",
         "92.07"
        ]
       ],
       "shape": {
        "columns": 3,
        "rows": 1218
       }
      },
      "text/html": [
       "<div>\n",
       "<style scoped>\n",
       "    .dataframe tbody tr th:only-of-type {\n",
       "        vertical-align: middle;\n",
       "    }\n",
       "\n",
       "    .dataframe tbody tr th {\n",
       "        vertical-align: top;\n",
       "    }\n",
       "\n",
       "    .dataframe thead th {\n",
       "        text-align: right;\n",
       "    }\n",
       "</style>\n",
       "<table border=\"1\" class=\"dataframe\">\n",
       "  <thead>\n",
       "    <tr style=\"text-align: right;\">\n",
       "      <th></th>\n",
       "      <th>benchmark</th>\n",
       "      <th>date</th>\n",
       "      <th>dcoilwtico</th>\n",
       "    </tr>\n",
       "  </thead>\n",
       "  <tbody>\n",
       "    <tr>\n",
       "      <th>0</th>\n",
       "      <td>100</td>\n",
       "      <td>2013-01-01</td>\n",
       "      <td>NaN</td>\n",
       "    </tr>\n",
       "    <tr>\n",
       "      <th>1</th>\n",
       "      <td>100</td>\n",
       "      <td>2013-01-02</td>\n",
       "      <td>93.14</td>\n",
       "    </tr>\n",
       "    <tr>\n",
       "      <th>2</th>\n",
       "      <td>100</td>\n",
       "      <td>2013-01-03</td>\n",
       "      <td>92.97</td>\n",
       "    </tr>\n",
       "    <tr>\n",
       "      <th>3</th>\n",
       "      <td>100</td>\n",
       "      <td>2013-01-04</td>\n",
       "      <td>93.12</td>\n",
       "    </tr>\n",
       "    <tr>\n",
       "      <th>4</th>\n",
       "      <td>100</td>\n",
       "      <td>2013-01-07</td>\n",
       "      <td>93.20</td>\n",
       "    </tr>\n",
       "    <tr>\n",
       "      <th>...</th>\n",
       "      <td>...</td>\n",
       "      <td>...</td>\n",
       "      <td>...</td>\n",
       "    </tr>\n",
       "    <tr>\n",
       "      <th>1213</th>\n",
       "      <td>100</td>\n",
       "      <td>2017-08-25</td>\n",
       "      <td>47.65</td>\n",
       "    </tr>\n",
       "    <tr>\n",
       "      <th>1214</th>\n",
       "      <td>100</td>\n",
       "      <td>2017-08-28</td>\n",
       "      <td>46.40</td>\n",
       "    </tr>\n",
       "    <tr>\n",
       "      <th>1215</th>\n",
       "      <td>100</td>\n",
       "      <td>2017-08-29</td>\n",
       "      <td>46.46</td>\n",
       "    </tr>\n",
       "    <tr>\n",
       "      <th>1216</th>\n",
       "      <td>100</td>\n",
       "      <td>2017-08-30</td>\n",
       "      <td>45.96</td>\n",
       "    </tr>\n",
       "    <tr>\n",
       "      <th>1217</th>\n",
       "      <td>100</td>\n",
       "      <td>2017-08-31</td>\n",
       "      <td>47.26</td>\n",
       "    </tr>\n",
       "  </tbody>\n",
       "</table>\n",
       "<p>1218 rows × 3 columns</p>\n",
       "</div>"
      ],
      "text/plain": [
       "      benchmark       date  dcoilwtico\n",
       "0           100 2013-01-01         NaN\n",
       "1           100 2013-01-02       93.14\n",
       "2           100 2013-01-03       92.97\n",
       "3           100 2013-01-04       93.12\n",
       "4           100 2013-01-07       93.20\n",
       "...         ...        ...         ...\n",
       "1213        100 2017-08-25       47.65\n",
       "1214        100 2017-08-28       46.40\n",
       "1215        100 2017-08-29       46.46\n",
       "1216        100 2017-08-30       45.96\n",
       "1217        100 2017-08-31       47.26\n",
       "\n",
       "[1218 rows x 3 columns]"
      ]
     },
     "execution_count": 326,
     "metadata": {},
     "output_type": "execute_result"
    }
   ],
   "source": [
    "oil_df.sort_index(axis = 1)"
   ]
  },
  {
   "cell_type": "code",
   "execution_count": 339,
   "metadata": {},
   "outputs": [
    {
     "data": {
      "application/vnd.microsoft.datawrangler.viewer.v0+json": {
       "columns": [
        {
         "name": "index",
         "rawType": "int64",
         "type": "integer"
        },
        {
         "name": "date",
         "rawType": "datetime64[ns]",
         "type": "datetime"
        },
        {
         "name": "store_nbr",
         "rawType": "int64",
         "type": "integer"
        },
        {
         "name": "transactions",
         "rawType": "int64",
         "type": "integer"
        }
       ],
       "conversionMethod": "pd.DataFrame",
       "ref": "5238a31b-3feb-44e5-8f99-ab29daa1a01c",
       "rows": [
        [
         "52011",
         "2015-12-23 00:00:00",
         "44",
         "8359"
        ],
        [
         "71010",
         "2016-12-23 00:00:00",
         "44",
         "8307"
        ],
        [
         "16570",
         "2013-12-23 00:00:00",
         "44",
         "8256"
        ],
        [
         "33700",
         "2014-12-23 00:00:00",
         "44",
         "8120"
        ],
        [
         "16572",
         "2013-12-23 00:00:00",
         "46",
         "8001"
        ]
       ],
       "shape": {
        "columns": 3,
        "rows": 5
       }
      },
      "text/html": [
       "<div>\n",
       "<style scoped>\n",
       "    .dataframe tbody tr th:only-of-type {\n",
       "        vertical-align: middle;\n",
       "    }\n",
       "\n",
       "    .dataframe tbody tr th {\n",
       "        vertical-align: top;\n",
       "    }\n",
       "\n",
       "    .dataframe thead th {\n",
       "        text-align: right;\n",
       "    }\n",
       "</style>\n",
       "<table border=\"1\" class=\"dataframe\">\n",
       "  <thead>\n",
       "    <tr style=\"text-align: right;\">\n",
       "      <th></th>\n",
       "      <th>date</th>\n",
       "      <th>store_nbr</th>\n",
       "      <th>transactions</th>\n",
       "    </tr>\n",
       "  </thead>\n",
       "  <tbody>\n",
       "    <tr>\n",
       "      <th>52011</th>\n",
       "      <td>2015-12-23</td>\n",
       "      <td>44</td>\n",
       "      <td>8359</td>\n",
       "    </tr>\n",
       "    <tr>\n",
       "      <th>71010</th>\n",
       "      <td>2016-12-23</td>\n",
       "      <td>44</td>\n",
       "      <td>8307</td>\n",
       "    </tr>\n",
       "    <tr>\n",
       "      <th>16570</th>\n",
       "      <td>2013-12-23</td>\n",
       "      <td>44</td>\n",
       "      <td>8256</td>\n",
       "    </tr>\n",
       "    <tr>\n",
       "      <th>33700</th>\n",
       "      <td>2014-12-23</td>\n",
       "      <td>44</td>\n",
       "      <td>8120</td>\n",
       "    </tr>\n",
       "    <tr>\n",
       "      <th>16572</th>\n",
       "      <td>2013-12-23</td>\n",
       "      <td>46</td>\n",
       "      <td>8001</td>\n",
       "    </tr>\n",
       "  </tbody>\n",
       "</table>\n",
       "</div>"
      ],
      "text/plain": [
       "            date  store_nbr  transactions\n",
       "52011 2015-12-23         44          8359\n",
       "71010 2016-12-23         44          8307\n",
       "16570 2013-12-23         44          8256\n",
       "33700 2014-12-23         44          8120\n",
       "16572 2013-12-23         46          8001"
      ]
     },
     "execution_count": 339,
     "metadata": {},
     "output_type": "execute_result"
    }
   ],
   "source": [
    "# What are the five days with the highest transaction counts?\n",
    "transactions.sort_values(['transactions'], ascending=False).iloc[:5]"
   ]
  },
  {
   "cell_type": "code",
   "execution_count": 342,
   "metadata": {},
   "outputs": [
    {
     "data": {
      "application/vnd.microsoft.datawrangler.viewer.v0+json": {
       "columns": [
        {
         "name": "index",
         "rawType": "int64",
         "type": "integer"
        },
        {
         "name": "date",
         "rawType": "datetime64[ns]",
         "type": "datetime"
        },
        {
         "name": "store_nbr",
         "rawType": "int64",
         "type": "integer"
        },
        {
         "name": "transactions",
         "rawType": "int64",
         "type": "integer"
        }
       ],
       "conversionMethod": "pd.DataFrame",
       "ref": "9767f0f6-c224-4b02-b50a-39c0df83296b",
       "rows": [
        [
         "40",
         "2013-01-02 00:00:00",
         "46",
         "4886"
        ],
        [
         "38",
         "2013-01-02 00:00:00",
         "44",
         "4821"
        ],
        [
         "39",
         "2013-01-02 00:00:00",
         "45",
         "4208"
        ],
        [
         "41",
         "2013-01-02 00:00:00",
         "47",
         "4161"
        ],
        [
         "11",
         "2013-01-02 00:00:00",
         "11",
         "3547"
        ]
       ],
       "shape": {
        "columns": 3,
        "rows": 5
       }
      },
      "text/html": [
       "<div>\n",
       "<style scoped>\n",
       "    .dataframe tbody tr th:only-of-type {\n",
       "        vertical-align: middle;\n",
       "    }\n",
       "\n",
       "    .dataframe tbody tr th {\n",
       "        vertical-align: top;\n",
       "    }\n",
       "\n",
       "    .dataframe thead th {\n",
       "        text-align: right;\n",
       "    }\n",
       "</style>\n",
       "<table border=\"1\" class=\"dataframe\">\n",
       "  <thead>\n",
       "    <tr style=\"text-align: right;\">\n",
       "      <th></th>\n",
       "      <th>date</th>\n",
       "      <th>store_nbr</th>\n",
       "      <th>transactions</th>\n",
       "    </tr>\n",
       "  </thead>\n",
       "  <tbody>\n",
       "    <tr>\n",
       "      <th>40</th>\n",
       "      <td>2013-01-02</td>\n",
       "      <td>46</td>\n",
       "      <td>4886</td>\n",
       "    </tr>\n",
       "    <tr>\n",
       "      <th>38</th>\n",
       "      <td>2013-01-02</td>\n",
       "      <td>44</td>\n",
       "      <td>4821</td>\n",
       "    </tr>\n",
       "    <tr>\n",
       "      <th>39</th>\n",
       "      <td>2013-01-02</td>\n",
       "      <td>45</td>\n",
       "      <td>4208</td>\n",
       "    </tr>\n",
       "    <tr>\n",
       "      <th>41</th>\n",
       "      <td>2013-01-02</td>\n",
       "      <td>47</td>\n",
       "      <td>4161</td>\n",
       "    </tr>\n",
       "    <tr>\n",
       "      <th>11</th>\n",
       "      <td>2013-01-02</td>\n",
       "      <td>11</td>\n",
       "      <td>3547</td>\n",
       "    </tr>\n",
       "  </tbody>\n",
       "</table>\n",
       "</div>"
      ],
      "text/plain": [
       "         date  store_nbr  transactions\n",
       "40 2013-01-02         46          4886\n",
       "38 2013-01-02         44          4821\n",
       "39 2013-01-02         45          4208\n",
       "41 2013-01-02         47          4161\n",
       "11 2013-01-02         11          3547"
      ]
     },
     "execution_count": 342,
     "metadata": {},
     "output_type": "execute_result"
    }
   ],
   "source": [
    "transactions.sort_values(['date', 'transactions'], ascending=[True, False]).iloc[1:6]"
   ]
  },
  {
   "cell_type": "code",
   "execution_count": null,
   "metadata": {},
   "outputs": [
    {
     "data": {
      "application/vnd.microsoft.datawrangler.viewer.v0+json": {
       "columns": [
        {
         "name": "index",
         "rawType": "int64",
         "type": "integer"
        },
        {
         "name": "date",
         "rawType": "datetime64[ns]",
         "type": "datetime"
        },
        {
         "name": "store_nbr",
         "rawType": "int64",
         "type": "integer"
        },
        {
         "name": "transactions",
         "rawType": "int64",
         "type": "integer"
        }
       ],
       "conversionMethod": "pd.DataFrame",
       "ref": "ff2178fc-7fcf-47ad-9cbc-bff11b05c732",
       "rows": [
        [
         "0",
         "2013-01-01 00:00:00",
         "25",
         "770"
        ],
        [
         "1",
         "2013-01-02 00:00:00",
         "1",
         "2111"
        ],
        [
         "2",
         "2013-01-02 00:00:00",
         "2",
         "2358"
        ],
        [
         "3",
         "2013-01-02 00:00:00",
         "3",
         "3487"
        ],
        [
         "4",
         "2013-01-02 00:00:00",
         "4",
         "1922"
        ],
        [
         "5",
         "2013-01-02 00:00:00",
         "5",
         "1903"
        ],
        [
         "6",
         "2013-01-02 00:00:00",
         "6",
         "2143"
        ],
        [
         "7",
         "2013-01-02 00:00:00",
         "7",
         "1874"
        ],
        [
         "8",
         "2013-01-02 00:00:00",
         "8",
         "3250"
        ],
        [
         "9",
         "2013-01-02 00:00:00",
         "9",
         "2940"
        ],
        [
         "10",
         "2013-01-02 00:00:00",
         "10",
         "1293"
        ],
        [
         "11",
         "2013-01-02 00:00:00",
         "11",
         "3547"
        ],
        [
         "12",
         "2013-01-02 00:00:00",
         "12",
         "1362"
        ],
        [
         "13",
         "2013-01-02 00:00:00",
         "13",
         "1102"
        ],
        [
         "14",
         "2013-01-02 00:00:00",
         "14",
         "2002"
        ],
        [
         "15",
         "2013-01-02 00:00:00",
         "15",
         "1622"
        ],
        [
         "16",
         "2013-01-02 00:00:00",
         "16",
         "1167"
        ],
        [
         "17",
         "2013-01-02 00:00:00",
         "17",
         "1580"
        ],
        [
         "18",
         "2013-01-02 00:00:00",
         "18",
         "1635"
        ],
        [
         "19",
         "2013-01-02 00:00:00",
         "19",
         "1369"
        ],
        [
         "20",
         "2013-01-02 00:00:00",
         "23",
         "1381"
        ],
        [
         "21",
         "2013-01-02 00:00:00",
         "24",
         "2605"
        ],
        [
         "22",
         "2013-01-02 00:00:00",
         "25",
         "1038"
        ],
        [
         "23",
         "2013-01-02 00:00:00",
         "26",
         "1008"
        ],
        [
         "24",
         "2013-01-02 00:00:00",
         "27",
         "1386"
        ],
        [
         "25",
         "2013-01-02 00:00:00",
         "28",
         "950"
        ],
        [
         "26",
         "2013-01-02 00:00:00",
         "30",
         "708"
        ],
        [
         "27",
         "2013-01-02 00:00:00",
         "31",
         "1401"
        ],
        [
         "28",
         "2013-01-02 00:00:00",
         "32",
         "776"
        ],
        [
         "29",
         "2013-01-02 00:00:00",
         "33",
         "1163"
        ],
        [
         "30",
         "2013-01-02 00:00:00",
         "34",
         "2724"
        ],
        [
         "31",
         "2013-01-02 00:00:00",
         "35",
         "786"
        ],
        [
         "32",
         "2013-01-02 00:00:00",
         "37",
         "1691"
        ],
        [
         "33",
         "2013-01-02 00:00:00",
         "38",
         "1987"
        ],
        [
         "34",
         "2013-01-02 00:00:00",
         "39",
         "1587"
        ],
        [
         "35",
         "2013-01-02 00:00:00",
         "40",
         "1178"
        ],
        [
         "36",
         "2013-01-02 00:00:00",
         "41",
         "915"
        ],
        [
         "37",
         "2013-01-02 00:00:00",
         "43",
         "1385"
        ],
        [
         "38",
         "2013-01-02 00:00:00",
         "44",
         "4821"
        ],
        [
         "39",
         "2013-01-02 00:00:00",
         "45",
         "4208"
        ],
        [
         "40",
         "2013-01-02 00:00:00",
         "46",
         "4886"
        ],
        [
         "41",
         "2013-01-02 00:00:00",
         "47",
         "4161"
        ],
        [
         "42",
         "2013-01-02 00:00:00",
         "48",
         "3397"
        ],
        [
         "43",
         "2013-01-02 00:00:00",
         "49",
         "2346"
        ],
        [
         "44",
         "2013-01-02 00:00:00",
         "50",
         "3077"
        ],
        [
         "45",
         "2013-01-02 00:00:00",
         "51",
         "1985"
        ],
        [
         "46",
         "2013-01-02 00:00:00",
         "54",
         "998"
        ],
        [
         "47",
         "2013-01-03 00:00:00",
         "1",
         "1833"
        ],
        [
         "48",
         "2013-01-03 00:00:00",
         "2",
         "2033"
        ],
        [
         "49",
         "2013-01-03 00:00:00",
         "3",
         "3026"
        ]
       ],
       "shape": {
        "columns": 3,
        "rows": 83488
       }
      },
      "text/html": [
       "<div>\n",
       "<style scoped>\n",
       "    .dataframe tbody tr th:only-of-type {\n",
       "        vertical-align: middle;\n",
       "    }\n",
       "\n",
       "    .dataframe tbody tr th {\n",
       "        vertical-align: top;\n",
       "    }\n",
       "\n",
       "    .dataframe thead th {\n",
       "        text-align: right;\n",
       "    }\n",
       "</style>\n",
       "<table border=\"1\" class=\"dataframe\">\n",
       "  <thead>\n",
       "    <tr style=\"text-align: right;\">\n",
       "      <th></th>\n",
       "      <th>date</th>\n",
       "      <th>store_nbr</th>\n",
       "      <th>transactions</th>\n",
       "    </tr>\n",
       "  </thead>\n",
       "  <tbody>\n",
       "    <tr>\n",
       "      <th>0</th>\n",
       "      <td>2013-01-01</td>\n",
       "      <td>25</td>\n",
       "      <td>770</td>\n",
       "    </tr>\n",
       "    <tr>\n",
       "      <th>1</th>\n",
       "      <td>2013-01-02</td>\n",
       "      <td>1</td>\n",
       "      <td>2111</td>\n",
       "    </tr>\n",
       "    <tr>\n",
       "      <th>2</th>\n",
       "      <td>2013-01-02</td>\n",
       "      <td>2</td>\n",
       "      <td>2358</td>\n",
       "    </tr>\n",
       "    <tr>\n",
       "      <th>3</th>\n",
       "      <td>2013-01-02</td>\n",
       "      <td>3</td>\n",
       "      <td>3487</td>\n",
       "    </tr>\n",
       "    <tr>\n",
       "      <th>4</th>\n",
       "      <td>2013-01-02</td>\n",
       "      <td>4</td>\n",
       "      <td>1922</td>\n",
       "    </tr>\n",
       "    <tr>\n",
       "      <th>...</th>\n",
       "      <td>...</td>\n",
       "      <td>...</td>\n",
       "      <td>...</td>\n",
       "    </tr>\n",
       "    <tr>\n",
       "      <th>83483</th>\n",
       "      <td>2017-08-15</td>\n",
       "      <td>50</td>\n",
       "      <td>2804</td>\n",
       "    </tr>\n",
       "    <tr>\n",
       "      <th>83484</th>\n",
       "      <td>2017-08-15</td>\n",
       "      <td>51</td>\n",
       "      <td>1573</td>\n",
       "    </tr>\n",
       "    <tr>\n",
       "      <th>83485</th>\n",
       "      <td>2017-08-15</td>\n",
       "      <td>52</td>\n",
       "      <td>2255</td>\n",
       "    </tr>\n",
       "    <tr>\n",
       "      <th>83486</th>\n",
       "      <td>2017-08-15</td>\n",
       "      <td>53</td>\n",
       "      <td>932</td>\n",
       "    </tr>\n",
       "    <tr>\n",
       "      <th>83487</th>\n",
       "      <td>2017-08-15</td>\n",
       "      <td>54</td>\n",
       "      <td>802</td>\n",
       "    </tr>\n",
       "  </tbody>\n",
       "</table>\n",
       "<p>83488 rows × 3 columns</p>\n",
       "</div>"
      ],
      "text/plain": [
       "            date  store_nbr  transactions\n",
       "0     2013-01-01         25           770\n",
       "1     2013-01-02          1          2111\n",
       "2     2013-01-02          2          2358\n",
       "3     2013-01-02          3          3487\n",
       "4     2013-01-02          4          1922\n",
       "...          ...        ...           ...\n",
       "83483 2017-08-15         50          2804\n",
       "83484 2017-08-15         51          1573\n",
       "83485 2017-08-15         52          2255\n",
       "83486 2017-08-15         53           932\n",
       "83487 2017-08-15         54           802\n",
       "\n",
       "[83488 rows x 3 columns]"
      ]
     },
     "execution_count": 337,
     "metadata": {},
     "output_type": "execute_result"
    }
   ],
   "source": [
    "transactions.sort_index(axis = 1)"
   ]
  },
  {
   "cell_type": "markdown",
   "metadata": {},
   "source": [
    "### Modifying columns"
   ]
  },
  {
   "cell_type": "markdown",
   "metadata": {},
   "source": []
  },
  {
   "cell_type": "code",
   "execution_count": 345,
   "metadata": {},
   "outputs": [
    {
     "data": {
      "application/vnd.microsoft.datawrangler.viewer.v0+json": {
       "columns": [
        {
         "name": "index",
         "rawType": "int64",
         "type": "integer"
        },
        {
         "name": "date",
         "rawType": "datetime64[ns]",
         "type": "datetime"
        },
        {
         "name": "store_number",
         "rawType": "int64",
         "type": "integer"
        },
        {
         "name": "transaction_count",
         "rawType": "int64",
         "type": "integer"
        }
       ],
       "conversionMethod": "pd.DataFrame",
       "ref": "9bf25eb5-6ac8-46fd-a12c-98560b182d46",
       "rows": [
        [
         "0",
         "2013-01-01 00:00:00",
         "25",
         "770"
        ],
        [
         "1",
         "2013-01-02 00:00:00",
         "1",
         "2111"
        ],
        [
         "2",
         "2013-01-02 00:00:00",
         "2",
         "2358"
        ],
        [
         "3",
         "2013-01-02 00:00:00",
         "3",
         "3487"
        ],
        [
         "4",
         "2013-01-02 00:00:00",
         "4",
         "1922"
        ]
       ],
       "shape": {
        "columns": 3,
        "rows": 5
       }
      },
      "text/html": [
       "<div>\n",
       "<style scoped>\n",
       "    .dataframe tbody tr th:only-of-type {\n",
       "        vertical-align: middle;\n",
       "    }\n",
       "\n",
       "    .dataframe tbody tr th {\n",
       "        vertical-align: top;\n",
       "    }\n",
       "\n",
       "    .dataframe thead th {\n",
       "        text-align: right;\n",
       "    }\n",
       "</style>\n",
       "<table border=\"1\" class=\"dataframe\">\n",
       "  <thead>\n",
       "    <tr style=\"text-align: right;\">\n",
       "      <th></th>\n",
       "      <th>date</th>\n",
       "      <th>store_number</th>\n",
       "      <th>transaction_count</th>\n",
       "    </tr>\n",
       "  </thead>\n",
       "  <tbody>\n",
       "    <tr>\n",
       "      <th>0</th>\n",
       "      <td>2013-01-01</td>\n",
       "      <td>25</td>\n",
       "      <td>770</td>\n",
       "    </tr>\n",
       "    <tr>\n",
       "      <th>1</th>\n",
       "      <td>2013-01-02</td>\n",
       "      <td>1</td>\n",
       "      <td>2111</td>\n",
       "    </tr>\n",
       "    <tr>\n",
       "      <th>2</th>\n",
       "      <td>2013-01-02</td>\n",
       "      <td>2</td>\n",
       "      <td>2358</td>\n",
       "    </tr>\n",
       "    <tr>\n",
       "      <th>3</th>\n",
       "      <td>2013-01-02</td>\n",
       "      <td>3</td>\n",
       "      <td>3487</td>\n",
       "    </tr>\n",
       "    <tr>\n",
       "      <th>4</th>\n",
       "      <td>2013-01-02</td>\n",
       "      <td>4</td>\n",
       "      <td>1922</td>\n",
       "    </tr>\n",
       "  </tbody>\n",
       "</table>\n",
       "</div>"
      ],
      "text/plain": [
       "        date  store_number  transaction_count\n",
       "0 2013-01-01            25                770\n",
       "1 2013-01-02             1               2111\n",
       "2 2013-01-02             2               2358\n",
       "3 2013-01-02             3               3487\n",
       "4 2013-01-02             4               1922"
      ]
     },
     "execution_count": 345,
     "metadata": {},
     "output_type": "execute_result"
    }
   ],
   "source": [
    "transactions.columns = ['date', 'store_number', 'transaction_count']\n",
    "transactions.head()"
   ]
  },
  {
   "cell_type": "code",
   "execution_count": 348,
   "metadata": {},
   "outputs": [
    {
     "data": {
      "application/vnd.microsoft.datawrangler.viewer.v0+json": {
       "columns": [
        {
         "name": "index",
         "rawType": "int64",
         "type": "integer"
        },
        {
         "name": "date",
         "rawType": "datetime64[ns]",
         "type": "datetime"
        },
        {
         "name": "transaction_count",
         "rawType": "int64",
         "type": "integer"
        },
        {
         "name": "store_number",
         "rawType": "int64",
         "type": "integer"
        }
       ],
       "conversionMethod": "pd.DataFrame",
       "ref": "6e23a1e0-aa25-48a3-bed1-fbc9703ee8a0",
       "rows": [
        [
         "0",
         "2013-01-01 00:00:00",
         "770",
         "25"
        ],
        [
         "1",
         "2013-01-02 00:00:00",
         "2111",
         "1"
        ],
        [
         "2",
         "2013-01-02 00:00:00",
         "2358",
         "2"
        ],
        [
         "3",
         "2013-01-02 00:00:00",
         "3487",
         "3"
        ],
        [
         "4",
         "2013-01-02 00:00:00",
         "1922",
         "4"
        ]
       ],
       "shape": {
        "columns": 3,
        "rows": 5
       }
      },
      "text/html": [
       "<div>\n",
       "<style scoped>\n",
       "    .dataframe tbody tr th:only-of-type {\n",
       "        vertical-align: middle;\n",
       "    }\n",
       "\n",
       "    .dataframe tbody tr th {\n",
       "        vertical-align: top;\n",
       "    }\n",
       "\n",
       "    .dataframe thead th {\n",
       "        text-align: right;\n",
       "    }\n",
       "</style>\n",
       "<table border=\"1\" class=\"dataframe\">\n",
       "  <thead>\n",
       "    <tr style=\"text-align: right;\">\n",
       "      <th></th>\n",
       "      <th>date</th>\n",
       "      <th>transaction_count</th>\n",
       "      <th>store_number</th>\n",
       "    </tr>\n",
       "  </thead>\n",
       "  <tbody>\n",
       "    <tr>\n",
       "      <th>0</th>\n",
       "      <td>2013-01-01</td>\n",
       "      <td>770</td>\n",
       "      <td>25</td>\n",
       "    </tr>\n",
       "    <tr>\n",
       "      <th>1</th>\n",
       "      <td>2013-01-02</td>\n",
       "      <td>2111</td>\n",
       "      <td>1</td>\n",
       "    </tr>\n",
       "    <tr>\n",
       "      <th>2</th>\n",
       "      <td>2013-01-02</td>\n",
       "      <td>2358</td>\n",
       "      <td>2</td>\n",
       "    </tr>\n",
       "    <tr>\n",
       "      <th>3</th>\n",
       "      <td>2013-01-02</td>\n",
       "      <td>3487</td>\n",
       "      <td>3</td>\n",
       "    </tr>\n",
       "    <tr>\n",
       "      <th>4</th>\n",
       "      <td>2013-01-02</td>\n",
       "      <td>1922</td>\n",
       "      <td>4</td>\n",
       "    </tr>\n",
       "  </tbody>\n",
       "</table>\n",
       "</div>"
      ],
      "text/plain": [
       "        date  transaction_count  store_number\n",
       "0 2013-01-01                770            25\n",
       "1 2013-01-02               2111             1\n",
       "2 2013-01-02               2358             2\n",
       "3 2013-01-02               3487             3\n",
       "4 2013-01-02               1922             4"
      ]
     },
     "execution_count": 348,
     "metadata": {},
     "output_type": "execute_result"
    }
   ],
   "source": [
    "# Reindex the order of the columns for a particular order\n",
    "transactions.reindex(labels = ['date', 'transaction_count', 'store_number'], axis = 1).head()"
   ]
  },
  {
   "cell_type": "code",
   "execution_count": 349,
   "metadata": {},
   "outputs": [
    {
     "data": {
      "text/plain": [
       "0       False\n",
       "1       False\n",
       "2       False\n",
       "3       False\n",
       "4       False\n",
       "        ...  \n",
       "1213    False\n",
       "1214    False\n",
       "1215    False\n",
       "1216    False\n",
       "1217    False\n",
       "Name: benchmark, Length: 1218, dtype: bool"
      ]
     },
     "execution_count": 349,
     "metadata": {},
     "output_type": "execute_result"
    }
   ],
   "source": [
    "oil_df['benchmark'] < 100"
   ]
  },
  {
   "cell_type": "code",
   "execution_count": 350,
   "metadata": {},
   "outputs": [
    {
     "data": {
      "application/vnd.microsoft.datawrangler.viewer.v0+json": {
       "columns": [
        {
         "name": "index",
         "rawType": "int64",
         "type": "integer"
        },
        {
         "name": "date",
         "rawType": "datetime64[ns]",
         "type": "datetime"
        },
        {
         "name": "store_number",
         "rawType": "int64",
         "type": "integer"
        },
        {
         "name": "transaction_count",
         "rawType": "int64",
         "type": "integer"
        },
        {
         "name": "pct_to_target",
         "rawType": "float64",
         "type": "float"
        }
       ],
       "conversionMethod": "pd.DataFrame",
       "ref": "50b53ae1-e78b-4111-8079-28543c61c979",
       "rows": [
        [
         "0",
         "2013-01-01 00:00:00",
         "25",
         "770",
         "0.308"
        ],
        [
         "1",
         "2013-01-02 00:00:00",
         "1",
         "2111",
         "0.8444"
        ],
        [
         "2",
         "2013-01-02 00:00:00",
         "2",
         "2358",
         "0.9432"
        ],
        [
         "3",
         "2013-01-02 00:00:00",
         "3",
         "3487",
         "1.3948"
        ],
        [
         "4",
         "2013-01-02 00:00:00",
         "4",
         "1922",
         "0.7688"
        ],
        [
         "5",
         "2013-01-02 00:00:00",
         "5",
         "1903",
         "0.7612"
        ],
        [
         "6",
         "2013-01-02 00:00:00",
         "6",
         "2143",
         "0.8572"
        ],
        [
         "7",
         "2013-01-02 00:00:00",
         "7",
         "1874",
         "0.7496"
        ],
        [
         "8",
         "2013-01-02 00:00:00",
         "8",
         "3250",
         "1.3"
        ],
        [
         "9",
         "2013-01-02 00:00:00",
         "9",
         "2940",
         "1.176"
        ],
        [
         "10",
         "2013-01-02 00:00:00",
         "10",
         "1293",
         "0.5172"
        ],
        [
         "11",
         "2013-01-02 00:00:00",
         "11",
         "3547",
         "1.4188"
        ],
        [
         "12",
         "2013-01-02 00:00:00",
         "12",
         "1362",
         "0.5448"
        ],
        [
         "13",
         "2013-01-02 00:00:00",
         "13",
         "1102",
         "0.4408"
        ],
        [
         "14",
         "2013-01-02 00:00:00",
         "14",
         "2002",
         "0.8008"
        ],
        [
         "15",
         "2013-01-02 00:00:00",
         "15",
         "1622",
         "0.6488"
        ],
        [
         "16",
         "2013-01-02 00:00:00",
         "16",
         "1167",
         "0.4668"
        ],
        [
         "17",
         "2013-01-02 00:00:00",
         "17",
         "1580",
         "0.632"
        ],
        [
         "18",
         "2013-01-02 00:00:00",
         "18",
         "1635",
         "0.654"
        ],
        [
         "19",
         "2013-01-02 00:00:00",
         "19",
         "1369",
         "0.5476"
        ],
        [
         "20",
         "2013-01-02 00:00:00",
         "23",
         "1381",
         "0.5524"
        ],
        [
         "21",
         "2013-01-02 00:00:00",
         "24",
         "2605",
         "1.042"
        ],
        [
         "22",
         "2013-01-02 00:00:00",
         "25",
         "1038",
         "0.4152"
        ],
        [
         "23",
         "2013-01-02 00:00:00",
         "26",
         "1008",
         "0.4032"
        ],
        [
         "24",
         "2013-01-02 00:00:00",
         "27",
         "1386",
         "0.5544"
        ],
        [
         "25",
         "2013-01-02 00:00:00",
         "28",
         "950",
         "0.38"
        ],
        [
         "26",
         "2013-01-02 00:00:00",
         "30",
         "708",
         "0.2832"
        ],
        [
         "27",
         "2013-01-02 00:00:00",
         "31",
         "1401",
         "0.5604"
        ],
        [
         "28",
         "2013-01-02 00:00:00",
         "32",
         "776",
         "0.3104"
        ],
        [
         "29",
         "2013-01-02 00:00:00",
         "33",
         "1163",
         "0.4652"
        ],
        [
         "30",
         "2013-01-02 00:00:00",
         "34",
         "2724",
         "1.0896"
        ],
        [
         "31",
         "2013-01-02 00:00:00",
         "35",
         "786",
         "0.3144"
        ],
        [
         "32",
         "2013-01-02 00:00:00",
         "37",
         "1691",
         "0.6764"
        ],
        [
         "33",
         "2013-01-02 00:00:00",
         "38",
         "1987",
         "0.7948"
        ],
        [
         "34",
         "2013-01-02 00:00:00",
         "39",
         "1587",
         "0.6348"
        ],
        [
         "35",
         "2013-01-02 00:00:00",
         "40",
         "1178",
         "0.4712"
        ],
        [
         "36",
         "2013-01-02 00:00:00",
         "41",
         "915",
         "0.366"
        ],
        [
         "37",
         "2013-01-02 00:00:00",
         "43",
         "1385",
         "0.554"
        ],
        [
         "38",
         "2013-01-02 00:00:00",
         "44",
         "4821",
         "1.9284"
        ],
        [
         "39",
         "2013-01-02 00:00:00",
         "45",
         "4208",
         "1.6832"
        ],
        [
         "40",
         "2013-01-02 00:00:00",
         "46",
         "4886",
         "1.9544"
        ],
        [
         "41",
         "2013-01-02 00:00:00",
         "47",
         "4161",
         "1.6644"
        ],
        [
         "42",
         "2013-01-02 00:00:00",
         "48",
         "3397",
         "1.3588"
        ],
        [
         "43",
         "2013-01-02 00:00:00",
         "49",
         "2346",
         "0.9384"
        ],
        [
         "44",
         "2013-01-02 00:00:00",
         "50",
         "3077",
         "1.2308"
        ],
        [
         "45",
         "2013-01-02 00:00:00",
         "51",
         "1985",
         "0.794"
        ],
        [
         "46",
         "2013-01-02 00:00:00",
         "54",
         "998",
         "0.3992"
        ],
        [
         "47",
         "2013-01-03 00:00:00",
         "1",
         "1833",
         "0.7332"
        ],
        [
         "48",
         "2013-01-03 00:00:00",
         "2",
         "2033",
         "0.8132"
        ],
        [
         "49",
         "2013-01-03 00:00:00",
         "3",
         "3026",
         "1.2104"
        ]
       ],
       "shape": {
        "columns": 4,
        "rows": 83488
       }
      },
      "text/html": [
       "<div>\n",
       "<style scoped>\n",
       "    .dataframe tbody tr th:only-of-type {\n",
       "        vertical-align: middle;\n",
       "    }\n",
       "\n",
       "    .dataframe tbody tr th {\n",
       "        vertical-align: top;\n",
       "    }\n",
       "\n",
       "    .dataframe thead th {\n",
       "        text-align: right;\n",
       "    }\n",
       "</style>\n",
       "<table border=\"1\" class=\"dataframe\">\n",
       "  <thead>\n",
       "    <tr style=\"text-align: right;\">\n",
       "      <th></th>\n",
       "      <th>date</th>\n",
       "      <th>store_number</th>\n",
       "      <th>transaction_count</th>\n",
       "      <th>pct_to_target</th>\n",
       "    </tr>\n",
       "  </thead>\n",
       "  <tbody>\n",
       "    <tr>\n",
       "      <th>0</th>\n",
       "      <td>2013-01-01</td>\n",
       "      <td>25</td>\n",
       "      <td>770</td>\n",
       "      <td>0.3080</td>\n",
       "    </tr>\n",
       "    <tr>\n",
       "      <th>1</th>\n",
       "      <td>2013-01-02</td>\n",
       "      <td>1</td>\n",
       "      <td>2111</td>\n",
       "      <td>0.8444</td>\n",
       "    </tr>\n",
       "    <tr>\n",
       "      <th>2</th>\n",
       "      <td>2013-01-02</td>\n",
       "      <td>2</td>\n",
       "      <td>2358</td>\n",
       "      <td>0.9432</td>\n",
       "    </tr>\n",
       "    <tr>\n",
       "      <th>3</th>\n",
       "      <td>2013-01-02</td>\n",
       "      <td>3</td>\n",
       "      <td>3487</td>\n",
       "      <td>1.3948</td>\n",
       "    </tr>\n",
       "    <tr>\n",
       "      <th>4</th>\n",
       "      <td>2013-01-02</td>\n",
       "      <td>4</td>\n",
       "      <td>1922</td>\n",
       "      <td>0.7688</td>\n",
       "    </tr>\n",
       "    <tr>\n",
       "      <th>...</th>\n",
       "      <td>...</td>\n",
       "      <td>...</td>\n",
       "      <td>...</td>\n",
       "      <td>...</td>\n",
       "    </tr>\n",
       "    <tr>\n",
       "      <th>83483</th>\n",
       "      <td>2017-08-15</td>\n",
       "      <td>50</td>\n",
       "      <td>2804</td>\n",
       "      <td>1.1216</td>\n",
       "    </tr>\n",
       "    <tr>\n",
       "      <th>83484</th>\n",
       "      <td>2017-08-15</td>\n",
       "      <td>51</td>\n",
       "      <td>1573</td>\n",
       "      <td>0.6292</td>\n",
       "    </tr>\n",
       "    <tr>\n",
       "      <th>83485</th>\n",
       "      <td>2017-08-15</td>\n",
       "      <td>52</td>\n",
       "      <td>2255</td>\n",
       "      <td>0.9020</td>\n",
       "    </tr>\n",
       "    <tr>\n",
       "      <th>83486</th>\n",
       "      <td>2017-08-15</td>\n",
       "      <td>53</td>\n",
       "      <td>932</td>\n",
       "      <td>0.3728</td>\n",
       "    </tr>\n",
       "    <tr>\n",
       "      <th>83487</th>\n",
       "      <td>2017-08-15</td>\n",
       "      <td>54</td>\n",
       "      <td>802</td>\n",
       "      <td>0.3208</td>\n",
       "    </tr>\n",
       "  </tbody>\n",
       "</table>\n",
       "<p>83488 rows × 4 columns</p>\n",
       "</div>"
      ],
      "text/plain": [
       "            date  store_number  transaction_count  pct_to_target\n",
       "0     2013-01-01            25                770         0.3080\n",
       "1     2013-01-02             1               2111         0.8444\n",
       "2     2013-01-02             2               2358         0.9432\n",
       "3     2013-01-02             3               3487         1.3948\n",
       "4     2013-01-02             4               1922         0.7688\n",
       "...          ...           ...                ...            ...\n",
       "83483 2017-08-15            50               2804         1.1216\n",
       "83484 2017-08-15            51               1573         0.6292\n",
       "83485 2017-08-15            52               2255         0.9020\n",
       "83486 2017-08-15            53                932         0.3728\n",
       "83487 2017-08-15            54                802         0.3208\n",
       "\n",
       "[83488 rows x 4 columns]"
      ]
     },
     "execution_count": 350,
     "metadata": {},
     "output_type": "execute_result"
    }
   ],
   "source": [
    "# Transactions bonus calculations\n",
    "transactions['pct_to_target'] = transactions['transaction_count']/2500\n",
    "transactions"
   ]
  },
  {
   "cell_type": "code",
   "execution_count": 368,
   "metadata": {},
   "outputs": [
    {
     "data": {
      "application/vnd.microsoft.datawrangler.viewer.v0+json": {
       "columns": [
        {
         "name": "index",
         "rawType": "int64",
         "type": "integer"
        },
        {
         "name": "date",
         "rawType": "datetime64[ns]",
         "type": "datetime"
        },
        {
         "name": "store_number",
         "rawType": "int64",
         "type": "integer"
        },
        {
         "name": "transaction_count",
         "rawType": "int64",
         "type": "integer"
        },
        {
         "name": "pct_to_target",
         "rawType": "float64",
         "type": "float"
        },
        {
         "name": "met_target",
         "rawType": "bool",
         "type": "boolean"
        },
        {
         "name": "bonus_payable",
         "rawType": "int64",
         "type": "integer"
        },
        {
         "name": "month",
         "rawType": "int32",
         "type": "integer"
        },
        {
         "name": "day",
         "rawType": "int32",
         "type": "integer"
        }
       ],
       "conversionMethod": "pd.DataFrame",
       "ref": "c1f9c725-58a1-456c-b02d-638f95985945",
       "rows": [
        [
         "0",
         "2013-01-01 00:00:00",
         "25",
         "770",
         "0.308",
         "False",
         "0",
         "1",
         "1"
        ],
        [
         "1",
         "2013-01-02 00:00:00",
         "1",
         "2111",
         "0.8444",
         "False",
         "0",
         "1",
         "2"
        ],
        [
         "2",
         "2013-01-02 00:00:00",
         "2",
         "2358",
         "0.9432",
         "False",
         "0",
         "1",
         "2"
        ],
        [
         "3",
         "2013-01-02 00:00:00",
         "3",
         "3487",
         "1.3948",
         "True",
         "100",
         "1",
         "2"
        ],
        [
         "4",
         "2013-01-02 00:00:00",
         "4",
         "1922",
         "0.7688",
         "False",
         "0",
         "1",
         "2"
        ]
       ],
       "shape": {
        "columns": 8,
        "rows": 5
       }
      },
      "text/html": [
       "<div>\n",
       "<style scoped>\n",
       "    .dataframe tbody tr th:only-of-type {\n",
       "        vertical-align: middle;\n",
       "    }\n",
       "\n",
       "    .dataframe tbody tr th {\n",
       "        vertical-align: top;\n",
       "    }\n",
       "\n",
       "    .dataframe thead th {\n",
       "        text-align: right;\n",
       "    }\n",
       "</style>\n",
       "<table border=\"1\" class=\"dataframe\">\n",
       "  <thead>\n",
       "    <tr style=\"text-align: right;\">\n",
       "      <th></th>\n",
       "      <th>date</th>\n",
       "      <th>store_number</th>\n",
       "      <th>transaction_count</th>\n",
       "      <th>pct_to_target</th>\n",
       "      <th>met_target</th>\n",
       "      <th>bonus_payable</th>\n",
       "      <th>month</th>\n",
       "      <th>day</th>\n",
       "    </tr>\n",
       "  </thead>\n",
       "  <tbody>\n",
       "    <tr>\n",
       "      <th>0</th>\n",
       "      <td>2013-01-01</td>\n",
       "      <td>25</td>\n",
       "      <td>770</td>\n",
       "      <td>0.3080</td>\n",
       "      <td>False</td>\n",
       "      <td>0</td>\n",
       "      <td>1</td>\n",
       "      <td>1</td>\n",
       "    </tr>\n",
       "    <tr>\n",
       "      <th>1</th>\n",
       "      <td>2013-01-02</td>\n",
       "      <td>1</td>\n",
       "      <td>2111</td>\n",
       "      <td>0.8444</td>\n",
       "      <td>False</td>\n",
       "      <td>0</td>\n",
       "      <td>1</td>\n",
       "      <td>2</td>\n",
       "    </tr>\n",
       "    <tr>\n",
       "      <th>2</th>\n",
       "      <td>2013-01-02</td>\n",
       "      <td>2</td>\n",
       "      <td>2358</td>\n",
       "      <td>0.9432</td>\n",
       "      <td>False</td>\n",
       "      <td>0</td>\n",
       "      <td>1</td>\n",
       "      <td>2</td>\n",
       "    </tr>\n",
       "    <tr>\n",
       "      <th>3</th>\n",
       "      <td>2013-01-02</td>\n",
       "      <td>3</td>\n",
       "      <td>3487</td>\n",
       "      <td>1.3948</td>\n",
       "      <td>True</td>\n",
       "      <td>100</td>\n",
       "      <td>1</td>\n",
       "      <td>2</td>\n",
       "    </tr>\n",
       "    <tr>\n",
       "      <th>4</th>\n",
       "      <td>2013-01-02</td>\n",
       "      <td>4</td>\n",
       "      <td>1922</td>\n",
       "      <td>0.7688</td>\n",
       "      <td>False</td>\n",
       "      <td>0</td>\n",
       "      <td>1</td>\n",
       "      <td>2</td>\n",
       "    </tr>\n",
       "  </tbody>\n",
       "</table>\n",
       "</div>"
      ],
      "text/plain": [
       "        date  store_number  transaction_count  pct_to_target  met_target  \\\n",
       "0 2013-01-01            25                770         0.3080       False   \n",
       "1 2013-01-02             1               2111         0.8444       False   \n",
       "2 2013-01-02             2               2358         0.9432       False   \n",
       "3 2013-01-02             3               3487         1.3948        True   \n",
       "4 2013-01-02             4               1922         0.7688       False   \n",
       "\n",
       "   bonus_payable  month  day  \n",
       "0              0      1    1  \n",
       "1              0      1    2  \n",
       "2              0      1    2  \n",
       "3            100      1    2  \n",
       "4              0      1    2  "
      ]
     },
     "execution_count": 368,
     "metadata": {},
     "output_type": "execute_result"
    }
   ],
   "source": [
    "# Create a met column that is true if pct_to_target is greater than or equal to 1\n",
    "transactions['met_target'] = transactions['pct_to_target'] >= 1\n",
    "transactions.head()"
   ]
  },
  {
   "cell_type": "code",
   "execution_count": null,
   "metadata": {},
   "outputs": [
    {
     "data": {
      "application/vnd.microsoft.datawrangler.viewer.v0+json": {
       "columns": [
        {
         "name": "index",
         "rawType": "int64",
         "type": "integer"
        },
        {
         "name": "date",
         "rawType": "datetime64[ns]",
         "type": "datetime"
        },
        {
         "name": "store_number",
         "rawType": "int64",
         "type": "integer"
        },
        {
         "name": "transaction_count",
         "rawType": "int64",
         "type": "integer"
        },
        {
         "name": "pct_to_target",
         "rawType": "float64",
         "type": "float"
        },
        {
         "name": "met_target",
         "rawType": "bool",
         "type": "boolean"
        },
        {
         "name": "bonus_payable",
         "rawType": "int64",
         "type": "integer"
        }
       ],
       "conversionMethod": "pd.DataFrame",
       "ref": "514b99f2-7522-4880-b1ba-11110868d2fe",
       "rows": [
        [
         "0",
         "2013-01-01 00:00:00",
         "25",
         "770",
         "0.308",
         "False",
         "0"
        ],
        [
         "1",
         "2013-01-02 00:00:00",
         "1",
         "2111",
         "0.8444",
         "False",
         "0"
        ],
        [
         "2",
         "2013-01-02 00:00:00",
         "2",
         "2358",
         "0.9432",
         "False",
         "0"
        ],
        [
         "3",
         "2013-01-02 00:00:00",
         "3",
         "3487",
         "1.3948",
         "True",
         "100"
        ],
        [
         "4",
         "2013-01-02 00:00:00",
         "4",
         "1922",
         "0.7688",
         "False",
         "0"
        ],
        [
         "5",
         "2013-01-02 00:00:00",
         "5",
         "1903",
         "0.7612",
         "False",
         "0"
        ],
        [
         "6",
         "2013-01-02 00:00:00",
         "6",
         "2143",
         "0.8572",
         "False",
         "0"
        ],
        [
         "7",
         "2013-01-02 00:00:00",
         "7",
         "1874",
         "0.7496",
         "False",
         "0"
        ],
        [
         "8",
         "2013-01-02 00:00:00",
         "8",
         "3250",
         "1.3",
         "True",
         "100"
        ],
        [
         "9",
         "2013-01-02 00:00:00",
         "9",
         "2940",
         "1.176",
         "True",
         "100"
        ],
        [
         "10",
         "2013-01-02 00:00:00",
         "10",
         "1293",
         "0.5172",
         "False",
         "0"
        ],
        [
         "11",
         "2013-01-02 00:00:00",
         "11",
         "3547",
         "1.4188",
         "True",
         "100"
        ],
        [
         "12",
         "2013-01-02 00:00:00",
         "12",
         "1362",
         "0.5448",
         "False",
         "0"
        ],
        [
         "13",
         "2013-01-02 00:00:00",
         "13",
         "1102",
         "0.4408",
         "False",
         "0"
        ],
        [
         "14",
         "2013-01-02 00:00:00",
         "14",
         "2002",
         "0.8008",
         "False",
         "0"
        ],
        [
         "15",
         "2013-01-02 00:00:00",
         "15",
         "1622",
         "0.6488",
         "False",
         "0"
        ],
        [
         "16",
         "2013-01-02 00:00:00",
         "16",
         "1167",
         "0.4668",
         "False",
         "0"
        ],
        [
         "17",
         "2013-01-02 00:00:00",
         "17",
         "1580",
         "0.632",
         "False",
         "0"
        ],
        [
         "18",
         "2013-01-02 00:00:00",
         "18",
         "1635",
         "0.654",
         "False",
         "0"
        ],
        [
         "19",
         "2013-01-02 00:00:00",
         "19",
         "1369",
         "0.5476",
         "False",
         "0"
        ],
        [
         "20",
         "2013-01-02 00:00:00",
         "23",
         "1381",
         "0.5524",
         "False",
         "0"
        ],
        [
         "21",
         "2013-01-02 00:00:00",
         "24",
         "2605",
         "1.042",
         "True",
         "100"
        ],
        [
         "22",
         "2013-01-02 00:00:00",
         "25",
         "1038",
         "0.4152",
         "False",
         "0"
        ],
        [
         "23",
         "2013-01-02 00:00:00",
         "26",
         "1008",
         "0.4032",
         "False",
         "0"
        ],
        [
         "24",
         "2013-01-02 00:00:00",
         "27",
         "1386",
         "0.5544",
         "False",
         "0"
        ],
        [
         "25",
         "2013-01-02 00:00:00",
         "28",
         "950",
         "0.38",
         "False",
         "0"
        ],
        [
         "26",
         "2013-01-02 00:00:00",
         "30",
         "708",
         "0.2832",
         "False",
         "0"
        ],
        [
         "27",
         "2013-01-02 00:00:00",
         "31",
         "1401",
         "0.5604",
         "False",
         "0"
        ],
        [
         "28",
         "2013-01-02 00:00:00",
         "32",
         "776",
         "0.3104",
         "False",
         "0"
        ],
        [
         "29",
         "2013-01-02 00:00:00",
         "33",
         "1163",
         "0.4652",
         "False",
         "0"
        ],
        [
         "30",
         "2013-01-02 00:00:00",
         "34",
         "2724",
         "1.0896",
         "True",
         "100"
        ],
        [
         "31",
         "2013-01-02 00:00:00",
         "35",
         "786",
         "0.3144",
         "False",
         "0"
        ],
        [
         "32",
         "2013-01-02 00:00:00",
         "37",
         "1691",
         "0.6764",
         "False",
         "0"
        ],
        [
         "33",
         "2013-01-02 00:00:00",
         "38",
         "1987",
         "0.7948",
         "False",
         "0"
        ],
        [
         "34",
         "2013-01-02 00:00:00",
         "39",
         "1587",
         "0.6348",
         "False",
         "0"
        ],
        [
         "35",
         "2013-01-02 00:00:00",
         "40",
         "1178",
         "0.4712",
         "False",
         "0"
        ],
        [
         "36",
         "2013-01-02 00:00:00",
         "41",
         "915",
         "0.366",
         "False",
         "0"
        ],
        [
         "37",
         "2013-01-02 00:00:00",
         "43",
         "1385",
         "0.554",
         "False",
         "0"
        ],
        [
         "38",
         "2013-01-02 00:00:00",
         "44",
         "4821",
         "1.9284",
         "True",
         "100"
        ],
        [
         "39",
         "2013-01-02 00:00:00",
         "45",
         "4208",
         "1.6832",
         "True",
         "100"
        ],
        [
         "40",
         "2013-01-02 00:00:00",
         "46",
         "4886",
         "1.9544",
         "True",
         "100"
        ],
        [
         "41",
         "2013-01-02 00:00:00",
         "47",
         "4161",
         "1.6644",
         "True",
         "100"
        ],
        [
         "42",
         "2013-01-02 00:00:00",
         "48",
         "3397",
         "1.3588",
         "True",
         "100"
        ],
        [
         "43",
         "2013-01-02 00:00:00",
         "49",
         "2346",
         "0.9384",
         "False",
         "0"
        ],
        [
         "44",
         "2013-01-02 00:00:00",
         "50",
         "3077",
         "1.2308",
         "True",
         "100"
        ],
        [
         "45",
         "2013-01-02 00:00:00",
         "51",
         "1985",
         "0.794",
         "False",
         "0"
        ],
        [
         "46",
         "2013-01-02 00:00:00",
         "54",
         "998",
         "0.3992",
         "False",
         "0"
        ],
        [
         "47",
         "2013-01-03 00:00:00",
         "1",
         "1833",
         "0.7332",
         "False",
         "0"
        ],
        [
         "48",
         "2013-01-03 00:00:00",
         "2",
         "2033",
         "0.8132",
         "False",
         "0"
        ],
        [
         "49",
         "2013-01-03 00:00:00",
         "3",
         "3026",
         "1.2104",
         "True",
         "100"
        ]
       ],
       "shape": {
        "columns": 6,
        "rows": 83488
       }
      },
      "text/html": [
       "<div>\n",
       "<style scoped>\n",
       "    .dataframe tbody tr th:only-of-type {\n",
       "        vertical-align: middle;\n",
       "    }\n",
       "\n",
       "    .dataframe tbody tr th {\n",
       "        vertical-align: top;\n",
       "    }\n",
       "\n",
       "    .dataframe thead th {\n",
       "        text-align: right;\n",
       "    }\n",
       "</style>\n",
       "<table border=\"1\" class=\"dataframe\">\n",
       "  <thead>\n",
       "    <tr style=\"text-align: right;\">\n",
       "      <th></th>\n",
       "      <th>date</th>\n",
       "      <th>store_number</th>\n",
       "      <th>transaction_count</th>\n",
       "      <th>pct_to_target</th>\n",
       "      <th>met_target</th>\n",
       "      <th>bonus_payable</th>\n",
       "    </tr>\n",
       "  </thead>\n",
       "  <tbody>\n",
       "    <tr>\n",
       "      <th>0</th>\n",
       "      <td>2013-01-01</td>\n",
       "      <td>25</td>\n",
       "      <td>770</td>\n",
       "      <td>0.3080</td>\n",
       "      <td>False</td>\n",
       "      <td>0</td>\n",
       "    </tr>\n",
       "    <tr>\n",
       "      <th>1</th>\n",
       "      <td>2013-01-02</td>\n",
       "      <td>1</td>\n",
       "      <td>2111</td>\n",
       "      <td>0.8444</td>\n",
       "      <td>False</td>\n",
       "      <td>0</td>\n",
       "    </tr>\n",
       "    <tr>\n",
       "      <th>2</th>\n",
       "      <td>2013-01-02</td>\n",
       "      <td>2</td>\n",
       "      <td>2358</td>\n",
       "      <td>0.9432</td>\n",
       "      <td>False</td>\n",
       "      <td>0</td>\n",
       "    </tr>\n",
       "    <tr>\n",
       "      <th>3</th>\n",
       "      <td>2013-01-02</td>\n",
       "      <td>3</td>\n",
       "      <td>3487</td>\n",
       "      <td>1.3948</td>\n",
       "      <td>True</td>\n",
       "      <td>100</td>\n",
       "    </tr>\n",
       "    <tr>\n",
       "      <th>4</th>\n",
       "      <td>2013-01-02</td>\n",
       "      <td>4</td>\n",
       "      <td>1922</td>\n",
       "      <td>0.7688</td>\n",
       "      <td>False</td>\n",
       "      <td>0</td>\n",
       "    </tr>\n",
       "    <tr>\n",
       "      <th>...</th>\n",
       "      <td>...</td>\n",
       "      <td>...</td>\n",
       "      <td>...</td>\n",
       "      <td>...</td>\n",
       "      <td>...</td>\n",
       "      <td>...</td>\n",
       "    </tr>\n",
       "    <tr>\n",
       "      <th>83483</th>\n",
       "      <td>2017-08-15</td>\n",
       "      <td>50</td>\n",
       "      <td>2804</td>\n",
       "      <td>1.1216</td>\n",
       "      <td>True</td>\n",
       "      <td>100</td>\n",
       "    </tr>\n",
       "    <tr>\n",
       "      <th>83484</th>\n",
       "      <td>2017-08-15</td>\n",
       "      <td>51</td>\n",
       "      <td>1573</td>\n",
       "      <td>0.6292</td>\n",
       "      <td>False</td>\n",
       "      <td>0</td>\n",
       "    </tr>\n",
       "    <tr>\n",
       "      <th>83485</th>\n",
       "      <td>2017-08-15</td>\n",
       "      <td>52</td>\n",
       "      <td>2255</td>\n",
       "      <td>0.9020</td>\n",
       "      <td>False</td>\n",
       "      <td>0</td>\n",
       "    </tr>\n",
       "    <tr>\n",
       "      <th>83486</th>\n",
       "      <td>2017-08-15</td>\n",
       "      <td>53</td>\n",
       "      <td>932</td>\n",
       "      <td>0.3728</td>\n",
       "      <td>False</td>\n",
       "      <td>0</td>\n",
       "    </tr>\n",
       "    <tr>\n",
       "      <th>83487</th>\n",
       "      <td>2017-08-15</td>\n",
       "      <td>54</td>\n",
       "      <td>802</td>\n",
       "      <td>0.3208</td>\n",
       "      <td>False</td>\n",
       "      <td>0</td>\n",
       "    </tr>\n",
       "  </tbody>\n",
       "</table>\n",
       "<p>83488 rows × 6 columns</p>\n",
       "</div>"
      ],
      "text/plain": [
       "            date  store_number  transaction_count  pct_to_target  met_target  \\\n",
       "0     2013-01-01            25                770         0.3080       False   \n",
       "1     2013-01-02             1               2111         0.8444       False   \n",
       "2     2013-01-02             2               2358         0.9432       False   \n",
       "3     2013-01-02             3               3487         1.3948        True   \n",
       "4     2013-01-02             4               1922         0.7688       False   \n",
       "...          ...           ...                ...            ...         ...   \n",
       "83483 2017-08-15            50               2804         1.1216        True   \n",
       "83484 2017-08-15            51               1573         0.6292       False   \n",
       "83485 2017-08-15            52               2255         0.9020       False   \n",
       "83486 2017-08-15            53                932         0.3728       False   \n",
       "83487 2017-08-15            54                802         0.3208       False   \n",
       "\n",
       "       bonus_payable  \n",
       "0                  0  \n",
       "1                  0  \n",
       "2                  0  \n",
       "3                100  \n",
       "4                  0  \n",
       "...              ...  \n",
       "83483            100  \n",
       "83484              0  \n",
       "83485              0  \n",
       "83486              0  \n",
       "83487              0  \n",
       "\n",
       "[83488 rows x 6 columns]"
      ]
     },
     "execution_count": 353,
     "metadata": {},
     "output_type": "execute_result"
    }
   ],
   "source": [
    "# Create a bonus payable column that equals 100- if met_target is true and 0 if not\n",
    "# Can also multiple by the boolean to get answer\n",
    "#transactions['bonus_payable'] = transactions['met_target'] * 100\n",
    "transactions['bonus_payable'] = np.where(transactions['met_target'] == True, 100, 0)\n",
    "transactions['month'] = transactions[date].date.dt.month"
   ]
  },
  {
   "cell_type": "code",
   "execution_count": 360,
   "metadata": {},
   "outputs": [
    {
     "data": {
      "text/plain": [
       "np.int64(1448300)"
      ]
     },
     "execution_count": 360,
     "metadata": {},
     "output_type": "execute_result"
    }
   ],
   "source": [
    "transactions['bonus_payable'].sum()"
   ]
  },
  {
   "cell_type": "code",
   "execution_count": 367,
   "metadata": {},
   "outputs": [
    {
     "data": {
      "application/vnd.microsoft.datawrangler.viewer.v0+json": {
       "columns": [
        {
         "name": "index",
         "rawType": "int64",
         "type": "integer"
        },
        {
         "name": "date",
         "rawType": "datetime64[ns]",
         "type": "datetime"
        },
        {
         "name": "store_number",
         "rawType": "int64",
         "type": "integer"
        },
        {
         "name": "transaction_count",
         "rawType": "int64",
         "type": "integer"
        },
        {
         "name": "pct_to_target",
         "rawType": "float64",
         "type": "float"
        },
        {
         "name": "met_target",
         "rawType": "bool",
         "type": "boolean"
        },
        {
         "name": "bonus_payable",
         "rawType": "int64",
         "type": "integer"
        },
        {
         "name": "month",
         "rawType": "int32",
         "type": "integer"
        },
        {
         "name": "day",
         "rawType": "int32",
         "type": "integer"
        }
       ],
       "conversionMethod": "pd.DataFrame",
       "ref": "431b1a64-b88f-43b6-ae88-0958fcf9935c",
       "rows": [
        [
         "0",
         "2013-01-01 00:00:00",
         "25",
         "770",
         "0.308",
         "False",
         "0",
         "1",
         "1"
        ],
        [
         "1",
         "2013-01-02 00:00:00",
         "1",
         "2111",
         "0.8444",
         "False",
         "0",
         "1",
         "2"
        ],
        [
         "2",
         "2013-01-02 00:00:00",
         "2",
         "2358",
         "0.9432",
         "False",
         "0",
         "1",
         "2"
        ],
        [
         "3",
         "2013-01-02 00:00:00",
         "3",
         "3487",
         "1.3948",
         "True",
         "100",
         "1",
         "2"
        ],
        [
         "4",
         "2013-01-02 00:00:00",
         "4",
         "1922",
         "0.7688",
         "False",
         "0",
         "1",
         "2"
        ]
       ],
       "shape": {
        "columns": 8,
        "rows": 5
       }
      },
      "text/html": [
       "<div>\n",
       "<style scoped>\n",
       "    .dataframe tbody tr th:only-of-type {\n",
       "        vertical-align: middle;\n",
       "    }\n",
       "\n",
       "    .dataframe tbody tr th {\n",
       "        vertical-align: top;\n",
       "    }\n",
       "\n",
       "    .dataframe thead th {\n",
       "        text-align: right;\n",
       "    }\n",
       "</style>\n",
       "<table border=\"1\" class=\"dataframe\">\n",
       "  <thead>\n",
       "    <tr style=\"text-align: right;\">\n",
       "      <th></th>\n",
       "      <th>date</th>\n",
       "      <th>store_number</th>\n",
       "      <th>transaction_count</th>\n",
       "      <th>pct_to_target</th>\n",
       "      <th>met_target</th>\n",
       "      <th>bonus_payable</th>\n",
       "      <th>month</th>\n",
       "      <th>day</th>\n",
       "    </tr>\n",
       "  </thead>\n",
       "  <tbody>\n",
       "    <tr>\n",
       "      <th>0</th>\n",
       "      <td>2013-01-01</td>\n",
       "      <td>25</td>\n",
       "      <td>770</td>\n",
       "      <td>0.3080</td>\n",
       "      <td>False</td>\n",
       "      <td>0</td>\n",
       "      <td>1</td>\n",
       "      <td>1</td>\n",
       "    </tr>\n",
       "    <tr>\n",
       "      <th>1</th>\n",
       "      <td>2013-01-02</td>\n",
       "      <td>1</td>\n",
       "      <td>2111</td>\n",
       "      <td>0.8444</td>\n",
       "      <td>False</td>\n",
       "      <td>0</td>\n",
       "      <td>1</td>\n",
       "      <td>2</td>\n",
       "    </tr>\n",
       "    <tr>\n",
       "      <th>2</th>\n",
       "      <td>2013-01-02</td>\n",
       "      <td>2</td>\n",
       "      <td>2358</td>\n",
       "      <td>0.9432</td>\n",
       "      <td>False</td>\n",
       "      <td>0</td>\n",
       "      <td>1</td>\n",
       "      <td>2</td>\n",
       "    </tr>\n",
       "    <tr>\n",
       "      <th>3</th>\n",
       "      <td>2013-01-02</td>\n",
       "      <td>3</td>\n",
       "      <td>3487</td>\n",
       "      <td>1.3948</td>\n",
       "      <td>True</td>\n",
       "      <td>100</td>\n",
       "      <td>1</td>\n",
       "      <td>2</td>\n",
       "    </tr>\n",
       "    <tr>\n",
       "      <th>4</th>\n",
       "      <td>2013-01-02</td>\n",
       "      <td>4</td>\n",
       "      <td>1922</td>\n",
       "      <td>0.7688</td>\n",
       "      <td>False</td>\n",
       "      <td>0</td>\n",
       "      <td>1</td>\n",
       "      <td>2</td>\n",
       "    </tr>\n",
       "  </tbody>\n",
       "</table>\n",
       "</div>"
      ],
      "text/plain": [
       "        date  store_number  transaction_count  pct_to_target  met_target  \\\n",
       "0 2013-01-01            25                770         0.3080       False   \n",
       "1 2013-01-02             1               2111         0.8444       False   \n",
       "2 2013-01-02             2               2358         0.9432       False   \n",
       "3 2013-01-02             3               3487         1.3948        True   \n",
       "4 2013-01-02             4               1922         0.7688       False   \n",
       "\n",
       "   bonus_payable  month  day  \n",
       "0              0      1    1  \n",
       "1              0      1    2  \n",
       "2              0      1    2  \n",
       "3            100      1    2  \n",
       "4              0      1    2  "
      ]
     },
     "execution_count": 367,
     "metadata": {},
     "output_type": "execute_result"
    }
   ],
   "source": [
    "transactions['month'] = transactions['date'].dt.month\n",
    "transactions['day'] = transactions['date'].dt.dayofweek\n",
    "transactions.head()"
   ]
  },
  {
   "cell_type": "code",
   "execution_count": null,
   "metadata": {},
   "outputs": [
    {
     "data": {
      "application/vnd.microsoft.datawrangler.viewer.v0+json": {
       "columns": [
        {
         "name": "index",
         "rawType": "int64",
         "type": "integer"
        },
        {
         "name": "date",
         "rawType": "datetime64[ns]",
         "type": "datetime"
        },
        {
         "name": "dcoilwtico",
         "rawType": "float64",
         "type": "float"
        },
        {
         "name": "benchmark",
         "rawType": "int64",
         "type": "integer"
        },
        {
         "name": "buy",
         "rawType": "object",
         "type": "string"
        }
       ],
       "conversionMethod": "pd.DataFrame",
       "ref": "66bda170-9443-4976-8b55-bc53ee7ce784",
       "rows": [
        [
         "0",
         "2013-01-01 00:00:00",
         null,
         "100",
         "Missing"
        ],
        [
         "1",
         "2013-01-02 00:00:00",
         "93.14",
         "100",
         "Buy"
        ],
        [
         "2",
         "2013-01-03 00:00:00",
         "92.97",
         "100",
         "Buy"
        ],
        [
         "3",
         "2013-01-04 00:00:00",
         "93.12",
         "100",
         "Buy"
        ],
        [
         "4",
         "2013-01-07 00:00:00",
         "93.2",
         "100",
         "Buy"
        ],
        [
         "5",
         "2013-01-08 00:00:00",
         "93.21",
         "100",
         "Buy"
        ],
        [
         "6",
         "2013-01-09 00:00:00",
         "93.08",
         "100",
         "Buy"
        ],
        [
         "7",
         "2013-01-10 00:00:00",
         "93.81",
         "100",
         "Buy"
        ],
        [
         "8",
         "2013-01-11 00:00:00",
         "93.6",
         "100",
         "Buy"
        ],
        [
         "9",
         "2013-01-14 00:00:00",
         "94.27",
         "100",
         "Buy"
        ],
        [
         "10",
         "2013-01-15 00:00:00",
         "93.26",
         "100",
         "Buy"
        ],
        [
         "11",
         "2013-01-16 00:00:00",
         "94.28",
         "100",
         "Buy"
        ],
        [
         "12",
         "2013-01-17 00:00:00",
         "95.49",
         "100",
         "Buy"
        ],
        [
         "13",
         "2013-01-18 00:00:00",
         "95.61",
         "100",
         "Buy"
        ],
        [
         "14",
         "2013-01-21 00:00:00",
         null,
         "100",
         "Missing"
        ],
        [
         "15",
         "2013-01-22 00:00:00",
         "96.09",
         "100",
         "Buy"
        ],
        [
         "16",
         "2013-01-23 00:00:00",
         "95.06",
         "100",
         "Buy"
        ],
        [
         "17",
         "2013-01-24 00:00:00",
         "95.35",
         "100",
         "Buy"
        ],
        [
         "18",
         "2013-01-25 00:00:00",
         "95.15",
         "100",
         "Buy"
        ],
        [
         "19",
         "2013-01-28 00:00:00",
         "95.95",
         "100",
         "Buy"
        ],
        [
         "20",
         "2013-01-29 00:00:00",
         "97.62",
         "100",
         "Buy"
        ],
        [
         "21",
         "2013-01-30 00:00:00",
         "97.98",
         "100",
         "Buy"
        ],
        [
         "22",
         "2013-01-31 00:00:00",
         "97.65",
         "100",
         "Buy"
        ],
        [
         "23",
         "2013-02-01 00:00:00",
         "97.46",
         "100",
         "Buy"
        ],
        [
         "24",
         "2013-02-04 00:00:00",
         "96.21",
         "100",
         "Buy"
        ],
        [
         "25",
         "2013-02-05 00:00:00",
         "96.68",
         "100",
         "Buy"
        ],
        [
         "26",
         "2013-02-06 00:00:00",
         "96.44",
         "100",
         "Buy"
        ],
        [
         "27",
         "2013-02-07 00:00:00",
         "95.84",
         "100",
         "Buy"
        ],
        [
         "28",
         "2013-02-08 00:00:00",
         "95.71",
         "100",
         "Buy"
        ],
        [
         "29",
         "2013-02-11 00:00:00",
         "97.01",
         "100",
         "Buy"
        ],
        [
         "30",
         "2013-02-12 00:00:00",
         "97.48",
         "100",
         "Buy"
        ],
        [
         "31",
         "2013-02-13 00:00:00",
         "97.03",
         "100",
         "Buy"
        ],
        [
         "32",
         "2013-02-14 00:00:00",
         "97.3",
         "100",
         "Buy"
        ],
        [
         "33",
         "2013-02-15 00:00:00",
         "95.95",
         "100",
         "Buy"
        ],
        [
         "34",
         "2013-02-18 00:00:00",
         null,
         "100",
         "Missing"
        ],
        [
         "35",
         "2013-02-19 00:00:00",
         "96.69",
         "100",
         "Buy"
        ],
        [
         "36",
         "2013-02-20 00:00:00",
         "94.92",
         "100",
         "Buy"
        ],
        [
         "37",
         "2013-02-21 00:00:00",
         "92.79",
         "100",
         "Buy"
        ],
        [
         "38",
         "2013-02-22 00:00:00",
         "93.12",
         "100",
         "Buy"
        ],
        [
         "39",
         "2013-02-25 00:00:00",
         "92.74",
         "100",
         "Buy"
        ],
        [
         "40",
         "2013-02-26 00:00:00",
         "92.63",
         "100",
         "Buy"
        ],
        [
         "41",
         "2013-02-27 00:00:00",
         "92.84",
         "100",
         "Buy"
        ],
        [
         "42",
         "2013-02-28 00:00:00",
         "92.03",
         "100",
         "Buy"
        ],
        [
         "43",
         "2013-03-01 00:00:00",
         "90.71",
         "100",
         "Buy"
        ],
        [
         "44",
         "2013-03-04 00:00:00",
         "90.13",
         "100",
         "Buy"
        ],
        [
         "45",
         "2013-03-05 00:00:00",
         "90.88",
         "100",
         "Buy"
        ],
        [
         "46",
         "2013-03-06 00:00:00",
         "90.47",
         "100",
         "Buy"
        ],
        [
         "47",
         "2013-03-07 00:00:00",
         "91.53",
         "100",
         "Buy"
        ],
        [
         "48",
         "2013-03-08 00:00:00",
         "92.01",
         "100",
         "Buy"
        ],
        [
         "49",
         "2013-03-11 00:00:00",
         "92.07",
         "100",
         "Buy"
        ]
       ],
       "shape": {
        "columns": 4,
        "rows": 1218
       }
      },
      "text/html": [
       "<div>\n",
       "<style scoped>\n",
       "    .dataframe tbody tr th:only-of-type {\n",
       "        vertical-align: middle;\n",
       "    }\n",
       "\n",
       "    .dataframe tbody tr th {\n",
       "        vertical-align: top;\n",
       "    }\n",
       "\n",
       "    .dataframe thead th {\n",
       "        text-align: right;\n",
       "    }\n",
       "</style>\n",
       "<table border=\"1\" class=\"dataframe\">\n",
       "  <thead>\n",
       "    <tr style=\"text-align: right;\">\n",
       "      <th></th>\n",
       "      <th>date</th>\n",
       "      <th>dcoilwtico</th>\n",
       "      <th>benchmark</th>\n",
       "      <th>buy</th>\n",
       "    </tr>\n",
       "  </thead>\n",
       "  <tbody>\n",
       "    <tr>\n",
       "      <th>0</th>\n",
       "      <td>2013-01-01</td>\n",
       "      <td>NaN</td>\n",
       "      <td>100</td>\n",
       "      <td>Missing</td>\n",
       "    </tr>\n",
       "    <tr>\n",
       "      <th>1</th>\n",
       "      <td>2013-01-02</td>\n",
       "      <td>93.14</td>\n",
       "      <td>100</td>\n",
       "      <td>Buy</td>\n",
       "    </tr>\n",
       "    <tr>\n",
       "      <th>2</th>\n",
       "      <td>2013-01-03</td>\n",
       "      <td>92.97</td>\n",
       "      <td>100</td>\n",
       "      <td>Buy</td>\n",
       "    </tr>\n",
       "    <tr>\n",
       "      <th>3</th>\n",
       "      <td>2013-01-04</td>\n",
       "      <td>93.12</td>\n",
       "      <td>100</td>\n",
       "      <td>Buy</td>\n",
       "    </tr>\n",
       "    <tr>\n",
       "      <th>4</th>\n",
       "      <td>2013-01-07</td>\n",
       "      <td>93.20</td>\n",
       "      <td>100</td>\n",
       "      <td>Buy</td>\n",
       "    </tr>\n",
       "    <tr>\n",
       "      <th>...</th>\n",
       "      <td>...</td>\n",
       "      <td>...</td>\n",
       "      <td>...</td>\n",
       "      <td>...</td>\n",
       "    </tr>\n",
       "    <tr>\n",
       "      <th>1213</th>\n",
       "      <td>2017-08-25</td>\n",
       "      <td>47.65</td>\n",
       "      <td>100</td>\n",
       "      <td>Strong Buy</td>\n",
       "    </tr>\n",
       "    <tr>\n",
       "      <th>1214</th>\n",
       "      <td>2017-08-28</td>\n",
       "      <td>46.40</td>\n",
       "      <td>100</td>\n",
       "      <td>Strong Buy</td>\n",
       "    </tr>\n",
       "    <tr>\n",
       "      <th>1215</th>\n",
       "      <td>2017-08-29</td>\n",
       "      <td>46.46</td>\n",
       "      <td>100</td>\n",
       "      <td>Strong Buy</td>\n",
       "    </tr>\n",
       "    <tr>\n",
       "      <th>1216</th>\n",
       "      <td>2017-08-30</td>\n",
       "      <td>45.96</td>\n",
       "      <td>100</td>\n",
       "      <td>Strong Buy</td>\n",
       "    </tr>\n",
       "    <tr>\n",
       "      <th>1217</th>\n",
       "      <td>2017-08-31</td>\n",
       "      <td>47.26</td>\n",
       "      <td>100</td>\n",
       "      <td>Strong Buy</td>\n",
       "    </tr>\n",
       "  </tbody>\n",
       "</table>\n",
       "<p>1218 rows × 4 columns</p>\n",
       "</div>"
      ],
      "text/plain": [
       "           date  dcoilwtico  benchmark         buy\n",
       "0    2013-01-01         NaN        100     Missing\n",
       "1    2013-01-02       93.14        100         Buy\n",
       "2    2013-01-03       92.97        100         Buy\n",
       "3    2013-01-04       93.12        100         Buy\n",
       "4    2013-01-07       93.20        100         Buy\n",
       "...         ...         ...        ...         ...\n",
       "1213 2017-08-25       47.65        100  Strong Buy\n",
       "1214 2017-08-28       46.40        100  Strong Buy\n",
       "1215 2017-08-29       46.46        100  Strong Buy\n",
       "1216 2017-08-30       45.96        100  Strong Buy\n",
       "1217 2017-08-31       47.26        100  Strong Buy\n",
       "\n",
       "[1218 rows x 4 columns]"
      ]
     },
     "execution_count": 375,
     "metadata": {},
     "output_type": "execute_result"
    }
   ],
   "source": [
    "# Using np.selet to mimick a case_when statement\n",
    "\n",
    "conditions = [\n",
    "    (oil_df['dcoilwtico'] > 100), \n",
    "    (oil_df['dcoilwtico'].between(50, 100)),\n",
    "    (oil_df['dcoilwtico'] < 50)\n",
    "]\n",
    "choices = ['Dont Buy', 'Buy', 'Strong Buy']\n",
    "\n",
    "oil_df['buy'] = np.select(conditions, choices, default='Missing')\n",
    "oil_df"
   ]
  },
  {
   "cell_type": "code",
   "execution_count": 377,
   "metadata": {},
   "outputs": [
    {
     "data": {
      "text/plain": [
       "buy\n",
       "Buy           512\n",
       "Strong Buy    481\n",
       "Dont Buy      182\n",
       "Missing        43\n",
       "Name: count, dtype: int64"
      ]
     },
     "execution_count": 377,
     "metadata": {},
     "output_type": "execute_result"
    }
   ],
   "source": [
    "oil_df['buy'].value_counts()"
   ]
  },
  {
   "cell_type": "code",
   "execution_count": 379,
   "metadata": {},
   "outputs": [
    {
     "data": {
      "application/vnd.microsoft.datawrangler.viewer.v0+json": {
       "columns": [
        {
         "name": "index",
         "rawType": "int64",
         "type": "integer"
        },
        {
         "name": "date",
         "rawType": "datetime64[ns]",
         "type": "datetime"
        },
        {
         "name": "store_number",
         "rawType": "int64",
         "type": "integer"
        },
        {
         "name": "transaction_count",
         "rawType": "int64",
         "type": "integer"
        },
        {
         "name": "pct_to_target",
         "rawType": "float64",
         "type": "float"
        },
        {
         "name": "met_target",
         "rawType": "bool",
         "type": "boolean"
        },
        {
         "name": "bonus_payable",
         "rawType": "int64",
         "type": "integer"
        },
        {
         "name": "month",
         "rawType": "int32",
         "type": "integer"
        },
        {
         "name": "day",
         "rawType": "int32",
         "type": "integer"
        }
       ],
       "conversionMethod": "pd.DataFrame",
       "ref": "4a2db9d4-f6aa-4358-a048-f59ac744b6bc",
       "rows": [
        [
         "0",
         "2013-01-01 00:00:00",
         "25",
         "770",
         "0.308",
         "False",
         "0",
         "1",
         "1"
        ],
        [
         "1",
         "2013-01-02 00:00:00",
         "1",
         "2111",
         "0.8444",
         "False",
         "0",
         "1",
         "2"
        ],
        [
         "2",
         "2013-01-02 00:00:00",
         "2",
         "2358",
         "0.9432",
         "False",
         "0",
         "1",
         "2"
        ],
        [
         "3",
         "2013-01-02 00:00:00",
         "3",
         "3487",
         "1.3948",
         "True",
         "100",
         "1",
         "2"
        ],
        [
         "4",
         "2013-01-02 00:00:00",
         "4",
         "1922",
         "0.7688",
         "False",
         "0",
         "1",
         "2"
        ]
       ],
       "shape": {
        "columns": 8,
        "rows": 5
       }
      },
      "text/html": [
       "<div>\n",
       "<style scoped>\n",
       "    .dataframe tbody tr th:only-of-type {\n",
       "        vertical-align: middle;\n",
       "    }\n",
       "\n",
       "    .dataframe tbody tr th {\n",
       "        vertical-align: top;\n",
       "    }\n",
       "\n",
       "    .dataframe thead th {\n",
       "        text-align: right;\n",
       "    }\n",
       "</style>\n",
       "<table border=\"1\" class=\"dataframe\">\n",
       "  <thead>\n",
       "    <tr style=\"text-align: right;\">\n",
       "      <th></th>\n",
       "      <th>date</th>\n",
       "      <th>store_number</th>\n",
       "      <th>transaction_count</th>\n",
       "      <th>pct_to_target</th>\n",
       "      <th>met_target</th>\n",
       "      <th>bonus_payable</th>\n",
       "      <th>month</th>\n",
       "      <th>day</th>\n",
       "    </tr>\n",
       "  </thead>\n",
       "  <tbody>\n",
       "    <tr>\n",
       "      <th>0</th>\n",
       "      <td>2013-01-01</td>\n",
       "      <td>25</td>\n",
       "      <td>770</td>\n",
       "      <td>0.3080</td>\n",
       "      <td>False</td>\n",
       "      <td>0</td>\n",
       "      <td>1</td>\n",
       "      <td>1</td>\n",
       "    </tr>\n",
       "    <tr>\n",
       "      <th>1</th>\n",
       "      <td>2013-01-02</td>\n",
       "      <td>1</td>\n",
       "      <td>2111</td>\n",
       "      <td>0.8444</td>\n",
       "      <td>False</td>\n",
       "      <td>0</td>\n",
       "      <td>1</td>\n",
       "      <td>2</td>\n",
       "    </tr>\n",
       "    <tr>\n",
       "      <th>2</th>\n",
       "      <td>2013-01-02</td>\n",
       "      <td>2</td>\n",
       "      <td>2358</td>\n",
       "      <td>0.9432</td>\n",
       "      <td>False</td>\n",
       "      <td>0</td>\n",
       "      <td>1</td>\n",
       "      <td>2</td>\n",
       "    </tr>\n",
       "    <tr>\n",
       "      <th>3</th>\n",
       "      <td>2013-01-02</td>\n",
       "      <td>3</td>\n",
       "      <td>3487</td>\n",
       "      <td>1.3948</td>\n",
       "      <td>True</td>\n",
       "      <td>100</td>\n",
       "      <td>1</td>\n",
       "      <td>2</td>\n",
       "    </tr>\n",
       "    <tr>\n",
       "      <th>4</th>\n",
       "      <td>2013-01-02</td>\n",
       "      <td>4</td>\n",
       "      <td>1922</td>\n",
       "      <td>0.7688</td>\n",
       "      <td>False</td>\n",
       "      <td>0</td>\n",
       "      <td>1</td>\n",
       "      <td>2</td>\n",
       "    </tr>\n",
       "  </tbody>\n",
       "</table>\n",
       "</div>"
      ],
      "text/plain": [
       "        date  store_number  transaction_count  pct_to_target  met_target  \\\n",
       "0 2013-01-01            25                770         0.3080       False   \n",
       "1 2013-01-02             1               2111         0.8444       False   \n",
       "2 2013-01-02             2               2358         0.9432       False   \n",
       "3 2013-01-02             3               3487         1.3948        True   \n",
       "4 2013-01-02             4               1922         0.7688       False   \n",
       "\n",
       "   bonus_payable  month  day  \n",
       "0              0      1    1  \n",
       "1              0      1    2  \n",
       "2              0      1    2  \n",
       "3            100      1    2  \n",
       "4              0      1    2  "
      ]
     },
     "execution_count": 379,
     "metadata": {},
     "output_type": "execute_result"
    }
   ],
   "source": [
    "transactions.head()"
   ]
  },
  {
   "cell_type": "code",
   "execution_count": 391,
   "metadata": {},
   "outputs": [
    {
     "data": {
      "text/plain": [
       "seasonal_bonus\n",
       "None               75259\n",
       "Holiday Bonus       6028\n",
       "Summer Special      1103\n",
       "Corporate Month     1098\n",
       "Name: count, dtype: int64"
      ]
     },
     "execution_count": 391,
     "metadata": {},
     "output_type": "execute_result"
    }
   ],
   "source": [
    "# Create a seasonal_bonus column\n",
    "condition = [\n",
    "    (transactions['month'] == 12),\n",
    "    (transactions['month'] == 5) & (transactions['day'] == 6),\n",
    "    (transactions['month'] == 7) & (transactions['day'] == 0)\n",
    "]\n",
    "\n",
    "choices = [\"Holiday Bonus\", \"Corporate Month\", \"Summer Special\"]\n",
    "\n",
    "transactions[\"seasonal_bonus\"] = np.select(condition, choices, default = \"None\")\n",
    "transactions[\"seasonal_bonus\"].value_counts()"
   ]
  },
  {
   "cell_type": "code",
   "execution_count": 392,
   "metadata": {},
   "outputs": [
    {
     "data": {
      "text/plain": [
       "np.int64(822900)"
      ]
     },
     "execution_count": 392,
     "metadata": {},
     "output_type": "execute_result"
    }
   ],
   "source": [
    "((transactions['seasonal_bonus'] != \"None\")*100).sum()"
   ]
  },
  {
   "cell_type": "code",
   "execution_count": null,
   "metadata": {},
   "outputs": [],
   "source": []
  }
 ],
 "metadata": {
  "kernelspec": {
   "display_name": ".venv",
   "language": "python",
   "name": "python3"
  },
  "language_info": {
   "codemirror_mode": {
    "name": "ipython",
    "version": 3
   },
   "file_extension": ".py",
   "mimetype": "text/x-python",
   "name": "python",
   "nbconvert_exporter": "python",
   "pygments_lexer": "ipython3",
   "version": "3.13.2"
  }
 },
 "nbformat": 4,
 "nbformat_minor": 2
}
