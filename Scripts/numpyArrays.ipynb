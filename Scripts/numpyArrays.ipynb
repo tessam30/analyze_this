{
 "cells": [
  {
   "cell_type": "code",
   "execution_count": 62,
   "metadata": {},
   "outputs": [],
   "source": [
    "import numpy as np\n",
    "from numpy.random import default_rng"
   ]
  },
  {
   "cell_type": "code",
   "execution_count": 29,
   "metadata": {},
   "outputs": [],
   "source": [
    "# Creating an array\n",
    "sales = [0, 5, 155, 0, 518, 0, 1827, 616, 317, 325]\n",
    "\n",
    "sales_array = np.array(sales)"
   ]
  },
  {
   "cell_type": "code",
   "execution_count": 30,
   "metadata": {},
   "outputs": [
    {
     "data": {
      "text/plain": [
       "array([   0,    5,  155,    0,  518,    0, 1827,  616,  317,  325])"
      ]
     },
     "execution_count": 30,
     "metadata": {},
     "output_type": "execute_result"
    }
   ],
   "source": [
    "sales_array"
   ]
  },
  {
   "cell_type": "code",
   "execution_count": 31,
   "metadata": {},
   "outputs": [
    {
     "name": "stdout",
     "output_type": "stream",
     "text": [
      "ndim: 1\n",
      "size: 10\n",
      "shape: (10,)\n",
      "dtype: int64\n"
     ]
    }
   ],
   "source": [
    "# What do each of the array properties return?\n",
    "print(f'ndim: {sales_array.ndim}')\n",
    "print(f'size: {sales_array.size}') # \n",
    "print(f'shape: {sales_array.shape}') # what is the size for each dimension\n",
    "print(f'dtype: {sales_array.dtype}')"
   ]
  },
  {
   "cell_type": "code",
   "execution_count": 32,
   "metadata": {},
   "outputs": [
    {
     "data": {
      "text/plain": [
       "array([[   0,    5,  155,    0,  518],\n",
       "       [   0, 1827,  616,  317,  325]])"
      ]
     },
     "execution_count": 32,
     "metadata": {},
     "output_type": "execute_result"
    }
   ],
   "source": [
    "sales_two = [[0, 5, 155, 0, 518] , [0, 1827, 616, 317, 325]]\n",
    "sales_two_array = np.array(sales_two)\n",
    "sales_two_array\n",
    "\n"
   ]
  },
  {
   "cell_type": "code",
   "execution_count": 33,
   "metadata": {},
   "outputs": [
    {
     "name": "stdout",
     "output_type": "stream",
     "text": [
      "ndim: 2\n",
      "size: 10\n",
      "shape: (2, 5)\n",
      "dtype: int64\n"
     ]
    }
   ],
   "source": [
    "print(f'ndim: {sales_two_array.ndim}')\n",
    "print(f'size: {sales_two_array.size}') # \n",
    "print(f'shape: {sales_two_array.shape}') # what is the size for each dimension\n",
    "print(f'dtype: {sales_two_array.dtype}')"
   ]
  },
  {
   "cell_type": "code",
   "execution_count": 34,
   "metadata": {},
   "outputs": [],
   "source": [
    "array = np.array(range(5))"
   ]
  },
  {
   "cell_type": "code",
   "execution_count": 35,
   "metadata": {},
   "outputs": [
    {
     "data": {
      "text/plain": [
       "array([0, 1, 2, 3, 4])"
      ]
     },
     "execution_count": 35,
     "metadata": {},
     "output_type": "execute_result"
    }
   ],
   "source": [
    "array"
   ]
  },
  {
   "cell_type": "code",
   "execution_count": 36,
   "metadata": {},
   "outputs": [
    {
     "data": {
      "text/plain": [
       "array([[0, 1, 2, 3, 4],\n",
       "       [0, 1, 2, 3, 4]])"
      ]
     },
     "execution_count": 36,
     "metadata": {},
     "output_type": "execute_result"
    }
   ],
   "source": [
    "array_2d = np.array([range(5), range(5)])\n",
    "array_2d"
   ]
  },
  {
   "cell_type": "code",
   "execution_count": 37,
   "metadata": {},
   "outputs": [
    {
     "data": {
      "text/plain": [
       "array([[1, 2, 3, 4, 5],\n",
       "       [1, 2, 3, 4, 5]])"
      ]
     },
     "execution_count": 37,
     "metadata": {},
     "output_type": "execute_result"
    }
   ],
   "source": [
    "array_2d + 1"
   ]
  },
  {
   "cell_type": "code",
   "execution_count": 38,
   "metadata": {},
   "outputs": [
    {
     "name": "stdout",
     "output_type": "stream",
     "text": [
      "ndim: 2\n",
      "size: 10\n",
      "shape: (2, 5)\n",
      "dtype: int64\n"
     ]
    }
   ],
   "source": [
    "print(f'ndim: {array_2d.ndim}')\n",
    "print(f'size: {array_2d.size}') # \n",
    "print(f'shape: {array_2d.shape}') # what is the size for each dimension\n",
    "print(f'dtype: {array_2d.dtype}')"
   ]
  },
  {
   "cell_type": "code",
   "execution_count": null,
   "metadata": {},
   "outputs": [
    {
     "data": {
      "text/plain": [
       "array([[0, 0],\n",
       "       [1, 1],\n",
       "       [2, 2],\n",
       "       [3, 3],\n",
       "       [4, 4]])"
      ]
     },
     "execution_count": 39,
     "metadata": {},
     "output_type": "execute_result"
    }
   ],
   "source": [
    "# To transpose an array\n",
    "array_2d.T"
   ]
  },
  {
   "cell_type": "code",
   "execution_count": 43,
   "metadata": {},
   "outputs": [
    {
     "data": {
      "text/plain": [
       "array([ 10,  20,  30,  40,  50,  60,  70,  80,  90, 100])"
      ]
     },
     "execution_count": 43,
     "metadata": {},
     "output_type": "execute_result"
    }
   ],
   "source": [
    "# Convert a list into a numpy array\n",
    "my_list = [x * 10 for x in range(1, 11)]\n",
    "\n",
    "my_array = np.array(my_list)\n",
    "my_array"
   ]
  },
  {
   "cell_type": "code",
   "execution_count": 44,
   "metadata": {},
   "outputs": [
    {
     "name": "stdout",
     "output_type": "stream",
     "text": [
      "ndim: 1\n",
      "size: 10\n",
      "shape: (10,)\n",
      "dtype: int64\n"
     ]
    }
   ],
   "source": [
    "print(f'ndim: {my_array.ndim}')\n",
    "print(f'size: {my_array.size}') # \n",
    "print(f'shape: {my_array.shape}') # what is the size for each dimension\n",
    "print(f'dtype: {my_array.dtype}')"
   ]
  },
  {
   "cell_type": "markdown",
   "metadata": {},
   "source": [
    "### Array Creation"
   ]
  },
  {
   "cell_type": "code",
   "execution_count": null,
   "metadata": {},
   "outputs": [
    {
     "name": "stdout",
     "output_type": "stream",
     "text": [
      "ones array [1. 1. 1. 1.]\n",
      "zeros array [[0 0 0 0 0]\n",
      " [0 0 0 0 0]]\n",
      "a range array [0 1 2 3 4 5 6 7 8 9]\n",
      "spaced array [  0.  25.  50.  75. 100.]\n",
      "transposed array [[1 3]\n",
      " [5 7]]\n"
     ]
    }
   ],
   "source": [
    "print(f'ones array {np.ones(4,)}')\n",
    "print(f'zeros array {np.zeros((2, 5), dtype = int)}')\n",
    "print(f'a range array {np.arange(10)}') # Note the start at 0\n",
    "print(f'spaced array {np.linspace(0, 100, 5)}') # Stop point is inclusive\n",
    "print(f'transposed array {np.arange(1, 9, 2).reshape(2, 2)}') # chaining with a reshape"
   ]
  },
  {
   "cell_type": "code",
   "execution_count": 52,
   "metadata": {},
   "outputs": [
    {
     "data": {
      "text/plain": [
       "array([1, 3, 5, 7])"
      ]
     },
     "execution_count": 52,
     "metadata": {},
     "output_type": "execute_result"
    }
   ],
   "source": [
    "np.arange(1, 9, 2)"
   ]
  },
  {
   "cell_type": "code",
   "execution_count": 54,
   "metadata": {},
   "outputs": [
    {
     "data": {
      "text/plain": [
       "array([[1, 0, 0, 0, 0, 0, 0, 0, 0, 0],\n",
       "       [0, 1, 0, 0, 0, 0, 0, 0, 0, 0],\n",
       "       [0, 0, 1, 0, 0, 0, 0, 0, 0, 0],\n",
       "       [0, 0, 0, 1, 0, 0, 0, 0, 0, 0],\n",
       "       [0, 0, 0, 0, 1, 0, 0, 0, 0, 0],\n",
       "       [0, 0, 0, 0, 0, 1, 0, 0, 0, 0],\n",
       "       [0, 0, 0, 0, 0, 0, 1, 0, 0, 0],\n",
       "       [0, 0, 0, 0, 0, 0, 0, 1, 0, 0],\n",
       "       [0, 0, 0, 0, 0, 0, 0, 0, 1, 0],\n",
       "       [0, 0, 0, 0, 0, 0, 0, 0, 0, 1]])"
      ]
     },
     "execution_count": 54,
     "metadata": {},
     "output_type": "execute_result"
    }
   ],
   "source": [
    "np.identity(10, 'int')"
   ]
  },
  {
   "cell_type": "code",
   "execution_count": 60,
   "metadata": {},
   "outputs": [
    {
     "data": {
      "text/plain": [
       "array([  0.,  10.,  20.,  30.,  40.,  50.,  60.,  70.,  80.,  90., 100.])"
      ]
     },
     "execution_count": 60,
     "metadata": {},
     "output_type": "execute_result"
    }
   ],
   "source": [
    "np.linspace(0, 100, 11)\n"
   ]
  },
  {
   "cell_type": "markdown",
   "metadata": {},
   "source": []
  },
  {
   "cell_type": "markdown",
   "metadata": {},
   "source": [
    "### Random Numbers"
   ]
  },
  {
   "cell_type": "code",
   "execution_count": null,
   "metadata": {},
   "outputs": [
    {
     "name": "stdout",
     "output_type": "stream",
     "text": [
      "Generator(PCG64)\n"
     ]
    }
   ],
   "source": [
    "rng = default_rng(12345) # Sets the seed\n",
    "print(f'{rng}')"
   ]
  },
  {
   "cell_type": "code",
   "execution_count": 67,
   "metadata": {},
   "outputs": [
    {
     "data": {
      "text/plain": [
       "array([0.22733602, 0.31675834, 0.79736546, 0.67625467, 0.39110955,\n",
       "       0.33281393, 0.59830875, 0.18673419, 0.67275604, 0.94180287])"
      ]
     },
     "execution_count": 67,
     "metadata": {},
     "output_type": "execute_result"
    }
   ],
   "source": [
    "random_array = rng.random(10)\n",
    "random_array"
   ]
  },
  {
   "cell_type": "code",
   "execution_count": null,
   "metadata": {},
   "outputs": [
    {
     "data": {
      "text/plain": [
       "array([3.57617496, 6.26372846, 4.12933826, 4.74082677, 4.92465669,\n",
       "       4.25911535, 3.6322073 , 5.6488928 , 5.36105811, 3.04713694])"
      ]
     },
     "execution_count": 68,
     "metadata": {},
     "output_type": "execute_result"
    }
   ],
   "source": [
    "# Specify a mean and std dev\n",
    "rng = default_rng(12345) #Sets the seed\n",
    "mean, stddev = 5, 1\n",
    "random_normal = rng.normal(mean, stddev, size = 10)\n",
    "random_normal"
   ]
  },
  {
   "cell_type": "code",
   "execution_count": 69,
   "metadata": {},
   "outputs": [
    {
     "data": {
      "text/plain": [
       "array([0.39682145, 0.86568572, 0.46040359, 0.30599848, 0.57381588,\n",
       "       0.08888468, 0.88194347, 0.73228387, 0.73215182, 0.56233394])"
      ]
     },
     "execution_count": 69,
     "metadata": {},
     "output_type": "execute_result"
    }
   ],
   "source": [
    "rng = np.random.default_rng(616)\n",
    "rng.random(10)"
   ]
  },
  {
   "cell_type": "code",
   "execution_count": 70,
   "metadata": {},
   "outputs": [
    {
     "data": {
      "text/plain": [
       "array([8, 3, 6, 0, 3, 3, 1, 2, 2, 4, 9, 1, 2, 5, 1, 8, 9, 0, 3, 1, 5, 8,\n",
       "       0, 6, 1, 7, 0, 7, 6, 0, 3, 7, 1, 9, 4, 1, 6, 1, 4, 4, 9, 5, 3, 4,\n",
       "       7, 8, 3, 3, 5, 0, 4, 9, 9, 5, 6, 5, 8, 2, 3, 0, 0, 8, 3, 8, 4, 8,\n",
       "       8, 9, 7, 3, 8, 4, 9, 2, 6, 3, 0, 3, 2, 0, 0, 4, 9, 5, 4, 1, 8, 2,\n",
       "       7, 7, 1, 2, 2, 4, 1, 6, 7, 3, 7, 5])"
      ]
     },
     "execution_count": 70,
     "metadata": {},
     "output_type": "execute_result"
    }
   ],
   "source": [
    "rng.integers(0, 10, 100)"
   ]
  },
  {
   "cell_type": "code",
   "execution_count": null,
   "metadata": {},
   "outputs": [
    {
     "data": {
      "text/plain": [
       "array([53.53115044, 46.35468178, 46.1580894 , 52.89177118, 45.90693639,\n",
       "       44.51748741, 57.41467712, 51.82624671, 53.9032125 , 53.21454641])"
      ]
     },
     "execution_count": 71,
     "metadata": {},
     "output_type": "execute_result"
    }
   ],
   "source": [
    "rng.normal(50, 5, 10) # sample from a distribution with mean of 50, stddev of 5, 10 numbers"
   ]
  },
  {
   "cell_type": "markdown",
   "metadata": {},
   "source": [
    "### Exercise"
   ]
  },
  {
   "cell_type": "code",
   "execution_count": null,
   "metadata": {},
   "outputs": [
    {
     "data": {
      "text/plain": [
       "array([[ 10.,  20.],\n",
       "       [ 30.,  40.],\n",
       "       [ 50.,  60.],\n",
       "       [ 70.,  80.],\n",
       "       [ 90., 100.]])"
      ]
     },
     "execution_count": 88,
     "metadata": {},
     "output_type": "execute_result"
    }
   ],
   "source": [
    "# Create an array and reshape it into a 5 x 2 array\n",
    "np.linspace(10, 100, 10).reshape(5, 2)\n",
    "# np.arange(10, 101, 10).reshape(5, 2)"
   ]
  },
  {
   "cell_type": "code",
   "execution_count": 90,
   "metadata": {},
   "outputs": [
    {
     "data": {
      "text/plain": [
       "array([[0.24742606, 0.09299006, 0.61176337],\n",
       "       [0.06066207, 0.66103343, 0.75515778],\n",
       "       [0.1108689 , 0.04305584, 0.41441747]])"
      ]
     },
     "execution_count": 90,
     "metadata": {},
     "output_type": "execute_result"
    }
   ],
   "source": [
    "# Create a random array of numbers between zero and 1 in a 3 x 3 shape\n",
    "rng = default_rng(2022)\n",
    "random_array = rng.random(9).reshape(3,3)\n",
    "random_array"
   ]
  },
  {
   "cell_type": "code",
   "execution_count": 89,
   "metadata": {},
   "outputs": [
    {
     "data": {
      "text/plain": [
       "array([ 10,  20,  30,  40,  50,  60,  70,  80,  90, 100])"
      ]
     },
     "execution_count": 89,
     "metadata": {},
     "output_type": "execute_result"
    }
   ],
   "source": [
    "np.arange(1, 11)*10"
   ]
  },
  {
   "cell_type": "markdown",
   "metadata": {},
   "source": [
    "### Array Slicing"
   ]
  },
  {
   "cell_type": "code",
   "execution_count": null,
   "metadata": {},
   "outputs": [],
   "source": []
  }
 ],
 "metadata": {
  "kernelspec": {
   "display_name": "Python 3",
   "language": "python",
   "name": "python3"
  },
  "language_info": {
   "codemirror_mode": {
    "name": "ipython",
    "version": 3
   },
   "file_extension": ".py",
   "mimetype": "text/x-python",
   "name": "python",
   "nbconvert_exporter": "python",
   "pygments_lexer": "ipython3",
   "version": "3.13.2"
  }
 },
 "nbformat": 4,
 "nbformat_minor": 2
}
